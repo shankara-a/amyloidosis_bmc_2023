{
 "cells": [
  {
   "cell_type": "code",
   "execution_count": 6,
   "id": "97a2c6e6",
   "metadata": {
    "vscode": {
     "languageId": "r"
    }
   },
   "outputs": [],
   "source": [
    "suppressMessages(library('ggpubr'))\n",
    "suppressMessages(library('ggdendro'))\n",
    "suppressMessages(library('dplyr'))\n",
    "suppressMessages(library(ggplot2))"
   ]
  },
  {
   "cell_type": "code",
   "execution_count": 13,
   "id": "b0a59026",
   "metadata": {
    "vscode": {
     "languageId": "r"
    }
   },
   "outputs": [],
   "source": [
    "# Continuous\n",
    "contrasts.df <- read.table(\"data/clustering/full_na_dataset/contrasts_qvars.tsv\", sep=\"\\t\", header=T)\n",
    "contrasts.df$cluster <- factor(contrasts.df$fna3_cluster_n, levels=c(\"Low\",\"Intermediate\",\"High\"), ordered=T)\n",
    "\n",
    "# Fisher Exact\n",
    "contrasts.fe.df <- read.table(\"data/clustering/full_na_dataset/contrasts_fe.tsv\", sep=\"\\t\", header=T)\n",
    "contrasts.fe.df$odds_r <- -log10(contrasts.fe.df$odds_r)\n",
    "contrasts.fe.df <- contrasts.fe.df %>% mutate_all(function(x) ifelse(is.infinite(x), 0, x))\n",
    "contrasts.fe.df$cluster <- factor(contrasts.fe.df$fna3_cluster_n, levels=c(\"Low\",\"Intermediate\",\"High\"), ordered=T)"
   ]
  },
  {
   "cell_type": "code",
   "execution_count": 14,
   "id": "b00d5c78",
   "metadata": {
    "vscode": {
     "languageId": "r"
    }
   },
   "outputs": [],
   "source": [
    "plotEnrichment <- function(contrasts.df, pval.thresh=0.1, filter=NULL, palette='RdBu', h=13, w=15, s_color='black', fix_id=T){\n",
    "    \n",
    "    contrasts.df$sig <- contrasts.df$fdr_bh < pval.thresh\n",
    "    contrasts.df$logq <- -log10(contrasts.df$fdr_bh)\n",
    "    \n",
    "    ### Order axis by dendrogram\n",
    "    # Load data\n",
    "    X <- contrasts.df[,c('X','cluster','statistic')]\n",
    "    X <- reshape(X[,c('X','cluster','statistic')], timevar='cluster', idvar='X', direction='wide',)\n",
    "    rownames(X) <- X$X\n",
    "    X$X <- NULL\n",
    "\n",
    "    X[is.na(X)] <- 0\n",
    "\n",
    "    # Build the dendrogram\n",
    "    dend <- as.dendrogram(hclust(d = dist(x = X)))\n",
    "    dendro.plot <- ggdendrogram(dend,rotate = TRUE)\n",
    "\n",
    "    # Use dendrogram order to order colomn\n",
    "    order <- order.dendrogram(dend) # dendrogram order\n",
    "    contrasts.df$X <- factor(x = contrasts.df$X, levels = unique(contrasts.df$X)[order], ordered = TRUE)\n",
    "\n",
    "    ### Balloonplot\n",
    "    options(repr.plot.width=w, repr.plot.height=h)\n",
    "\n",
    "    p <- ggballoonplot(\n",
    "        contrasts.df,\n",
    "        x=\"cluster\",\n",
    "        y=\"X\",\n",
    "        fill = \"statistic\",\n",
    "        size=\"logq\",\n",
    "        color=ifelse(contrasts.df$sig==T, s_color, \"lightgrey\")\n",
    "        ) +\n",
    "        scale_fill_distiller(palette=palette, limit = max(abs(contrasts.df$statistic)) * c(-1, 1))+\n",
    "        labs(x=\"\", y=\"\", fill=\"Enrichment\", size=\"-log10 Adj. P-val\") + theme_linedraw() +\n",
    "        theme(axis.text.x=element_text(angle=0))\n",
    "\n",
    "    return(p)\n",
    "}\n",
    "\n",
    "plotFisherExactEnrichment <- function(contrasts.df, pval.thresh=0.1, filter=NULL, palette='Blues', h=13, w=15, s_color='black', fix_id=T){\n",
    "     \n",
    "    contrasts.df$sig <- contrasts.df$pval_adj < pval.thresh\n",
    "    contrasts.df$logq <- -log10(contrasts.df$pval_adj)\n",
    "    \n",
    "    # Remove non-significants\n",
    "    contrasts.df <- contrasts.df[contrasts.df$feat %in% contrasts.df[contrasts.df$sig,]$feat,]\n",
    "\n",
    "    \n",
    "    ### Order axis by dendrogram\n",
    "    # Load data\n",
    "    X <- contrasts.df[,c('feat','cluster','odds_r')]\n",
    "    X <- reshape(X[,c('feat','cluster','odds_r')], timevar='cluster', idvar='feat', direction='wide',)\n",
    "    rownames(X) <- X$feat\n",
    "    X$feat <- NULL\n",
    "\n",
    "    X[is.na(X)] <- 0\n",
    "\n",
    "    # Build the dendrogram\n",
    "    dend <- as.dendrogram(hclust(d = dist(x = X)))\n",
    "    dendro.plot <- ggdendrogram(dend,rotate = TRUE)\n",
    "\n",
    "    # Use dendrogram order to order colomn\n",
    "    order <- order.dendrogram(dend) # dendrogram order\n",
    "    contrasts.df$feat <- factor(x = contrasts.df$feat, levels = unique(contrasts.df$feat)[order], ordered = TRUE)\n",
    "\n",
    "    ### Balloonplot\n",
    "    options(repr.plot.width=w, repr.plot.height=h)\n",
    "\n",
    "    p <- ggballoonplot(\n",
    "        contrasts.df,\n",
    "        x=\"cluster\",\n",
    "        y=\"feat\",\n",
    "        fill = \"odds_r\",\n",
    "        size=\"logq\",\n",
    "        color=ifelse(contrasts.df$sig==T, s_color, \"lightgrey\")\n",
    "        ) +\n",
    "        scale_fill_distiller(palette=palette, limit = max(abs(contrasts.df$odds_r)) * c(0, 1))+\n",
    "        labs(x=\"\", y=\"\", fill=\"log Odds Ratio\", size=\"-log10 Adj. P-val\") + theme_linedraw() +\n",
    "        theme(axis.text.x=element_text(angle=0))\n",
    "\n",
    "    return(p)\n",
    "}"
   ]
  },
  {
   "cell_type": "code",
   "execution_count": 17,
   "id": "5cf9e7f8",
   "metadata": {
    "vscode": {
     "languageId": "r"
    }
   },
   "outputs": [
    {
     "data": {
      "text/html": [
       "<strong>pdf:</strong> 2"
      ],
      "text/latex": [
       "\\textbf{pdf:} 2"
      ],
      "text/markdown": [
       "**pdf:** 2"
      ],
      "text/plain": [
       "pdf \n",
       "  2 "
      ]
     },
     "metadata": {},
     "output_type": "display_data"
    }
   ],
   "source": [
    "pdf(\"figures/full_na_dataset_fe_enrichment.pdf\", width=5, height=6) \n",
    "plotFisherExactEnrichment(contrasts.fe.df, h=6, w=5,)\n",
    "dev.off()"
   ]
  },
  {
   "cell_type": "code",
   "execution_count": 18,
   "id": "4d85a818",
   "metadata": {
    "vscode": {
     "languageId": "r"
    }
   },
   "outputs": [
    {
     "data": {
      "text/html": [
       "<strong>pdf:</strong> 2"
      ],
      "text/latex": [
       "\\textbf{pdf:} 2"
      ],
      "text/markdown": [
       "**pdf:** 2"
      ],
      "text/plain": [
       "pdf \n",
       "  2 "
      ]
     },
     "metadata": {},
     "output_type": "display_data"
    }
   ],
   "source": [
    "pdf(\"figures/full_na_dataset_qvar_enrichment.pdf\", width=5, height=6) \n",
    "plotEnrichment(contrasts.df, h=6, w=5)\n",
    "dev.off()"
   ]
  },
  {
   "cell_type": "code",
   "execution_count": 19,
   "id": "5c8027b8-c7c7-440c-85af-33713f73e35a",
   "metadata": {
    "vscode": {
     "languageId": "r"
    }
   },
   "outputs": [
    {
     "data": {
      "text/html": [
       "<table class=\"dataframe\">\n",
       "<caption>A data.frame: 3 x 6</caption>\n",
       "<thead>\n",
       "\t<tr><th></th><th scope=col>X</th><th scope=col>p_value</th><th scope=col>statistic</th><th scope=col>fdr_bh</th><th scope=col>fna3_cluster_n</th><th scope=col>cluster</th></tr>\n",
       "\t<tr><th></th><th scope=col>&lt;chr&gt;</th><th scope=col>&lt;dbl&gt;</th><th scope=col>&lt;dbl&gt;</th><th scope=col>&lt;dbl&gt;</th><th scope=col>&lt;chr&gt;</th><th scope=col>&lt;ord&gt;</th></tr>\n",
       "</thead>\n",
       "<tbody>\n",
       "\t<tr><th scope=row>9</th><td>24-hr UTP</td><td> 1.241716e-35</td><td>-12.459484</td><td> 4.414990e-35</td><td>High        </td><td>High        </td></tr>\n",
       "\t<tr><th scope=row>36</th><td>24-hr UTP</td><td>1.209463e-129</td><td> 24.225128</td><td>9.675706e-129</td><td>Intermediate</td><td>Intermediate</td></tr>\n",
       "\t<tr><th scope=row>72</th><td>24-hr UTP</td><td> 7.711857e-19</td><td> -8.864109</td><td> 3.084743e-18</td><td>Low         </td><td>Low         </td></tr>\n",
       "</tbody>\n",
       "</table>\n"
      ],
      "text/latex": [
       "A data.frame: 3 x 6\n",
       "\\begin{tabular}{r|llllll}\n",
       "  & X & p\\_value & statistic & fdr\\_bh & fna3\\_cluster\\_n & cluster\\\\\n",
       "  & <chr> & <dbl> & <dbl> & <dbl> & <chr> & <ord>\\\\\n",
       "\\hline\n",
       "\t9 & 24-hr UTP &  1.241716e-35 & -12.459484 &  4.414990e-35 & High         & High        \\\\\n",
       "\t36 & 24-hr UTP & 1.209463e-129 &  24.225128 & 9.675706e-129 & Intermediate & Intermediate\\\\\n",
       "\t72 & 24-hr UTP &  7.711857e-19 &  -8.864109 &  3.084743e-18 & Low          & Low         \\\\\n",
       "\\end{tabular}\n"
      ],
      "text/markdown": [
       "\n",
       "A data.frame: 3 x 6\n",
       "\n",
       "| <!--/--> | X &lt;chr&gt; | p_value &lt;dbl&gt; | statistic &lt;dbl&gt; | fdr_bh &lt;dbl&gt; | fna3_cluster_n &lt;chr&gt; | cluster &lt;ord&gt; |\n",
       "|---|---|---|---|---|---|---|\n",
       "| 9 | 24-hr UTP |  1.241716e-35 | -12.459484 |  4.414990e-35 | High         | High         |\n",
       "| 36 | 24-hr UTP | 1.209463e-129 |  24.225128 | 9.675706e-129 | Intermediate | Intermediate |\n",
       "| 72 | 24-hr UTP |  7.711857e-19 |  -8.864109 |  3.084743e-18 | Low          | Low          |\n",
       "\n"
      ],
      "text/plain": [
       "   X         p_value       statistic  fdr_bh        fna3_cluster_n cluster     \n",
       "9  24-hr UTP  1.241716e-35 -12.459484  4.414990e-35 High           High        \n",
       "36 24-hr UTP 1.209463e-129  24.225128 9.675706e-129 Intermediate   Intermediate\n",
       "72 24-hr UTP  7.711857e-19  -8.864109  3.084743e-18 Low            Low         "
      ]
     },
     "metadata": {},
     "output_type": "display_data"
    }
   ],
   "source": [
    "contrasts.df[contrasts.df$X==\"24-hr UTP\",]"
   ]
  },
  {
   "cell_type": "code",
   "execution_count": 20,
   "id": "dd6f3a99-5453-4e3a-8cb0-670207a7ad4c",
   "metadata": {
    "vscode": {
     "languageId": "r"
    }
   },
   "outputs": [
    {
     "data": {
      "text/html": [
       "<table class=\"dataframe\">\n",
       "<caption>A data.frame: 3 x 7</caption>\n",
       "<thead>\n",
       "\t<tr><th></th><th scope=col>X</th><th scope=col>feat</th><th scope=col>fna3_cluster_n</th><th scope=col>pval</th><th scope=col>pval_adj</th><th scope=col>odds_r</th><th scope=col>cluster</th></tr>\n",
       "\t<tr><th></th><th scope=col>&lt;int&gt;</th><th scope=col>&lt;chr&gt;</th><th scope=col>&lt;chr&gt;</th><th scope=col>&lt;dbl&gt;</th><th scope=col>&lt;dbl&gt;</th><th scope=col>&lt;dbl&gt;</th><th scope=col>&lt;ord&gt;</th></tr>\n",
       "</thead>\n",
       "<tbody>\n",
       "\t<tr><th scope=row>26</th><td> 25</td><td>Primary organ=renal</td><td>High        </td><td>1.000000e+00</td><td>1.000000e+00</td><td>-1.35774352</td><td>High        </td></tr>\n",
       "\t<tr><th scope=row>69</th><td> 68</td><td>Primary organ=renal</td><td>Intermediate</td><td>4.248499e-07</td><td>9.134273e-07</td><td> 0.17143560</td><td>Intermediate</td></tr>\n",
       "\t<tr><th scope=row>112</th><td>111</td><td>Primary organ=renal</td><td>Low         </td><td>8.478039e-01</td><td>1.000000e+00</td><td>-0.03435582</td><td>Low         </td></tr>\n",
       "</tbody>\n",
       "</table>\n"
      ],
      "text/latex": [
       "A data.frame: 3 x 7\n",
       "\\begin{tabular}{r|lllllll}\n",
       "  & X & feat & fna3\\_cluster\\_n & pval & pval\\_adj & odds\\_r & cluster\\\\\n",
       "  & <int> & <chr> & <chr> & <dbl> & <dbl> & <dbl> & <ord>\\\\\n",
       "\\hline\n",
       "\t26 &  25 & Primary organ=renal & High         & 1.000000e+00 & 1.000000e+00 & -1.35774352 & High        \\\\\n",
       "\t69 &  68 & Primary organ=renal & Intermediate & 4.248499e-07 & 9.134273e-07 &  0.17143560 & Intermediate\\\\\n",
       "\t112 & 111 & Primary organ=renal & Low          & 8.478039e-01 & 1.000000e+00 & -0.03435582 & Low         \\\\\n",
       "\\end{tabular}\n"
      ],
      "text/markdown": [
       "\n",
       "A data.frame: 3 x 7\n",
       "\n",
       "| <!--/--> | X &lt;int&gt; | feat &lt;chr&gt; | fna3_cluster_n &lt;chr&gt; | pval &lt;dbl&gt; | pval_adj &lt;dbl&gt; | odds_r &lt;dbl&gt; | cluster &lt;ord&gt; |\n",
       "|---|---|---|---|---|---|---|---|\n",
       "| 26 |  25 | Primary organ=renal | High         | 1.000000e+00 | 1.000000e+00 | -1.35774352 | High         |\n",
       "| 69 |  68 | Primary organ=renal | Intermediate | 4.248499e-07 | 9.134273e-07 |  0.17143560 | Intermediate |\n",
       "| 112 | 111 | Primary organ=renal | Low          | 8.478039e-01 | 1.000000e+00 | -0.03435582 | Low          |\n",
       "\n"
      ],
      "text/plain": [
       "    X   feat                fna3_cluster_n pval         pval_adj    \n",
       "26   25 Primary organ=renal High           1.000000e+00 1.000000e+00\n",
       "69   68 Primary organ=renal Intermediate   4.248499e-07 9.134273e-07\n",
       "112 111 Primary organ=renal Low            8.478039e-01 1.000000e+00\n",
       "    odds_r      cluster     \n",
       "26  -1.35774352 High        \n",
       "69   0.17143560 Intermediate\n",
       "112 -0.03435582 Low         "
      ]
     },
     "metadata": {},
     "output_type": "display_data"
    }
   ],
   "source": [
    "contrasts.fe.df[contrasts.fe.df$feat==\"Primary organ=renal\",]"
   ]
  }
 ],
 "metadata": {
  "kernelspec": {
   "display_name": "R",
   "language": "R",
   "name": "ir"
  },
  "language_info": {
   "codemirror_mode": "r",
   "file_extension": ".r",
   "mimetype": "text/x-r-source",
   "name": "R",
   "pygments_lexer": "r",
   "version": "4.3.2"
  }
 },
 "nbformat": 4,
 "nbformat_minor": 5
}
