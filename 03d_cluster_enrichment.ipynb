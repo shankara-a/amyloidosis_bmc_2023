{
 "cells": [
  {
   "cell_type": "code",
   "execution_count": 1,
   "id": "97a2c6e6",
   "metadata": {},
   "outputs": [],
   "source": [
    "suppressMessages(library('ggpubr'))\n",
    "suppressMessages(library('ggdendro'))\n",
    "suppressMessages(library('dplyr'))\n",
    "library(ggplot2)"
   ]
  },
  {
   "cell_type": "code",
   "execution_count": 9,
   "id": "b0a59026",
   "metadata": {},
   "outputs": [],
   "source": [
    "# Continuous\n",
    "contrasts.df <- read.table(\"data/clustering/mice_qvars_05/contrasts_qvars.tsv\", sep=\"\\t\", header=T)\n",
    "contrasts.df$cluster <- factor(contrasts.df$cluster, levels=c(\"Low\",\"Intermediate\",\"High\"), ordered=T)\n",
    "\n",
    "# Fisher Exact\n",
    "contrasts.fe.df <- read.table(\"data/clustering/mice_qvars_05/contrasts_fe.tsv\", sep=\"\\t\", header=T)\n",
    "contrasts.fe.df$odds_r <- -log10(contrasts.fe.df$odds_r)\n",
    "contrasts.fe.df <- contrasts.fe.df %>% mutate_all(function(x) ifelse(is.infinite(x), 0, x))\n",
    "contrasts.fe.df$cluster <- factor(contrasts.fe.df$cluster, levels=c(\"Low\",\"Intermediate\",\"High\"), ordered=T)"
   ]
  },
  {
   "cell_type": "code",
   "execution_count": 10,
   "id": "b00d5c78",
   "metadata": {},
   "outputs": [],
   "source": [
    "plotEnrichment <- function(contrasts.df, pval.thresh=0.1, filter=NULL, palette='RdBu', h=13, w=15, s_color='black', fix_id=T){\n",
    "    \n",
    "    contrasts.df$sig <- contrasts.df$fdr_bh < pval.thresh\n",
    "    contrasts.df$logq <- -log10(contrasts.df$fdr_bh)\n",
    "    \n",
    "    ### Order axis by dendrogram\n",
    "    # Load data\n",
    "    X <- contrasts.df[,c('X','cluster','statistic')]\n",
    "    X <- reshape(X[,c('X','cluster','statistic')], timevar='cluster', idvar='X', direction='wide',)\n",
    "    rownames(X) <- X$X\n",
    "    X$X <- NULL\n",
    "\n",
    "    X[is.na(X)] <- 0\n",
    "\n",
    "    # Build the dendrogram\n",
    "    dend <- as.dendrogram(hclust(d = dist(x = X)))\n",
    "    dendro.plot <- ggdendrogram(dend,rotate = TRUE)\n",
    "\n",
    "    # Use dendrogram order to order colomn\n",
    "    order <- order.dendrogram(dend) # dendrogram order\n",
    "    contrasts.df$X <- factor(x = contrasts.df$X, levels = unique(contrasts.df$X)[order], ordered = TRUE)\n",
    "\n",
    "    ### Balloonplot\n",
    "    options(repr.plot.width=w, repr.plot.height=h)\n",
    "\n",
    "    p <- ggballoonplot(\n",
    "        contrasts.df,\n",
    "        x=\"cluster\",\n",
    "        y=\"X\",\n",
    "        fill = \"statistic\",\n",
    "        size=\"logq\",\n",
    "        color=ifelse(contrasts.df$sig==T, s_color, \"lightgrey\")\n",
    "        ) +\n",
    "        scale_fill_distiller(palette=palette, limit = max(abs(contrasts.df$statistic)) * c(-1, 1))+\n",
    "        labs(x=\"\", y=\"\", fill=\"Enrichment\", size=\"-log10 Adj. P-val\") + theme_linedraw() +\n",
    "        theme(axis.text.x=element_text(angle=0))\n",
    "\n",
    "    return(p)\n",
    "}\n",
    "\n",
    "plotFisherExactEnrichment <- function(contrasts.df, pval.thresh=0.1, filter=NULL, palette='Blues', h=13, w=15, s_color='black', fix_id=T){\n",
    "     \n",
    "    contrasts.df$sig <- contrasts.df$pval_adj < pval.thresh\n",
    "    contrasts.df$logq <- -log10(contrasts.df$pval_adj)\n",
    "    \n",
    "    # Remove non-significants\n",
    "    contrasts.df <- contrasts.df[contrasts.df$feat %in% contrasts.df[contrasts.df$sig,]$feat,]\n",
    "\n",
    "    \n",
    "    ### Order axis by dendrogram\n",
    "    # Load data\n",
    "    X <- contrasts.df[,c('feat','cluster','odds_r')]\n",
    "    X <- reshape(X[,c('feat','cluster','odds_r')], timevar='cluster', idvar='feat', direction='wide',)\n",
    "    rownames(X) <- X$feat\n",
    "    X$feat <- NULL\n",
    "\n",
    "    X[is.na(X)] <- 0\n",
    "\n",
    "    # Build the dendrogram\n",
    "    dend <- as.dendrogram(hclust(d = dist(x = X)))\n",
    "    dendro.plot <- ggdendrogram(dend,rotate = TRUE)\n",
    "\n",
    "    # Use dendrogram order to order colomn\n",
    "    order <- order.dendrogram(dend) # dendrogram order\n",
    "    contrasts.df$feat <- factor(x = contrasts.df$feat, levels = unique(contrasts.df$feat)[order], ordered = TRUE)\n",
    "\n",
    "    ### Balloonplot\n",
    "    options(repr.plot.width=w, repr.plot.height=h)\n",
    "\n",
    "    p <- ggballoonplot(\n",
    "        contrasts.df,\n",
    "        x=\"cluster\",\n",
    "        y=\"feat\",\n",
    "        fill = \"odds_r\",\n",
    "        size=\"logq\",\n",
    "        color=ifelse(contrasts.df$sig==T, s_color, \"lightgrey\")\n",
    "        ) +\n",
    "        scale_fill_distiller(palette=palette, limit = max(abs(contrasts.df$odds_r)) * c(0, 1))+\n",
    "        labs(x=\"\", y=\"\", fill=\"log Odds Ratio\", size=\"-log10 Adj. P-val\") + theme_linedraw() +\n",
    "        theme(axis.text.x=element_text(angle=0))\n",
    "\n",
    "    return(p)\n",
    "}"
   ]
  },
  {
   "cell_type": "code",
   "execution_count": 11,
   "id": "5cf9e7f8",
   "metadata": {},
   "outputs": [
    {
     "data": {
      "text/html": [
       "<strong>pdf:</strong> 2"
      ],
      "text/latex": [
       "\\textbf{pdf:} 2"
      ],
      "text/markdown": [
       "**pdf:** 2"
      ],
      "text/plain": [
       "pdf \n",
       "  2 "
      ]
     },
     "metadata": {},
     "output_type": "display_data"
    }
   ],
   "source": [
    "pdf(\"figures/mice_imputed_ccp_cluster_fe_enrichment.pdf\", width=5, height=6) \n",
    "plotFisherExactEnrichment(contrasts.fe.df, h=6, w=5,)\n",
    "dev.off()"
   ]
  },
  {
   "cell_type": "code",
   "execution_count": 12,
   "id": "4d85a818",
   "metadata": {},
   "outputs": [
    {
     "data": {
      "text/html": [
       "<strong>pdf:</strong> 2"
      ],
      "text/latex": [
       "\\textbf{pdf:} 2"
      ],
      "text/markdown": [
       "**pdf:** 2"
      ],
      "text/plain": [
       "pdf \n",
       "  2 "
      ]
     },
     "metadata": {},
     "output_type": "display_data"
    }
   ],
   "source": [
    "pdf(\"figures/mice_imputed_ccp_cluster_enrichment.pdf\", width=5, height=6) \n",
    "plotEnrichment(contrasts.df, h=6, w=5)\n",
    "dev.off()"
   ]
  },
  {
   "cell_type": "code",
   "execution_count": 17,
   "id": "5c8027b8-c7c7-440c-85af-33713f73e35a",
   "metadata": {},
   "outputs": [
    {
     "data": {
      "text/html": [
       "<table class=\"dataframe\">\n",
       "<caption>A data.frame: 3 × 5</caption>\n",
       "<thead>\n",
       "\t<tr><th></th><th scope=col>X</th><th scope=col>p_value</th><th scope=col>statistic</th><th scope=col>fdr_bh</th><th scope=col>cluster</th></tr>\n",
       "\t<tr><th></th><th scope=col>&lt;chr&gt;</th><th scope=col>&lt;dbl&gt;</th><th scope=col>&lt;dbl&gt;</th><th scope=col>&lt;dbl&gt;</th><th scope=col>&lt;ord&gt;</th></tr>\n",
       "</thead>\n",
       "<tbody>\n",
       "\t<tr><th scope=row>9</th><td>24-hr UTP</td><td> 1.181791e-39</td><td>-13.177542</td><td> 3.676685e-39</td><td>High        </td></tr>\n",
       "\t<tr><th scope=row>31</th><td>24-hr UTP</td><td>2.240980e-148</td><td> 25.941956</td><td>2.091581e-147</td><td>Intermediate</td></tr>\n",
       "\t<tr><th scope=row>68</th><td>24-hr UTP</td><td> 4.337602e-22</td><td> -9.662819</td><td> 1.012107e-21</td><td>Low         </td></tr>\n",
       "</tbody>\n",
       "</table>\n"
      ],
      "text/latex": [
       "A data.frame: 3 × 5\n",
       "\\begin{tabular}{r|lllll}\n",
       "  & X & p\\_value & statistic & fdr\\_bh & cluster\\\\\n",
       "  & <chr> & <dbl> & <dbl> & <dbl> & <ord>\\\\\n",
       "\\hline\n",
       "\t9 & 24-hr UTP &  1.181791e-39 & -13.177542 &  3.676685e-39 & High        \\\\\n",
       "\t31 & 24-hr UTP & 2.240980e-148 &  25.941956 & 2.091581e-147 & Intermediate\\\\\n",
       "\t68 & 24-hr UTP &  4.337602e-22 &  -9.662819 &  1.012107e-21 & Low         \\\\\n",
       "\\end{tabular}\n"
      ],
      "text/markdown": [
       "\n",
       "A data.frame: 3 × 5\n",
       "\n",
       "| <!--/--> | X &lt;chr&gt; | p_value &lt;dbl&gt; | statistic &lt;dbl&gt; | fdr_bh &lt;dbl&gt; | cluster &lt;ord&gt; |\n",
       "|---|---|---|---|---|---|\n",
       "| 9 | 24-hr UTP |  1.181791e-39 | -13.177542 |  3.676685e-39 | High         |\n",
       "| 31 | 24-hr UTP | 2.240980e-148 |  25.941956 | 2.091581e-147 | Intermediate |\n",
       "| 68 | 24-hr UTP |  4.337602e-22 |  -9.662819 |  1.012107e-21 | Low          |\n",
       "\n"
      ],
      "text/plain": [
       "   X         p_value       statistic  fdr_bh        cluster     \n",
       "9  24-hr UTP  1.181791e-39 -13.177542  3.676685e-39 High        \n",
       "31 24-hr UTP 2.240980e-148  25.941956 2.091581e-147 Intermediate\n",
       "68 24-hr UTP  4.337602e-22  -9.662819  1.012107e-21 Low         "
      ]
     },
     "metadata": {},
     "output_type": "display_data"
    }
   ],
   "source": [
    "contrasts.df[contrasts.df$X==\"24-hr UTP\",]"
   ]
  },
  {
   "cell_type": "code",
   "execution_count": 20,
   "id": "dd6f3a99-5453-4e3a-8cb0-670207a7ad4c",
   "metadata": {},
   "outputs": [
    {
     "data": {
      "text/html": [
       "<table class=\"dataframe\">\n",
       "<caption>A data.frame: 3 × 6</caption>\n",
       "<thead>\n",
       "\t<tr><th></th><th scope=col>X</th><th scope=col>feat</th><th scope=col>cluster</th><th scope=col>pval</th><th scope=col>pval_adj</th><th scope=col>odds_r</th></tr>\n",
       "\t<tr><th></th><th scope=col>&lt;int&gt;</th><th scope=col>&lt;chr&gt;</th><th scope=col>&lt;ord&gt;</th><th scope=col>&lt;dbl&gt;</th><th scope=col>&lt;dbl&gt;</th><th scope=col>&lt;dbl&gt;</th></tr>\n",
       "</thead>\n",
       "<tbody>\n",
       "\t<tr><th scope=row>27</th><td> 26</td><td>Primary organ=renal</td><td>High        </td><td>1.000000e+00</td><td>1.000000e+00</td><td>-0.9260197</td></tr>\n",
       "\t<tr><th scope=row>70</th><td> 69</td><td>Primary organ=renal</td><td>Intermediate</td><td>3.462588e-19</td><td>2.481522e-18</td><td> 0.3103954</td></tr>\n",
       "\t<tr><th scope=row>113</th><td>112</td><td>Primary organ=renal</td><td>Low         </td><td>1.000000e+00</td><td>1.000000e+00</td><td>-0.2778198</td></tr>\n",
       "</tbody>\n",
       "</table>\n"
      ],
      "text/latex": [
       "A data.frame: 3 × 6\n",
       "\\begin{tabular}{r|llllll}\n",
       "  & X & feat & cluster & pval & pval\\_adj & odds\\_r\\\\\n",
       "  & <int> & <chr> & <ord> & <dbl> & <dbl> & <dbl>\\\\\n",
       "\\hline\n",
       "\t27 &  26 & Primary organ=renal & High         & 1.000000e+00 & 1.000000e+00 & -0.9260197\\\\\n",
       "\t70 &  69 & Primary organ=renal & Intermediate & 3.462588e-19 & 2.481522e-18 &  0.3103954\\\\\n",
       "\t113 & 112 & Primary organ=renal & Low          & 1.000000e+00 & 1.000000e+00 & -0.2778198\\\\\n",
       "\\end{tabular}\n"
      ],
      "text/markdown": [
       "\n",
       "A data.frame: 3 × 6\n",
       "\n",
       "| <!--/--> | X &lt;int&gt; | feat &lt;chr&gt; | cluster &lt;ord&gt; | pval &lt;dbl&gt; | pval_adj &lt;dbl&gt; | odds_r &lt;dbl&gt; |\n",
       "|---|---|---|---|---|---|---|\n",
       "| 27 |  26 | Primary organ=renal | High         | 1.000000e+00 | 1.000000e+00 | -0.9260197 |\n",
       "| 70 |  69 | Primary organ=renal | Intermediate | 3.462588e-19 | 2.481522e-18 |  0.3103954 |\n",
       "| 113 | 112 | Primary organ=renal | Low          | 1.000000e+00 | 1.000000e+00 | -0.2778198 |\n",
       "\n"
      ],
      "text/plain": [
       "    X   feat                cluster      pval         pval_adj     odds_r    \n",
       "27   26 Primary organ=renal High         1.000000e+00 1.000000e+00 -0.9260197\n",
       "70   69 Primary organ=renal Intermediate 3.462588e-19 2.481522e-18  0.3103954\n",
       "113 112 Primary organ=renal Low          1.000000e+00 1.000000e+00 -0.2778198"
      ]
     },
     "metadata": {},
     "output_type": "display_data"
    }
   ],
   "source": [
    "contrasts.fe.df[contrasts.fe.df$feat==\"Primary organ=renal\",]"
   ]
  },
  {
   "cell_type": "code",
   "execution_count": null,
   "id": "c67cfdf5-e7fe-4100-a392-cee72c79bb02",
   "metadata": {},
   "outputs": [],
   "source": []
  }
 ],
 "metadata": {
  "kernelspec": {
   "display_name": "R [conda env:r4] *",
   "language": "R",
   "name": "conda-env-r4-r"
  },
  "language_info": {
   "codemirror_mode": "r",
   "file_extension": ".r",
   "mimetype": "text/x-r-source",
   "name": "R",
   "pygments_lexer": "r",
   "version": "4.3.1"
  }
 },
 "nbformat": 4,
 "nbformat_minor": 5
}
