{
 "cells": [
  {
   "cell_type": "code",
   "execution_count": 1,
   "id": "97a2c6e6",
   "metadata": {},
   "outputs": [],
   "source": [
    "suppressMessages(library('ggpubr'))\n",
    "suppressMessages(library('ggdendro'))\n",
    "suppressMessages(library('dplyr'))\n",
    "library(ggplot2)"
   ]
  },
  {
   "cell_type": "code",
   "execution_count": 4,
   "id": "b0a59026",
   "metadata": {},
   "outputs": [],
   "source": [
    "# Continuous\n",
    "contrasts.df <- read.table(\"data/clustering/mice_qvars_05/contrasts_qvars.tsv\", sep=\"\\t\", header=T)\n",
    "contrasts.df$cluster <- as.factor(contrasts.df$cluster)\n",
    "\n",
    "# Fisher Exact\n",
    "contrasts.fe.df <- read.table(\"data/clustering/mice_qvars_05/contrasts_fe.tsv\", sep=\"\\t\", header=T)\n",
    "contrasts.fe.df$odds_r <- -log10(contrasts.fe.df$odds_r)\n",
    "contrasts.fe.df <- contrasts.fe.df %>% mutate_all(function(x) ifelse(is.infinite(x), 0, x))\n",
    "contrasts.fe.df$cluster <- factor(contrasts.fe.df$cluster, levels=c(1,2,3), ordered=T)"
   ]
  },
  {
   "cell_type": "code",
   "execution_count": 5,
   "id": "b00d5c78",
   "metadata": {
    "scrolled": false
   },
   "outputs": [],
   "source": [
    "plotEnrichment <- function(contrasts.df, pval.thresh=0.1, filter=NULL, palette='RdBu', h=13, w=15, s_color='black', fix_id=T){\n",
    "    \n",
    "    contrasts.df$sig <- contrasts.df$fdr_bh < pval.thresh\n",
    "    contrasts.df$logq <- -log10(contrasts.df$fdr_bh)\n",
    "    \n",
    "    ### Order axis by dendrogram\n",
    "    # Load data\n",
    "    X <- contrasts.df[,c('X','cluster','statistic')]\n",
    "    X <- reshape(X[,c('X','cluster','statistic')], timevar='cluster', idvar='X', direction='wide',)\n",
    "    rownames(X) <- X$X\n",
    "    X$X <- NULL\n",
    "\n",
    "    X[is.na(X)] <- 0\n",
    "\n",
    "    # Build the dendrogram\n",
    "    dend <- as.dendrogram(hclust(d = dist(x = X)))\n",
    "    dendro.plot <- ggdendrogram(dend,rotate = TRUE)\n",
    "\n",
    "    # Use dendrogram order to order colomn\n",
    "    order <- order.dendrogram(dend) # dendrogram order\n",
    "    contrasts.df$X <- factor(x = contrasts.df$X, levels = unique(contrasts.df$X)[order], ordered = TRUE)\n",
    "\n",
    "    ### Balloonplot\n",
    "    options(repr.plot.width=w, repr.plot.height=h)\n",
    "\n",
    "    p <- ggballoonplot(\n",
    "        contrasts.df,\n",
    "        x=\"cluster\",\n",
    "        y=\"X\",\n",
    "        fill = \"statistic\",\n",
    "        size=\"logq\",\n",
    "        color=ifelse(contrasts.df$sig==T, s_color, \"lightgrey\")\n",
    "        ) +\n",
    "        scale_fill_distiller(palette=palette, limit = max(abs(contrasts.df$statistic)) * c(-1, 1))+\n",
    "        labs(x=\"\", y=\"\", fill=\"Enrichment\", size=\"-log10 Adj. P-val\") + theme_linedraw() +\n",
    "        theme(axis.text.x=element_text(angle=0))\n",
    "\n",
    "    return(p)\n",
    "}\n",
    "\n",
    "plotFisherExactEnrichment <- function(contrasts.df, pval.thresh=0.1, filter=NULL, palette='Blues', h=13, w=15, s_color='black', fix_id=T){\n",
    "     \n",
    "    contrasts.df$sig <- contrasts.df$pval_adj < pval.thresh\n",
    "    contrasts.df$logq <- -log10(contrasts.df$pval_adj)\n",
    "    \n",
    "    # Remove non-significants\n",
    "    contrasts.df <- contrasts.df[contrasts.df$feat %in% contrasts.df[contrasts.df$sig,]$feat,]\n",
    "\n",
    "    \n",
    "    ### Order axis by dendrogram\n",
    "    # Load data\n",
    "    X <- contrasts.df[,c('feat','cluster','odds_r')]\n",
    "    X <- reshape(X[,c('feat','cluster','odds_r')], timevar='cluster', idvar='feat', direction='wide',)\n",
    "    rownames(X) <- X$feat\n",
    "    X$feat <- NULL\n",
    "\n",
    "    X[is.na(X)] <- 0\n",
    "\n",
    "    # Build the dendrogram\n",
    "    dend <- as.dendrogram(hclust(d = dist(x = X)))\n",
    "    dendro.plot <- ggdendrogram(dend,rotate = TRUE)\n",
    "\n",
    "    # Use dendrogram order to order colomn\n",
    "    order <- order.dendrogram(dend) # dendrogram order\n",
    "    contrasts.df$feat <- factor(x = contrasts.df$feat, levels = unique(contrasts.df$feat)[order], ordered = TRUE)\n",
    "\n",
    "    ### Balloonplot\n",
    "    options(repr.plot.width=w, repr.plot.height=h)\n",
    "\n",
    "    p <- ggballoonplot(\n",
    "        contrasts.df,\n",
    "        x=\"cluster\",\n",
    "        y=\"feat\",\n",
    "        fill = \"odds_r\",\n",
    "        size=\"logq\",\n",
    "        color=ifelse(contrasts.df$sig==T, s_color, \"lightgrey\")\n",
    "        ) +\n",
    "        scale_fill_distiller(palette=palette, limit = max(abs(contrasts.df$odds_r)) * c(0, 1))+\n",
    "        labs(x=\"\", y=\"\", fill=\"log Odds Ratio\", size=\"-log10 Adj. P-val\") + theme_linedraw() +\n",
    "        theme(axis.text.x=element_text(angle=0))\n",
    "\n",
    "    return(p)\n",
    "}"
   ]
  },
  {
   "cell_type": "code",
   "execution_count": 6,
   "id": "5cf9e7f8",
   "metadata": {},
   "outputs": [
    {
     "data": {
      "text/html": [
       "<strong>pdf:</strong> 2"
      ],
      "text/latex": [
       "\\textbf{pdf:} 2"
      ],
      "text/markdown": [
       "**pdf:** 2"
      ],
      "text/plain": [
       "pdf \n",
       "  2 "
      ]
     },
     "metadata": {},
     "output_type": "display_data"
    }
   ],
   "source": [
    "pdf(\"figures/mice_imputed_ccp_cluster_fe_enrichment.pdf\", width=5, height=6) \n",
    "plotFisherExactEnrichment(contrasts.fe.df, h=6, w=5,)\n",
    "dev.off()"
   ]
  },
  {
   "cell_type": "code",
   "execution_count": 7,
   "id": "4d85a818",
   "metadata": {
    "scrolled": false
   },
   "outputs": [
    {
     "data": {
      "text/html": [
       "<strong>pdf:</strong> 2"
      ],
      "text/latex": [
       "\\textbf{pdf:} 2"
      ],
      "text/markdown": [
       "**pdf:** 2"
      ],
      "text/plain": [
       "pdf \n",
       "  2 "
      ]
     },
     "metadata": {},
     "output_type": "display_data"
    }
   ],
   "source": [
    "pdf(\"figures/mice_imputed_ccp_cluster_enrichment.pdf\", width=5, height=6) \n",
    "plotEnrichment(contrasts.df, h=6, w=5)\n",
    "dev.off()"
   ]
  },
  {
   "cell_type": "code",
   "execution_count": null,
   "id": "b3661663",
   "metadata": {},
   "outputs": [],
   "source": []
  }
 ],
 "metadata": {
  "kernelspec": {
   "display_name": "R [conda env:r4]",
   "language": "R",
   "name": "conda-env-r4-r"
  },
  "language_info": {
   "codemirror_mode": "r",
   "file_extension": ".r",
   "mimetype": "text/x-r-source",
   "name": "R",
   "pygments_lexer": "r",
   "version": "4.3.1"
  }
 },
 "nbformat": 4,
 "nbformat_minor": 5
}
