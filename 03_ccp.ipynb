{
 "cells": [
  {
   "cell_type": "code",
   "execution_count": 1,
   "id": "74d733b4",
   "metadata": {},
   "outputs": [
    {
     "name": "stderr",
     "output_type": "stream",
     "text": [
      "\n",
      "Attaching package: ‘mice’\n",
      "\n",
      "\n",
      "The following object is masked from ‘package:stats’:\n",
      "\n",
      "    filter\n",
      "\n",
      "\n",
      "The following objects are masked from ‘package:base’:\n",
      "\n",
      "    cbind, rbind\n",
      "\n",
      "\n"
     ]
    }
   ],
   "source": [
    "library(ConsensusClusterPlus)\n",
    "library(mice)"
   ]
  },
  {
   "cell_type": "code",
   "execution_count": 2,
   "id": "8b0480aa",
   "metadata": {},
   "outputs": [],
   "source": [
    "maxK <- 6\n",
    "reps <- 25\n",
    "pItem = 0.8\n",
    "pFeature = 1"
   ]
  },
  {
   "cell_type": "markdown",
   "id": "a30861d9",
   "metadata": {},
   "source": [
    "### 1. Consensus Cluster Plus w/ MICE Imputation\n",
    "---\n"
   ]
  },
  {
   "cell_type": "code",
   "execution_count": 3,
   "id": "d10e5290",
   "metadata": {},
   "outputs": [],
   "source": [
    "out.dir <- \"data/clustering/mice_qvars_01\""
   ]
  },
  {
   "cell_type": "code",
   "execution_count": 4,
   "id": "56dc7167",
   "metadata": {},
   "outputs": [],
   "source": [
    "X.mice <- read.table(\"data/imputed/mice_qvars_01.tsv\", sep=\"\\t\", header=T)\n",
    "X.mice.scaled <- scale(complete(X.mice))"
   ]
  },
  {
   "cell_type": "code",
   "execution_count": 5,
   "id": "aebaa6e8",
   "metadata": {
    "scrolled": true
   },
   "outputs": [
    {
     "name": "stderr",
     "output_type": "stream",
     "text": [
      "end fraction\n",
      "\n",
      "clustered\n",
      "\n",
      "clustered\n",
      "\n",
      "clustered\n",
      "\n",
      "clustered\n",
      "\n",
      "clustered\n",
      "\n"
     ]
    }
   ],
   "source": [
    "ccp.mice = ConsensusClusterPlus(\n",
    "    as.matrix(t(X.mice.scaled)),\n",
    "    maxK=maxK,\n",
    "    reps=reps,\n",
    "    pItem=pItem,\n",
    "    pFeature=pFeature,\n",
    "    clusterAlg=\"hc\",\n",
    "    distance=\"spearman\",\n",
    "    title=out.dir,\n",
    "    seed=123,\n",
    "    plot=\"pdf\"\n",
    ")"
   ]
  },
  {
   "cell_type": "code",
   "execution_count": 6,
   "id": "d8cb3926",
   "metadata": {},
   "outputs": [],
   "source": [
    "icl = calcICL(ccp.mice, title=out.dir, plot=\"png\")\n",
    "write.table(icl[[\"itemConsensus\"]], file.path(out.dir, \"item_consensus.tsv\"), sep='\\t')\n",
    "write.table(icl[[\"clusterConsensus\"]], file.path(out.dir, \"cc_result.tsv\"), sep='\\t')\n",
    "\n",
    "saveRDS(ccp.mice, file = file.path(out.dir, \"ccp.rds\"))"
   ]
  },
  {
   "cell_type": "markdown",
   "id": "8be91d10",
   "metadata": {},
   "source": [
    "### 2. Consensus Cluster Plus w/ KNN Imputation\n",
    "---\n"
   ]
  },
  {
   "cell_type": "code",
   "execution_count": 7,
   "id": "b372626c",
   "metadata": {},
   "outputs": [],
   "source": [
    "out.dir <- \"data/clustering/knn_qvars_01\""
   ]
  },
  {
   "cell_type": "code",
   "execution_count": 8,
   "id": "7a3a01a3",
   "metadata": {},
   "outputs": [],
   "source": [
    "X.knn <- read.table(\"data/imputed/knn_qvars_01.tsv\", sep=\"\\t\", header=T)\n",
    "X.knn.scaled <- scale(complete(X.knn))"
   ]
  },
  {
   "cell_type": "code",
   "execution_count": 9,
   "id": "ded8dc41",
   "metadata": {},
   "outputs": [
    {
     "name": "stderr",
     "output_type": "stream",
     "text": [
      "end fraction\n",
      "\n",
      "clustered\n",
      "\n",
      "clustered\n",
      "\n",
      "clustered\n",
      "\n",
      "clustered\n",
      "\n",
      "clustered\n",
      "\n"
     ]
    }
   ],
   "source": [
    "ccp.knn = ConsensusClusterPlus(\n",
    "    as.matrix(t(X.knn.scaled)),\n",
    "    maxK=maxK,\n",
    "    reps=reps,\n",
    "    pItem=pItem,\n",
    "    pFeature=pFeature,\n",
    "    clusterAlg=\"hc\",\n",
    "    distance=\"spearman\",\n",
    "    title=out.dir,\n",
    "    seed=123,\n",
    "    plot=\"pdf\"\n",
    ")"
   ]
  },
  {
   "cell_type": "code",
   "execution_count": 10,
   "id": "b199998f",
   "metadata": {},
   "outputs": [
    {
     "ename": "ERROR",
     "evalue": "Error in cci[, \"item\"] <- names(res[[2]]$consensusClass)[cci[, \"item\"]]: number of items to replace is not a multiple of replacement length\n",
     "output_type": "error",
     "traceback": [
      "Error in cci[, \"item\"] <- names(res[[2]]$consensusClass)[cci[, \"item\"]]: number of items to replace is not a multiple of replacement length\nTraceback:\n",
      "1. calcICL(ccp.knn, title = out.dir, plot = \"png\")"
     ]
    }
   ],
   "source": [
    "icl = calcICL(ccp.knn, title=out.dir, plot=\"png\")\n",
    "write.table(icl[[\"itemConsensus\"]], file.path(out.dir, \"item_consensus.tsv\"), sep='\\t')\n",
    "write.table(icl[[\"clusterConsensus\"]], file.path(out.dir, \"cc_result.tsv\"), sep='\\t')\n",
    "\n",
    "saveRDS(ccp.knn, file = file.path(out.dir, \"ccp.rds\"))"
   ]
  }
 ],
 "metadata": {
  "kernelspec": {
   "display_name": "R [conda env:r4]",
   "language": "R",
   "name": "conda-env-r4-r"
  },
  "language_info": {
   "codemirror_mode": "r",
   "file_extension": ".r",
   "mimetype": "text/x-r-source",
   "name": "R",
   "pygments_lexer": "r",
   "version": "4.3.1"
  }
 },
 "nbformat": 4,
 "nbformat_minor": 5
}
