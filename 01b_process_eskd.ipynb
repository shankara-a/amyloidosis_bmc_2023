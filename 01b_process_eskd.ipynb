{
 "cells": [
  {
   "cell_type": "code",
   "execution_count": 1,
   "metadata": {},
   "outputs": [],
   "source": [
    "import pandas as pd\n",
    "import numpy as np\n",
    "import matplotlib.pyplot as plt\n",
    "import seaborn as sns\n",
    "import os\n",
    "import funcs.utils as utils\n",
    "import funcs.plotting as plot\n",
    "import funcs.amyloid as amyloid"
   ]
  },
  {
   "cell_type": "code",
   "execution_count": 2,
   "metadata": {},
   "outputs": [],
   "source": [
    "PROCESSED_DIR = \"data/processed\""
   ]
  },
  {
   "cell_type": "markdown",
   "metadata": {},
   "source": [
    "### 1. Load Data\n",
    "---"
   ]
  },
  {
   "cell_type": "code",
   "execution_count": 3,
   "metadata": {},
   "outputs": [],
   "source": [
    "# Raw Data\n",
    "data_df = pd.read_csv(os.path.join(PROCESSED_DIR, \"AL_with_ccp_03.tsv\"), sep='\\t', index_col=0).rename(columns=amyloid.ddict_unclean)\n",
    "\n",
    "# Fix Dates\n",
    "data_df = pd.concat([pd.to_datetime(data_df[amyloid.dates][var], format=\"mixed\") for var in amyloid.dates], axis=1, keys=amyloid.dates).join(\n",
    "    data_df.drop(amyloid.dates, axis=1)  \n",
    ")"
   ]
  },
  {
   "cell_type": "code",
   "execution_count": 4,
   "metadata": {},
   "outputs": [],
   "source": [
    "# Treatments processed\n",
    "treatments_df = pd.read_csv(os.path.join(PROCESSED_DIR, \"treatments_processed.tsv\"), sep='\\t', index_col=0)\n",
    "treatments_df['Start date'] = pd.to_datetime(treatments_df['Start date'], format=\"mixed\")\n",
    "treatments_df = treatments_df.join(data_df['Date of admission to center'])"
   ]
  },
  {
   "cell_type": "markdown",
   "metadata": {},
   "source": [
    "## 2. ESKD Treatment & Timing\n",
    "---"
   ]
  },
  {
   "cell_type": "code",
   "execution_count": 6,
   "metadata": {},
   "outputs": [],
   "source": [
    "# Load RRT dates\n",
    "rrt_files = [\"PeritonealDialysis.csv\",\"Hemodialysis.csv\",\"KidneyTransplant.csv\",\"AddnlPD.csv\"]\n",
    "\n",
    "rrt_df = list()\n",
    "\n",
    "# Add all modalities\n",
    "for rrt in rrt_files:\n",
    "    _df = pd.read_csv(os.path.join(\"data/raw\",rrt),sep=\",\",index_col=0)\n",
    "    _df[\"modality\"] = \"Peritoneal Dialysis\" if rrt in [\"PeritonealDialysis.csv\",\"AddnlPD.csv\"] else rrt.split(\".csv\")[0]\n",
    "    rrt_df.append(_df)\n",
    "\n",
    "rrt_df = pd.concat(rrt_df)\n",
    "\n",
    "# Fix dates mis-entered in database\n",
    "rrt_df.loc[9423, \"Date performed\"] = \"7/27/1994\"\n",
    "rrt_df.loc[9665, \"Date performed\"] = \"4/5/2003\"\n",
    "\n",
    "# Save file\n",
    "rrt_df.to_csv(\"data/processed/rrt_dates_all.tsv\", sep=\"\\t\")\n",
    "\n",
    "# Filter for duplicate entries (ie patient has multiple RRT options, we only want first one)\n",
    "rrt_filt_df = rrt_df.dropna(subset=[\"Date performed\"]).sort_values(\"Date performed\").reset_index().drop_duplicates(subset=\"Code ID\").set_index(\"Code ID\")\n",
    "rrt_filt_df = pd.concat([rrt_filt_df,rrt_df.loc[np.setdiff1d(rrt_df.index,rrt_filt_df.index),:]])"
   ]
  },
  {
   "cell_type": "code",
   "execution_count": 9,
   "metadata": {},
   "outputs": [],
   "source": [
    "# Create ESKD dataframe\n",
    "eskd_df = data_df.join(treatments_df[treatments_df[\"treatment_eskd\"]].reset_index()[[\"Code ID\",\"treatment_eskd\"]].drop_duplicates(\n",
    "    subset=\"Code ID\").set_index(\"Code ID\"))[[\"treatment_eskd\"]]\n",
    "\n",
    "eskd_df[\"treatment_eskd\"] = eskd_df[\"treatment_eskd\"].apply(lambda x: 1 if x==True else 0)\n",
    "\n",
    "# Join ESKD dataframe to RRT timing\n",
    "eskd_df = eskd_df.join(rrt_filt_df)\n",
    "eskd_df = eskd_df.drop(columns=[\"Date of diagnosis\"]).rename(columns={\"Date performed\":\"Date of RRT Start\",\"End date\":\"Date of RRT End\",\"modality\":\"RRT Type\"})\n",
    "eskd_df = data_df[[\"Date of admission to center\",\"Date of diagnosis\",\"Date of death\",\"Date of last visit\",\"time\",\"status\",\"time_from_admission\"]].join(eskd_df)\n",
    "eskd_df[\"Date of RRT Start\"] = pd.to_datetime(eskd_df[\"Date of RRT Start\"], format=\"mixed\")\n",
    "eskd_df[\"Date of RRT End\"] = pd.to_datetime(eskd_df[\"Date of RRT End\"], format=\"mixed\")\n",
    "\n",
    "# Get time to ESKD\n",
    "eskd_df['time_to_eskd'] = eskd_df.apply(lambda row: utils.get_time_eskd(row),1)\n",
    "eskd_df['time_to_eskd_from_admission'] = eskd_df.apply(lambda row: utils.get_time_eskd(row, start_time=\"Date of admission to center\"),1)"
   ]
  },
  {
   "cell_type": "code",
   "execution_count": 10,
   "metadata": {},
   "outputs": [
    {
     "data": {
      "text/html": [
       "<div>\n",
       "<style scoped>\n",
       "    .dataframe tbody tr th:only-of-type {\n",
       "        vertical-align: middle;\n",
       "    }\n",
       "\n",
       "    .dataframe tbody tr th {\n",
       "        vertical-align: top;\n",
       "    }\n",
       "\n",
       "    .dataframe thead th {\n",
       "        text-align: right;\n",
       "    }\n",
       "</style>\n",
       "<table border=\"1\" class=\"dataframe\">\n",
       "  <thead>\n",
       "    <tr style=\"text-align: right;\">\n",
       "      <th></th>\n",
       "      <th>Date of admission to center</th>\n",
       "      <th>Date of diagnosis</th>\n",
       "      <th>Date of death</th>\n",
       "      <th>Date of last visit</th>\n",
       "      <th>time</th>\n",
       "      <th>status</th>\n",
       "      <th>time_from_admission</th>\n",
       "      <th>treatment_eskd</th>\n",
       "      <th>Date of RRT Start</th>\n",
       "      <th>Date of RRT End</th>\n",
       "      <th>Comment</th>\n",
       "      <th>RRT Type</th>\n",
       "      <th>time_to_eskd</th>\n",
       "      <th>time_to_eskd_from_admission</th>\n",
       "    </tr>\n",
       "    <tr>\n",
       "      <th>Code ID</th>\n",
       "      <th></th>\n",
       "      <th></th>\n",
       "      <th></th>\n",
       "      <th></th>\n",
       "      <th></th>\n",
       "      <th></th>\n",
       "      <th></th>\n",
       "      <th></th>\n",
       "      <th></th>\n",
       "      <th></th>\n",
       "      <th></th>\n",
       "      <th></th>\n",
       "      <th></th>\n",
       "      <th></th>\n",
       "    </tr>\n",
       "  </thead>\n",
       "  <tbody>\n",
       "    <tr>\n",
       "      <th>2013168</th>\n",
       "      <td>2013-10-09</td>\n",
       "      <td>2013-07-24</td>\n",
       "      <td>NaT</td>\n",
       "      <td>2013-10-08</td>\n",
       "      <td>0.208077</td>\n",
       "      <td>0</td>\n",
       "      <td>-0.002738</td>\n",
       "      <td>0</td>\n",
       "      <td>NaT</td>\n",
       "      <td>NaT</td>\n",
       "      <td>NaN</td>\n",
       "      <td>NaN</td>\n",
       "      <td>0.208077</td>\n",
       "      <td>-0.002738</td>\n",
       "    </tr>\n",
       "    <tr>\n",
       "      <th>2014033</th>\n",
       "      <td>2014-02-25</td>\n",
       "      <td>2012-09-01</td>\n",
       "      <td>NaT</td>\n",
       "      <td>2014-02-24</td>\n",
       "      <td>1.481177</td>\n",
       "      <td>0</td>\n",
       "      <td>-0.002738</td>\n",
       "      <td>0</td>\n",
       "      <td>NaT</td>\n",
       "      <td>NaT</td>\n",
       "      <td>NaN</td>\n",
       "      <td>NaN</td>\n",
       "      <td>1.481177</td>\n",
       "      <td>-0.002738</td>\n",
       "    </tr>\n",
       "    <tr>\n",
       "      <th>2017108</th>\n",
       "      <td>2017-06-30</td>\n",
       "      <td>2017-01-13</td>\n",
       "      <td>NaT</td>\n",
       "      <td>2017-06-26</td>\n",
       "      <td>0.449008</td>\n",
       "      <td>0</td>\n",
       "      <td>-0.010951</td>\n",
       "      <td>0</td>\n",
       "      <td>NaT</td>\n",
       "      <td>NaT</td>\n",
       "      <td>NaN</td>\n",
       "      <td>NaN</td>\n",
       "      <td>0.449008</td>\n",
       "      <td>-0.010951</td>\n",
       "    </tr>\n",
       "  </tbody>\n",
       "</table>\n",
       "</div>"
      ],
      "text/plain": [
       "        Date of admission to center Date of diagnosis Date of death  \\\n",
       "Code ID                                                               \n",
       "2013168                  2013-10-09        2013-07-24           NaT   \n",
       "2014033                  2014-02-25        2012-09-01           NaT   \n",
       "2017108                  2017-06-30        2017-01-13           NaT   \n",
       "\n",
       "        Date of last visit      time  status  time_from_admission  \\\n",
       "Code ID                                                             \n",
       "2013168         2013-10-08  0.208077       0            -0.002738   \n",
       "2014033         2014-02-24  1.481177       0            -0.002738   \n",
       "2017108         2017-06-26  0.449008       0            -0.010951   \n",
       "\n",
       "         treatment_eskd Date of RRT Start Date of RRT End Comment RRT Type  \\\n",
       "Code ID                                                                      \n",
       "2013168               0               NaT             NaT     NaN      NaN   \n",
       "2014033               0               NaT             NaT     NaN      NaN   \n",
       "2017108               0               NaT             NaT     NaN      NaN   \n",
       "\n",
       "        time_to_eskd time_to_eskd_from_admission  \n",
       "Code ID                                           \n",
       "2013168     0.208077                   -0.002738  \n",
       "2014033     1.481177                   -0.002738  \n",
       "2017108     0.449008                   -0.010951  "
      ]
     },
     "execution_count": 10,
     "metadata": {},
     "output_type": "execute_result"
    }
   ],
   "source": [
    "eskd_df[(eskd_df['time_to_eskd_from_admission']<0) & (eskd_df['treatment_eskd']==0)]"
   ]
  },
  {
   "cell_type": "code",
   "execution_count": 11,
   "metadata": {},
   "outputs": [],
   "source": [
    "# Competing risk\n",
    "eskd_df['CR_event'] = eskd_df.apply(utils.get_cr_event,axis=1)\n",
    "eskd_df['CR_time'] = eskd_df.apply(utils.get_cr_time, axis=1, start_time=\"Date of admission to center\")"
   ]
  },
  {
   "cell_type": "code",
   "execution_count": 10,
   "metadata": {},
   "outputs": [],
   "source": [
    "eskd_df.to_csv(\"data/processed/treatment_eskd.tsv\", sep=\"\\t\")"
   ]
  }
 ],
 "metadata": {
  "kernelspec": {
   "display_name": "r4",
   "language": "python",
   "name": "python3"
  },
  "language_info": {
   "codemirror_mode": {
    "name": "ipython",
    "version": 3
   },
   "file_extension": ".py",
   "mimetype": "text/x-python",
   "name": "python",
   "nbconvert_exporter": "python",
   "pygments_lexer": "ipython3",
   "version": "3.11.8"
  },
  "orig_nbformat": 4
 },
 "nbformat": 4,
 "nbformat_minor": 2
}
