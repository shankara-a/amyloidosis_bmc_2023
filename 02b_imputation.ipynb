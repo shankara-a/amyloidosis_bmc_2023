{
 "cells": [
  {
   "cell_type": "code",
   "execution_count": 1,
   "metadata": {},
   "outputs": [],
   "source": [
    "import pandas as pd\n",
    "import numpy as np\n",
    "import matplotlib.pyplot as plt\n",
    "import seaborn as sns\n",
    "import os\n",
    "import glob\n",
    "\n",
    "import funcs.utils as utils\n",
    "import funcs.plotting as plot\n",
    "import funcs.amyloid as amyloid\n",
    "\n",
    "import matplotlib\n",
    "matplotlib.rcParams['pdf.fonttype'] = 42\n",
    "matplotlib.rcParams['ps.fonttype'] = 42"
   ]
  },
  {
   "cell_type": "code",
   "execution_count": 2,
   "metadata": {},
   "outputs": [],
   "source": [
    "PROCESSED_DIR = \"data/processed\""
   ]
  },
  {
   "attachments": {},
   "cell_type": "markdown",
   "metadata": {},
   "source": [
    "### 1. Load Data\n",
    "---"
   ]
  },
  {
   "cell_type": "code",
   "execution_count": 3,
   "metadata": {},
   "outputs": [],
   "source": [
    "data_df = pd.read_csv(os.path.join(PROCESSED_DIR, \"dataset_processed.tsv\"), sep='\\t', index_col=0).rename(columns=amyloid.ddict_unclean)\n",
    "\n",
    "# Fix Dates\n",
    "data_df = pd.concat([pd.to_datetime(data_df[amyloid.dates][var], format=\"mixed\") for var in amyloid.dates], axis=1, keys=amyloid.dates).join(\n",
    "    data_df.drop(amyloid.dates, axis=1)  \n",
    ")"
   ]
  },
  {
   "attachments": {},
   "cell_type": "markdown",
   "metadata": {},
   "source": [
    "### 2. Imputation\n",
    "---\n",
    "\n",
    "* Requires running `02a_imputation.ipynb` for `mice::mice`\n",
    "\n",
    "Methods included:\n",
    "* Median imputation\n",
    "* KNN imputation (K=5)\n",
    "* MICE imptuation (in R)\n"
   ]
  },
  {
   "cell_type": "code",
   "execution_count": 10,
   "metadata": {},
   "outputs": [],
   "source": [
    "imp = {}\n",
    "\n",
    "imp[\"full_dataset\"] = utils.load_and_aggregate_imputation(os.path.join(PROCESSED_DIR, \"AL_for_ccp_02.tsv\"), \"data/imputed/full_dataset/\")\n",
    "imp[\"2004_dataset\"] = utils.load_and_aggregate_imputation(os.path.join(PROCESSED_DIR, \"AL_2004_for_ccp_02.tsv\"), \"data/imputed/2004_dataset/\")\n",
    "imp[\"2008_dataset\"] = utils.load_and_aggregate_imputation(os.path.join(PROCESSED_DIR, \"AL_2008_for_ccp_02.tsv\"), \"data/imputed/2008_dataset/\")"
   ]
  },
  {
   "cell_type": "code",
   "execution_count": 18,
   "metadata": {},
   "outputs": [],
   "source": [
    "mse_df = pd.concat([\n",
    "    pd.DataFrame(imp[\"full_dataset\"][\"mse\"].sum(), columns=[\"Full Dataset\"]),\n",
    "    pd.DataFrame(imp[\"2004_dataset\"][\"mse\"].sum(), columns=[\"2004 Dataset\"]),\n",
    "    pd.DataFrame(imp[\"2008_dataset\"][\"mse\"].sum(), columns=[\"2008 Dataset\"])\n",
    "],axis=1)"
   ]
  },
  {
   "cell_type": "code",
   "execution_count": 25,
   "metadata": {},
   "outputs": [
    {
     "data": {
      "text/plain": [
       "<module 'funcs.plotting' from '/Users/sanand/Library/CloudStorage/GoogleDrive-sa20@bu.edu/My Drive/BUSM/Research/AL Amyloidosis Clustering/amyloidosis_bmc_2023/funcs/plotting.py'>"
      ]
     },
     "execution_count": 25,
     "metadata": {},
     "output_type": "execute_result"
    }
   ],
   "source": [
    "import importlib; importlib.reload(plot)"
   ]
  },
  {
   "cell_type": "code",
   "execution_count": 48,
   "metadata": {},
   "outputs": [
    {
     "data": {
      "image/png": "[encoded data removed]",
      "text/plain": [
       "<Figure size 300x300 with 4 Axes>"
      ]
     },
     "metadata": {},
     "output_type": "display_data"
    }
   ],
   "source": [
    "plot.plot_clustermap(\n",
    "    mse_df.iloc[1:,:].loc[:,[\"2004 Dataset\",\"2008 Dataset\",\"Full Dataset\"]],\n",
    "    row_cluster=False,\n",
    "    col_cluster=False,\n",
    "    vmin=0, vmax=None,\n",
    "    figsize=(3,3), annot=True, annot_kws={\"size\": 8}, fmt='.3f',\n",
    "    yticklabels=[\"Median\",\"KNN\",\"MICE (2)\", \"MICE (3)\", \"MICE (1)\", \"MICE (4)\", \"MICE (5)\"],\n",
    "    xticklabels=[\"2004- \", \"2008- \", \"Full\"], cbar=False\n",
    ")\n",
    "plt.savefig(\"figures/imputation_mse.pdf\", dpi=200, bbox_inches=\"tight\")"
   ]
  },
  {
   "cell_type": "code",
   "execution_count": 53,
   "metadata": {},
   "outputs": [
    {
     "data": {
      "text/plain": [
       "Full Dataset    mice_imputed_2\n",
       "2004 Dataset    mice_imputed_4\n",
       "2008 Dataset       knn_imputed\n",
       "dtype: object"
      ]
     },
     "execution_count": 53,
     "metadata": {},
     "output_type": "execute_result"
    }
   ],
   "source": [
    "mse_df.iloc[1:,].idxmin(0)"
   ]
  },
  {
   "cell_type": "markdown",
   "metadata": {},
   "source": [
    "### Table\n",
    "---"
   ]
  },
  {
   "cell_type": "code",
   "execution_count": 97,
   "metadata": {},
   "outputs": [
    {
     "name": "stderr",
     "output_type": "stream",
     "text": [
      "/Users/sanand/anaconda3/envs/r4/lib/python3.10/site-packages/tableone/tableone.py:370: FutureWarning: The default of observed=False is deprecated and will be changed to True in a future version of pandas. Pass observed=False to retain current behavior or observed=True to adopt the future default and silence this warning.\n",
      "  self._groupbylvls = sorted(data.groupby(groupby).groups.keys())  # type: ignore\n",
      "/Users/sanand/anaconda3/envs/r4/lib/python3.10/site-packages/scipy/stats/_stats_py.py:4167: ConstantInputWarning: Each of the input arrays is constant;the F statistic is not defined or infinite\n",
      "  warnings.warn(stats.ConstantInputWarning(msg))\n",
      "/Users/sanand/anaconda3/envs/r4/lib/python3.10/site-packages/tableone/tableone.py:927: FutureWarning: The provided callable <function mean at 0x108e93be0> is currently using DataFrameGroupBy.mean. In a future version of pandas, the provided callable will be used directly. To keep current behavior pass the string \"mean\" instead.\n",
      "  df_cont = pd.pivot_table(cont_data,\n",
      "/Users/sanand/anaconda3/envs/r4/lib/python3.10/site-packages/tableone/tableone.py:927: FutureWarning: The provided callable <function median at 0x108fc7400> is currently using DataFrameGroupBy.median. In a future version of pandas, the provided callable will be used directly. To keep current behavior pass the string \"median\" instead.\n",
      "  df_cont = pd.pivot_table(cont_data,\n",
      "/Users/sanand/anaconda3/envs/r4/lib/python3.10/site-packages/tableone/tableone.py:927: FutureWarning: The provided callable <built-in function min> is currently using DataFrameGroupBy.min. In a future version of pandas, the provided callable will be used directly. To keep current behavior pass the string \"min\" instead.\n",
      "  df_cont = pd.pivot_table(cont_data,\n",
      "/Users/sanand/anaconda3/envs/r4/lib/python3.10/site-packages/tableone/tableone.py:927: FutureWarning: The provided callable <built-in function max> is currently using DataFrameGroupBy.max. In a future version of pandas, the provided callable will be used directly. To keep current behavior pass the string \"max\" instead.\n",
      "  df_cont = pd.pivot_table(cont_data,\n",
      "/Users/sanand/anaconda3/envs/r4/lib/python3.10/site-packages/tableone/tableone.py:370: FutureWarning: The default of observed=False is deprecated and will be changed to True in a future version of pandas. Pass observed=False to retain current behavior or observed=True to adopt the future default and silence this warning.\n",
      "  self._groupbylvls = sorted(data.groupby(groupby).groups.keys())  # type: ignore\n",
      "/Users/sanand/anaconda3/envs/r4/lib/python3.10/site-packages/scipy/stats/_stats_py.py:4167: ConstantInputWarning: Each of the input arrays is constant;the F statistic is not defined or infinite\n",
      "  warnings.warn(stats.ConstantInputWarning(msg))\n",
      "/Users/sanand/anaconda3/envs/r4/lib/python3.10/site-packages/tableone/tableone.py:927: FutureWarning: The provided callable <function mean at 0x108e93be0> is currently using DataFrameGroupBy.mean. In a future version of pandas, the provided callable will be used directly. To keep current behavior pass the string \"mean\" instead.\n",
      "  df_cont = pd.pivot_table(cont_data,\n",
      "/Users/sanand/anaconda3/envs/r4/lib/python3.10/site-packages/tableone/tableone.py:927: FutureWarning: The provided callable <function median at 0x108fc7400> is currently using DataFrameGroupBy.median. In a future version of pandas, the provided callable will be used directly. To keep current behavior pass the string \"median\" instead.\n",
      "  df_cont = pd.pivot_table(cont_data,\n",
      "/Users/sanand/anaconda3/envs/r4/lib/python3.10/site-packages/tableone/tableone.py:927: FutureWarning: The provided callable <built-in function min> is currently using DataFrameGroupBy.min. In a future version of pandas, the provided callable will be used directly. To keep current behavior pass the string \"min\" instead.\n",
      "  df_cont = pd.pivot_table(cont_data,\n",
      "/Users/sanand/anaconda3/envs/r4/lib/python3.10/site-packages/tableone/tableone.py:927: FutureWarning: The provided callable <built-in function max> is currently using DataFrameGroupBy.max. In a future version of pandas, the provided callable will be used directly. To keep current behavior pass the string \"max\" instead.\n",
      "  df_cont = pd.pivot_table(cont_data,\n",
      "/Users/sanand/anaconda3/envs/r4/lib/python3.10/site-packages/tableone/tableone.py:370: FutureWarning: The default of observed=False is deprecated and will be changed to True in a future version of pandas. Pass observed=False to retain current behavior or observed=True to adopt the future default and silence this warning.\n",
      "  self._groupbylvls = sorted(data.groupby(groupby).groups.keys())  # type: ignore\n",
      "/Users/sanand/anaconda3/envs/r4/lib/python3.10/site-packages/scipy/stats/_stats_py.py:4167: ConstantInputWarning: Each of the input arrays is constant;the F statistic is not defined or infinite\n",
      "  warnings.warn(stats.ConstantInputWarning(msg))\n",
      "/Users/sanand/anaconda3/envs/r4/lib/python3.10/site-packages/tableone/tableone.py:927: FutureWarning: The provided callable <function mean at 0x108e93be0> is currently using DataFrameGroupBy.mean. In a future version of pandas, the provided callable will be used directly. To keep current behavior pass the string \"mean\" instead.\n",
      "  df_cont = pd.pivot_table(cont_data,\n",
      "/Users/sanand/anaconda3/envs/r4/lib/python3.10/site-packages/tableone/tableone.py:927: FutureWarning: The provided callable <function median at 0x108fc7400> is currently using DataFrameGroupBy.median. In a future version of pandas, the provided callable will be used directly. To keep current behavior pass the string \"median\" instead.\n",
      "  df_cont = pd.pivot_table(cont_data,\n",
      "/Users/sanand/anaconda3/envs/r4/lib/python3.10/site-packages/tableone/tableone.py:927: FutureWarning: The provided callable <built-in function min> is currently using DataFrameGroupBy.min. In a future version of pandas, the provided callable will be used directly. To keep current behavior pass the string \"min\" instead.\n",
      "  df_cont = pd.pivot_table(cont_data,\n",
      "/Users/sanand/anaconda3/envs/r4/lib/python3.10/site-packages/tableone/tableone.py:927: FutureWarning: The provided callable <built-in function max> is currently using DataFrameGroupBy.max. In a future version of pandas, the provided callable will be used directly. To keep current behavior pass the string \"max\" instead.\n",
      "  df_cont = pd.pivot_table(cont_data,\n"
     ]
    }
   ],
   "source": [
    "utils.create_imputed_tableone(imp, \"tables/supplement/imputed_full_dataset.xlsx\", \"full_dataset\")\n",
    "utils.create_imputed_tableone(imp, \"tables/supplement/imputed_2004_dataset.xlsx\", \"2004_dataset\")\n",
    "utils.create_imputed_tableone(imp, \"tables/supplement/imputed_2008_dataset.xlsx\", \"2008_dataset\")"
   ]
  }
 ],
 "metadata": {
  "kernelspec": {
   "display_name": "r4",
   "language": "python",
   "name": "python3"
  },
  "language_info": {
   "codemirror_mode": {
    "name": "ipython",
    "version": 3
   },
   "file_extension": ".py",
   "mimetype": "text/x-python",
   "name": "python",
   "nbconvert_exporter": "python",
   "pygments_lexer": "ipython3",
   "version": "3.10.13"
  },
  "orig_nbformat": 4,
  "vscode": {
   "interpreter": {
    "hash": "1cb7d89f10138752af65ef706fb595972ec9b0d7ed92a43a4be7d17426113632"
   }
  }
 },
 "nbformat": 4,
 "nbformat_minor": 2
}
