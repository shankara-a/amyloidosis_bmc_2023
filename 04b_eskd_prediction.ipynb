{
 "cells": [
  {
   "cell_type": "code",
   "execution_count": 77,
   "metadata": {
    "vscode": {
     "languageId": "r"
    }
   },
   "outputs": [],
   "source": [
    "suppressMessages(library(survminer))\n",
    "suppressMessages(library(survival))\n",
    "suppressMessages(library(forestplot))\n",
    "suppressMessages(library(ggsci))\n",
    "suppressMessages(library(dplyr))\n",
    "suppressMessages(library(adjustedCurves))\n",
    "suppressMessages(library(tidyverse))\n",
    "suppressMessages(library(cmprsk))\n",
    "suppressMessages(library(caret))"
   ]
  },
  {
   "cell_type": "markdown",
   "metadata": {},
   "source": [
    "## 0. Funcs\n",
    "---"
   ]
  },
  {
   "cell_type": "code",
   "execution_count": 132,
   "metadata": {
    "vscode": {
     "languageId": "r"
    }
   },
   "outputs": [],
   "source": [
    "getCoef <- function(mod){\n",
    "    df <- data.frame(summary(mod)$coef)\n",
    "    df$coef_exp <- signif(exp(df$coef),3)\n",
    "    df$ci_lower <- signif(exp(df$coef - 1.96 * df$se.coef.),3)\n",
    "    df$ci_upper <- signif(exp(df$coef + 1.96 * df$se.coef.),3)\n",
    "    df$HR <- paste(df$coef_exp, \" (\", df$ci_lower, \"-\", df$ci_upper, \")\", sep=\"\")\n",
    "    return(data.frame(df))\n",
    "}\n",
    "\n",
    "coxSummary <- function(cox_models, var, filt=TRUE){\n",
    "    i <- 1\n",
    "    result_list = list()\n",
    "\n",
    "    for (i in seq_along(cox_models)) {\n",
    "        formula <- Reduce(paste,deparse(formula(cox_models[[i]])))\n",
    "        hazard_ratios <- getCoef(cox_models[[i]])$HR\n",
    "        names(hazard_ratios) <- rownames(getCoef(cox_models[[i]]))\n",
    "\n",
    "        if (filt==T){\n",
    "            hazard_ratios <- hazard_ratios[names(hazard_ratios)[grepl(paste0(\"^\", var), names(hazard_ratios))]]\n",
    "            names(hazard_ratios) <- sub(paste0(\"^\", var), \"\", names(hazard_ratios))\n",
    "        }\n",
    "\n",
    "        df <- data.frame(rbind(hazard_ratios))\n",
    "        df$Model <- as.character(formula)\n",
    "        result_list[[i]] <- df\n",
    "    }\n",
    "    # Combine all dataframes into one\n",
    "    results_df <- do.call(rbind, result_list)\n",
    "    rownames(results_df) <- results_df$Model\n",
    "    results_df$Model <- NULL\n",
    "\n",
    "    # Return the dataframe\n",
    "    return(results_df)\n",
    "\n",
    "}\n",
    "\n",
    "getRiskDiff <- function(clust.adjsurv, groupings, times.to.use=c(1,5,10)){\n",
    "    # Risk Difference Table\n",
    "    clust.adjci <- clust.adjsurv\n",
    "    clust.adjci$adjsurv$surv <- 1-clust.adjci$adjsurv$surv\n",
    "\n",
    "    # Define the desired order of the groups\n",
    "    order <- groupings\n",
    "\n",
    "    # Print the reordered dataframe\n",
    "    result_list = list()\n",
    "\n",
    "    # For each grouping\n",
    "    for (i in seq_along(groupings)){\n",
    "        group_1 = str_split(groupings[[i]], \" vs. \")[[1]][1]\n",
    "        group_2 = str_split(groupings[[i]], \" vs. \")[[1]][2]\n",
    "        result_list[[i]] <- adjusted_curve_diff(clust.adjci, times=times.to.use, group_1=group_1, group_2=group_2, conf_int=TRUE)\n",
    "        result_list[[i]]$group <- groupings[[i]]\n",
    "    }\n",
    "\n",
    "    cd.df <- do.call(rbind, result_list)\n",
    "\n",
    "    # Percentage\n",
    "    cd.df$diff <- signif(cd.df$diff*100,3)\n",
    "    cd.df$ci_lower <- signif(cd.df$ci_lower*100,3)\n",
    "    cd.df$ci_upper <- signif(cd.df$ci_upper*100,3)\n",
    "    cd.df$RD <- paste(cd.df$diff, \" (\", cd.df$ci_lower, \"-\", cd.df$ci_upper, \")\", sep=\"\")\n",
    "    \n",
    "    r <- spread(cd.df[,c(\"time\",\"RD\",\"group\")], key = time, value = RD) %>% \n",
    "        mutate(group = factor(group, levels = order)) %>%\n",
    "        arrange(group)\n",
    "\n",
    "    return(r)\n",
    "}\n",
    "\n",
    "getIncidenceGroup <- function(clust.adjsurv, times.to.use=c(1,5,10)){\n",
    "  clust.adjci <- clust.adjsurv\n",
    "  clust.adjci$adjsurv$surv <- 1-clust.adjci$adjsurv$surv\n",
    "\n",
    "  # CI Difference Table\n",
    "  closest_rows <- list()\n",
    "\n",
    "  for (i in seq_along(times.to.use)){\n",
    "    closest_rows[i] <- clust.adjsurv$boot_adjsurv[which.min(abs(clust.adjsurv$boot_adjsurv$time - times.to.use[[i]])), \"time\"]\n",
    "  }\n",
    "  ci.df <- clust.adjsurv$boot_adjsurv[clust.adjsurv$boot_adjsurv$time %in% closest_rows,]\n",
    "  ci.df$boot_surv <- signif((1-ci.df$boot_surv)*100,3)\n",
    "  ci.df$ci_upper <- signif((1-ci.df$ci_upper)*100,3)\n",
    "  ci.df$ci_lower <- signif((1-ci.df$ci_lower)*100,3)\n",
    "  ci.df$CI <- paste(ci.df$boot_surv, \" (\", ci.df$ci_lower, \"-\", ci.df$ci_upper, \")\", sep=\"\")\n",
    "\n",
    "  result.df <- spread(ci.df[,c(\"time\",\"CI\",\"group\")], key = time, value = CI) %>% \n",
    "    mutate(group = factor(group)) %>%\n",
    "    arrange(group)\n",
    "  \n",
    "  rownames(result.df) <- result.df$group\n",
    "  result.df$group <- NULL\n",
    "  colnames(result.df) <- times.to.use\n",
    "  return(result.df)\n",
    "}\n",
    "\n",
    "getDummy <- function(df, vars){\n",
    "    dmy <- dummyVars(\" ~ .\", data = df[,vars,drop=F], fullRank=TRUE)\n",
    "    cov <- data.frame(predict(dmy, newdata = df[,vars,drop=F]))\n",
    "    return(cov)\n",
    "}"
   ]
  },
  {
   "cell_type": "markdown",
   "metadata": {},
   "source": [
    "## 1. Load Dataset\n",
    "---"
   ]
  },
  {
   "cell_type": "code",
   "execution_count": 3,
   "metadata": {
    "vscode": {
     "languageId": "r"
    }
   },
   "outputs": [],
   "source": [
    "data.df <- read.table(\"data/processed/AL_with_ccp_03.tsv\", sep=\"\\t\", header=T, row.names='Code.ID')\n",
    "\n",
    "# Rename columns\n",
    "column_mapping <- c(\"LC.Isotype\"=\"Kappa_or_lambda_PCD\", \n",
    "                    \"BU.Cardiac.Stage\"=\"BU__BNP_based__cardiac_staging\",\n",
    "                    \"BMPC.%\"=\"Bone_marrow_plasma_cells____\"\n",
    "                   )\n",
    "\n",
    "data.df <- data.df %>% rename(!!!column_mapping)\n",
    "\n",
    "# Filter for time from admission >=0\n",
    "data.df <- data.df[data.df$time_from_admission>=0,]\n",
    "\n",
    "# Collapse Race\n",
    "data.df <- data.df %>%\n",
    "   mutate(Race = ifelse(Race %in% c('American_Indian_Alaska_Native','Multiracial','Native_Hawaiian_Pacific', 'Unknown/other'), 'Other', Race))\n",
    "\n",
    "# Fix NULL values\n",
    "data.df <- data.df %>% mutate(BU.Cardiac.Stage = ifelse(BU.Cardiac.Stage==\"\", NA, BU.Cardiac.Stage))\n",
    "data.df <- data.df %>% mutate(Primary_organ = ifelse(Primary_organ==\"\", NA, Primary_organ))\n",
    "data.df <- data.df %>% mutate(LC.Isotype = ifelse(LC.Isotype==\"\", NA, LC.Isotype))\n",
    "\n",
    "# assign cluster to var\n",
    "data.df$m02q3_cluster_n <- factor(data.df$m02q3_cluster_n, levels=c(\"Low\",\"Intermediate\",\"High\"))\n",
    "data.df <- data.df[complete.cases(data.df[,\"m02q3_cluster_n\"]),]\n",
    "data.df$m02q4_cluster_n <- factor(data.df$m02q4_cluster_n, levels=c(\"Low\",\"Intermediate-Low\",\"Intermediate\",\"High\"))\n",
    "data.df$fna3_cluster_n <- factor(data.df$fna3_cluster_n, levels=c(\"Low\",\"Intermediate\",\"High\"))\n",
    "data.df$BU.Cardiac.Stage <- as.factor(data.df$BU.Cardiac.Stage)\n",
    "\n",
    "# As Factor\n",
    "data.df$LC.Isotype <- as.factor(data.df$LC.Isotype)\n",
    "data.df$Sex <- as.factor(data.df$Sex)\n",
    "data.df$Race <- as.factor(data.df$Race)\n",
    "data.df$Era <- as.factor(data.df$Era)"
   ]
  },
  {
   "cell_type": "code",
   "execution_count": 4,
   "metadata": {
    "vscode": {
     "languageId": "r"
    }
   },
   "outputs": [],
   "source": [
    "# Load ESKD Data\n",
    "eskd.df <- read.table(\"data/processed/treatment_eskd.tsv\", sep=\"\\t\", header=T, row.names=\"Code.ID\")\n",
    "eskd.df <- eskd.df[rownames(data.df),]\n",
    "eskd.df <- cbind(data.df, eskd.df[,c(\"RRT.Type\",\"treatment_eskd\",\"time_to_eskd\",\"time_to_eskd_from_admission\",\"CR_event\",\"CR_time\")])\n",
    "eskd.df <- eskd.df[complete.cases(eskd.df$time_to_eskd),]\n",
    "\n",
    "# Filter for whether or not patients had ESKD at baseline\n",
    "eskd.df <- eskd.df[eskd.df$time_to_eskd>0,]"
   ]
  },
  {
   "cell_type": "markdown",
   "metadata": {},
   "source": [
    "## 2. Cox Regression Modeling\n",
    "---"
   ]
  },
  {
   "cell_type": "code",
   "execution_count": 5,
   "metadata": {
    "vscode": {
     "languageId": "r"
    }
   },
   "outputs": [
    {
     "data": {
      "text/plain": [
       "            chisq df      p\n",
       "Age         0.552  1 0.4575\n",
       "Sex         0.290  1 0.5904\n",
       "Race        2.039  3 0.5644\n",
       "LC.Isotype  9.011  1 0.0027\n",
       "GLOBAL     12.495  6 0.0518"
      ]
     },
     "metadata": {},
     "output_type": "display_data"
    }
   ],
   "source": [
    "# Baseline Model\n",
    "eskd.crude <- coxph(Surv(time_to_eskd, treatment_eskd) ~ fna3_cluster_n, data=eskd.df)\n",
    "eskd.baseline <- coxph(Surv(time_to_eskd, treatment_eskd) ~ Age + Sex + Race + LC.Isotype, data=eskd.df)\n",
    "cox.zph(eskd.baseline)"
   ]
  },
  {
   "cell_type": "code",
   "execution_count": 6,
   "metadata": {
    "vscode": {
     "languageId": "r"
    }
   },
   "outputs": [],
   "source": [
    "# Baseline Model stratified\n",
    "eskd.baseline.t <- coxph(Surv(time_to_eskd, treatment_eskd) ~ Age + Sex + Race + strata(LC.Isotype), data=eskd.df)\n",
    "eskd.baseline.cluster.t <- coxph(Surv(time_to_eskd, treatment_eskd) ~ fna3_cluster_n + Age + Sex + Race + strata(LC.Isotype), data=eskd.df, x=TRUE)"
   ]
  },
  {
   "cell_type": "code",
   "execution_count": 7,
   "metadata": {
    "vscode": {
     "languageId": "r"
    }
   },
   "outputs": [
    {
     "data": {
      "text/plain": [
       "                      chisq df       p\n",
       "Age                   2.607  1   0.106\n",
       "Sex                   0.355  1   0.551\n",
       "Race                  1.809  3   0.613\n",
       "eGFR                 36.809  1 1.3e-09\n",
       "log2(X24_hr_UTP + 1)  3.601  1   0.058\n",
       "GLOBAL               44.571  7 1.7e-07"
      ]
     },
     "metadata": {},
     "output_type": "display_data"
    }
   ],
   "source": [
    "# Model w/ Labs\n",
    "eskd.labs <- coxph(Surv(time_to_eskd, treatment_eskd) ~ Age + Sex + Race + eGFR + log2(X24_hr_UTP+1) + strata(LC.Isotype), data=eskd.df)\n",
    "cox.zph(eskd.labs)"
   ]
  },
  {
   "cell_type": "code",
   "execution_count": 8,
   "metadata": {
    "vscode": {
     "languageId": "r"
    }
   },
   "outputs": [
    {
     "data": {
      "text/plain": [
       "Call:\n",
       "coxph(formula = Surv(time_to_eskd, treatment_eskd) ~ Age + Sex + \n",
       "    Race + eGFR + tt(eGFR) + log2(X24_hr_UTP + 1) + strata(LC.Isotype), \n",
       "    data = eskd.df[complete.cases(eskd.df$eGFR), ], tt = function(x, \n",
       "        t, ...) x * log(t))\n",
       "\n",
       "  n= 1707, number of events= 252 \n",
       "   (154 observations deleted due to missingness)\n",
       "\n",
       "                          coef exp(coef)  se(coef)       z Pr(>|z|)    \n",
       "Age                  -0.019487  0.980701  0.006286  -3.100  0.00193 ** \n",
       "Sexmale               0.092343  1.096741  0.132434   0.697  0.48563    \n",
       "RaceBlack             0.193799  1.213852  0.570951   0.339  0.73428    \n",
       "RaceOther             0.868130  2.382452  0.877749   0.989  0.32264    \n",
       "RaceWhite             0.598009  1.818494  0.507634   1.178  0.23878    \n",
       "eGFR                 -0.044074  0.956883  0.003356 -13.132  < 2e-16 ***\n",
       "tt(eGFR)              0.014385  1.014489  0.002109   6.822 8.97e-12 ***\n",
       "log2(X24_hr_UTP + 1)  0.026861  1.027225  0.015487   1.734  0.08284 .  \n",
       "---\n",
       "Signif. codes:  0 '***' 0.001 '**' 0.01 '*' 0.05 '.' 0.1 ' ' 1\n",
       "\n",
       "                     exp(coef) exp(-coef) lower .95 upper .95\n",
       "Age                     0.9807     1.0197    0.9687    0.9929\n",
       "Sexmale                 1.0967     0.9118    0.8460    1.4218\n",
       "RaceBlack               1.2139     0.8238    0.3964    3.7167\n",
       "RaceOther               2.3825     0.4197    0.4265   13.3096\n",
       "RaceWhite               1.8185     0.5499    0.6724    4.9183\n",
       "eGFR                    0.9569     1.0451    0.9506    0.9632\n",
       "tt(eGFR)                1.0145     0.9857    1.0103    1.0187\n",
       "log2(X24_hr_UTP + 1)    1.0272     0.9735    0.9965    1.0589\n",
       "\n",
       "Concordance= 0.789  (se = 0.019 )\n",
       "Likelihood ratio test= 299  on 8 df,   p=<2e-16\n",
       "Wald test            = 197  on 8 df,   p=<2e-16\n",
       "Score (logrank) test = 284.7  on 8 df,   p=<2e-16\n"
      ]
     },
     "metadata": {},
     "output_type": "display_data"
    }
   ],
   "source": [
    "# Model w/ Labs\n",
    "# Adjusted by eGFR for time\n",
    "eskd.labs.t <- coxph(Surv(time_to_eskd, treatment_eskd) ~ Age + Sex + Race + eGFR + tt(eGFR) +\n",
    "    log2(X24_hr_UTP+1) + strata(LC.Isotype), \n",
    "    data=eskd.df[complete.cases(eskd.df$eGFR),], \n",
    "    tt=function(x,t,...) x * log(t))\n",
    "summary(eskd.labs.t)"
   ]
  },
  {
   "cell_type": "code",
   "execution_count": 9,
   "metadata": {
    "vscode": {
     "languageId": "r"
    }
   },
   "outputs": [
    {
     "data": {
      "image/png": "[encoded data removed]",
      "text/plain": [
       "plot without title"
      ]
     },
     "metadata": {
      "image/png": {
       "height": 420,
       "width": 420
      }
     },
     "output_type": "display_data"
    }
   ],
   "source": [
    "plot(cox.zph(eskd.labs)[4])\n",
    "abline(coef(eskd.labs.t)[6:7], lwd=2, lty=3, col=2)"
   ]
  },
  {
   "cell_type": "code",
   "execution_count": 10,
   "metadata": {
    "vscode": {
     "languageId": "r"
    }
   },
   "outputs": [
    {
     "data": {
      "image/png": "[encoded data removed]",
      "text/plain": [
       "plot without title"
      ]
     },
     "metadata": {
      "image/png": {
       "height": 420,
       "width": 420
      }
     },
     "output_type": "display_data"
    }
   ],
   "source": [
    "plot(cox.zph(eskd.labs)[5])"
   ]
  },
  {
   "cell_type": "code",
   "execution_count": 11,
   "metadata": {
    "vscode": {
     "languageId": "r"
    }
   },
   "outputs": [
    {
     "data": {
      "text/plain": [
       "Call:\n",
       "coxph(formula = Surv(time_to_eskd, treatment_eskd) ~ fna3_cluster_n + \n",
       "    Age + Sex + Race + eGFR + tt(eGFR) + log2(X24_hr_UTP + 1) + \n",
       "    strata(LC.Isotype), data = eskd.df, tt = function(x, t, ...) x * \n",
       "    log(t))\n",
       "\n",
       "  n= 1701, number of events= 251 \n",
       "   (339 observations deleted due to missingness)\n",
       "\n",
       "                                coef exp(coef)  se(coef)       z Pr(>|z|)    \n",
       "fna3_cluster_nIntermediate  0.626794  1.871600  0.142531   4.398 1.09e-05 ***\n",
       "fna3_cluster_nHigh         -0.641274  0.526621  0.336195  -1.907 0.056462 .  \n",
       "Age                        -0.020409  0.979798  0.006154  -3.316 0.000912 ***\n",
       "Sexmale                     0.119850  1.127328  0.133608   0.897 0.369702    \n",
       "RaceBlack                   0.272240  1.312902  0.571638   0.476 0.633900    \n",
       "RaceOther                   0.679222  1.972343  0.877365   0.774 0.438835    \n",
       "RaceWhite                   0.625679  1.869515  0.508225   1.231 0.218284    \n",
       "eGFR                       -0.042791  0.958112  0.003335 -12.831  < 2e-16 ***\n",
       "tt(eGFR)                    0.013837  1.013933  0.002088   6.625 3.47e-11 ***\n",
       "log2(X24_hr_UTP + 1)       -0.008014  0.992018  0.015574  -0.515 0.606838    \n",
       "---\n",
       "Signif. codes:  0 '***' 0.001 '**' 0.01 '*' 0.05 '.' 0.1 ' ' 1\n",
       "\n",
       "                           exp(coef) exp(-coef) lower .95 upper .95\n",
       "fna3_cluster_nIntermediate    1.8716     0.5343    1.4154    2.4748\n",
       "fna3_cluster_nHigh            0.5266     1.8989    0.2725    1.0178\n",
       "Age                           0.9798     1.0206    0.9681    0.9917\n",
       "Sexmale                       1.1273     0.8871    0.8676    1.4648\n",
       "RaceBlack                     1.3129     0.7617    0.4282    4.0254\n",
       "RaceOther                     1.9723     0.5070    0.3533   11.0102\n",
       "RaceWhite                     1.8695     0.5349    0.6904    5.0621\n",
       "eGFR                          0.9581     1.0437    0.9519    0.9644\n",
       "tt(eGFR)                      1.0139     0.9863    1.0098    1.0181\n",
       "log2(X24_hr_UTP + 1)          0.9920     1.0080    0.9622    1.0228\n",
       "\n",
       "Concordance= 0.812  (se = 0.017 )\n",
       "Likelihood ratio test= 326.9  on 10 df,   p=<2e-16\n",
       "Wald test            = 222.6  on 10 df,   p=<2e-16\n",
       "Score (logrank) test = 316.5  on 10 df,   p=<2e-16\n"
      ]
     },
     "metadata": {},
     "output_type": "display_data"
    }
   ],
   "source": [
    "# Model w/ Labs\n",
    "# Adjusted by eGFR for time\n",
    "eskd.labs.cluster.t <- coxph(Surv(time_to_eskd, treatment_eskd) ~ fna3_cluster_n + Age + Sex + Race + eGFR + tt(eGFR) +\n",
    "    log2(X24_hr_UTP+1) + strata(LC.Isotype), \n",
    "    data=eskd.df, \n",
    "    tt=function(x,t,...) x * log(t))\n",
    "summary(eskd.labs.cluster.t)"
   ]
  },
  {
   "cell_type": "code",
   "execution_count": 12,
   "metadata": {
    "vscode": {
     "languageId": "r"
    }
   },
   "outputs": [
    {
     "data": {
      "text/plain": [
       "Call:\n",
       "coxph(formula = Surv(time_to_eskd, treatment_eskd) ~ Renal.Stage..Palladini. + \n",
       "    Age + Sex + Race + eGFR + tt(eGFR) + log2(X24_hr_UTP + 1) + \n",
       "    strata(LC.Isotype), data = eskd.df, tt = function(x, t, ...) x * \n",
       "    log(t))\n",
       "\n",
       "  n= 1707, number of events= 252 \n",
       "   (333 observations deleted due to missingness)\n",
       "\n",
       "                                      coef exp(coef)  se(coef)      z Pr(>|z|)\n",
       "Renal.Stage..Palladini.Stage II   1.476160  4.376110  0.253572  5.821 5.83e-09\n",
       "Renal.Stage..Palladini.Stage III  1.740911  5.702534  0.333919  5.214 1.85e-07\n",
       "Age                              -0.016385  0.983748  0.006282 -2.608   0.0091\n",
       "Sexmale                           0.042077  1.042975  0.132963  0.316   0.7517\n",
       "RaceBlack                         0.208720  1.232100  0.571482  0.365   0.7149\n",
       "RaceOther                         0.832744  2.299620  0.882264  0.944   0.3452\n",
       "RaceWhite                         0.619845  1.858640  0.507382  1.222   0.2218\n",
       "eGFR                             -0.033430  0.967122  0.003878 -8.621  < 2e-16\n",
       "tt(eGFR)                          0.014155  1.014256  0.002096  6.754 1.44e-11\n",
       "log2(X24_hr_UTP + 1)             -0.022572  0.977681  0.018936 -1.192   0.2332\n",
       "                                    \n",
       "Renal.Stage..Palladini.Stage II  ***\n",
       "Renal.Stage..Palladini.Stage III ***\n",
       "Age                              ** \n",
       "Sexmale                             \n",
       "RaceBlack                           \n",
       "RaceOther                           \n",
       "RaceWhite                           \n",
       "eGFR                             ***\n",
       "tt(eGFR)                         ***\n",
       "log2(X24_hr_UTP + 1)                \n",
       "---\n",
       "Signif. codes:  0 '***' 0.001 '**' 0.01 '*' 0.05 '.' 0.1 ' ' 1\n",
       "\n",
       "                                 exp(coef) exp(-coef) lower .95 upper .95\n",
       "Renal.Stage..Palladini.Stage II     4.3761     0.2285    2.6622    7.1933\n",
       "Renal.Stage..Palladini.Stage III    5.7025     0.1754    2.9637   10.9724\n",
       "Age                                 0.9837     1.0165    0.9717    0.9959\n",
       "Sexmale                             1.0430     0.9588    0.8037    1.3535\n",
       "RaceBlack                           1.2321     0.8116    0.4020    3.7765\n",
       "RaceOther                           2.2996     0.4349    0.4080   12.9611\n",
       "RaceWhite                           1.8586     0.5380    0.6876    5.0243\n",
       "eGFR                                0.9671     1.0340    0.9598    0.9745\n",
       "tt(eGFR)                            1.0143     0.9859    1.0101    1.0184\n",
       "log2(X24_hr_UTP + 1)                0.9777     1.0228    0.9421    1.0146\n",
       "\n",
       "Concordance= 0.831  (se = 0.014 )\n",
       "Likelihood ratio test= 340.3  on 10 df,   p=<2e-16\n",
       "Wald test            = 194.7  on 10 df,   p=<2e-16\n",
       "Score (logrank) test = 313.2  on 10 df,   p=<2e-16\n"
      ]
     },
     "metadata": {},
     "output_type": "display_data"
    }
   ],
   "source": [
    "# Model w/ Labs\n",
    "# Adjusted by eGFR for time\n",
    "eskd.labs.stage.t <- coxph(Surv(time_to_eskd, treatment_eskd) ~ Renal.Stage..Palladini. + Age + Sex + Race + eGFR + tt(eGFR) +\n",
    "    log2(X24_hr_UTP+1) + strata(LC.Isotype), \n",
    "    data=eskd.df, \n",
    "    tt=function(x,t,...) x * log(t))\n",
    "summary(eskd.labs.stage.t)"
   ]
  },
  {
   "cell_type": "code",
   "execution_count": 13,
   "metadata": {
    "vscode": {
     "languageId": "r"
    }
   },
   "outputs": [],
   "source": [
    "# Model w/ Labs\n",
    "# Adjusted by eGFR for time\n",
    "eskd.labs.stage.cluster.t <- coxph(Surv(time_to_eskd, treatment_eskd) ~ fna3_cluster_n + Renal.Stage..Palladini. + Age + Sex + Race + eGFR + tt(eGFR) +\n",
    "    log2(X24_hr_UTP+1) + strata(LC.Isotype), \n",
    "    data=eskd.df, \n",
    "    tt=function(x,t,...) x * log(t))\n",
    "\n",
    "# Model w/ Labs\n",
    "# Adjusted by eGFR for time\n",
    "# Add albumin\n",
    "eskd.labs.stage.cluster.v2.t <- coxph(Surv(time_to_eskd, treatment_eskd) ~ fna3_cluster_n + Renal.Stage..Palladini. + Age + Sex + Race + eGFR + tt(eGFR) +\n",
    "    log2(X24_hr_UTP+1) + Albumin + strata(LC.Isotype), \n",
    "    data=eskd.df, \n",
    "    tt=function(x,t,...) x * log(t))"
   ]
  },
  {
   "cell_type": "code",
   "execution_count": 258,
   "metadata": {
    "vscode": {
     "languageId": "r"
    }
   },
   "outputs": [
    {
     "data": {
      "text/html": [
       "<table class=\"dataframe\">\n",
       "<caption>A data.frame: 6 x 3</caption>\n",
       "<thead>\n",
       "\t<tr><th></th><th scope=col>Low</th><th scope=col>Intermediate</th><th scope=col>High</th></tr>\n",
       "\t<tr><th></th><th scope=col>&lt;chr&gt;</th><th scope=col>&lt;chr&gt;</th><th scope=col>&lt;chr&gt;</th></tr>\n",
       "</thead>\n",
       "<tbody>\n",
       "\t<tr><th scope=row>Events</th><td>125      </td><td>155              </td><td>16                 </td></tr>\n",
       "\t<tr><th scope=row>Surv(time_to_eskd, treatment_eskd) ~ fna3_cluster_n</th><td>Reference</td><td>1.74 (1.37-2.2)  </td><td>0.455 (0.27-0.766) </td></tr>\n",
       "\t<tr><th scope=row>Surv(time_to_eskd, treatment_eskd) ~ fna3_cluster_n + Age + Sex +      Race + strata(LC.Isotype)</th><td>Reference</td><td>1.82 (1.43-2.31) </td><td>0.459 (0.272-0.775)</td></tr>\n",
       "\t<tr><th scope=row>Surv(time_to_eskd, treatment_eskd) ~ fna3_cluster_n + Age + Sex +      Race + eGFR + tt(eGFR) + log2(X24_hr_UTP + 1) + strata(LC.Isotype)</th><td>Reference</td><td>1.87 (1.42-2.47) </td><td>0.527 (0.272-1.02) </td></tr>\n",
       "\t<tr><th scope=row>Surv(time_to_eskd, treatment_eskd) ~ fna3_cluster_n + Renal.Stage..Palladini. +      Age + Sex + Race + eGFR + tt(eGFR) + log2(X24_hr_UTP + 1) +      strata(LC.Isotype)</th><td>Reference</td><td>1.64 (1.22-2.21) </td><td>0.651 (0.335-1.26) </td></tr>\n",
       "\t<tr><th scope=row>Surv(time_to_eskd, treatment_eskd) ~ fna3_cluster_n + Renal.Stage..Palladini. +      Age + Sex + Race + eGFR + tt(eGFR) + log2(X24_hr_UTP + 1) +      Albumin + strata(LC.Isotype)</th><td>Reference</td><td>1.22 (0.842-1.78)</td><td>0.516 (0.236-1.13) </td></tr>\n",
       "</tbody>\n",
       "</table>\n"
      ],
      "text/latex": [
       "A data.frame: 6 x 3\n",
       "\\begin{tabular}{r|lll}\n",
       "  & Low & Intermediate & High\\\\\n",
       "  & <chr> & <chr> & <chr>\\\\\n",
       "\\hline\n",
       "\tEvents & 125       & 155               & 16                 \\\\\n",
       "\tSurv(time\\_to\\_eskd, treatment\\_eskd) \\textasciitilde{} fna3\\_cluster\\_n & Reference & 1.74 (1.37-2.2)   & 0.455 (0.27-0.766) \\\\\n",
       "\tSurv(time\\_to\\_eskd, treatment\\_eskd) \\textasciitilde{} fna3\\_cluster\\_n + Age + Sex +      Race + strata(LC.Isotype) & Reference & 1.82 (1.43-2.31)  & 0.459 (0.272-0.775)\\\\\n",
       "\tSurv(time\\_to\\_eskd, treatment\\_eskd) \\textasciitilde{} fna3\\_cluster\\_n + Age + Sex +      Race + eGFR + tt(eGFR) + log2(X24\\_hr\\_UTP + 1) + strata(LC.Isotype) & Reference & 1.87 (1.42-2.47)  & 0.527 (0.272-1.02) \\\\\n",
       "\tSurv(time\\_to\\_eskd, treatment\\_eskd) \\textasciitilde{} fna3\\_cluster\\_n + Renal.Stage..Palladini. +      Age + Sex + Race + eGFR + tt(eGFR) + log2(X24\\_hr\\_UTP + 1) +      strata(LC.Isotype) & Reference & 1.64 (1.22-2.21)  & 0.651 (0.335-1.26) \\\\\n",
       "\tSurv(time\\_to\\_eskd, treatment\\_eskd) \\textasciitilde{} fna3\\_cluster\\_n + Renal.Stage..Palladini. +      Age + Sex + Race + eGFR + tt(eGFR) + log2(X24\\_hr\\_UTP + 1) +      Albumin + strata(LC.Isotype) & Reference & 1.22 (0.842-1.78) & 0.516 (0.236-1.13) \\\\\n",
       "\\end{tabular}\n"
      ],
      "text/markdown": [
       "\n",
       "A data.frame: 6 x 3\n",
       "\n",
       "| <!--/--> | Low &lt;chr&gt; | Intermediate &lt;chr&gt; | High &lt;chr&gt; |\n",
       "|---|---|---|---|\n",
       "| Events | 125       | 155               | 16                  |\n",
       "| Surv(time_to_eskd, treatment_eskd) ~ fna3_cluster_n | Reference | 1.74 (1.37-2.2)   | 0.455 (0.27-0.766)  |\n",
       "| Surv(time_to_eskd, treatment_eskd) ~ fna3_cluster_n + Age + Sex +      Race + strata(LC.Isotype) | Reference | 1.82 (1.43-2.31)  | 0.459 (0.272-0.775) |\n",
       "| Surv(time_to_eskd, treatment_eskd) ~ fna3_cluster_n + Age + Sex +      Race + eGFR + tt(eGFR) + log2(X24_hr_UTP + 1) + strata(LC.Isotype) | Reference | 1.87 (1.42-2.47)  | 0.527 (0.272-1.02)  |\n",
       "| Surv(time_to_eskd, treatment_eskd) ~ fna3_cluster_n + Renal.Stage..Palladini. +      Age + Sex + Race + eGFR + tt(eGFR) + log2(X24_hr_UTP + 1) +      strata(LC.Isotype) | Reference | 1.64 (1.22-2.21)  | 0.651 (0.335-1.26)  |\n",
       "| Surv(time_to_eskd, treatment_eskd) ~ fna3_cluster_n + Renal.Stage..Palladini. +      Age + Sex + Race + eGFR + tt(eGFR) + log2(X24_hr_UTP + 1) +      Albumin + strata(LC.Isotype) | Reference | 1.22 (0.842-1.78) | 0.516 (0.236-1.13)  |\n",
       "\n"
      ],
      "text/plain": [
       "                                                                                                                                                                                   Low      \n",
       "Events                                                                                                                                                                             125      \n",
       "Surv(time_to_eskd, treatment_eskd) ~ fna3_cluster_n                                                                                                                                Reference\n",
       "Surv(time_to_eskd, treatment_eskd) ~ fna3_cluster_n + Age + Sex +      Race + strata(LC.Isotype)                                                                                   Reference\n",
       "Surv(time_to_eskd, treatment_eskd) ~ fna3_cluster_n + Age + Sex +      Race + eGFR + tt(eGFR) + log2(X24_hr_UTP + 1) + strata(LC.Isotype)                                          Reference\n",
       "Surv(time_to_eskd, treatment_eskd) ~ fna3_cluster_n + Renal.Stage..Palladini. +      Age + Sex + Race + eGFR + tt(eGFR) + log2(X24_hr_UTP + 1) +      strata(LC.Isotype)           Reference\n",
       "Surv(time_to_eskd, treatment_eskd) ~ fna3_cluster_n + Renal.Stage..Palladini. +      Age + Sex + Race + eGFR + tt(eGFR) + log2(X24_hr_UTP + 1) +      Albumin + strata(LC.Isotype) Reference\n",
       "                                                                                                                                                                                   Intermediate     \n",
       "Events                                                                                                                                                                             155              \n",
       "Surv(time_to_eskd, treatment_eskd) ~ fna3_cluster_n                                                                                                                                1.74 (1.37-2.2)  \n",
       "Surv(time_to_eskd, treatment_eskd) ~ fna3_cluster_n + Age + Sex +      Race + strata(LC.Isotype)                                                                                   1.82 (1.43-2.31) \n",
       "Surv(time_to_eskd, treatment_eskd) ~ fna3_cluster_n + Age + Sex +      Race + eGFR + tt(eGFR) + log2(X24_hr_UTP + 1) + strata(LC.Isotype)                                          1.87 (1.42-2.47) \n",
       "Surv(time_to_eskd, treatment_eskd) ~ fna3_cluster_n + Renal.Stage..Palladini. +      Age + Sex + Race + eGFR + tt(eGFR) + log2(X24_hr_UTP + 1) +      strata(LC.Isotype)           1.64 (1.22-2.21) \n",
       "Surv(time_to_eskd, treatment_eskd) ~ fna3_cluster_n + Renal.Stage..Palladini. +      Age + Sex + Race + eGFR + tt(eGFR) + log2(X24_hr_UTP + 1) +      Albumin + strata(LC.Isotype) 1.22 (0.842-1.78)\n",
       "                                                                                                                                                                                   High               \n",
       "Events                                                                                                                                                                             16                 \n",
       "Surv(time_to_eskd, treatment_eskd) ~ fna3_cluster_n                                                                                                                                0.455 (0.27-0.766) \n",
       "Surv(time_to_eskd, treatment_eskd) ~ fna3_cluster_n + Age + Sex +      Race + strata(LC.Isotype)                                                                                   0.459 (0.272-0.775)\n",
       "Surv(time_to_eskd, treatment_eskd) ~ fna3_cluster_n + Age + Sex +      Race + eGFR + tt(eGFR) + log2(X24_hr_UTP + 1) + strata(LC.Isotype)                                          0.527 (0.272-1.02) \n",
       "Surv(time_to_eskd, treatment_eskd) ~ fna3_cluster_n + Renal.Stage..Palladini. +      Age + Sex + Race + eGFR + tt(eGFR) + log2(X24_hr_UTP + 1) +      strata(LC.Isotype)           0.651 (0.335-1.26) \n",
       "Surv(time_to_eskd, treatment_eskd) ~ fna3_cluster_n + Renal.Stage..Palladini. +      Age + Sex + Race + eGFR + tt(eGFR) + log2(X24_hr_UTP + 1) +      Albumin + strata(LC.Isotype) 0.516 (0.236-1.13) "
      ]
     },
     "metadata": {},
     "output_type": "display_data"
    }
   ],
   "source": [
    "cox_models <- list(eskd.crude, eskd.baseline.cluster.t, eskd.labs.cluster.t, eskd.labs.stage.cluster.t, eskd.labs.stage.cluster.v2.t)\n",
    "cox_summary <- coxSummary(cox_models, var=\"fna3_cluster_n\")\n",
    "cox_summary$Low <- \"Reference\"\n",
    "\n",
    "# Add events\n",
    "result <- eskd.df %>% \n",
    "    filter(!is.na(eval(fna3_cluster_n))) %>% \n",
    "    group_by(fna3_cluster_n) %>% \n",
    "    summarize(Events = sum(treatment_eskd)) %>%\n",
    "    column_to_rownames(var = \"fna3_cluster_n\")\n",
    "\n",
    "cox_summmary <- rbind(t(result), cox_summary)\n",
    "cox_summmary"
   ]
  },
  {
   "cell_type": "code",
   "execution_count": 259,
   "metadata": {
    "vscode": {
     "languageId": "r"
    }
   },
   "outputs": [
    {
     "data": {
      "text/html": [
       "<table class=\"dataframe\">\n",
       "<caption>A data.frame: 12 x 9</caption>\n",
       "<thead>\n",
       "\t<tr><th></th><th scope=col>coef</th><th scope=col>exp.coef.</th><th scope=col>se.coef.</th><th scope=col>z</th><th scope=col>Pr...z..</th><th scope=col>coef_exp</th><th scope=col>ci_lower</th><th scope=col>ci_upper</th><th scope=col>HR</th></tr>\n",
       "\t<tr><th></th><th scope=col>&lt;dbl&gt;</th><th scope=col>&lt;dbl&gt;</th><th scope=col>&lt;dbl&gt;</th><th scope=col>&lt;dbl&gt;</th><th scope=col>&lt;dbl&gt;</th><th scope=col>&lt;dbl&gt;</th><th scope=col>&lt;dbl&gt;</th><th scope=col>&lt;dbl&gt;</th><th scope=col>&lt;chr&gt;</th></tr>\n",
       "</thead>\n",
       "<tbody>\n",
       "\t<tr><th scope=row>fna3_cluster_nIntermediate</th><td> 0.49675539</td><td>1.6433805</td><td>0.151157144</td><td> 3.2863507</td><td>1.014946e-03</td><td>1.640</td><td>1.220</td><td> 2.210</td><td>1.64 (1.22-2.21)   </td></tr>\n",
       "\t<tr><th scope=row>fna3_cluster_nHigh</th><td>-0.42964903</td><td>0.6507374</td><td>0.338248766</td><td>-1.2702161</td><td>2.040077e-01</td><td>0.651</td><td>0.335</td><td> 1.260</td><td>0.651 (0.335-1.26) </td></tr>\n",
       "\t<tr><th scope=row>Renal.Stage..Palladini.Stage II</th><td> 1.22818577</td><td>3.4150283</td><td>0.259889401</td><td> 4.7258017</td><td>2.292092e-06</td><td>3.420</td><td>2.050</td><td> 5.680</td><td>3.42 (2.05-5.68)   </td></tr>\n",
       "\t<tr><th scope=row>Renal.Stage..Palladini.Stage III</th><td> 1.29018954</td><td>3.6334752</td><td>0.352312547</td><td> 3.6620596</td><td>2.501957e-04</td><td>3.630</td><td>1.820</td><td> 7.250</td><td>3.63 (1.82-7.25)   </td></tr>\n",
       "\t<tr><th scope=row>Age</th><td>-0.01736880</td><td>0.9827812</td><td>0.006196178</td><td>-2.8031471</td><td>5.060659e-03</td><td>0.983</td><td>0.971</td><td> 0.995</td><td>0.983 (0.971-0.995)</td></tr>\n",
       "\t<tr><th scope=row>Sexmale</th><td> 0.08226504</td><td>1.0857435</td><td>0.134137717</td><td> 0.6132879</td><td>5.396860e-01</td><td>1.090</td><td>0.835</td><td> 1.410</td><td>1.09 (0.835-1.41)  </td></tr>\n",
       "\t<tr><th scope=row>RaceBlack</th><td> 0.24663848</td><td>1.2797164</td><td>0.572525350</td><td> 0.4307905</td><td>6.666207e-01</td><td>1.280</td><td>0.417</td><td> 3.930</td><td>1.28 (0.417-3.93)  </td></tr>\n",
       "\t<tr><th scope=row>RaceOther</th><td> 0.72677344</td><td>2.0683960</td><td>0.881376715</td><td> 0.8245889</td><td>4.096050e-01</td><td>2.070</td><td>0.368</td><td>11.600</td><td>2.07 (0.368-11.6)  </td></tr>\n",
       "\t<tr><th scope=row>RaceWhite</th><td> 0.63298948</td><td>1.8832321</td><td>0.507870020</td><td> 1.2463612</td><td>2.126318e-01</td><td>1.880</td><td>0.696</td><td> 5.100</td><td>1.88 (0.696-5.1)   </td></tr>\n",
       "\t<tr><th scope=row>eGFR</th><td>-0.03561231</td><td>0.9650144</td><td>0.003891512</td><td>-9.1512783</td><td>5.626380e-20</td><td>0.965</td><td>0.958</td><td> 0.972</td><td>0.965 (0.958-0.972)</td></tr>\n",
       "\t<tr><th scope=row>tt(eGFR)</th><td> 0.01360533</td><td>1.0136983</td><td>0.002079387</td><td> 6.5429517</td><td>6.031630e-11</td><td>1.010</td><td>1.010</td><td> 1.020</td><td>1.01 (1.01-1.02)   </td></tr>\n",
       "\t<tr><th scope=row>log2(X24_hr_UTP + 1)</th><td>-0.03203720</td><td>0.9684706</td><td>0.018596745</td><td>-1.7227315</td><td>8.493709e-02</td><td>0.968</td><td>0.934</td><td> 1.000</td><td>0.968 (0.934-1)    </td></tr>\n",
       "</tbody>\n",
       "</table>\n"
      ],
      "text/latex": [
       "A data.frame: 12 x 9\n",
       "\\begin{tabular}{r|lllllllll}\n",
       "  & coef & exp.coef. & se.coef. & z & Pr...z.. & coef\\_exp & ci\\_lower & ci\\_upper & HR\\\\\n",
       "  & <dbl> & <dbl> & <dbl> & <dbl> & <dbl> & <dbl> & <dbl> & <dbl> & <chr>\\\\\n",
       "\\hline\n",
       "\tfna3\\_cluster\\_nIntermediate &  0.49675539 & 1.6433805 & 0.151157144 &  3.2863507 & 1.014946e-03 & 1.640 & 1.220 &  2.210 & 1.64 (1.22-2.21)   \\\\\n",
       "\tfna3\\_cluster\\_nHigh & -0.42964903 & 0.6507374 & 0.338248766 & -1.2702161 & 2.040077e-01 & 0.651 & 0.335 &  1.260 & 0.651 (0.335-1.26) \\\\\n",
       "\tRenal.Stage..Palladini.Stage II &  1.22818577 & 3.4150283 & 0.259889401 &  4.7258017 & 2.292092e-06 & 3.420 & 2.050 &  5.680 & 3.42 (2.05-5.68)   \\\\\n",
       "\tRenal.Stage..Palladini.Stage III &  1.29018954 & 3.6334752 & 0.352312547 &  3.6620596 & 2.501957e-04 & 3.630 & 1.820 &  7.250 & 3.63 (1.82-7.25)   \\\\\n",
       "\tAge & -0.01736880 & 0.9827812 & 0.006196178 & -2.8031471 & 5.060659e-03 & 0.983 & 0.971 &  0.995 & 0.983 (0.971-0.995)\\\\\n",
       "\tSexmale &  0.08226504 & 1.0857435 & 0.134137717 &  0.6132879 & 5.396860e-01 & 1.090 & 0.835 &  1.410 & 1.09 (0.835-1.41)  \\\\\n",
       "\tRaceBlack &  0.24663848 & 1.2797164 & 0.572525350 &  0.4307905 & 6.666207e-01 & 1.280 & 0.417 &  3.930 & 1.28 (0.417-3.93)  \\\\\n",
       "\tRaceOther &  0.72677344 & 2.0683960 & 0.881376715 &  0.8245889 & 4.096050e-01 & 2.070 & 0.368 & 11.600 & 2.07 (0.368-11.6)  \\\\\n",
       "\tRaceWhite &  0.63298948 & 1.8832321 & 0.507870020 &  1.2463612 & 2.126318e-01 & 1.880 & 0.696 &  5.100 & 1.88 (0.696-5.1)   \\\\\n",
       "\teGFR & -0.03561231 & 0.9650144 & 0.003891512 & -9.1512783 & 5.626380e-20 & 0.965 & 0.958 &  0.972 & 0.965 (0.958-0.972)\\\\\n",
       "\ttt(eGFR) &  0.01360533 & 1.0136983 & 0.002079387 &  6.5429517 & 6.031630e-11 & 1.010 & 1.010 &  1.020 & 1.01 (1.01-1.02)   \\\\\n",
       "\tlog2(X24\\_hr\\_UTP + 1) & -0.03203720 & 0.9684706 & 0.018596745 & -1.7227315 & 8.493709e-02 & 0.968 & 0.934 &  1.000 & 0.968 (0.934-1)    \\\\\n",
       "\\end{tabular}\n"
      ],
      "text/markdown": [
       "\n",
       "A data.frame: 12 x 9\n",
       "\n",
       "| <!--/--> | coef &lt;dbl&gt; | exp.coef. &lt;dbl&gt; | se.coef. &lt;dbl&gt; | z &lt;dbl&gt; | Pr...z.. &lt;dbl&gt; | coef_exp &lt;dbl&gt; | ci_lower &lt;dbl&gt; | ci_upper &lt;dbl&gt; | HR &lt;chr&gt; |\n",
       "|---|---|---|---|---|---|---|---|---|---|\n",
       "| fna3_cluster_nIntermediate |  0.49675539 | 1.6433805 | 0.151157144 |  3.2863507 | 1.014946e-03 | 1.640 | 1.220 |  2.210 | 1.64 (1.22-2.21)    |\n",
       "| fna3_cluster_nHigh | -0.42964903 | 0.6507374 | 0.338248766 | -1.2702161 | 2.040077e-01 | 0.651 | 0.335 |  1.260 | 0.651 (0.335-1.26)  |\n",
       "| Renal.Stage..Palladini.Stage II |  1.22818577 | 3.4150283 | 0.259889401 |  4.7258017 | 2.292092e-06 | 3.420 | 2.050 |  5.680 | 3.42 (2.05-5.68)    |\n",
       "| Renal.Stage..Palladini.Stage III |  1.29018954 | 3.6334752 | 0.352312547 |  3.6620596 | 2.501957e-04 | 3.630 | 1.820 |  7.250 | 3.63 (1.82-7.25)    |\n",
       "| Age | -0.01736880 | 0.9827812 | 0.006196178 | -2.8031471 | 5.060659e-03 | 0.983 | 0.971 |  0.995 | 0.983 (0.971-0.995) |\n",
       "| Sexmale |  0.08226504 | 1.0857435 | 0.134137717 |  0.6132879 | 5.396860e-01 | 1.090 | 0.835 |  1.410 | 1.09 (0.835-1.41)   |\n",
       "| RaceBlack |  0.24663848 | 1.2797164 | 0.572525350 |  0.4307905 | 6.666207e-01 | 1.280 | 0.417 |  3.930 | 1.28 (0.417-3.93)   |\n",
       "| RaceOther |  0.72677344 | 2.0683960 | 0.881376715 |  0.8245889 | 4.096050e-01 | 2.070 | 0.368 | 11.600 | 2.07 (0.368-11.6)   |\n",
       "| RaceWhite |  0.63298948 | 1.8832321 | 0.507870020 |  1.2463612 | 2.126318e-01 | 1.880 | 0.696 |  5.100 | 1.88 (0.696-5.1)    |\n",
       "| eGFR | -0.03561231 | 0.9650144 | 0.003891512 | -9.1512783 | 5.626380e-20 | 0.965 | 0.958 |  0.972 | 0.965 (0.958-0.972) |\n",
       "| tt(eGFR) |  0.01360533 | 1.0136983 | 0.002079387 |  6.5429517 | 6.031630e-11 | 1.010 | 1.010 |  1.020 | 1.01 (1.01-1.02)    |\n",
       "| log2(X24_hr_UTP + 1) | -0.03203720 | 0.9684706 | 0.018596745 | -1.7227315 | 8.493709e-02 | 0.968 | 0.934 |  1.000 | 0.968 (0.934-1)     |\n",
       "\n"
      ],
      "text/plain": [
       "                                 coef        exp.coef. se.coef.    z         \n",
       "fna3_cluster_nIntermediate        0.49675539 1.6433805 0.151157144  3.2863507\n",
       "fna3_cluster_nHigh               -0.42964903 0.6507374 0.338248766 -1.2702161\n",
       "Renal.Stage..Palladini.Stage II   1.22818577 3.4150283 0.259889401  4.7258017\n",
       "Renal.Stage..Palladini.Stage III  1.29018954 3.6334752 0.352312547  3.6620596\n",
       "Age                              -0.01736880 0.9827812 0.006196178 -2.8031471\n",
       "Sexmale                           0.08226504 1.0857435 0.134137717  0.6132879\n",
       "RaceBlack                         0.24663848 1.2797164 0.572525350  0.4307905\n",
       "RaceOther                         0.72677344 2.0683960 0.881376715  0.8245889\n",
       "RaceWhite                         0.63298948 1.8832321 0.507870020  1.2463612\n",
       "eGFR                             -0.03561231 0.9650144 0.003891512 -9.1512783\n",
       "tt(eGFR)                          0.01360533 1.0136983 0.002079387  6.5429517\n",
       "log2(X24_hr_UTP + 1)             -0.03203720 0.9684706 0.018596745 -1.7227315\n",
       "                                 Pr...z..     coef_exp ci_lower ci_upper\n",
       "fna3_cluster_nIntermediate       1.014946e-03 1.640    1.220     2.210  \n",
       "fna3_cluster_nHigh               2.040077e-01 0.651    0.335     1.260  \n",
       "Renal.Stage..Palladini.Stage II  2.292092e-06 3.420    2.050     5.680  \n",
       "Renal.Stage..Palladini.Stage III 2.501957e-04 3.630    1.820     7.250  \n",
       "Age                              5.060659e-03 0.983    0.971     0.995  \n",
       "Sexmale                          5.396860e-01 1.090    0.835     1.410  \n",
       "RaceBlack                        6.666207e-01 1.280    0.417     3.930  \n",
       "RaceOther                        4.096050e-01 2.070    0.368    11.600  \n",
       "RaceWhite                        2.126318e-01 1.880    0.696     5.100  \n",
       "eGFR                             5.626380e-20 0.965    0.958     0.972  \n",
       "tt(eGFR)                         6.031630e-11 1.010    1.010     1.020  \n",
       "log2(X24_hr_UTP + 1)             8.493709e-02 0.968    0.934     1.000  \n",
       "                                 HR                 \n",
       "fna3_cluster_nIntermediate       1.64 (1.22-2.21)   \n",
       "fna3_cluster_nHigh               0.651 (0.335-1.26) \n",
       "Renal.Stage..Palladini.Stage II  3.42 (2.05-5.68)   \n",
       "Renal.Stage..Palladini.Stage III 3.63 (1.82-7.25)   \n",
       "Age                              0.983 (0.971-0.995)\n",
       "Sexmale                          1.09 (0.835-1.41)  \n",
       "RaceBlack                        1.28 (0.417-3.93)  \n",
       "RaceOther                        2.07 (0.368-11.6)  \n",
       "RaceWhite                        1.88 (0.696-5.1)   \n",
       "eGFR                             0.965 (0.958-0.972)\n",
       "tt(eGFR)                         1.01 (1.01-1.02)   \n",
       "log2(X24_hr_UTP + 1)             0.968 (0.934-1)    "
      ]
     },
     "metadata": {},
     "output_type": "display_data"
    }
   ],
   "source": [
    "getCoef(eskd.labs.stage.cluster.t)"
   ]
  },
  {
   "cell_type": "code",
   "execution_count": 260,
   "metadata": {
    "vscode": {
     "languageId": "r"
    }
   },
   "outputs": [
    {
     "data": {
      "text/html": [
       "<table class=\"dataframe\">\n",
       "<caption>A data.frame: 13 x 9</caption>\n",
       "<thead>\n",
       "\t<tr><th></th><th scope=col>coef</th><th scope=col>exp.coef.</th><th scope=col>se.coef.</th><th scope=col>z</th><th scope=col>Pr...z..</th><th scope=col>coef_exp</th><th scope=col>ci_lower</th><th scope=col>ci_upper</th><th scope=col>HR</th></tr>\n",
       "\t<tr><th></th><th scope=col>&lt;dbl&gt;</th><th scope=col>&lt;dbl&gt;</th><th scope=col>&lt;dbl&gt;</th><th scope=col>&lt;dbl&gt;</th><th scope=col>&lt;dbl&gt;</th><th scope=col>&lt;dbl&gt;</th><th scope=col>&lt;dbl&gt;</th><th scope=col>&lt;dbl&gt;</th><th scope=col>&lt;chr&gt;</th></tr>\n",
       "</thead>\n",
       "<tbody>\n",
       "\t<tr><th scope=row>fna3_cluster_nIntermediate</th><td> 0.20106609</td><td>1.2227056</td><td>0.190443840</td><td> 1.0557763</td><td>2.910704e-01</td><td>1.220</td><td>0.842</td><td>1.780</td><td>1.22 (0.842-1.78)  </td></tr>\n",
       "\t<tr><th scope=row>fna3_cluster_nHigh</th><td>-0.66133546</td><td>0.5161616</td><td>0.398847542</td><td>-1.6581159</td><td>9.729407e-02</td><td>0.516</td><td>0.236</td><td>1.130</td><td>0.516 (0.236-1.13) </td></tr>\n",
       "\t<tr><th scope=row>Renal.Stage..Palladini.Stage II</th><td> 1.04482453</td><td>2.8428996</td><td>0.272112737</td><td> 3.8396752</td><td>1.231972e-04</td><td>2.840</td><td>1.670</td><td>4.850</td><td>2.84 (1.67-4.85)   </td></tr>\n",
       "\t<tr><th scope=row>Renal.Stage..Palladini.Stage III</th><td> 1.03792546</td><td>2.8233538</td><td>0.373648812</td><td> 2.7778101</td><td>5.472659e-03</td><td>2.820</td><td>1.360</td><td>5.870</td><td>2.82 (1.36-5.87)   </td></tr>\n",
       "\t<tr><th scope=row>Age</th><td>-0.01783364</td><td>0.9823244</td><td>0.006522501</td><td>-2.7341712</td><td>6.253751e-03</td><td>0.982</td><td>0.970</td><td>0.995</td><td>0.982 (0.97-0.995) </td></tr>\n",
       "\t<tr><th scope=row>Sexmale</th><td> 0.06851996</td><td>1.0709220</td><td>0.141705152</td><td> 0.4835389</td><td>6.287131e-01</td><td>1.070</td><td>0.811</td><td>1.410</td><td>1.07 (0.811-1.41)  </td></tr>\n",
       "\t<tr><th scope=row>RaceBlack</th><td> 0.37816079</td><td>1.4595976</td><td>0.578701597</td><td> 0.6534642</td><td>5.134570e-01</td><td>1.460</td><td>0.469</td><td>4.540</td><td>1.46 (0.469-4.54)  </td></tr>\n",
       "\t<tr><th scope=row>RaceOther</th><td> 0.49869690</td><td>1.6465742</td><td>0.892513348</td><td> 0.5587557</td><td>5.763285e-01</td><td>1.650</td><td>0.286</td><td>9.470</td><td>1.65 (0.286-9.47)  </td></tr>\n",
       "\t<tr><th scope=row>RaceWhite</th><td> 0.63866720</td><td>1.8939549</td><td>0.509255546</td><td> 1.2541193</td><td>2.097987e-01</td><td>1.890</td><td>0.698</td><td>5.140</td><td>1.89 (0.698-5.14)  </td></tr>\n",
       "\t<tr><th scope=row>eGFR</th><td>-0.03750960</td><td>0.9631852</td><td>0.004160703</td><td>-9.0152063</td><td>1.965003e-19</td><td>0.963</td><td>0.955</td><td>0.971</td><td>0.963 (0.955-0.971)</td></tr>\n",
       "\t<tr><th scope=row>tt(eGFR)</th><td> 0.01383906</td><td>1.0139353</td><td>0.002222874</td><td> 6.2257493</td><td>4.792600e-10</td><td>1.010</td><td>1.010</td><td>1.020</td><td>1.01 (1.01-1.02)   </td></tr>\n",
       "\t<tr><th scope=row>log2(X24_hr_UTP + 1)</th><td>-0.04147447</td><td>0.9593738</td><td>0.018835029</td><td>-2.2019860</td><td>2.766630e-02</td><td>0.959</td><td>0.925</td><td>0.995</td><td>0.959 (0.925-0.995)</td></tr>\n",
       "\t<tr><th scope=row>Albumin</th><td>-0.30824668</td><td>0.7347340</td><td>0.111869539</td><td>-2.7554121</td><td>5.861825e-03</td><td>0.735</td><td>0.590</td><td>0.915</td><td>0.735 (0.59-0.915) </td></tr>\n",
       "</tbody>\n",
       "</table>\n"
      ],
      "text/latex": [
       "A data.frame: 13 x 9\n",
       "\\begin{tabular}{r|lllllllll}\n",
       "  & coef & exp.coef. & se.coef. & z & Pr...z.. & coef\\_exp & ci\\_lower & ci\\_upper & HR\\\\\n",
       "  & <dbl> & <dbl> & <dbl> & <dbl> & <dbl> & <dbl> & <dbl> & <dbl> & <chr>\\\\\n",
       "\\hline\n",
       "\tfna3\\_cluster\\_nIntermediate &  0.20106609 & 1.2227056 & 0.190443840 &  1.0557763 & 2.910704e-01 & 1.220 & 0.842 & 1.780 & 1.22 (0.842-1.78)  \\\\\n",
       "\tfna3\\_cluster\\_nHigh & -0.66133546 & 0.5161616 & 0.398847542 & -1.6581159 & 9.729407e-02 & 0.516 & 0.236 & 1.130 & 0.516 (0.236-1.13) \\\\\n",
       "\tRenal.Stage..Palladini.Stage II &  1.04482453 & 2.8428996 & 0.272112737 &  3.8396752 & 1.231972e-04 & 2.840 & 1.670 & 4.850 & 2.84 (1.67-4.85)   \\\\\n",
       "\tRenal.Stage..Palladini.Stage III &  1.03792546 & 2.8233538 & 0.373648812 &  2.7778101 & 5.472659e-03 & 2.820 & 1.360 & 5.870 & 2.82 (1.36-5.87)   \\\\\n",
       "\tAge & -0.01783364 & 0.9823244 & 0.006522501 & -2.7341712 & 6.253751e-03 & 0.982 & 0.970 & 0.995 & 0.982 (0.97-0.995) \\\\\n",
       "\tSexmale &  0.06851996 & 1.0709220 & 0.141705152 &  0.4835389 & 6.287131e-01 & 1.070 & 0.811 & 1.410 & 1.07 (0.811-1.41)  \\\\\n",
       "\tRaceBlack &  0.37816079 & 1.4595976 & 0.578701597 &  0.6534642 & 5.134570e-01 & 1.460 & 0.469 & 4.540 & 1.46 (0.469-4.54)  \\\\\n",
       "\tRaceOther &  0.49869690 & 1.6465742 & 0.892513348 &  0.5587557 & 5.763285e-01 & 1.650 & 0.286 & 9.470 & 1.65 (0.286-9.47)  \\\\\n",
       "\tRaceWhite &  0.63866720 & 1.8939549 & 0.509255546 &  1.2541193 & 2.097987e-01 & 1.890 & 0.698 & 5.140 & 1.89 (0.698-5.14)  \\\\\n",
       "\teGFR & -0.03750960 & 0.9631852 & 0.004160703 & -9.0152063 & 1.965003e-19 & 0.963 & 0.955 & 0.971 & 0.963 (0.955-0.971)\\\\\n",
       "\ttt(eGFR) &  0.01383906 & 1.0139353 & 0.002222874 &  6.2257493 & 4.792600e-10 & 1.010 & 1.010 & 1.020 & 1.01 (1.01-1.02)   \\\\\n",
       "\tlog2(X24\\_hr\\_UTP + 1) & -0.04147447 & 0.9593738 & 0.018835029 & -2.2019860 & 2.766630e-02 & 0.959 & 0.925 & 0.995 & 0.959 (0.925-0.995)\\\\\n",
       "\tAlbumin & -0.30824668 & 0.7347340 & 0.111869539 & -2.7554121 & 5.861825e-03 & 0.735 & 0.590 & 0.915 & 0.735 (0.59-0.915) \\\\\n",
       "\\end{tabular}\n"
      ],
      "text/markdown": [
       "\n",
       "A data.frame: 13 x 9\n",
       "\n",
       "| <!--/--> | coef &lt;dbl&gt; | exp.coef. &lt;dbl&gt; | se.coef. &lt;dbl&gt; | z &lt;dbl&gt; | Pr...z.. &lt;dbl&gt; | coef_exp &lt;dbl&gt; | ci_lower &lt;dbl&gt; | ci_upper &lt;dbl&gt; | HR &lt;chr&gt; |\n",
       "|---|---|---|---|---|---|---|---|---|---|\n",
       "| fna3_cluster_nIntermediate |  0.20106609 | 1.2227056 | 0.190443840 |  1.0557763 | 2.910704e-01 | 1.220 | 0.842 | 1.780 | 1.22 (0.842-1.78)   |\n",
       "| fna3_cluster_nHigh | -0.66133546 | 0.5161616 | 0.398847542 | -1.6581159 | 9.729407e-02 | 0.516 | 0.236 | 1.130 | 0.516 (0.236-1.13)  |\n",
       "| Renal.Stage..Palladini.Stage II |  1.04482453 | 2.8428996 | 0.272112737 |  3.8396752 | 1.231972e-04 | 2.840 | 1.670 | 4.850 | 2.84 (1.67-4.85)    |\n",
       "| Renal.Stage..Palladini.Stage III |  1.03792546 | 2.8233538 | 0.373648812 |  2.7778101 | 5.472659e-03 | 2.820 | 1.360 | 5.870 | 2.82 (1.36-5.87)    |\n",
       "| Age | -0.01783364 | 0.9823244 | 0.006522501 | -2.7341712 | 6.253751e-03 | 0.982 | 0.970 | 0.995 | 0.982 (0.97-0.995)  |\n",
       "| Sexmale |  0.06851996 | 1.0709220 | 0.141705152 |  0.4835389 | 6.287131e-01 | 1.070 | 0.811 | 1.410 | 1.07 (0.811-1.41)   |\n",
       "| RaceBlack |  0.37816079 | 1.4595976 | 0.578701597 |  0.6534642 | 5.134570e-01 | 1.460 | 0.469 | 4.540 | 1.46 (0.469-4.54)   |\n",
       "| RaceOther |  0.49869690 | 1.6465742 | 0.892513348 |  0.5587557 | 5.763285e-01 | 1.650 | 0.286 | 9.470 | 1.65 (0.286-9.47)   |\n",
       "| RaceWhite |  0.63866720 | 1.8939549 | 0.509255546 |  1.2541193 | 2.097987e-01 | 1.890 | 0.698 | 5.140 | 1.89 (0.698-5.14)   |\n",
       "| eGFR | -0.03750960 | 0.9631852 | 0.004160703 | -9.0152063 | 1.965003e-19 | 0.963 | 0.955 | 0.971 | 0.963 (0.955-0.971) |\n",
       "| tt(eGFR) |  0.01383906 | 1.0139353 | 0.002222874 |  6.2257493 | 4.792600e-10 | 1.010 | 1.010 | 1.020 | 1.01 (1.01-1.02)    |\n",
       "| log2(X24_hr_UTP + 1) | -0.04147447 | 0.9593738 | 0.018835029 | -2.2019860 | 2.766630e-02 | 0.959 | 0.925 | 0.995 | 0.959 (0.925-0.995) |\n",
       "| Albumin | -0.30824668 | 0.7347340 | 0.111869539 | -2.7554121 | 5.861825e-03 | 0.735 | 0.590 | 0.915 | 0.735 (0.59-0.915)  |\n",
       "\n"
      ],
      "text/plain": [
       "                                 coef        exp.coef. se.coef.    z         \n",
       "fna3_cluster_nIntermediate        0.20106609 1.2227056 0.190443840  1.0557763\n",
       "fna3_cluster_nHigh               -0.66133546 0.5161616 0.398847542 -1.6581159\n",
       "Renal.Stage..Palladini.Stage II   1.04482453 2.8428996 0.272112737  3.8396752\n",
       "Renal.Stage..Palladini.Stage III  1.03792546 2.8233538 0.373648812  2.7778101\n",
       "Age                              -0.01783364 0.9823244 0.006522501 -2.7341712\n",
       "Sexmale                           0.06851996 1.0709220 0.141705152  0.4835389\n",
       "RaceBlack                         0.37816079 1.4595976 0.578701597  0.6534642\n",
       "RaceOther                         0.49869690 1.6465742 0.892513348  0.5587557\n",
       "RaceWhite                         0.63866720 1.8939549 0.509255546  1.2541193\n",
       "eGFR                             -0.03750960 0.9631852 0.004160703 -9.0152063\n",
       "tt(eGFR)                          0.01383906 1.0139353 0.002222874  6.2257493\n",
       "log2(X24_hr_UTP + 1)             -0.04147447 0.9593738 0.018835029 -2.2019860\n",
       "Albumin                          -0.30824668 0.7347340 0.111869539 -2.7554121\n",
       "                                 Pr...z..     coef_exp ci_lower ci_upper\n",
       "fna3_cluster_nIntermediate       2.910704e-01 1.220    0.842    1.780   \n",
       "fna3_cluster_nHigh               9.729407e-02 0.516    0.236    1.130   \n",
       "Renal.Stage..Palladini.Stage II  1.231972e-04 2.840    1.670    4.850   \n",
       "Renal.Stage..Palladini.Stage III 5.472659e-03 2.820    1.360    5.870   \n",
       "Age                              6.253751e-03 0.982    0.970    0.995   \n",
       "Sexmale                          6.287131e-01 1.070    0.811    1.410   \n",
       "RaceBlack                        5.134570e-01 1.460    0.469    4.540   \n",
       "RaceOther                        5.763285e-01 1.650    0.286    9.470   \n",
       "RaceWhite                        2.097987e-01 1.890    0.698    5.140   \n",
       "eGFR                             1.965003e-19 0.963    0.955    0.971   \n",
       "tt(eGFR)                         4.792600e-10 1.010    1.010    1.020   \n",
       "log2(X24_hr_UTP + 1)             2.766630e-02 0.959    0.925    0.995   \n",
       "Albumin                          5.861825e-03 0.735    0.590    0.915   \n",
       "                                 HR                 \n",
       "fna3_cluster_nIntermediate       1.22 (0.842-1.78)  \n",
       "fna3_cluster_nHigh               0.516 (0.236-1.13) \n",
       "Renal.Stage..Palladini.Stage II  2.84 (1.67-4.85)   \n",
       "Renal.Stage..Palladini.Stage III 2.82 (1.36-5.87)   \n",
       "Age                              0.982 (0.97-0.995) \n",
       "Sexmale                          1.07 (0.811-1.41)  \n",
       "RaceBlack                        1.46 (0.469-4.54)  \n",
       "RaceOther                        1.65 (0.286-9.47)  \n",
       "RaceWhite                        1.89 (0.698-5.14)  \n",
       "eGFR                             0.963 (0.955-0.971)\n",
       "tt(eGFR)                         1.01 (1.01-1.02)   \n",
       "log2(X24_hr_UTP + 1)             0.959 (0.925-0.995)\n",
       "Albumin                          0.735 (0.59-0.915) "
      ]
     },
     "metadata": {},
     "output_type": "display_data"
    }
   ],
   "source": [
    "getCoef(eskd.labs.stage.cluster.v2.t)"
   ]
  },
  {
   "cell_type": "markdown",
   "metadata": {},
   "source": [
    "## 3. Adjusted Cumulative Incidence of ESKD\n",
    "---"
   ]
  },
  {
   "cell_type": "code",
   "execution_count": 16,
   "metadata": {
    "vscode": {
     "languageId": "r"
    }
   },
   "outputs": [
    {
     "data": {
      "text/plain": [
       "Call:\n",
       "coxph(formula = Surv(time_to_eskd, treatment_eskd) ~ fna3_cluster_n + \n",
       "    Age + Sex + Race + strata(LC.Isotype), data = eskd.df, x = TRUE)\n",
       "\n",
       "  n= 2033, number of events= 296 \n",
       "   (7 observations deleted due to missingness)\n",
       "\n",
       "                                coef exp(coef)  se(coef)      z Pr(>|z|)    \n",
       "fna3_cluster_nIntermediate  0.598233  1.818902  0.122574  4.881 1.06e-06 ***\n",
       "fna3_cluster_nHigh         -0.779149  0.458796  0.267197 -2.916  0.00355 ** \n",
       "Age                        -0.010870  0.989189  0.005588 -1.945  0.05176 .  \n",
       "Sexmale                     0.237757  1.268400  0.122148  1.946  0.05160 .  \n",
       "RaceBlack                   0.328374  1.388708  0.503672  0.652  0.51443    \n",
       "RaceOther                   1.051655  2.862386  0.731959  1.437  0.15078    \n",
       "RaceWhite                   0.463690  1.589930  0.453052  1.023  0.30608    \n",
       "---\n",
       "Signif. codes:  0 '***' 0.001 '**' 0.01 '*' 0.05 '.' 0.1 ' ' 1\n",
       "\n",
       "                           exp(coef) exp(-coef) lower .95 upper .95\n",
       "fna3_cluster_nIntermediate    1.8189     0.5498    1.4305    2.3128\n",
       "fna3_cluster_nHigh            0.4588     2.1796    0.2718    0.7746\n",
       "Age                           0.9892     1.0109    0.9784    1.0001\n",
       "Sexmale                       1.2684     0.7884    0.9984    1.6115\n",
       "RaceBlack                     1.3887     0.7201    0.5175    3.7268\n",
       "RaceOther                     2.8624     0.3494    0.6818   12.0163\n",
       "RaceWhite                     1.5899     0.6290    0.6542    3.8638\n",
       "\n",
       "Concordance= 0.636  (se = 0.018 )\n",
       "Likelihood ratio test= 58.08  on 7 df,   p=4e-10\n",
       "Wald test            = 53.68  on 7 df,   p=3e-09\n",
       "Score (logrank) test = 57.35  on 7 df,   p=5e-10\n"
      ]
     },
     "metadata": {},
     "output_type": "display_data"
    }
   ],
   "source": [
    "summary(eskd.baseline.cluster.t)"
   ]
  },
  {
   "cell_type": "code",
   "execution_count": 17,
   "metadata": {
    "vscode": {
     "languageId": "r"
    }
   },
   "outputs": [
    {
     "name": "stderr",
     "output_type": "stream",
     "text": [
      "Loading required namespace: riskRegression\n",
      "\n",
      "Warning message in .recacheSubclasses(def@className, def, env):\n",
      "\"undefined subclass \"ndiMatrix\" of class \"replValueSp\"; definition not updated\"\n",
      "Loading required namespace: doParallel\n",
      "\n"
     ]
    }
   ],
   "source": [
    "# Adjusted survival curve without bootstrap\n",
    "eskd.adjsurv <- adjustedsurv(data=eskd.df,\n",
    "                        variable=\"fna3_cluster_n\",\n",
    "                        ev_time=\"time_to_eskd\",\n",
    "                        event=\"treatment_eskd\",\n",
    "                        method=\"direct\",\n",
    "                        outcome_model=eskd.baseline.cluster.t,\n",
    "                        conf_int=T,\n",
    "                        n_cores=8,\n",
    "                        n_boot=1000,\n",
    "                        bootstrap=TRUE\n",
    "                       )"
   ]
  },
  {
   "cell_type": "code",
   "execution_count": 18,
   "metadata": {
    "vscode": {
     "languageId": "r"
    }
   },
   "outputs": [],
   "source": [
    "saveRDS(eskd.adjsurv, \"data/analysis/eskd_adjsurv.rds\")"
   ]
  },
  {
   "cell_type": "code",
   "execution_count": 21,
   "metadata": {
    "vscode": {
     "languageId": "r"
    }
   },
   "outputs": [
    {
     "name": "stderr",
     "output_type": "stream",
     "text": [
      "Warning message:\n",
      "\"\u001b[1m\u001b[22mRemoved 48 rows containing missing values (`geom_step()`).\"\n"
     ]
    },
    {
     "data": {
      "text/html": [
       "<strong>pdf:</strong> 2"
      ],
      "text/latex": [
       "\\textbf{pdf:} 2"
      ],
      "text/markdown": [
       "**pdf:** 2"
      ],
      "text/plain": [
       "pdf \n",
       "  2 "
      ]
     },
     "metadata": {},
     "output_type": "display_data"
    }
   ],
   "source": [
    "pdf(\"figures/adjusted_eskd_clust.pdf\")\n",
    "plot(eskd.adjsurv, conf_int=TRUE, custom_colors=c(\"#62b67d\",\"#69a9c8\",\"#ca4a29\"), cif=T) + xlim(0,12.5) + ylim(0,0.6)\n",
    "dev.off()"
   ]
  },
  {
   "cell_type": "code",
   "execution_count": 22,
   "metadata": {
    "vscode": {
     "languageId": "r"
    }
   },
   "outputs": [
    {
     "data": {
      "text/html": [
       "<table class=\"dataframe\">\n",
       "<caption>A data.frame: 3 x 3</caption>\n",
       "<thead>\n",
       "\t<tr><th></th><th scope=col>1</th><th scope=col>5</th><th scope=col>10</th></tr>\n",
       "\t<tr><th></th><th scope=col>&lt;chr&gt;</th><th scope=col>&lt;chr&gt;</th><th scope=col>&lt;chr&gt;</th></tr>\n",
       "</thead>\n",
       "<tbody>\n",
       "\t<tr><th scope=row>Low</th><td>5.01 (6.12-3.88)</td><td>13.8 (16.4-11.5)</td><td>23.6 (27.7-19.8)</td></tr>\n",
       "\t<tr><th scope=row>Intermediate</th><td>8.9 (11-7.02)   </td><td>23.7 (27.6-19.7)</td><td>38.6 (44.4-33.2)</td></tr>\n",
       "\t<tr><th scope=row>High</th><td>2.35 (3.58-1.33)</td><td>6.66 (9.95-3.87)</td><td>11.7 (17-6.57)  </td></tr>\n",
       "</tbody>\n",
       "</table>\n"
      ],
      "text/latex": [
       "A data.frame: 3 x 3\n",
       "\\begin{tabular}{r|lll}\n",
       "  & 1 & 5 & 10\\\\\n",
       "  & <chr> & <chr> & <chr>\\\\\n",
       "\\hline\n",
       "\tLow & 5.01 (6.12-3.88) & 13.8 (16.4-11.5) & 23.6 (27.7-19.8)\\\\\n",
       "\tIntermediate & 8.9 (11-7.02)    & 23.7 (27.6-19.7) & 38.6 (44.4-33.2)\\\\\n",
       "\tHigh & 2.35 (3.58-1.33) & 6.66 (9.95-3.87) & 11.7 (17-6.57)  \\\\\n",
       "\\end{tabular}\n"
      ],
      "text/markdown": [
       "\n",
       "A data.frame: 3 x 3\n",
       "\n",
       "| <!--/--> | 1 &lt;chr&gt; | 5 &lt;chr&gt; | 10 &lt;chr&gt; |\n",
       "|---|---|---|---|\n",
       "| Low | 5.01 (6.12-3.88) | 13.8 (16.4-11.5) | 23.6 (27.7-19.8) |\n",
       "| Intermediate | 8.9 (11-7.02)    | 23.7 (27.6-19.7) | 38.6 (44.4-33.2) |\n",
       "| High | 2.35 (3.58-1.33) | 6.66 (9.95-3.87) | 11.7 (17-6.57)   |\n",
       "\n"
      ],
      "text/plain": [
       "             1                5                10              \n",
       "Low          5.01 (6.12-3.88) 13.8 (16.4-11.5) 23.6 (27.7-19.8)\n",
       "Intermediate 8.9 (11-7.02)    23.7 (27.6-19.7) 38.6 (44.4-33.2)\n",
       "High         2.35 (3.58-1.33) 6.66 (9.95-3.87) 11.7 (17-6.57)  "
      ]
     },
     "metadata": {},
     "output_type": "display_data"
    }
   ],
   "source": [
    "getIncidenceGroup(eskd.adjsurv)"
   ]
  },
  {
   "cell_type": "code",
   "execution_count": 23,
   "metadata": {
    "vscode": {
     "languageId": "r"
    }
   },
   "outputs": [
    {
     "data": {
      "text/html": [
       "<table class=\"dataframe\">\n",
       "<caption>A data.frame: 3 x 4</caption>\n",
       "<thead>\n",
       "\t<tr><th scope=col>group</th><th scope=col>1</th><th scope=col>5</th><th scope=col>10</th></tr>\n",
       "\t<tr><th scope=col>&lt;fct&gt;</th><th scope=col>&lt;chr&gt;</th><th scope=col>&lt;chr&gt;</th><th scope=col>&lt;chr&gt;</th></tr>\n",
       "</thead>\n",
       "<tbody>\n",
       "\t<tr><td>Low vs. High         </td><td>2.67 (1.05-4.3) </td><td>7.21 (3.27-11.2)</td><td>11.8 (5.31-18.4)</td></tr>\n",
       "\t<tr><td>Intermediate vs. High</td><td>6.53 (4.31-8.76)</td><td>17 (12-21.9)    </td><td>26.7 (19.2-34.3)</td></tr>\n",
       "\t<tr><td>Intermediate vs. Low </td><td>3.86 (1.63-6.08)</td><td>9.77 (5.2-14.3) </td><td>14.9 (8.1-21.7) </td></tr>\n",
       "</tbody>\n",
       "</table>\n"
      ],
      "text/latex": [
       "A data.frame: 3 x 4\n",
       "\\begin{tabular}{llll}\n",
       " group & 1 & 5 & 10\\\\\n",
       " <fct> & <chr> & <chr> & <chr>\\\\\n",
       "\\hline\n",
       "\t Low vs. High          & 2.67 (1.05-4.3)  & 7.21 (3.27-11.2) & 11.8 (5.31-18.4)\\\\\n",
       "\t Intermediate vs. High & 6.53 (4.31-8.76) & 17 (12-21.9)     & 26.7 (19.2-34.3)\\\\\n",
       "\t Intermediate vs. Low  & 3.86 (1.63-6.08) & 9.77 (5.2-14.3)  & 14.9 (8.1-21.7) \\\\\n",
       "\\end{tabular}\n"
      ],
      "text/markdown": [
       "\n",
       "A data.frame: 3 x 4\n",
       "\n",
       "| group &lt;fct&gt; | 1 &lt;chr&gt; | 5 &lt;chr&gt; | 10 &lt;chr&gt; |\n",
       "|---|---|---|---|\n",
       "| Low vs. High          | 2.67 (1.05-4.3)  | 7.21 (3.27-11.2) | 11.8 (5.31-18.4) |\n",
       "| Intermediate vs. High | 6.53 (4.31-8.76) | 17 (12-21.9)     | 26.7 (19.2-34.3) |\n",
       "| Intermediate vs. Low  | 3.86 (1.63-6.08) | 9.77 (5.2-14.3)  | 14.9 (8.1-21.7)  |\n",
       "\n"
      ],
      "text/plain": [
       "  group                 1                5                10              \n",
       "1 Low vs. High          2.67 (1.05-4.3)  7.21 (3.27-11.2) 11.8 (5.31-18.4)\n",
       "2 Intermediate vs. High 6.53 (4.31-8.76) 17 (12-21.9)     26.7 (19.2-34.3)\n",
       "3 Intermediate vs. Low  3.86 (1.63-6.08) 9.77 (5.2-14.3)  14.9 (8.1-21.7) "
      ]
     },
     "metadata": {},
     "output_type": "display_data"
    }
   ],
   "source": [
    "getRiskDiff(eskd.adjsurv, c(\"Low vs. High\",\"Intermediate vs. High\",\"Intermediate vs. Low\"))"
   ]
  },
  {
   "cell_type": "code",
   "execution_count": 24,
   "metadata": {
    "vscode": {
     "languageId": "r"
    }
   },
   "outputs": [
    {
     "name": "stdout",
     "output_type": "stream",
     "text": [
      "------------------------------------------------------------------\n",
      "   Test of the Difference between two adjusted Survival Curves\n",
      "------------------------------------------------------------------\n",
      "\n",
      "Using the interval: 0 to 12 \n",
      "\n",
      "                          ABC ABC SE 95% CI (lower) 95% CI (upper) P-Value\n",
      "Low vs. Intermediate   1.2588 0.2639         0.7530         1.7527       0\n",
      "Low vs. High          -0.9647 0.2568        -1.4533        -0.4740       0\n",
      "Intermediate vs. High -2.2235 0.2946        -2.7759        -1.6224       0\n",
      "                      N Boot\n",
      "Low vs. Intermediate    1000\n",
      "Low vs. High            1000\n",
      "Intermediate vs. High   1000\n",
      "------------------------------------------------------------------\n"
     ]
    }
   ],
   "source": [
    "# P-values\n",
    "adj_test <- adjusted_curve_test(eskd.adjsurv, from=0, to=12)\n",
    "summary(adj_test)"
   ]
  },
  {
   "cell_type": "code",
   "execution_count": 28,
   "metadata": {
    "vscode": {
     "languageId": "r"
    }
   },
   "outputs": [],
   "source": [
    "clust.adjci <- eskd.adjsurv\n",
    "clust.adjci$adjsurv$surv <- 1-clust.adjci$adjsurv$surv"
   ]
  },
  {
   "cell_type": "code",
   "execution_count": 30,
   "metadata": {
    "vscode": {
     "languageId": "r"
    }
   },
   "outputs": [
    {
     "name": "stderr",
     "output_type": "stream",
     "text": [
      "Warning message:\n",
      "\"\u001b[1m\u001b[22mRemoved 16 rows containing missing values (`geom_step()`).\"\n"
     ]
    },
    {
     "data": {
      "text/html": [
       "<strong>pdf:</strong> 2"
      ],
      "text/latex": [
       "\\textbf{pdf:} 2"
      ],
      "text/markdown": [
       "**pdf:** 2"
      ],
      "text/plain": [
       "pdf \n",
       "  2 "
      ]
     },
     "metadata": {},
     "output_type": "display_data"
    }
   ],
   "source": [
    "pdf(\"figures/adjusted_eskd_clustdiff_low_high.pdf\")\n",
    "plot_curve_diff(clust.adjci, group_1=\"Low\", group_2=\"High\", conf_int=TRUE, color=\"blue\") + ylim(0,0.4) + xlim(0,12.5)\n",
    "dev.off()"
   ]
  },
  {
   "cell_type": "code",
   "execution_count": 31,
   "metadata": {
    "vscode": {
     "languageId": "r"
    }
   },
   "outputs": [
    {
     "name": "stderr",
     "output_type": "stream",
     "text": [
      "Warning message:\n",
      "\"\u001b[1m\u001b[22mRemoved 16 rows containing missing values (`geom_step()`).\"\n"
     ]
    },
    {
     "data": {
      "text/html": [
       "<strong>pdf:</strong> 2"
      ],
      "text/latex": [
       "\\textbf{pdf:} 2"
      ],
      "text/markdown": [
       "**pdf:** 2"
      ],
      "text/plain": [
       "pdf \n",
       "  2 "
      ]
     },
     "metadata": {},
     "output_type": "display_data"
    }
   ],
   "source": [
    "pdf(\"figures/adjusted_eskd_clustdiff_intermediate_high.pdf\")\n",
    "plot_curve_diff(clust.adjci, group_1=\"Intermediate\", group_2=\"High\", conf_int=TRUE, color=\"red\")+ ylim(0,0.4) + xlim(0,12.5)\n",
    "dev.off()"
   ]
  },
  {
   "cell_type": "code",
   "execution_count": 32,
   "metadata": {
    "vscode": {
     "languageId": "r"
    }
   },
   "outputs": [
    {
     "name": "stderr",
     "output_type": "stream",
     "text": [
      "Warning message:\n",
      "\"\u001b[1m\u001b[22mRemoved 16 rows containing missing values (`geom_step()`).\"\n"
     ]
    },
    {
     "data": {
      "text/html": [
       "<strong>pdf:</strong> 2"
      ],
      "text/latex": [
       "\\textbf{pdf:} 2"
      ],
      "text/markdown": [
       "**pdf:** 2"
      ],
      "text/plain": [
       "pdf \n",
       "  2 "
      ]
     },
     "metadata": {},
     "output_type": "display_data"
    }
   ],
   "source": [
    "pdf(\"figures/adjusted_eskd_clustdiff_high_intermediate.pdf\")\n",
    "plot_curve_diff(clust.adjci, group_1=\"Intermediate\", group_2=\"Low\", conf_int=TRUE, color=\"green\")+ ylim(0,0.4) + xlim(0,12.5)\n",
    "dev.off()"
   ]
  },
  {
   "cell_type": "markdown",
   "metadata": {},
   "source": [
    "## 4. Fine Gray Model\n",
    "---"
   ]
  },
  {
   "cell_type": "code",
   "execution_count": 78,
   "metadata": {
    "vscode": {
     "languageId": "r"
    }
   },
   "outputs": [
    {
     "data": {
      "text/plain": [
       "Call:\n",
       "coxph(formula = Surv(time_to_eskd, treatment_eskd) ~ fna3_cluster_n + \n",
       "    Age + Sex + Race + strata(LC.Isotype), data = eskd.df, x = TRUE)\n",
       "\n",
       "                                coef exp(coef)  se(coef)      z        p\n",
       "fna3_cluster_nIntermediate  0.598233  1.818902  0.122574  4.881 1.06e-06\n",
       "fna3_cluster_nHigh         -0.779149  0.458796  0.267197 -2.916  0.00355\n",
       "Age                        -0.010870  0.989189  0.005588 -1.945  0.05176\n",
       "Sexmale                     0.237757  1.268400  0.122148  1.946  0.05160\n",
       "RaceBlack                   0.328374  1.388708  0.503672  0.652  0.51443\n",
       "RaceOther                   1.051655  2.862386  0.731959  1.437  0.15078\n",
       "RaceWhite                   0.463690  1.589930  0.453052  1.023  0.30608\n",
       "\n",
       "Likelihood ratio test=58.08  on 7 df, p=3.646e-10\n",
       "n= 2033, number of events= 296 \n",
       "   (7 observations deleted due to missingness)"
      ]
     },
     "metadata": {},
     "output_type": "display_data"
    }
   ],
   "source": [
    "eskd.baseline.cluster.t"
   ]
  },
  {
   "cell_type": "code",
   "execution_count": 133,
   "metadata": {
    "vscode": {
     "languageId": "r"
    }
   },
   "outputs": [],
   "source": [
    "runFineGray <- function(df, covariates){\n",
    "    cov1 <- getDummy(df, covariates)\n",
    "\n",
    "    eskd.crr <- crr(ftime=df$CR_time, fstatus=df$CR_event, cov1=cov1, failcode=1, cencode=0)\n",
    "    death.crr <- crr(ftime=df$CR_time, fstatus=df$CR_event, cov1=cov1, failcode=2, cencode=0)\n",
    "\n",
    "    dcr.df <- getCoef(death.crr)\n",
    "    dcr.df$Risk <- \"Death\"\n",
    "    ecr.df <- getCoef(eskd.crr)\n",
    "    ecr.df$Risk <- \"ESKD\"\n",
    "    coef.df <- rbind(dcr.df,ecr.df)\n",
    "\n",
    "    result <- list(\"death.crr\" = death.crr, \"eskd.crr\" = eskd.crr, \"coef\"=coef.df)\n",
    "\n",
    "    return(result)\n",
    "}"
   ]
  },
  {
   "cell_type": "code",
   "execution_count": 255,
   "metadata": {
    "vscode": {
     "languageId": "r"
    }
   },
   "outputs": [
    {
     "name": "stdout",
     "output_type": "stream",
     "text": [
      "7 cases omitted due to missing values\n"
     ]
    },
    {
     "name": "stderr",
     "output_type": "stream",
     "text": [
      "\u001b[1m\u001b[22mScale for \u001b[32mfill\u001b[39m is already present.\n",
      "Adding another scale for \u001b[32mfill\u001b[39m, which will replace the existing scale.\n"
     ]
    },
    {
     "name": "stderr",
     "output_type": "stream",
     "text": [
      "Warning message:\n",
      "\"\u001b[1m\u001b[22mRemoved 174 rows containing missing values (`geom_line()`).\"\n",
      "Warning message:\n",
      "\"\u001b[1m\u001b[22mRemoved 174 rows containing missing values (`geom_line()`).\"\n"
     ]
    },
    {
     "data": {
      "text/html": [
       "<strong>pdf:</strong> 2"
      ],
      "text/latex": [
       "\\textbf{pdf:} 2"
      ],
      "text/markdown": [
       "**pdf:** 2"
      ],
      "text/plain": [
       "pdf \n",
       "  2 "
      ]
     },
     "metadata": {},
     "output_type": "display_data"
    }
   ],
   "source": [
    "CR <- cuminc(eskd.df$CR_time, eskd.df$CR_event, group=eskd.df$fna3_cluster_n, cencode=0)\n",
    "\n",
    "p <- ggcompetingrisks(CR, xlabs=\"Time from Diagnosis (Yr)\", \n",
    "    ylab=\"Cumulative Incidence\", multiple_panels = F, palette=c(\"#ca4a29\",\"#69a9c8\",\"#62b67d\"), conf.int = T)\n",
    "p$mapping <- aes(x = time, y = est, colour = group, linetype = event)\n",
    "\n",
    "pdf(\"figures/competingrisks_ci.pdf\")\n",
    "p + labs(linetype = \"event\", colour = \"group\") + geom_line(size = 1) + xlim(0,12.5) + scale_fill_manual(values = c(\"lightgrey\",\"lightgrey\"))\n",
    "dev.off()\n"
   ]
  },
  {
   "cell_type": "code",
   "execution_count": 257,
   "metadata": {
    "vscode": {
     "languageId": "r"
    }
   },
   "outputs": [
    {
     "name": "stdout",
     "output_type": "stream",
     "text": [
      "7 cases omitted due to missing values\n",
      "7 cases omitted due to missing values\n",
      "7 cases omitted due to missing values\n",
      "7 cases omitted due to missing values\n",
      "7 cases omitted due to missing values\n",
      "7 cases omitted due to missing values\n",
      "339 cases omitted due to missing values\n",
      "339 cases omitted due to missing values\n",
      "185 cases omitted due to missing values\n",
      "185 cases omitted due to missing values\n",
      "981 cases omitted due to missing values\n",
      "981 cases omitted due to missing values\n",
      "981 cases omitted due to missing values\n",
      "981 cases omitted due to missing values\n"
     ]
    }
   ],
   "source": [
    "# Addd log UTP\n",
    "eskd.df$log2_UTP <- log2(eskd.df$X24_hr_UTP+1)\n",
    "\n",
    "fg.crude <- runFineGray(eskd.df, c(\"fna3_cluster_n\"))\n",
    "fg.baseline <- runFineGray(eskd.df, c(\"fna3_cluster_n\", \"Age\", \"Sex\", \"Race\", \"LC.Isotype\"))\n",
    "fg.renal <- runFineGray(eskd.df, c(\"fna3_cluster_n\", \"Renal.Stage..Palladini.\", \"Age\", \"Sex\", \"Race\", \"LC.Isotype\"))\n",
    "fg.labs <- runFineGray(eskd.df, c(\"fna3_cluster_n\", \"Age\", \"Sex\", \"Race\", \"LC.Isotype\", \"log2_UTP\", \"eGFR\"))\n",
    "fg.renal_labs <- runFineGray(eskd.df, c(\"fna3_cluster_n\", \"Renal.Stage..Palladini.\", \"Age\", \"Sex\", \"Race\", \"LC.Isotype\", \"eGFR\"))\n",
    "fg.bu <- runFineGray(eskd.df, c(\"fna3_cluster_n\", \"BU.Cardiac.Stage\", \"Age\", \"Sex\", \"Race\", \"LC.Isotype\"))\n",
    "fg.all <- runFineGray(eskd.df, c(\"fna3_cluster_n\", \"BU.Cardiac.Stage\", \"Renal.Stage..Palladini.\", \"Age\", \"Sex\", \"Race\", \"LC.Isotype\"))"
   ]
  },
  {
   "cell_type": "code",
   "execution_count": null,
   "metadata": {
    "vscode": {
     "languageId": "r"
    }
   },
   "outputs": [],
   "source": []
  }
 ],
 "metadata": {
  "kernelspec": {
   "display_name": "R",
   "language": "R",
   "name": "ir"
  },
  "language_info": {
   "codemirror_mode": "r",
   "file_extension": ".r",
   "mimetype": "text/x-r-source",
   "name": "R",
   "pygments_lexer": "r",
   "version": "4.3.2"
  }
 },
 "nbformat": 4,
 "nbformat_minor": 2
}
