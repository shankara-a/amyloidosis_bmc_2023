{
 "cells": [
  {
   "cell_type": "code",
   "execution_count": 171,
   "metadata": {
    "vscode": {
     "languageId": "r"
    }
   },
   "outputs": [],
   "source": [
    "suppressMessages(library(survminer))\n",
    "suppressMessages(library(survival))\n",
    "suppressMessages(library(forestplot))\n",
    "suppressMessages(library(ggsci))\n",
    "suppressMessages(library(dplyr))\n",
    "suppressMessages(library(adjustedCurves))\n",
    "suppressMessages(library(tidyverse))\n",
    "suppressMessages(library(cmprsk))\n",
    "suppressMessages(library(caret))\n",
    "library(tidyr)\n",
    "\n",
    "source(\"funcs/rfuncs.R\")"
   ]
  },
  {
   "cell_type": "markdown",
   "metadata": {},
   "source": [
    "## 1. Load Dataset\n",
    "---"
   ]
  },
  {
   "cell_type": "code",
   "execution_count": 49,
   "metadata": {
    "vscode": {
     "languageId": "r"
    }
   },
   "outputs": [],
   "source": [
    "data.df <- read.table(\"data/processed/AL_with_ccp_03.tsv\", sep=\"\\t\", header=T, row.names='Code.ID')\n",
    "\n",
    "# Rename columns\n",
    "column_mapping <- c(\"LC.Isotype\"=\"Kappa_or_lambda_PCD\", \n",
    "                    \"BU.Cardiac.Stage\"=\"BU__BNP_based__cardiac_staging\",\n",
    "                    \"BMPC.%\"=\"Bone_marrow_plasma_cells____\"\n",
    "                   )\n",
    "\n",
    "data.df <- data.df %>% rename(!!!column_mapping)\n",
    "\n",
    "# Filter for time from admission >=0\n",
    "data.df <- data.df[data.df$time_from_admission>=0,]\n",
    "\n",
    "# Collapse Race\n",
    "data.df <- data.df %>%\n",
    "   mutate(Race = ifelse(Race %in% c('American_Indian_Alaska_Native','Multiracial','Native_Hawaiian_Pacific', 'Unknown/other'), 'Other', Race))\n",
    "\n",
    "# Fix NULL values\n",
    "data.df <- data.df %>% mutate(BU.Cardiac.Stage = ifelse(BU.Cardiac.Stage==\"\", NA, BU.Cardiac.Stage))\n",
    "data.df <- data.df %>% mutate(Primary_organ = ifelse(Primary_organ==\"\", NA, Primary_organ))\n",
    "data.df <- data.df %>% mutate(LC.Isotype = ifelse(LC.Isotype==\"\", NA, LC.Isotype))\n",
    "\n",
    "# assign cluster to var\n",
    "data.df$m02q3_cluster_n <- factor(data.df$m02q3_cluster_n, levels=c(\"Low\",\"Intermediate\",\"High\"))\n",
    "data.df <- data.df[complete.cases(data.df[,\"m02q3_cluster_n\"]),]\n",
    "data.df$m02q4_cluster_n <- factor(data.df$m02q4_cluster_n, levels=c(\"Low\",\"Intermediate-Low\",\"Intermediate\",\"High\"))\n",
    "data.df$fna3_cluster_n <- factor(data.df$fna3_cluster_n, levels=c(\"Low\",\"Intermediate\",\"High\"))\n",
    "data.df$BU.Cardiac.Stage <- as.factor(data.df$BU.Cardiac.Stage)\n",
    "\n",
    "# As Factor\n",
    "data.df$LC.Isotype <- as.factor(data.df$LC.Isotype)\n",
    "data.df$Sex <- as.factor(data.df$Sex)\n",
    "data.df$Race <- as.factor(data.df$Race)\n",
    "data.df$Era <- as.factor(data.df$Era)"
   ]
  },
  {
   "cell_type": "code",
   "execution_count": 50,
   "metadata": {
    "vscode": {
     "languageId": "r"
    }
   },
   "outputs": [],
   "source": [
    "# Load ESKD Data\n",
    "eskd.df <- read.table(\"data/processed/treatment_eskd.tsv\", sep=\"\\t\", header=T, row.names=\"Code.ID\")\n",
    "eskd.df <- eskd.df[rownames(data.df),]\n",
    "eskd.df <- cbind(data.df, eskd.df[,c(\"RRT.Type\",\"treatment_eskd\",\"time_to_eskd\",\"time_to_eskd_from_admission\",\"CR_event\",\"CR_time\")])\n",
    "eskd.df <- eskd.df[complete.cases(eskd.df$time_to_eskd_from_admission),]\n",
    "\n",
    "# Filter for whether or not patients had ESKD at baseline\n",
    "eskd.df <- eskd.df[eskd.df$time_to_eskd_from_admission>0,]"
   ]
  },
  {
   "cell_type": "code",
   "execution_count": 51,
   "metadata": {
    "vscode": {
     "languageId": "r"
    }
   },
   "outputs": [
    {
     "data": {
      "text/plain": [
       "              treatment_eskd\n",
       "fna3_cluster_n   0   1\n",
       "  Low          638  88\n",
       "  Intermediate 533 135\n",
       "  High         354   8"
      ]
     },
     "metadata": {},
     "output_type": "display_data"
    }
   ],
   "source": [
    "table(eskd.df[, c(\"fna3_cluster_n\",\"treatment_eskd\")])"
   ]
  },
  {
   "cell_type": "code",
   "execution_count": 75,
   "metadata": {
    "vscode": {
     "languageId": "r"
    }
   },
   "outputs": [],
   "source": [
    "eskd.df$fna3_cluster_n <- factor(eskd.df$fna3_cluster_n, levels=c(\"High\",\"Low\",\"Intermediate\"))"
   ]
  },
  {
   "cell_type": "markdown",
   "metadata": {},
   "source": [
    "## 2. Cox Regression Modeling\n",
    "---"
   ]
  },
  {
   "cell_type": "code",
   "execution_count": 76,
   "metadata": {
    "vscode": {
     "languageId": "r"
    }
   },
   "outputs": [
    {
     "data": {
      "text/plain": [
       "           chisq df     p\n",
       "Age         4.09  1 0.043\n",
       "Sex         0.23  1 0.631\n",
       "Race        3.30  3 0.347\n",
       "LC.Isotype  4.13  1 0.042\n",
       "GLOBAL     11.84  6 0.066"
      ]
     },
     "metadata": {},
     "output_type": "display_data"
    }
   ],
   "source": [
    "# Baseline Model\n",
    "eskd.crude <- coxph(Surv(time_to_eskd_from_admission, treatment_eskd) ~ fna3_cluster_n, data=eskd.df)\n",
    "eskd.baseline <- coxph(Surv(time_to_eskd_from_admission, treatment_eskd) ~ Age + Sex + Race + LC.Isotype, data=eskd.df)\n",
    "cox.zph(eskd.baseline)"
   ]
  },
  {
   "cell_type": "code",
   "execution_count": 77,
   "metadata": {
    "vscode": {
     "languageId": "r"
    }
   },
   "outputs": [],
   "source": [
    "# Baseline Model stratified\n",
    "eskd.baseline.t <- coxph(Surv(time_to_eskd_from_admission, treatment_eskd) ~ Age + Sex + Race + strata(LC.Isotype), data=eskd.df)\n",
    "eskd.baseline.cluster.t <- coxph(Surv(time_to_eskd_from_admission, treatment_eskd) ~ fna3_cluster_n + Age + Sex + Race + strata(LC.Isotype), data=eskd.df, x=TRUE)"
   ]
  },
  {
   "cell_type": "code",
   "execution_count": 78,
   "metadata": {
    "vscode": {
     "languageId": "r"
    }
   },
   "outputs": [
    {
     "data": {
      "text/plain": [
       "                      chisq df       p\n",
       "Age                   6.012  1  0.0142\n",
       "Sex                   0.532  1  0.4656\n",
       "Race                  2.482  3  0.4785\n",
       "eGFR                 17.569  1 2.8e-05\n",
       "log2(X24_hr_UTP + 1)  0.114  1  0.7358\n",
       "GLOBAL               22.436  7  0.0021"
      ]
     },
     "metadata": {},
     "output_type": "display_data"
    }
   ],
   "source": [
    "# Model w/ Labs\n",
    "eskd.labs <- coxph(Surv(time_to_eskd_from_admission, treatment_eskd) ~ Age + Sex + Race + eGFR + log2(X24_hr_UTP+1) + strata(LC.Isotype), data=eskd.df)\n",
    "cox.zph(eskd.labs)"
   ]
  },
  {
   "cell_type": "code",
   "execution_count": 79,
   "metadata": {
    "vscode": {
     "languageId": "r"
    }
   },
   "outputs": [
    {
     "data": {
      "text/plain": [
       "Call:\n",
       "coxph(formula = Surv(time_to_eskd_from_admission, treatment_eskd) ~ \n",
       "    Age + Sex + Race + eGFR + tt(eGFR) + log2(X24_hr_UTP + 1) + \n",
       "        strata(LC.Isotype), data = eskd.df, tt = function(x, \n",
       "    t, ...) x * log(t))\n",
       "\n",
       "  n= 1475, number of events= 207 \n",
       "   (287 observations deleted due to missingness)\n",
       "\n",
       "                          coef exp(coef)  se(coef)       z Pr(>|z|)    \n",
       "Age                  -0.021091  0.979130  0.007001  -3.012 0.002591 ** \n",
       "Sexmale               0.118673  1.126002  0.146413   0.811 0.417631    \n",
       "RaceBlack            -0.114675  0.891656  0.617106  -0.186 0.852580    \n",
       "RaceOther             1.039667  2.828274  0.880116   1.181 0.237490    \n",
       "RaceWhite             0.571538  1.770988  0.509604   1.122 0.262061    \n",
       "eGFR                 -0.035301  0.965315  0.003221 -10.961  < 2e-16 ***\n",
       "tt(eGFR)              0.010871  1.010930  0.001981   5.488 4.06e-08 ***\n",
       "log2(X24_hr_UTP + 1)  0.063785  1.065863  0.019166   3.328 0.000874 ***\n",
       "---\n",
       "Signif. codes:  0 '***' 0.001 '**' 0.01 '*' 0.05 '.' 0.1 ' ' 1\n",
       "\n",
       "                     exp(coef) exp(-coef) lower .95 upper .95\n",
       "Age                     0.9791     1.0213    0.9658    0.9927\n",
       "Sexmale                 1.1260     0.8881    0.8451    1.5003\n",
       "RaceBlack               0.8917     1.1215    0.2660    2.9887\n",
       "RaceOther               2.8283     0.3536    0.5039   15.8737\n",
       "RaceWhite               1.7710     0.5647    0.6523    4.8083\n",
       "eGFR                    0.9653     1.0359    0.9592    0.9714\n",
       "tt(eGFR)                1.0109     0.9892    1.0070    1.0149\n",
       "log2(X24_hr_UTP + 1)    1.0659     0.9382    1.0266    1.1067\n",
       "\n",
       "Concordance= 0.759  (se = 0.022 )\n",
       "Likelihood ratio test= 190.4  on 8 df,   p=<2e-16\n",
       "Wald test            = 144.2  on 8 df,   p=<2e-16\n",
       "Score (logrank) test = 186.9  on 8 df,   p=<2e-16\n"
      ]
     },
     "metadata": {},
     "output_type": "display_data"
    }
   ],
   "source": [
    "# Model w/ Labs\n",
    "# Adjusted by eGFR for time\n",
    "eskd.labs.t <- coxph(Surv(time_to_eskd_from_admission, treatment_eskd) ~ Age + Sex + Race + eGFR + tt(eGFR) +\n",
    "    log2(X24_hr_UTP+1) + strata(LC.Isotype), \n",
    "    data=eskd.df, \n",
    "    tt=function(x,t,...) x * log(t))\n",
    "summary(eskd.labs.t)"
   ]
  },
  {
   "cell_type": "code",
   "execution_count": 80,
   "metadata": {
    "vscode": {
     "languageId": "r"
    }
   },
   "outputs": [
    {
     "data": {
      "image/png": "[encoded data removed]",
      "text/plain": [
       "plot without title"
      ]
     },
     "metadata": {
      "image/png": {
       "height": 420,
       "width": 420
      }
     },
     "output_type": "display_data"
    }
   ],
   "source": [
    "plot(cox.zph(eskd.labs)[4])\n",
    "abline(coef(eskd.labs.t)[6:7], lwd=2, lty=3, col=2)"
   ]
  },
  {
   "cell_type": "code",
   "execution_count": 81,
   "metadata": {
    "vscode": {
     "languageId": "r"
    }
   },
   "outputs": [
    {
     "data": {
      "image/png": "[encoded data removed]",
      "text/plain": [
       "plot without title"
      ]
     },
     "metadata": {
      "image/png": {
       "height": 420,
       "width": 420
      }
     },
     "output_type": "display_data"
    }
   ],
   "source": [
    "plot(cox.zph(eskd.labs)[5])"
   ]
  },
  {
   "cell_type": "code",
   "execution_count": 82,
   "metadata": {
    "vscode": {
     "languageId": "r"
    }
   },
   "outputs": [
    {
     "data": {
      "text/plain": [
       "Call:\n",
       "coxph(formula = Surv(time_to_eskd_from_admission, treatment_eskd) ~ \n",
       "    fna3_cluster_n + Age + Sex + Race + eGFR + tt(eGFR) + log2(X24_hr_UTP + \n",
       "        1) + strata(LC.Isotype), data = eskd.df, tt = function(x, \n",
       "    t, ...) x * log(t))\n",
       "\n",
       "  n= 1469, number of events= 206 \n",
       "   (293 observations deleted due to missingness)\n",
       "\n",
       "                                coef exp(coef)  se(coef)       z Pr(>|z|)    \n",
       "fna3_cluster_nLow           1.196520  3.308584  0.466623   2.564   0.0103 *  \n",
       "fna3_cluster_nIntermediate  1.835576  6.268743  0.468144   3.921 8.82e-05 ***\n",
       "Age                        -0.022437  0.977813  0.006873  -3.265   0.0011 ** \n",
       "Sexmale                     0.139803  1.150047  0.147684   0.947   0.3438    \n",
       "RaceBlack                  -0.025913  0.974419  0.617875  -0.042   0.9665    \n",
       "RaceOther                   0.799095  2.223527  0.879863   0.908   0.3638    \n",
       "RaceWhite                   0.615764  1.851070  0.510260   1.207   0.2275    \n",
       "eGFR                       -0.034259  0.966322  0.003184 -10.759  < 2e-16 ***\n",
       "tt(eGFR)                    0.010295  1.010348  0.001949   5.282 1.28e-07 ***\n",
       "log2(X24_hr_UTP + 1)        0.016813  1.016955  0.018863   0.891   0.3727    \n",
       "---\n",
       "Signif. codes:  0 '***' 0.001 '**' 0.01 '*' 0.05 '.' 0.1 ' ' 1\n",
       "\n",
       "                           exp(coef) exp(-coef) lower .95 upper .95\n",
       "fna3_cluster_nLow             3.3086     0.3022    1.3257    8.2572\n",
       "fna3_cluster_nIntermediate    6.2687     0.1595    2.5044   15.6915\n",
       "Age                           0.9778     1.0227    0.9647    0.9911\n",
       "Sexmale                       1.1500     0.8695    0.8610    1.5361\n",
       "RaceBlack                     0.9744     1.0263    0.2903    3.2710\n",
       "RaceOther                     2.2235     0.4497    0.3964   12.4734\n",
       "RaceWhite                     1.8511     0.5402    0.6809    5.0322\n",
       "eGFR                          0.9663     1.0349    0.9603    0.9724\n",
       "tt(eGFR)                      1.0103     0.9898    1.0065    1.0142\n",
       "log2(X24_hr_UTP + 1)          1.0170     0.9833    0.9800    1.0553\n",
       "\n",
       "Concordance= 0.791  (se = 0.019 )\n",
       "Likelihood ratio test= 221.8  on 10 df,   p=<2e-16\n",
       "Wald test            = 166.5  on 10 df,   p=<2e-16\n",
       "Score (logrank) test = 217.4  on 10 df,   p=<2e-16\n"
      ]
     },
     "metadata": {},
     "output_type": "display_data"
    }
   ],
   "source": [
    "# Model w/ Labs\n",
    "# Adjusted by eGFR for time\n",
    "eskd.labs.cluster.t <- coxph(Surv(time_to_eskd_from_admission, treatment_eskd) ~ fna3_cluster_n + Age + Sex + Race + eGFR + tt(eGFR) +\n",
    "    log2(X24_hr_UTP+1) + strata(LC.Isotype), \n",
    "    data=eskd.df, \n",
    "    tt=function(x,t,...) x * log(t))\n",
    "summary(eskd.labs.cluster.t)"
   ]
  },
  {
   "cell_type": "code",
   "execution_count": 83,
   "metadata": {
    "vscode": {
     "languageId": "r"
    }
   },
   "outputs": [
    {
     "data": {
      "text/plain": [
       "Call:\n",
       "coxph(formula = Surv(time_to_eskd_from_admission, treatment_eskd) ~ \n",
       "    Renal.Stage..Palladini. + Age + Sex + Race + eGFR + tt(eGFR) + \n",
       "        log2(X24_hr_UTP + 1) + strata(LC.Isotype), data = eskd.df, \n",
       "    tt = function(x, t, ...) x * log(t))\n",
       "\n",
       "  n= 1475, number of events= 207 \n",
       "   (287 observations deleted due to missingness)\n",
       "\n",
       "                                      coef exp(coef)  se(coef)      z Pr(>|z|)\n",
       "Renal.Stage..Palladini.Stage II   1.392508  4.024933  0.258112  5.395 6.85e-08\n",
       "Renal.Stage..Palladini.Stage III  1.871487  6.497949  0.356734  5.246 1.55e-07\n",
       "Age                              -0.015799  0.984325  0.006993 -2.259   0.0239\n",
       "Sexmale                           0.067671  1.070013  0.146475  0.462   0.6441\n",
       "RaceBlack                        -0.117439  0.889195  0.617733 -0.190   0.8492\n",
       "RaceOther                         1.035915  2.817684  0.886181  1.169   0.2424\n",
       "RaceWhite                         0.570738  1.769573  0.509173  1.121   0.2623\n",
       "eGFR                             -0.023444  0.976828  0.003938 -5.954 2.62e-09\n",
       "tt(eGFR)                          0.010222  1.010274  0.001961  5.212 1.87e-07\n",
       "log2(X24_hr_UTP + 1)             -0.008339  0.991696  0.022798 -0.366   0.7145\n",
       "                                    \n",
       "Renal.Stage..Palladini.Stage II  ***\n",
       "Renal.Stage..Palladini.Stage III ***\n",
       "Age                              *  \n",
       "Sexmale                             \n",
       "RaceBlack                           \n",
       "RaceOther                           \n",
       "RaceWhite                           \n",
       "eGFR                             ***\n",
       "tt(eGFR)                         ***\n",
       "log2(X24_hr_UTP + 1)                \n",
       "---\n",
       "Signif. codes:  0 '***' 0.001 '**' 0.01 '*' 0.05 '.' 0.1 ' ' 1\n",
       "\n",
       "                                 exp(coef) exp(-coef) lower .95 upper .95\n",
       "Renal.Stage..Palladini.Stage II     4.0249     0.2485    2.4269    6.6752\n",
       "Renal.Stage..Palladini.Stage III    6.4979     0.1539    3.2294   13.0746\n",
       "Age                                 0.9843     1.0159    0.9709    0.9979\n",
       "Sexmale                             1.0700     0.9346    0.8030    1.4258\n",
       "RaceBlack                           0.8892     1.1246    0.2650    2.9841\n",
       "RaceOther                           2.8177     0.3549    0.4961   16.0034\n",
       "RaceWhite                           1.7696     0.5651    0.6523    4.8004\n",
       "eGFR                                0.9768     1.0237    0.9693    0.9844\n",
       "tt(eGFR)                            1.0103     0.9898    1.0064    1.0142\n",
       "log2(X24_hr_UTP + 1)                0.9917     1.0084    0.9484    1.0370\n",
       "\n",
       "Concordance= 0.806  (se = 0.016 )\n",
       "Likelihood ratio test= 227.7  on 10 df,   p=<2e-16\n",
       "Wald test            = 151.2  on 10 df,   p=<2e-16\n",
       "Score (logrank) test = 226.2  on 10 df,   p=<2e-16\n"
      ]
     },
     "metadata": {},
     "output_type": "display_data"
    }
   ],
   "source": [
    "# Model w/ Labs\n",
    "# Adjusted by eGFR for time\n",
    "eskd.labs.stage.t <- coxph(Surv(time_to_eskd_from_admission, treatment_eskd) ~ Renal.Stage..Palladini. + Age + Sex + Race + eGFR + tt(eGFR) +\n",
    "    log2(X24_hr_UTP+1) + strata(LC.Isotype), \n",
    "    data=eskd.df, \n",
    "    tt=function(x,t,...) x * log(t))\n",
    "summary(eskd.labs.stage.t)"
   ]
  },
  {
   "cell_type": "code",
   "execution_count": 84,
   "metadata": {
    "vscode": {
     "languageId": "r"
    }
   },
   "outputs": [],
   "source": [
    "# Model w/ Labs\n",
    "# Adjusted by eGFR for time\n",
    "eskd.labs.stage.cluster.t <- coxph(Surv(time_to_eskd_from_admission, treatment_eskd) ~ fna3_cluster_n + Renal.Stage..Palladini. + Age + Sex + Race + eGFR + tt(eGFR) +\n",
    "    log2(X24_hr_UTP+1) + strata(LC.Isotype), \n",
    "    data=eskd.df, \n",
    "    tt=function(x,t,...) x * log(t))\n",
    "\n",
    "# Model w/ Labs\n",
    "# Adjusted by eGFR for time\n",
    "# Add albumin\n",
    "eskd.labs.stage.cluster.v2.t <- coxph(Surv(time_to_eskd_from_admission, treatment_eskd) ~ fna3_cluster_n + Renal.Stage..Palladini. + Age + Sex + Race + eGFR + tt(eGFR) +\n",
    "    log2(X24_hr_UTP+1) + Albumin + strata(LC.Isotype), \n",
    "    data=eskd.df, \n",
    "    tt=function(x,t,...) x * log(t))"
   ]
  },
  {
   "cell_type": "code",
   "execution_count": 91,
   "metadata": {
    "vscode": {
     "languageId": "r"
    }
   },
   "outputs": [
    {
     "data": {
      "text/html": [
       "<table class=\"dataframe\">\n",
       "<caption>A data.frame: 5 x 2</caption>\n",
       "<thead>\n",
       "\t<tr><th></th><th scope=col>Low</th><th scope=col>Intermediate</th></tr>\n",
       "\t<tr><th></th><th scope=col>&lt;chr&gt;</th><th scope=col>&lt;chr&gt;</th></tr>\n",
       "</thead>\n",
       "<tbody>\n",
       "\t<tr><th scope=row>Surv(time_to_eskd_from_admission, treatment_eskd) ~ fna3_cluster_n</th><td>3.2 (1.55-6.61) </td><td>6.5 (3.18-13.3) </td></tr>\n",
       "\t<tr><th scope=row>Surv(time_to_eskd_from_admission, treatment_eskd) ~ fna3_cluster_n +      Age + Sex + Race + strata(LC.Isotype)</th><td>3.21 (1.55-6.64)</td><td>6.63 (3.24-13.6)</td></tr>\n",
       "\t<tr><th scope=row>Surv(time_to_eskd_from_admission, treatment_eskd) ~ fna3_cluster_n +      Age + Sex + Race + eGFR + tt(eGFR) + log2(X24_hr_UTP + 1) +      strata(LC.Isotype)</th><td>3.31 (1.33-8.26)</td><td>6.27 (2.5-15.7) </td></tr>\n",
       "\t<tr><th scope=row>Surv(time_to_eskd_from_admission, treatment_eskd) ~ fna3_cluster_n +      Renal.Stage..Palladini. + Age + Sex + Race + eGFR + tt(eGFR) +      log2(X24_hr_UTP + 1) + strata(LC.Isotype)</th><td>2.65 (1.05-6.65)</td><td>4.2 (1.65-10.7) </td></tr>\n",
       "\t<tr><th scope=row>Surv(time_to_eskd_from_admission, treatment_eskd) ~ fna3_cluster_n +      Renal.Stage..Palladini. + Age + Sex + Race + eGFR + tt(eGFR) +      log2(X24_hr_UTP + 1) + Albumin + strata(LC.Isotype)</th><td>3.52 (1.09-11.4)</td><td>3.97 (1.18-13.4)</td></tr>\n",
       "</tbody>\n",
       "</table>\n"
      ],
      "text/latex": [
       "A data.frame: 5 x 2\n",
       "\\begin{tabular}{r|ll}\n",
       "  & Low & Intermediate\\\\\n",
       "  & <chr> & <chr>\\\\\n",
       "\\hline\n",
       "\tSurv(time\\_to\\_eskd\\_from\\_admission, treatment\\_eskd) \\textasciitilde{} fna3\\_cluster\\_n & 3.2 (1.55-6.61)  & 6.5 (3.18-13.3) \\\\\n",
       "\tSurv(time\\_to\\_eskd\\_from\\_admission, treatment\\_eskd) \\textasciitilde{} fna3\\_cluster\\_n +      Age + Sex + Race + strata(LC.Isotype) & 3.21 (1.55-6.64) & 6.63 (3.24-13.6)\\\\\n",
       "\tSurv(time\\_to\\_eskd\\_from\\_admission, treatment\\_eskd) \\textasciitilde{} fna3\\_cluster\\_n +      Age + Sex + Race + eGFR + tt(eGFR) + log2(X24\\_hr\\_UTP + 1) +      strata(LC.Isotype) & 3.31 (1.33-8.26) & 6.27 (2.5-15.7) \\\\\n",
       "\tSurv(time\\_to\\_eskd\\_from\\_admission, treatment\\_eskd) \\textasciitilde{} fna3\\_cluster\\_n +      Renal.Stage..Palladini. + Age + Sex + Race + eGFR + tt(eGFR) +      log2(X24\\_hr\\_UTP + 1) + strata(LC.Isotype) & 2.65 (1.05-6.65) & 4.2 (1.65-10.7) \\\\\n",
       "\tSurv(time\\_to\\_eskd\\_from\\_admission, treatment\\_eskd) \\textasciitilde{} fna3\\_cluster\\_n +      Renal.Stage..Palladini. + Age + Sex + Race + eGFR + tt(eGFR) +      log2(X24\\_hr\\_UTP + 1) + Albumin + strata(LC.Isotype) & 3.52 (1.09-11.4) & 3.97 (1.18-13.4)\\\\\n",
       "\\end{tabular}\n"
      ],
      "text/markdown": [
       "\n",
       "A data.frame: 5 x 2\n",
       "\n",
       "| <!--/--> | Low &lt;chr&gt; | Intermediate &lt;chr&gt; |\n",
       "|---|---|---|\n",
       "| Surv(time_to_eskd_from_admission, treatment_eskd) ~ fna3_cluster_n | 3.2 (1.55-6.61)  | 6.5 (3.18-13.3)  |\n",
       "| Surv(time_to_eskd_from_admission, treatment_eskd) ~ fna3_cluster_n +      Age + Sex + Race + strata(LC.Isotype) | 3.21 (1.55-6.64) | 6.63 (3.24-13.6) |\n",
       "| Surv(time_to_eskd_from_admission, treatment_eskd) ~ fna3_cluster_n +      Age + Sex + Race + eGFR + tt(eGFR) + log2(X24_hr_UTP + 1) +      strata(LC.Isotype) | 3.31 (1.33-8.26) | 6.27 (2.5-15.7)  |\n",
       "| Surv(time_to_eskd_from_admission, treatment_eskd) ~ fna3_cluster_n +      Renal.Stage..Palladini. + Age + Sex + Race + eGFR + tt(eGFR) +      log2(X24_hr_UTP + 1) + strata(LC.Isotype) | 2.65 (1.05-6.65) | 4.2 (1.65-10.7)  |\n",
       "| Surv(time_to_eskd_from_admission, treatment_eskd) ~ fna3_cluster_n +      Renal.Stage..Palladini. + Age + Sex + Race + eGFR + tt(eGFR) +      log2(X24_hr_UTP + 1) + Albumin + strata(LC.Isotype) | 3.52 (1.09-11.4) | 3.97 (1.18-13.4) |\n",
       "\n"
      ],
      "text/plain": [
       "                                                                                                                                                                                                  Low             \n",
       "Surv(time_to_eskd_from_admission, treatment_eskd) ~ fna3_cluster_n                                                                                                                                3.2 (1.55-6.61) \n",
       "Surv(time_to_eskd_from_admission, treatment_eskd) ~ fna3_cluster_n +      Age + Sex + Race + strata(LC.Isotype)                                                                                   3.21 (1.55-6.64)\n",
       "Surv(time_to_eskd_from_admission, treatment_eskd) ~ fna3_cluster_n +      Age + Sex + Race + eGFR + tt(eGFR) + log2(X24_hr_UTP + 1) +      strata(LC.Isotype)                                     3.31 (1.33-8.26)\n",
       "Surv(time_to_eskd_from_admission, treatment_eskd) ~ fna3_cluster_n +      Renal.Stage..Palladini. + Age + Sex + Race + eGFR + tt(eGFR) +      log2(X24_hr_UTP + 1) + strata(LC.Isotype)           2.65 (1.05-6.65)\n",
       "Surv(time_to_eskd_from_admission, treatment_eskd) ~ fna3_cluster_n +      Renal.Stage..Palladini. + Age + Sex + Race + eGFR + tt(eGFR) +      log2(X24_hr_UTP + 1) + Albumin + strata(LC.Isotype) 3.52 (1.09-11.4)\n",
       "                                                                                                                                                                                                  Intermediate    \n",
       "Surv(time_to_eskd_from_admission, treatment_eskd) ~ fna3_cluster_n                                                                                                                                6.5 (3.18-13.3) \n",
       "Surv(time_to_eskd_from_admission, treatment_eskd) ~ fna3_cluster_n +      Age + Sex + Race + strata(LC.Isotype)                                                                                   6.63 (3.24-13.6)\n",
       "Surv(time_to_eskd_from_admission, treatment_eskd) ~ fna3_cluster_n +      Age + Sex + Race + eGFR + tt(eGFR) + log2(X24_hr_UTP + 1) +      strata(LC.Isotype)                                     6.27 (2.5-15.7) \n",
       "Surv(time_to_eskd_from_admission, treatment_eskd) ~ fna3_cluster_n +      Renal.Stage..Palladini. + Age + Sex + Race + eGFR + tt(eGFR) +      log2(X24_hr_UTP + 1) + strata(LC.Isotype)           4.2 (1.65-10.7) \n",
       "Surv(time_to_eskd_from_admission, treatment_eskd) ~ fna3_cluster_n +      Renal.Stage..Palladini. + Age + Sex + Race + eGFR + tt(eGFR) +      log2(X24_hr_UTP + 1) + Albumin + strata(LC.Isotype) 3.97 (1.18-13.4)"
      ]
     },
     "metadata": {},
     "output_type": "display_data"
    }
   ],
   "source": [
    "coxSummary(cox_models, var=\"fna3_cluster_n\")"
   ]
  },
  {
   "cell_type": "code",
   "execution_count": 95,
   "metadata": {
    "vscode": {
     "languageId": "r"
    }
   },
   "outputs": [
    {
     "data": {
      "text/html": [
       "<table class=\"dataframe\">\n",
       "<caption>A data.frame: 6 x 3</caption>\n",
       "<thead>\n",
       "\t<tr><th></th><th scope=col>High</th><th scope=col>Low</th><th scope=col>Intermediate</th></tr>\n",
       "\t<tr><th></th><th scope=col>&lt;chr&gt;</th><th scope=col>&lt;chr&gt;</th><th scope=col>&lt;chr&gt;</th></tr>\n",
       "</thead>\n",
       "<tbody>\n",
       "\t<tr><th scope=row>Events</th><td>8        </td><td>88              </td><td>135             </td></tr>\n",
       "\t<tr><th scope=row>Surv(time_to_eskd_from_admission, treatment_eskd) ~ fna3_cluster_n</th><td>Reference</td><td>3.2 (1.55-6.61) </td><td>6.5 (3.18-13.3) </td></tr>\n",
       "\t<tr><th scope=row>Surv(time_to_eskd_from_admission, treatment_eskd) ~ fna3_cluster_n +      Age + Sex + Race + strata(LC.Isotype)</th><td>Reference</td><td>3.21 (1.55-6.64)</td><td>6.63 (3.24-13.6)</td></tr>\n",
       "\t<tr><th scope=row>Surv(time_to_eskd_from_admission, treatment_eskd) ~ fna3_cluster_n +      Age + Sex + Race + eGFR + tt(eGFR) + log2(X24_hr_UTP + 1) +      strata(LC.Isotype)</th><td>Reference</td><td>3.31 (1.33-8.26)</td><td>6.27 (2.5-15.7) </td></tr>\n",
       "\t<tr><th scope=row>Surv(time_to_eskd_from_admission, treatment_eskd) ~ fna3_cluster_n +      Renal.Stage..Palladini. + Age + Sex + Race + eGFR + tt(eGFR) +      log2(X24_hr_UTP + 1) + strata(LC.Isotype)</th><td>Reference</td><td>2.65 (1.05-6.65)</td><td>4.2 (1.65-10.7) </td></tr>\n",
       "\t<tr><th scope=row>Surv(time_to_eskd_from_admission, treatment_eskd) ~ fna3_cluster_n +      Renal.Stage..Palladini. + Age + Sex + Race + eGFR + tt(eGFR) +      log2(X24_hr_UTP + 1) + Albumin + strata(LC.Isotype)</th><td>Reference</td><td>3.52 (1.09-11.4)</td><td>3.97 (1.18-13.4)</td></tr>\n",
       "</tbody>\n",
       "</table>\n"
      ],
      "text/latex": [
       "A data.frame: 6 x 3\n",
       "\\begin{tabular}{r|lll}\n",
       "  & High & Low & Intermediate\\\\\n",
       "  & <chr> & <chr> & <chr>\\\\\n",
       "\\hline\n",
       "\tEvents & 8         & 88               & 135             \\\\\n",
       "\tSurv(time\\_to\\_eskd\\_from\\_admission, treatment\\_eskd) \\textasciitilde{} fna3\\_cluster\\_n & Reference & 3.2 (1.55-6.61)  & 6.5 (3.18-13.3) \\\\\n",
       "\tSurv(time\\_to\\_eskd\\_from\\_admission, treatment\\_eskd) \\textasciitilde{} fna3\\_cluster\\_n +      Age + Sex + Race + strata(LC.Isotype) & Reference & 3.21 (1.55-6.64) & 6.63 (3.24-13.6)\\\\\n",
       "\tSurv(time\\_to\\_eskd\\_from\\_admission, treatment\\_eskd) \\textasciitilde{} fna3\\_cluster\\_n +      Age + Sex + Race + eGFR + tt(eGFR) + log2(X24\\_hr\\_UTP + 1) +      strata(LC.Isotype) & Reference & 3.31 (1.33-8.26) & 6.27 (2.5-15.7) \\\\\n",
       "\tSurv(time\\_to\\_eskd\\_from\\_admission, treatment\\_eskd) \\textasciitilde{} fna3\\_cluster\\_n +      Renal.Stage..Palladini. + Age + Sex + Race + eGFR + tt(eGFR) +      log2(X24\\_hr\\_UTP + 1) + strata(LC.Isotype) & Reference & 2.65 (1.05-6.65) & 4.2 (1.65-10.7) \\\\\n",
       "\tSurv(time\\_to\\_eskd\\_from\\_admission, treatment\\_eskd) \\textasciitilde{} fna3\\_cluster\\_n +      Renal.Stage..Palladini. + Age + Sex + Race + eGFR + tt(eGFR) +      log2(X24\\_hr\\_UTP + 1) + Albumin + strata(LC.Isotype) & Reference & 3.52 (1.09-11.4) & 3.97 (1.18-13.4)\\\\\n",
       "\\end{tabular}\n"
      ],
      "text/markdown": [
       "\n",
       "A data.frame: 6 x 3\n",
       "\n",
       "| <!--/--> | High &lt;chr&gt; | Low &lt;chr&gt; | Intermediate &lt;chr&gt; |\n",
       "|---|---|---|---|\n",
       "| Events | 8         | 88               | 135              |\n",
       "| Surv(time_to_eskd_from_admission, treatment_eskd) ~ fna3_cluster_n | Reference | 3.2 (1.55-6.61)  | 6.5 (3.18-13.3)  |\n",
       "| Surv(time_to_eskd_from_admission, treatment_eskd) ~ fna3_cluster_n +      Age + Sex + Race + strata(LC.Isotype) | Reference | 3.21 (1.55-6.64) | 6.63 (3.24-13.6) |\n",
       "| Surv(time_to_eskd_from_admission, treatment_eskd) ~ fna3_cluster_n +      Age + Sex + Race + eGFR + tt(eGFR) + log2(X24_hr_UTP + 1) +      strata(LC.Isotype) | Reference | 3.31 (1.33-8.26) | 6.27 (2.5-15.7)  |\n",
       "| Surv(time_to_eskd_from_admission, treatment_eskd) ~ fna3_cluster_n +      Renal.Stage..Palladini. + Age + Sex + Race + eGFR + tt(eGFR) +      log2(X24_hr_UTP + 1) + strata(LC.Isotype) | Reference | 2.65 (1.05-6.65) | 4.2 (1.65-10.7)  |\n",
       "| Surv(time_to_eskd_from_admission, treatment_eskd) ~ fna3_cluster_n +      Renal.Stage..Palladini. + Age + Sex + Race + eGFR + tt(eGFR) +      log2(X24_hr_UTP + 1) + Albumin + strata(LC.Isotype) | Reference | 3.52 (1.09-11.4) | 3.97 (1.18-13.4) |\n",
       "\n"
      ],
      "text/plain": [
       "                                                                                                                                                                                                  High     \n",
       "Events                                                                                                                                                                                            8        \n",
       "Surv(time_to_eskd_from_admission, treatment_eskd) ~ fna3_cluster_n                                                                                                                                Reference\n",
       "Surv(time_to_eskd_from_admission, treatment_eskd) ~ fna3_cluster_n +      Age + Sex + Race + strata(LC.Isotype)                                                                                   Reference\n",
       "Surv(time_to_eskd_from_admission, treatment_eskd) ~ fna3_cluster_n +      Age + Sex + Race + eGFR + tt(eGFR) + log2(X24_hr_UTP + 1) +      strata(LC.Isotype)                                     Reference\n",
       "Surv(time_to_eskd_from_admission, treatment_eskd) ~ fna3_cluster_n +      Renal.Stage..Palladini. + Age + Sex + Race + eGFR + tt(eGFR) +      log2(X24_hr_UTP + 1) + strata(LC.Isotype)           Reference\n",
       "Surv(time_to_eskd_from_admission, treatment_eskd) ~ fna3_cluster_n +      Renal.Stage..Palladini. + Age + Sex + Race + eGFR + tt(eGFR) +      log2(X24_hr_UTP + 1) + Albumin + strata(LC.Isotype) Reference\n",
       "                                                                                                                                                                                                  Low             \n",
       "Events                                                                                                                                                                                            88              \n",
       "Surv(time_to_eskd_from_admission, treatment_eskd) ~ fna3_cluster_n                                                                                                                                3.2 (1.55-6.61) \n",
       "Surv(time_to_eskd_from_admission, treatment_eskd) ~ fna3_cluster_n +      Age + Sex + Race + strata(LC.Isotype)                                                                                   3.21 (1.55-6.64)\n",
       "Surv(time_to_eskd_from_admission, treatment_eskd) ~ fna3_cluster_n +      Age + Sex + Race + eGFR + tt(eGFR) + log2(X24_hr_UTP + 1) +      strata(LC.Isotype)                                     3.31 (1.33-8.26)\n",
       "Surv(time_to_eskd_from_admission, treatment_eskd) ~ fna3_cluster_n +      Renal.Stage..Palladini. + Age + Sex + Race + eGFR + tt(eGFR) +      log2(X24_hr_UTP + 1) + strata(LC.Isotype)           2.65 (1.05-6.65)\n",
       "Surv(time_to_eskd_from_admission, treatment_eskd) ~ fna3_cluster_n +      Renal.Stage..Palladini. + Age + Sex + Race + eGFR + tt(eGFR) +      log2(X24_hr_UTP + 1) + Albumin + strata(LC.Isotype) 3.52 (1.09-11.4)\n",
       "                                                                                                                                                                                                  Intermediate    \n",
       "Events                                                                                                                                                                                            135             \n",
       "Surv(time_to_eskd_from_admission, treatment_eskd) ~ fna3_cluster_n                                                                                                                                6.5 (3.18-13.3) \n",
       "Surv(time_to_eskd_from_admission, treatment_eskd) ~ fna3_cluster_n +      Age + Sex + Race + strata(LC.Isotype)                                                                                   6.63 (3.24-13.6)\n",
       "Surv(time_to_eskd_from_admission, treatment_eskd) ~ fna3_cluster_n +      Age + Sex + Race + eGFR + tt(eGFR) + log2(X24_hr_UTP + 1) +      strata(LC.Isotype)                                     6.27 (2.5-15.7) \n",
       "Surv(time_to_eskd_from_admission, treatment_eskd) ~ fna3_cluster_n +      Renal.Stage..Palladini. + Age + Sex + Race + eGFR + tt(eGFR) +      log2(X24_hr_UTP + 1) + strata(LC.Isotype)           4.2 (1.65-10.7) \n",
       "Surv(time_to_eskd_from_admission, treatment_eskd) ~ fna3_cluster_n +      Renal.Stage..Palladini. + Age + Sex + Race + eGFR + tt(eGFR) +      log2(X24_hr_UTP + 1) + Albumin + strata(LC.Isotype) 3.97 (1.18-13.4)"
      ]
     },
     "metadata": {},
     "output_type": "display_data"
    }
   ],
   "source": [
    "cox_models <- list(eskd.crude, eskd.baseline.cluster.t, eskd.labs.cluster.t, eskd.labs.stage.cluster.t, eskd.labs.stage.cluster.v2.t)\n",
    "cox_summary <- coxSummary(cox_models, var=\"fna3_cluster_n\")\n",
    "cox_summary$High <- \"Reference\"\n",
    "\n",
    "# # Add events\n",
    "result <- eskd.df %>% \n",
    "    filter(!is.na(eval(fna3_cluster_n))) %>% \n",
    "    group_by(fna3_cluster_n) %>% \n",
    "    summarize(Events = sum(treatment_eskd)) %>%\n",
    "    column_to_rownames(var = \"fna3_cluster_n\")\n",
    "\n",
    "cox_summmary <- rbind(t(result), cox_summary)\n",
    "cox_summmary"
   ]
  },
  {
   "cell_type": "code",
   "execution_count": 96,
   "metadata": {
    "vscode": {
     "languageId": "r"
    }
   },
   "outputs": [
    {
     "data": {
      "text/html": [
       "<table class=\"dataframe\">\n",
       "<caption>A data.frame: 13 x 9</caption>\n",
       "<thead>\n",
       "\t<tr><th></th><th scope=col>coef</th><th scope=col>exp.coef.</th><th scope=col>se.coef.</th><th scope=col>z</th><th scope=col>Pr...z..</th><th scope=col>coef_exp</th><th scope=col>ci_lower</th><th scope=col>ci_upper</th><th scope=col>HR</th></tr>\n",
       "\t<tr><th></th><th scope=col>&lt;dbl&gt;</th><th scope=col>&lt;dbl&gt;</th><th scope=col>&lt;dbl&gt;</th><th scope=col>&lt;dbl&gt;</th><th scope=col>&lt;dbl&gt;</th><th scope=col>&lt;dbl&gt;</th><th scope=col>&lt;dbl&gt;</th><th scope=col>&lt;dbl&gt;</th><th scope=col>&lt;chr&gt;</th></tr>\n",
       "</thead>\n",
       "<tbody>\n",
       "\t<tr><th scope=row>fna3_cluster_nLow</th><td> 1.259021782</td><td>3.5219745</td><td>0.597860304</td><td> 2.10587954</td><td>3.521482e-02</td><td>3.520</td><td>1.090</td><td>11.400</td><td>3.52 (1.09-11.4)   </td></tr>\n",
       "\t<tr><th scope=row>fna3_cluster_nIntermediate</th><td> 1.379044587</td><td>3.9711058</td><td>0.619863109</td><td> 2.22475667</td><td>2.609758e-02</td><td>3.970</td><td>1.180</td><td>13.400</td><td>3.97 (1.18-13.4)   </td></tr>\n",
       "\t<tr><th scope=row>Renal.Stage..Palladini.Stage II</th><td> 0.912400802</td><td>2.4902941</td><td>0.278600526</td><td> 3.27494285</td><td>1.056834e-03</td><td>2.490</td><td>1.440</td><td> 4.300</td><td>2.49 (1.44-4.3)    </td></tr>\n",
       "\t<tr><th scope=row>Renal.Stage..Palladini.Stage III</th><td> 1.190646181</td><td>3.2892059</td><td>0.397308210</td><td> 2.99678222</td><td>2.728456e-03</td><td>3.290</td><td>1.510</td><td> 7.170</td><td>3.29 (1.51-7.17)   </td></tr>\n",
       "\t<tr><th scope=row>Age</th><td>-0.015698965</td><td>0.9844236</td><td>0.007278396</td><td>-2.15692657</td><td>3.101139e-02</td><td>0.984</td><td>0.970</td><td> 0.999</td><td>0.984 (0.97-0.999) </td></tr>\n",
       "\t<tr><th scope=row>Sexmale</th><td> 0.086705771</td><td>1.0905758</td><td>0.156434744</td><td> 0.55426160</td><td>5.793998e-01</td><td>1.090</td><td>0.803</td><td> 1.480</td><td>1.09 (0.803-1.48)  </td></tr>\n",
       "\t<tr><th scope=row>RaceBlack</th><td>-0.010235901</td><td>0.9898163</td><td>0.634199032</td><td>-0.01613989</td><td>9.871228e-01</td><td>0.990</td><td>0.286</td><td> 3.430</td><td>0.99 (0.286-3.43)  </td></tr>\n",
       "\t<tr><th scope=row>RaceOther</th><td> 0.734950102</td><td>2.0853779</td><td>0.899539035</td><td> 0.81702969</td><td>4.139115e-01</td><td>2.090</td><td>0.358</td><td>12.200</td><td>2.09 (0.358-12.2)  </td></tr>\n",
       "\t<tr><th scope=row>RaceWhite</th><td> 0.599109247</td><td>1.8204965</td><td>0.511914557</td><td> 1.17033055</td><td>2.418680e-01</td><td>1.820</td><td>0.667</td><td> 4.970</td><td>1.82 (0.667-4.97)  </td></tr>\n",
       "\t<tr><th scope=row>eGFR</th><td>-0.027404019</td><td>0.9729681</td><td>0.004281512</td><td>-6.40054657</td><td>1.548217e-10</td><td>0.973</td><td>0.965</td><td> 0.981</td><td>0.973 (0.965-0.981)</td></tr>\n",
       "\t<tr><th scope=row>tt(eGFR)</th><td> 0.009954053</td><td>1.0100038</td><td>0.002067968</td><td> 4.81344680</td><td>1.483491e-06</td><td>1.010</td><td>1.010</td><td> 1.010</td><td>1.01 (1.01-1.01)   </td></tr>\n",
       "\t<tr><th scope=row>log2(X24_hr_UTP + 1)</th><td>-0.037572615</td><td>0.9631245</td><td>0.022471821</td><td>-1.67198800</td><td>9.452669e-02</td><td>0.963</td><td>0.922</td><td> 1.010</td><td>0.963 (0.922-1.01) </td></tr>\n",
       "\t<tr><th scope=row>Albumin</th><td>-0.373583345</td><td>0.6882636</td><td>0.125070520</td><td>-2.98698161</td><td>2.817467e-03</td><td>0.688</td><td>0.539</td><td> 0.879</td><td>0.688 (0.539-0.879)</td></tr>\n",
       "</tbody>\n",
       "</table>\n"
      ],
      "text/latex": [
       "A data.frame: 13 x 9\n",
       "\\begin{tabular}{r|lllllllll}\n",
       "  & coef & exp.coef. & se.coef. & z & Pr...z.. & coef\\_exp & ci\\_lower & ci\\_upper & HR\\\\\n",
       "  & <dbl> & <dbl> & <dbl> & <dbl> & <dbl> & <dbl> & <dbl> & <dbl> & <chr>\\\\\n",
       "\\hline\n",
       "\tfna3\\_cluster\\_nLow &  1.259021782 & 3.5219745 & 0.597860304 &  2.10587954 & 3.521482e-02 & 3.520 & 1.090 & 11.400 & 3.52 (1.09-11.4)   \\\\\n",
       "\tfna3\\_cluster\\_nIntermediate &  1.379044587 & 3.9711058 & 0.619863109 &  2.22475667 & 2.609758e-02 & 3.970 & 1.180 & 13.400 & 3.97 (1.18-13.4)   \\\\\n",
       "\tRenal.Stage..Palladini.Stage II &  0.912400802 & 2.4902941 & 0.278600526 &  3.27494285 & 1.056834e-03 & 2.490 & 1.440 &  4.300 & 2.49 (1.44-4.3)    \\\\\n",
       "\tRenal.Stage..Palladini.Stage III &  1.190646181 & 3.2892059 & 0.397308210 &  2.99678222 & 2.728456e-03 & 3.290 & 1.510 &  7.170 & 3.29 (1.51-7.17)   \\\\\n",
       "\tAge & -0.015698965 & 0.9844236 & 0.007278396 & -2.15692657 & 3.101139e-02 & 0.984 & 0.970 &  0.999 & 0.984 (0.97-0.999) \\\\\n",
       "\tSexmale &  0.086705771 & 1.0905758 & 0.156434744 &  0.55426160 & 5.793998e-01 & 1.090 & 0.803 &  1.480 & 1.09 (0.803-1.48)  \\\\\n",
       "\tRaceBlack & -0.010235901 & 0.9898163 & 0.634199032 & -0.01613989 & 9.871228e-01 & 0.990 & 0.286 &  3.430 & 0.99 (0.286-3.43)  \\\\\n",
       "\tRaceOther &  0.734950102 & 2.0853779 & 0.899539035 &  0.81702969 & 4.139115e-01 & 2.090 & 0.358 & 12.200 & 2.09 (0.358-12.2)  \\\\\n",
       "\tRaceWhite &  0.599109247 & 1.8204965 & 0.511914557 &  1.17033055 & 2.418680e-01 & 1.820 & 0.667 &  4.970 & 1.82 (0.667-4.97)  \\\\\n",
       "\teGFR & -0.027404019 & 0.9729681 & 0.004281512 & -6.40054657 & 1.548217e-10 & 0.973 & 0.965 &  0.981 & 0.973 (0.965-0.981)\\\\\n",
       "\ttt(eGFR) &  0.009954053 & 1.0100038 & 0.002067968 &  4.81344680 & 1.483491e-06 & 1.010 & 1.010 &  1.010 & 1.01 (1.01-1.01)   \\\\\n",
       "\tlog2(X24\\_hr\\_UTP + 1) & -0.037572615 & 0.9631245 & 0.022471821 & -1.67198800 & 9.452669e-02 & 0.963 & 0.922 &  1.010 & 0.963 (0.922-1.01) \\\\\n",
       "\tAlbumin & -0.373583345 & 0.6882636 & 0.125070520 & -2.98698161 & 2.817467e-03 & 0.688 & 0.539 &  0.879 & 0.688 (0.539-0.879)\\\\\n",
       "\\end{tabular}\n"
      ],
      "text/markdown": [
       "\n",
       "A data.frame: 13 x 9\n",
       "\n",
       "| <!--/--> | coef &lt;dbl&gt; | exp.coef. &lt;dbl&gt; | se.coef. &lt;dbl&gt; | z &lt;dbl&gt; | Pr...z.. &lt;dbl&gt; | coef_exp &lt;dbl&gt; | ci_lower &lt;dbl&gt; | ci_upper &lt;dbl&gt; | HR &lt;chr&gt; |\n",
       "|---|---|---|---|---|---|---|---|---|---|\n",
       "| fna3_cluster_nLow |  1.259021782 | 3.5219745 | 0.597860304 |  2.10587954 | 3.521482e-02 | 3.520 | 1.090 | 11.400 | 3.52 (1.09-11.4)    |\n",
       "| fna3_cluster_nIntermediate |  1.379044587 | 3.9711058 | 0.619863109 |  2.22475667 | 2.609758e-02 | 3.970 | 1.180 | 13.400 | 3.97 (1.18-13.4)    |\n",
       "| Renal.Stage..Palladini.Stage II |  0.912400802 | 2.4902941 | 0.278600526 |  3.27494285 | 1.056834e-03 | 2.490 | 1.440 |  4.300 | 2.49 (1.44-4.3)     |\n",
       "| Renal.Stage..Palladini.Stage III |  1.190646181 | 3.2892059 | 0.397308210 |  2.99678222 | 2.728456e-03 | 3.290 | 1.510 |  7.170 | 3.29 (1.51-7.17)    |\n",
       "| Age | -0.015698965 | 0.9844236 | 0.007278396 | -2.15692657 | 3.101139e-02 | 0.984 | 0.970 |  0.999 | 0.984 (0.97-0.999)  |\n",
       "| Sexmale |  0.086705771 | 1.0905758 | 0.156434744 |  0.55426160 | 5.793998e-01 | 1.090 | 0.803 |  1.480 | 1.09 (0.803-1.48)   |\n",
       "| RaceBlack | -0.010235901 | 0.9898163 | 0.634199032 | -0.01613989 | 9.871228e-01 | 0.990 | 0.286 |  3.430 | 0.99 (0.286-3.43)   |\n",
       "| RaceOther |  0.734950102 | 2.0853779 | 0.899539035 |  0.81702969 | 4.139115e-01 | 2.090 | 0.358 | 12.200 | 2.09 (0.358-12.2)   |\n",
       "| RaceWhite |  0.599109247 | 1.8204965 | 0.511914557 |  1.17033055 | 2.418680e-01 | 1.820 | 0.667 |  4.970 | 1.82 (0.667-4.97)   |\n",
       "| eGFR | -0.027404019 | 0.9729681 | 0.004281512 | -6.40054657 | 1.548217e-10 | 0.973 | 0.965 |  0.981 | 0.973 (0.965-0.981) |\n",
       "| tt(eGFR) |  0.009954053 | 1.0100038 | 0.002067968 |  4.81344680 | 1.483491e-06 | 1.010 | 1.010 |  1.010 | 1.01 (1.01-1.01)    |\n",
       "| log2(X24_hr_UTP + 1) | -0.037572615 | 0.9631245 | 0.022471821 | -1.67198800 | 9.452669e-02 | 0.963 | 0.922 |  1.010 | 0.963 (0.922-1.01)  |\n",
       "| Albumin | -0.373583345 | 0.6882636 | 0.125070520 | -2.98698161 | 2.817467e-03 | 0.688 | 0.539 |  0.879 | 0.688 (0.539-0.879) |\n",
       "\n"
      ],
      "text/plain": [
       "                                 coef         exp.coef. se.coef.    z          \n",
       "fna3_cluster_nLow                 1.259021782 3.5219745 0.597860304  2.10587954\n",
       "fna3_cluster_nIntermediate        1.379044587 3.9711058 0.619863109  2.22475667\n",
       "Renal.Stage..Palladini.Stage II   0.912400802 2.4902941 0.278600526  3.27494285\n",
       "Renal.Stage..Palladini.Stage III  1.190646181 3.2892059 0.397308210  2.99678222\n",
       "Age                              -0.015698965 0.9844236 0.007278396 -2.15692657\n",
       "Sexmale                           0.086705771 1.0905758 0.156434744  0.55426160\n",
       "RaceBlack                        -0.010235901 0.9898163 0.634199032 -0.01613989\n",
       "RaceOther                         0.734950102 2.0853779 0.899539035  0.81702969\n",
       "RaceWhite                         0.599109247 1.8204965 0.511914557  1.17033055\n",
       "eGFR                             -0.027404019 0.9729681 0.004281512 -6.40054657\n",
       "tt(eGFR)                          0.009954053 1.0100038 0.002067968  4.81344680\n",
       "log2(X24_hr_UTP + 1)             -0.037572615 0.9631245 0.022471821 -1.67198800\n",
       "Albumin                          -0.373583345 0.6882636 0.125070520 -2.98698161\n",
       "                                 Pr...z..     coef_exp ci_lower ci_upper\n",
       "fna3_cluster_nLow                3.521482e-02 3.520    1.090    11.400  \n",
       "fna3_cluster_nIntermediate       2.609758e-02 3.970    1.180    13.400  \n",
       "Renal.Stage..Palladini.Stage II  1.056834e-03 2.490    1.440     4.300  \n",
       "Renal.Stage..Palladini.Stage III 2.728456e-03 3.290    1.510     7.170  \n",
       "Age                              3.101139e-02 0.984    0.970     0.999  \n",
       "Sexmale                          5.793998e-01 1.090    0.803     1.480  \n",
       "RaceBlack                        9.871228e-01 0.990    0.286     3.430  \n",
       "RaceOther                        4.139115e-01 2.090    0.358    12.200  \n",
       "RaceWhite                        2.418680e-01 1.820    0.667     4.970  \n",
       "eGFR                             1.548217e-10 0.973    0.965     0.981  \n",
       "tt(eGFR)                         1.483491e-06 1.010    1.010     1.010  \n",
       "log2(X24_hr_UTP + 1)             9.452669e-02 0.963    0.922     1.010  \n",
       "Albumin                          2.817467e-03 0.688    0.539     0.879  \n",
       "                                 HR                 \n",
       "fna3_cluster_nLow                3.52 (1.09-11.4)   \n",
       "fna3_cluster_nIntermediate       3.97 (1.18-13.4)   \n",
       "Renal.Stage..Palladini.Stage II  2.49 (1.44-4.3)    \n",
       "Renal.Stage..Palladini.Stage III 3.29 (1.51-7.17)   \n",
       "Age                              0.984 (0.97-0.999) \n",
       "Sexmale                          1.09 (0.803-1.48)  \n",
       "RaceBlack                        0.99 (0.286-3.43)  \n",
       "RaceOther                        2.09 (0.358-12.2)  \n",
       "RaceWhite                        1.82 (0.667-4.97)  \n",
       "eGFR                             0.973 (0.965-0.981)\n",
       "tt(eGFR)                         1.01 (1.01-1.01)   \n",
       "log2(X24_hr_UTP + 1)             0.963 (0.922-1.01) \n",
       "Albumin                          0.688 (0.539-0.879)"
      ]
     },
     "metadata": {},
     "output_type": "display_data"
    }
   ],
   "source": [
    "getCoef(eskd.labs.stage.cluster.v2.t)"
   ]
  },
  {
   "cell_type": "code",
   "execution_count": 98,
   "metadata": {
    "vscode": {
     "languageId": "r"
    }
   },
   "outputs": [],
   "source": [
    "source(\"funcs/rfuncs.R\")"
   ]
  },
  {
   "cell_type": "code",
   "execution_count": 109,
   "metadata": {
    "vscode": {
     "languageId": "r"
    }
   },
   "outputs": [
    {
     "data": {
      "text/html": [
       "<strong>pdf:</strong> 2"
      ],
      "text/latex": [
       "\\textbf{pdf:} 2"
      ],
      "text/markdown": [
       "**pdf:** 2"
      ],
      "text/plain": [
       "pdf \n",
       "  2 "
      ]
     },
     "metadata": {},
     "output_type": "display_data"
    }
   ],
   "source": [
    "pdf(\"figures/cluster_fna3_km_eskd_curve.pdf\", h=8, w=6)\n",
    "fit <- survfit(Surv(time_to_eskd_from_admission, treatment_eskd) ~ fna3_cluster_n, data=eskd.df)\n",
    "plotSurv(fit, eskd.df, \"Subgroup\", NULL, palette=c(\"#ca4a29\",\"#62b67d\",\"#69a9c8\"), \n",
    "         surv.median.line=\"v\", break.time.by=2)\n",
    "dev.off()"
   ]
  },
  {
   "cell_type": "markdown",
   "metadata": {},
   "source": [
    "## 3. Adjusted Cumulative Incidence of ESKD\n",
    "---"
   ]
  },
  {
   "cell_type": "code",
   "execution_count": 54,
   "metadata": {
    "vscode": {
     "languageId": "r"
    }
   },
   "outputs": [
    {
     "data": {
      "text/plain": [
       "Call:\n",
       "coxph(formula = Surv(time_to_eskd_from_admission, treatment_eskd) ~ \n",
       "    fna3_cluster_n + Age + Sex + Race + strata(LC.Isotype), data = eskd.df, \n",
       "    x = TRUE)\n",
       "\n",
       "  n= 1756, number of events= 231 \n",
       "   (6 observations deleted due to missingness)\n",
       "\n",
       "                                coef exp(coef)  se(coef)      z Pr(>|z|)    \n",
       "fna3_cluster_nIntermediate  0.725978  2.066751  0.139268  5.213 1.86e-07 ***\n",
       "fna3_cluster_nHigh         -1.165436  0.311787  0.371284 -3.139   0.0017 ** \n",
       "Age                        -0.006796  0.993227  0.006288 -1.081   0.2797    \n",
       "Sexmale                     0.284603  1.329234  0.138710  2.052   0.0402 *  \n",
       "RaceBlack                  -0.250577  0.778351  0.549333 -0.456   0.6483    \n",
       "RaceOther                   0.713901  2.041942  0.838845  0.851   0.3947    \n",
       "RaceWhite                   0.254335  1.289604  0.454788  0.559   0.5760    \n",
       "---\n",
       "Signif. codes:  0 '***' 0.001 '**' 0.01 '*' 0.05 '.' 0.1 ' ' 1\n",
       "\n",
       "                           exp(coef) exp(-coef) lower .95 upper .95\n",
       "fna3_cluster_nIntermediate    2.0668     0.4839    1.5731    2.7154\n",
       "fna3_cluster_nHigh            0.3118     3.2073    0.1506    0.6455\n",
       "Age                           0.9932     1.0068    0.9811    1.0055\n",
       "Sexmale                       1.3292     0.7523    1.0128    1.7445\n",
       "RaceBlack                     0.7784     1.2848    0.2652    2.2844\n",
       "RaceOther                     2.0419     0.4897    0.3945   10.5699\n",
       "RaceWhite                     1.2896     0.7754    0.5289    3.1447\n",
       "\n",
       "Concordance= 0.688  (se = 0.019 )\n",
       "Likelihood ratio test= 67.84  on 7 df,   p=4e-12\n",
       "Wald test            = 56.61  on 7 df,   p=7e-10\n",
       "Score (logrank) test = 63.94  on 7 df,   p=2e-11\n"
      ]
     },
     "metadata": {},
     "output_type": "display_data"
    }
   ],
   "source": [
    "summary(eskd.baseline.cluster.t)"
   ]
  },
  {
   "cell_type": "code",
   "execution_count": 23,
   "metadata": {
    "vscode": {
     "languageId": "r"
    }
   },
   "outputs": [
    {
     "name": "stderr",
     "output_type": "stream",
     "text": [
      "Loading required namespace: riskRegression\n",
      "\n",
      "Warning message in .recacheSubclasses(def@className, def, env):\n",
      "\"undefined subclass \"ndiMatrix\" of class \"replValueSp\"; definition not updated\"\n",
      "Loading required namespace: doParallel\n",
      "\n"
     ]
    }
   ],
   "source": [
    "# Adjusted survival curve without bootstrap\n",
    "eskd.adjsurv <- adjustedsurv(data=eskd.df,\n",
    "                        variable=\"fna3_cluster_n\",\n",
    "                        ev_time=\"time_to_eskd_from_admission\",\n",
    "                        event=\"treatment_eskd\",\n",
    "                        method=\"direct\",\n",
    "                        outcome_model=eskd.baseline.cluster.t,\n",
    "                        conf_int=T,\n",
    "                        n_cores=8,\n",
    "                        n_boot=1000,\n",
    "                        bootstrap=TRUE\n",
    "                       )"
   ]
  },
  {
   "cell_type": "code",
   "execution_count": 24,
   "metadata": {
    "vscode": {
     "languageId": "r"
    }
   },
   "outputs": [],
   "source": [
    "saveRDS(eskd.adjsurv, \"data/analysis/eskd_adjsurv.rds\")"
   ]
  },
  {
   "cell_type": "code",
   "execution_count": 30,
   "metadata": {
    "vscode": {
     "languageId": "r"
    }
   },
   "outputs": [
    {
     "name": "stderr",
     "output_type": "stream",
     "text": [
      "Warning message:\n",
      "\"\u001b[1m\u001b[22mRemoved 48 rows containing missing values (`geom_step()`).\"\n"
     ]
    },
    {
     "data": {
      "text/html": [
       "<strong>pdf:</strong> 2"
      ],
      "text/latex": [
       "\\textbf{pdf:} 2"
      ],
      "text/markdown": [
       "**pdf:** 2"
      ],
      "text/plain": [
       "pdf \n",
       "  2 "
      ]
     },
     "metadata": {},
     "output_type": "display_data"
    }
   ],
   "source": [
    "pdf(\"figures/adjusted_eskd_clust.pdf\")\n",
    "plot(eskd.adjsurv, conf_int=F, custom_colors=c(\"#62b67d\",\"#69a9c8\",\"#ca4a29\"), cif=T) + xlim(0,12.5) + ylim(0,0.45)\n",
    "dev.off()"
   ]
  },
  {
   "cell_type": "code",
   "execution_count": 26,
   "metadata": {
    "vscode": {
     "languageId": "r"
    }
   },
   "outputs": [
    {
     "data": {
      "text/html": [
       "<table class=\"dataframe\">\n",
       "<caption>A data.frame: 3 x 3</caption>\n",
       "<thead>\n",
       "\t<tr><th></th><th scope=col>1</th><th scope=col>5</th><th scope=col>10</th></tr>\n",
       "\t<tr><th></th><th scope=col>&lt;chr&gt;</th><th scope=col>&lt;chr&gt;</th><th scope=col>&lt;chr&gt;</th></tr>\n",
       "</thead>\n",
       "<tbody>\n",
       "\t<tr><th scope=row>Low</th><td>4.21 (5.3-3.17)  </td><td>11.8 (14.3-9.36)</td><td>20.9 (25.3-16.8)</td></tr>\n",
       "\t<tr><th scope=row>Intermediate</th><td>8.54 (10.7-6.42) </td><td>22.8 (27.1-18.7)</td><td>38.3 (44.7-32.2)</td></tr>\n",
       "\t<tr><th scope=row>High</th><td>1.31 (2.25-0.544)</td><td>3.78 (6.52-1.53)</td><td>6.95 (11.7-2.85)</td></tr>\n",
       "</tbody>\n",
       "</table>\n"
      ],
      "text/latex": [
       "A data.frame: 3 x 3\n",
       "\\begin{tabular}{r|lll}\n",
       "  & 1 & 5 & 10\\\\\n",
       "  & <chr> & <chr> & <chr>\\\\\n",
       "\\hline\n",
       "\tLow & 4.21 (5.3-3.17)   & 11.8 (14.3-9.36) & 20.9 (25.3-16.8)\\\\\n",
       "\tIntermediate & 8.54 (10.7-6.42)  & 22.8 (27.1-18.7) & 38.3 (44.7-32.2)\\\\\n",
       "\tHigh & 1.31 (2.25-0.544) & 3.78 (6.52-1.53) & 6.95 (11.7-2.85)\\\\\n",
       "\\end{tabular}\n"
      ],
      "text/markdown": [
       "\n",
       "A data.frame: 3 x 3\n",
       "\n",
       "| <!--/--> | 1 &lt;chr&gt; | 5 &lt;chr&gt; | 10 &lt;chr&gt; |\n",
       "|---|---|---|---|\n",
       "| Low | 4.21 (5.3-3.17)   | 11.8 (14.3-9.36) | 20.9 (25.3-16.8) |\n",
       "| Intermediate | 8.54 (10.7-6.42)  | 22.8 (27.1-18.7) | 38.3 (44.7-32.2) |\n",
       "| High | 1.31 (2.25-0.544) | 3.78 (6.52-1.53) | 6.95 (11.7-2.85) |\n",
       "\n"
      ],
      "text/plain": [
       "             1                 5                10              \n",
       "Low          4.21 (5.3-3.17)   11.8 (14.3-9.36) 20.9 (25.3-16.8)\n",
       "Intermediate 8.54 (10.7-6.42)  22.8 (27.1-18.7) 38.3 (44.7-32.2)\n",
       "High         1.31 (2.25-0.544) 3.78 (6.52-1.53) 6.95 (11.7-2.85)"
      ]
     },
     "metadata": {},
     "output_type": "display_data"
    }
   ],
   "source": [
    "getIncidenceGroup(eskd.adjsurv)"
   ]
  },
  {
   "cell_type": "code",
   "execution_count": 23,
   "metadata": {
    "vscode": {
     "languageId": "r"
    }
   },
   "outputs": [
    {
     "data": {
      "text/html": [
       "<table class=\"dataframe\">\n",
       "<caption>A data.frame: 3 x 4</caption>\n",
       "<thead>\n",
       "\t<tr><th scope=col>group</th><th scope=col>1</th><th scope=col>5</th><th scope=col>10</th></tr>\n",
       "\t<tr><th scope=col>&lt;fct&gt;</th><th scope=col>&lt;chr&gt;</th><th scope=col>&lt;chr&gt;</th><th scope=col>&lt;chr&gt;</th></tr>\n",
       "</thead>\n",
       "<tbody>\n",
       "\t<tr><td>Low vs. High         </td><td>2.67 (1.05-4.3) </td><td>7.21 (3.27-11.2)</td><td>11.8 (5.31-18.4)</td></tr>\n",
       "\t<tr><td>Intermediate vs. High</td><td>6.53 (4.31-8.76)</td><td>17 (12-21.9)    </td><td>26.7 (19.2-34.3)</td></tr>\n",
       "\t<tr><td>Intermediate vs. Low </td><td>3.86 (1.63-6.08)</td><td>9.77 (5.2-14.3) </td><td>14.9 (8.1-21.7) </td></tr>\n",
       "</tbody>\n",
       "</table>\n"
      ],
      "text/latex": [
       "A data.frame: 3 x 4\n",
       "\\begin{tabular}{llll}\n",
       " group & 1 & 5 & 10\\\\\n",
       " <fct> & <chr> & <chr> & <chr>\\\\\n",
       "\\hline\n",
       "\t Low vs. High          & 2.67 (1.05-4.3)  & 7.21 (3.27-11.2) & 11.8 (5.31-18.4)\\\\\n",
       "\t Intermediate vs. High & 6.53 (4.31-8.76) & 17 (12-21.9)     & 26.7 (19.2-34.3)\\\\\n",
       "\t Intermediate vs. Low  & 3.86 (1.63-6.08) & 9.77 (5.2-14.3)  & 14.9 (8.1-21.7) \\\\\n",
       "\\end{tabular}\n"
      ],
      "text/markdown": [
       "\n",
       "A data.frame: 3 x 4\n",
       "\n",
       "| group &lt;fct&gt; | 1 &lt;chr&gt; | 5 &lt;chr&gt; | 10 &lt;chr&gt; |\n",
       "|---|---|---|---|\n",
       "| Low vs. High          | 2.67 (1.05-4.3)  | 7.21 (3.27-11.2) | 11.8 (5.31-18.4) |\n",
       "| Intermediate vs. High | 6.53 (4.31-8.76) | 17 (12-21.9)     | 26.7 (19.2-34.3) |\n",
       "| Intermediate vs. Low  | 3.86 (1.63-6.08) | 9.77 (5.2-14.3)  | 14.9 (8.1-21.7)  |\n",
       "\n"
      ],
      "text/plain": [
       "  group                 1                5                10              \n",
       "1 Low vs. High          2.67 (1.05-4.3)  7.21 (3.27-11.2) 11.8 (5.31-18.4)\n",
       "2 Intermediate vs. High 6.53 (4.31-8.76) 17 (12-21.9)     26.7 (19.2-34.3)\n",
       "3 Intermediate vs. Low  3.86 (1.63-6.08) 9.77 (5.2-14.3)  14.9 (8.1-21.7) "
      ]
     },
     "metadata": {},
     "output_type": "display_data"
    }
   ],
   "source": [
    "getRiskDiff(eskd.adjsurv, c(\"Low vs. High\",\"Intermediate vs. High\",\"Intermediate vs. Low\"))"
   ]
  },
  {
   "cell_type": "code",
   "execution_count": 24,
   "metadata": {
    "vscode": {
     "languageId": "r"
    }
   },
   "outputs": [
    {
     "name": "stdout",
     "output_type": "stream",
     "text": [
      "------------------------------------------------------------------\n",
      "   Test of the Difference between two adjusted Survival Curves\n",
      "------------------------------------------------------------------\n",
      "\n",
      "Using the interval: 0 to 12 \n",
      "\n",
      "                          ABC ABC SE 95% CI (lower) 95% CI (upper) P-Value\n",
      "Low vs. Intermediate   1.2588 0.2639         0.7530         1.7527       0\n",
      "Low vs. High          -0.9647 0.2568        -1.4533        -0.4740       0\n",
      "Intermediate vs. High -2.2235 0.2946        -2.7759        -1.6224       0\n",
      "                      N Boot\n",
      "Low vs. Intermediate    1000\n",
      "Low vs. High            1000\n",
      "Intermediate vs. High   1000\n",
      "------------------------------------------------------------------\n"
     ]
    }
   ],
   "source": [
    "# P-values\n",
    "adj_test <- adjusted_curve_test(eskd.adjsurv, from=0, to=12)\n",
    "summary(adj_test)"
   ]
  },
  {
   "cell_type": "code",
   "execution_count": 31,
   "metadata": {
    "vscode": {
     "languageId": "r"
    }
   },
   "outputs": [],
   "source": [
    "clust.adjci <- eskd.adjsurv\n",
    "clust.adjci$adjsurv$surv <- 1-clust.adjci$adjsurv$surv"
   ]
  },
  {
   "cell_type": "code",
   "execution_count": 35,
   "metadata": {
    "vscode": {
     "languageId": "r"
    }
   },
   "outputs": [
    {
     "name": "stderr",
     "output_type": "stream",
     "text": [
      "Warning message:\n",
      "\"\u001b[1m\u001b[22mRemoved 16 rows containing missing values (`geom_step()`).\"\n"
     ]
    },
    {
     "data": {
      "text/html": [
       "<strong>pdf:</strong> 2"
      ],
      "text/latex": [
       "\\textbf{pdf:} 2"
      ],
      "text/markdown": [
       "**pdf:** 2"
      ],
      "text/plain": [
       "pdf \n",
       "  2 "
      ]
     },
     "metadata": {},
     "output_type": "display_data"
    }
   ],
   "source": [
    "pdf(\"figures/adjusted_eskd_clustdiff_low_high.pdf\")\n",
    "plot_curve_diff(clust.adjci, group_1=\"Low\", group_2=\"High\", conf_int=F, color=\"blue\") + ylim(0,0.4) + xlim(0,12.5)\n",
    "dev.off()"
   ]
  },
  {
   "cell_type": "code",
   "execution_count": 36,
   "metadata": {
    "vscode": {
     "languageId": "r"
    }
   },
   "outputs": [
    {
     "name": "stderr",
     "output_type": "stream",
     "text": [
      "Warning message:\n",
      "\"\u001b[1m\u001b[22mRemoved 16 rows containing missing values (`geom_step()`).\"\n"
     ]
    },
    {
     "data": {
      "text/html": [
       "<strong>pdf:</strong> 2"
      ],
      "text/latex": [
       "\\textbf{pdf:} 2"
      ],
      "text/markdown": [
       "**pdf:** 2"
      ],
      "text/plain": [
       "pdf \n",
       "  2 "
      ]
     },
     "metadata": {},
     "output_type": "display_data"
    }
   ],
   "source": [
    "pdf(\"figures/adjusted_eskd_clustdiff_intermediate_high.pdf\")\n",
    "plot_curve_diff(clust.adjci, group_1=\"Intermediate\", group_2=\"High\", conf_int=F, color=\"red\")+ ylim(0,0.4) + xlim(0,12.5)\n",
    "dev.off()"
   ]
  },
  {
   "cell_type": "code",
   "execution_count": 37,
   "metadata": {
    "vscode": {
     "languageId": "r"
    }
   },
   "outputs": [
    {
     "name": "stderr",
     "output_type": "stream",
     "text": [
      "Warning message:\n",
      "\"\u001b[1m\u001b[22mRemoved 16 rows containing missing values (`geom_step()`).\"\n"
     ]
    },
    {
     "data": {
      "text/html": [
       "<strong>pdf:</strong> 2"
      ],
      "text/latex": [
       "\\textbf{pdf:} 2"
      ],
      "text/markdown": [
       "**pdf:** 2"
      ],
      "text/plain": [
       "pdf \n",
       "  2 "
      ]
     },
     "metadata": {},
     "output_type": "display_data"
    }
   ],
   "source": [
    "pdf(\"figures/adjusted_eskd_clustdiff_high_intermediate.pdf\")\n",
    "plot_curve_diff(clust.adjci, group_1=\"Intermediate\", group_2=\"Low\", conf_int=F, color=\"green\")+ ylim(0,0.4) + xlim(0,12.5)\n",
    "dev.off()"
   ]
  },
  {
   "cell_type": "markdown",
   "metadata": {},
   "source": [
    "## 4. Fine Gray Model\n",
    "---"
   ]
  },
  {
   "cell_type": "code",
   "execution_count": 111,
   "metadata": {
    "vscode": {
     "languageId": "r"
    }
   },
   "outputs": [
    {
     "data": {
      "text/plain": [
       "Call:\n",
       "coxph(formula = Surv(time_to_eskd_from_admission, treatment_eskd) ~ \n",
       "    fna3_cluster_n + Age + Sex + Race + strata(LC.Isotype), data = eskd.df, \n",
       "    x = TRUE)\n",
       "\n",
       "                                coef exp(coef)  se(coef)      z       p\n",
       "fna3_cluster_nLow           1.165436  3.207321  0.371284  3.139  0.0017\n",
       "fna3_cluster_nIntermediate  1.891414  6.628734  0.365012  5.182 2.2e-07\n",
       "Age                        -0.006796  0.993227  0.006288 -1.081  0.2797\n",
       "Sexmale                     0.284603  1.329234  0.138710  2.052  0.0402\n",
       "RaceBlack                  -0.250577  0.778351  0.549333 -0.456  0.6483\n",
       "RaceOther                   0.713901  2.041942  0.838845  0.851  0.3947\n",
       "RaceWhite                   0.254335  1.289604  0.454788  0.559  0.5760\n",
       "\n",
       "Likelihood ratio test=67.84  on 7 df, p=4.026e-12\n",
       "n= 1756, number of events= 231 \n",
       "   (6 observations deleted due to missingness)"
      ]
     },
     "metadata": {},
     "output_type": "display_data"
    }
   ],
   "source": [
    "eskd.baseline.cluster.t"
   ]
  },
  {
   "cell_type": "code",
   "execution_count": 112,
   "metadata": {
    "vscode": {
     "languageId": "r"
    }
   },
   "outputs": [
    {
     "name": "stdout",
     "output_type": "stream",
     "text": [
      "6 cases omitted due to missing values\n"
     ]
    },
    {
     "name": "stderr",
     "output_type": "stream",
     "text": [
      "\u001b[1m\u001b[22mScale for \u001b[32mfill\u001b[39m is already present.\n",
      "Adding another scale for \u001b[32mfill\u001b[39m, which will replace the existing scale.\n",
      "Warning message:\n",
      "\"\u001b[1m\u001b[22mRemoved 152 rows containing missing values (`geom_line()`).\"\n",
      "Warning message:\n",
      "\"\u001b[1m\u001b[22mRemoved 152 rows containing missing values (`geom_line()`).\"\n"
     ]
    },
    {
     "data": {
      "text/html": [
       "<strong>pdf:</strong> 2"
      ],
      "text/latex": [
       "\\textbf{pdf:} 2"
      ],
      "text/markdown": [
       "**pdf:** 2"
      ],
      "text/plain": [
       "pdf \n",
       "  2 "
      ]
     },
     "metadata": {},
     "output_type": "display_data"
    }
   ],
   "source": [
    "CR <- cuminc(eskd.df$CR_time, eskd.df$CR_event, group=eskd.df$fna3_cluster_n, cencode=0)\n",
    "\n",
    "p <- ggcompetingrisks(CR, xlabs=\"Time from Diagnosis (Yr)\", \n",
    "    ylab=\"Cumulative Incidence\", multiple_panels = F, palette=c(\"#ca4a29\",\"#69a9c8\",\"#62b67d\"), conf.int = T)\n",
    "p$mapping <- aes(x = time, y = est, colour = group, linetype = event)\n",
    "\n",
    "pdf(\"figures/competingrisks_ci.pdf\")\n",
    "p + labs(linetype = \"event\", colour = \"group\") + geom_line(size = 1) + xlim(0,12.5) + scale_fill_manual(values = c(\"lightgrey\",\"lightgrey\"))\n",
    "dev.off()\n"
   ]
  },
  {
   "cell_type": "code",
   "execution_count": 200,
   "metadata": {
    "vscode": {
     "languageId": "r"
    }
   },
   "outputs": [
    {
     "name": "stdout",
     "output_type": "stream",
     "text": [
      "6 cases omitted due to missing values\n",
      "6 cases omitted due to missing values\n",
      "6 cases omitted due to missing values\n",
      "6 cases omitted due to missing values\n",
      "6 cases omitted due to missing values\n",
      "6 cases omitted due to missing values\n",
      "293 cases omitted due to missing values\n",
      "293 cases omitted due to missing values\n",
      "173 cases omitted due to missing values\n",
      "173 cases omitted due to missing values\n",
      "896 cases omitted due to missing values\n",
      "896 cases omitted due to missing values\n",
      "896 cases omitted due to missing values\n",
      "896 cases omitted due to missing values\n"
     ]
    }
   ],
   "source": [
    "# Addd log UTP\n",
    "eskd.df$log2_UTP <- log2(eskd.df$X24_hr_UTP+1)\n",
    "\n",
    "fg.crude <- runFineGray(eskd.df, c(\"fna3_cluster_n\"))\n",
    "fg.baseline <- runFineGray(eskd.df, c(\"fna3_cluster_n\", \"Age\", \"Sex\", \"Race\", \"LC.Isotype\"))\n",
    "fg.renal <- runFineGray(eskd.df, c(\"fna3_cluster_n\", \"Renal.Stage..Palladini.\", \"Age\", \"Sex\", \"Race\", \"LC.Isotype\"))\n",
    "fg.labs <- runFineGray(eskd.df, c(\"fna3_cluster_n\", \"Age\", \"Sex\", \"Race\", \"LC.Isotype\", \"log2_UTP\", \"eGFR\"))\n",
    "fg.renal_labs <- runFineGray(eskd.df, c(\"fna3_cluster_n\", \"Renal.Stage..Palladini.\", \"Age\", \"Sex\", \"Race\", \"LC.Isotype\", \"eGFR\"))\n",
    "fg.bu <- runFineGray(eskd.df, c(\"fna3_cluster_n\", \"BU.Cardiac.Stage\", \"Age\", \"Sex\", \"Race\", \"LC.Isotype\"))\n",
    "fg.all <- runFineGray(eskd.df, c(\"fna3_cluster_n\", \"BU.Cardiac.Stage\", \"Renal.Stage..Palladini.\", \"Age\", \"Sex\", \"Race\", \"LC.Isotype\"))"
   ]
  },
  {
   "cell_type": "code",
   "execution_count": 198,
   "metadata": {
    "vscode": {
     "languageId": "r"
    }
   },
   "outputs": [
    {
     "data": {
      "text/html": [
       "<table class=\"dataframe\">\n",
       "<caption>A data.frame: 5 x 3</caption>\n",
       "<thead>\n",
       "\t<tr><th></th><th scope=col>High</th><th scope=col>Low</th><th scope=col>Intermediate</th></tr>\n",
       "\t<tr><th></th><th scope=col>&lt;chr&gt;</th><th scope=col>&lt;chr&gt;</th><th scope=col>&lt;chr&gt;</th></tr>\n",
       "</thead>\n",
       "<tbody>\n",
       "\t<tr><th scope=row>Events</th><td>602      </td><td>948             </td><td>953             </td></tr>\n",
       "\t<tr><th scope=row>~  fna3_cluster_n</th><td>Reference</td><td>5.79 (2.82-11.9)</td><td>10.1 (4.99-20.5)</td></tr>\n",
       "\t<tr><th scope=row>~  fna3_cluster_n + Age + Sex + Race + LC.Isotype</th><td>Reference</td><td>5.86 (2.86-12)  </td><td>10.1 (4.99-20.5)</td></tr>\n",
       "\t<tr><th scope=row>~  fna3_cluster_n + Age + Sex + Race + LC.Isotype + log2_UTP + eGFR</th><td>Reference</td><td>6.97 (2.87-16.9)</td><td>9.88 (4.02-24.3)</td></tr>\n",
       "\t<tr><th scope=row>~  fna3_cluster_n + Renal.Stage..Palladini. + Age + Sex + Race + LC.Isotype + eGFR</th><td>Reference</td><td>4.79 (2.12-10.8)</td><td>5.44 (2.34-12.7)</td></tr>\n",
       "</tbody>\n",
       "</table>\n"
      ],
      "text/latex": [
       "A data.frame: 5 x 3\n",
       "\\begin{tabular}{r|lll}\n",
       "  & High & Low & Intermediate\\\\\n",
       "  & <chr> & <chr> & <chr>\\\\\n",
       "\\hline\n",
       "\tEvents & 602       & 948              & 953             \\\\\n",
       "\t\\textasciitilde{}  fna3\\_cluster\\_n & Reference & 5.79 (2.82-11.9) & 10.1 (4.99-20.5)\\\\\n",
       "\t\\textasciitilde{}  fna3\\_cluster\\_n + Age + Sex + Race + LC.Isotype & Reference & 5.86 (2.86-12)   & 10.1 (4.99-20.5)\\\\\n",
       "\t\\textasciitilde{}  fna3\\_cluster\\_n + Age + Sex + Race + LC.Isotype + log2\\_UTP + eGFR & Reference & 6.97 (2.87-16.9) & 9.88 (4.02-24.3)\\\\\n",
       "\t\\textasciitilde{}  fna3\\_cluster\\_n + Renal.Stage..Palladini. + Age + Sex + Race + LC.Isotype + eGFR & Reference & 4.79 (2.12-10.8) & 5.44 (2.34-12.7)\\\\\n",
       "\\end{tabular}\n"
      ],
      "text/markdown": [
       "\n",
       "A data.frame: 5 x 3\n",
       "\n",
       "| <!--/--> | High &lt;chr&gt; | Low &lt;chr&gt; | Intermediate &lt;chr&gt; |\n",
       "|---|---|---|---|\n",
       "| Events | 602       | 948              | 953              |\n",
       "| ~  fna3_cluster_n | Reference | 5.79 (2.82-11.9) | 10.1 (4.99-20.5) |\n",
       "| ~  fna3_cluster_n + Age + Sex + Race + LC.Isotype | Reference | 5.86 (2.86-12)   | 10.1 (4.99-20.5) |\n",
       "| ~  fna3_cluster_n + Age + Sex + Race + LC.Isotype + log2_UTP + eGFR | Reference | 6.97 (2.87-16.9) | 9.88 (4.02-24.3) |\n",
       "| ~  fna3_cluster_n + Renal.Stage..Palladini. + Age + Sex + Race + LC.Isotype + eGFR | Reference | 4.79 (2.12-10.8) | 5.44 (2.34-12.7) |\n",
       "\n"
      ],
      "text/plain": [
       "                                                                                   High     \n",
       "Events                                                                             602      \n",
       "~  fna3_cluster_n                                                                  Reference\n",
       "~  fna3_cluster_n + Age + Sex + Race + LC.Isotype                                  Reference\n",
       "~  fna3_cluster_n + Age + Sex + Race + LC.Isotype + log2_UTP + eGFR                Reference\n",
       "~  fna3_cluster_n + Renal.Stage..Palladini. + Age + Sex + Race + LC.Isotype + eGFR Reference\n",
       "                                                                                   Low             \n",
       "Events                                                                             948             \n",
       "~  fna3_cluster_n                                                                  5.79 (2.82-11.9)\n",
       "~  fna3_cluster_n + Age + Sex + Race + LC.Isotype                                  5.86 (2.86-12)  \n",
       "~  fna3_cluster_n + Age + Sex + Race + LC.Isotype + log2_UTP + eGFR                6.97 (2.87-16.9)\n",
       "~  fna3_cluster_n + Renal.Stage..Palladini. + Age + Sex + Race + LC.Isotype + eGFR 4.79 (2.12-10.8)\n",
       "                                                                                   Intermediate    \n",
       "Events                                                                             953             \n",
       "~  fna3_cluster_n                                                                  10.1 (4.99-20.5)\n",
       "~  fna3_cluster_n + Age + Sex + Race + LC.Isotype                                  10.1 (4.99-20.5)\n",
       "~  fna3_cluster_n + Age + Sex + Race + LC.Isotype + log2_UTP + eGFR                9.88 (4.02-24.3)\n",
       "~  fna3_cluster_n + Renal.Stage..Palladini. + Age + Sex + Race + LC.Isotype + eGFR 5.44 (2.34-12.7)"
      ]
     },
     "metadata": {},
     "output_type": "display_data"
    }
   ],
   "source": [
    "df <- rbind(fg.crude$coef, fg.baseline$coef, fg.labs$coef, fg.renal_labs$coef)\n",
    "df <- df[df$covariate %in% c(\"fna3_cluster_n.Low\",\"fna3_cluster_n.Intermediate\"),]\n",
    "df <- df[df$Risk==\"ESKD\",c(\"covariate\",\"HR\",\"formula\")]\n",
    "df <- data.frame(pivot_wider(df, names_from = covariate, values_from = HR))\n",
    "rownames(df) <- df$formula\n",
    "df$formula <- NULL\n",
    "\n",
    "# Add events\n",
    "result <- eskd.df %>% \n",
    "    filter(!is.na(eval(fna3_cluster_n))) %>% \n",
    "    group_by(fna3_cluster_n) %>% \n",
    "    summarize(Events = sum(CR_event)) %>%\n",
    "    column_to_rownames(var = \"fna3_cluster_n\")\n",
    "\n",
    "\n",
    "colnames(df) <- c(\"Low\",\"Intermediate\")\n",
    "df$High <- \"Reference\"\n",
    "\n",
    "rbind(t(result),df)\n",
    "\n"
   ]
  }
 ],
 "metadata": {
  "kernelspec": {
   "display_name": "R",
   "language": "R",
   "name": "ir"
  },
  "language_info": {
   "codemirror_mode": "r",
   "file_extension": ".r",
   "mimetype": "text/x-r-source",
   "name": "R",
   "pygments_lexer": "r",
   "version": "4.3.2"
  }
 },
 "nbformat": 4,
 "nbformat_minor": 2
}
