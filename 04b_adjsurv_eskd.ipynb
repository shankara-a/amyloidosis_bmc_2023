{
 "cells": [
  {
   "cell_type": "code",
   "execution_count": 1,
   "metadata": {
    "vscode": {
     "languageId": "r"
    }
   },
   "outputs": [],
   "source": [
    "suppressMessages(library(survminer))\n",
    "suppressMessages(library(survival))\n",
    "suppressMessages(library(forestplot))\n",
    "suppressMessages(library(ggsci))\n",
    "suppressMessages(library(dplyr))\n",
    "suppressMessages(library(adjustedCurves))\n",
    "suppressMessages(library(tidyverse))\n",
    "suppressMessages(library(cmprsk))\n",
    "suppressMessages(library(caret))\n",
    "library(tidyr)\n",
    "\n",
    "source(\"funcs/rfuncs.R\")"
   ]
  },
  {
   "cell_type": "markdown",
   "metadata": {},
   "source": [
    "## 1. Load Dataset\n",
    "---"
   ]
  },
  {
   "cell_type": "code",
   "execution_count": 2,
   "metadata": {
    "vscode": {
     "languageId": "r"
    }
   },
   "outputs": [],
   "source": [
    "data.df <- read.table(\"data/processed/AL_with_ccp_03.tsv\", sep=\"\\t\", header=T, row.names='Code.ID')\n",
    "\n",
    "# Rename columns\n",
    "column_mapping <- c(\"LC.Isotype\"=\"Kappa_or_lambda_PCD\", \n",
    "                    \"BU.Cardiac.Stage\"=\"BU__BNP_based__cardiac_staging\",\n",
    "                    \"BMPC.%\"=\"Bone_marrow_plasma_cells____\"\n",
    "                   )\n",
    "\n",
    "data.df <- data.df %>% rename(!!!column_mapping)\n",
    "\n",
    "# Filter for time from admission >=0\n",
    "data.df <- data.df[data.df$time_from_admission>=0,]\n",
    "\n",
    "# Collapse Race\n",
    "data.df <- data.df %>%\n",
    "   mutate(Race = ifelse(Race %in% c('American_Indian_Alaska_Native','Multiracial','Native_Hawaiian_Pacific', 'Unknown/other'), 'Other', Race))\n",
    "\n",
    "# Fix NULL values\n",
    "data.df <- data.df %>% mutate(BU.Cardiac.Stage = ifelse(BU.Cardiac.Stage==\"\", NA, BU.Cardiac.Stage))\n",
    "data.df <- data.df %>% mutate(Primary_organ = ifelse(Primary_organ==\"\", NA, Primary_organ))\n",
    "data.df <- data.df %>% mutate(LC.Isotype = ifelse(LC.Isotype==\"\", NA, LC.Isotype))\n",
    "\n",
    "# assign cluster to var\n",
    "data.df$m02q3_cluster_n <- factor(data.df$m02q3_cluster_n, levels=c(\"Low\",\"Intermediate\",\"High\"))\n",
    "data.df <- data.df[complete.cases(data.df[,\"m02q3_cluster_n\"]),]\n",
    "data.df$m02q4_cluster_n <- factor(data.df$m02q4_cluster_n, levels=c(\"Low\",\"Intermediate-Low\",\"Intermediate\",\"High\"))\n",
    "data.df$fna3_cluster_n <- factor(data.df$fna3_cluster_n, levels=c(\"Low\",\"Intermediate\",\"High\"))\n",
    "data.df$BU.Cardiac.Stage <- as.factor(data.df$BU.Cardiac.Stage)\n",
    "\n",
    "# As Factor\n",
    "data.df$LC.Isotype <- as.factor(data.df$LC.Isotype)\n",
    "data.df$Sex <- as.factor(data.df$Sex)\n",
    "data.df$Race <- as.factor(data.df$Race)\n",
    "data.df$Era <- as.factor(data.df$Era)"
   ]
  },
  {
   "cell_type": "code",
   "execution_count": 3,
   "metadata": {
    "vscode": {
     "languageId": "r"
    }
   },
   "outputs": [],
   "source": [
    "# Load ESKD Data\n",
    "eskd.df <- read.table(\"data/processed/treatment_eskd.tsv\", sep=\"\\t\", header=T, row.names=\"Code.ID\")\n",
    "eskd.df <- eskd.df[rownames(data.df),]\n",
    "eskd.df <- cbind(data.df, eskd.df[,c(\"RRT.Type\",\"treatment_eskd\",\"time_to_eskd\",\"time_to_eskd_from_admission\",\"CR_event\",\"CR_time\")])\n",
    "eskd.df <- eskd.df[complete.cases(eskd.df$time_to_eskd_from_admission),]\n",
    "\n",
    "# Filter for whether or not patients had ESKD at baseline\n",
    "eskd.df <- eskd.df[eskd.df$time_to_eskd_from_admission>0,]\n",
    "\n",
    "# Set factor orders\n",
    "eskd.df$Renal.Stage..Palladini. <- factor(eskd.df$Renal.Stage..Palladini., levels=c(\"Stage I\",\"Stage II\",\"Stage III\"))\n",
    "eskd.df$fna3_cluster_n <- factor(eskd.df$fna3_cluster_n, levels=c(\"High\",\"Low\",\"Intermediate\"))\n"
   ]
  },
  {
   "cell_type": "code",
   "execution_count": 4,
   "metadata": {
    "vscode": {
     "languageId": "r"
    }
   },
   "outputs": [
    {
     "data": {
      "text/plain": [
       "              Renal.Stage..Palladini.\n",
       "fna3_cluster_n Stage I Stage II Stage III\n",
       "  High             218       67         1\n",
       "  Low              339      228        50\n",
       "  Intermediate     125      350       146"
      ]
     },
     "metadata": {},
     "output_type": "display_data"
    }
   ],
   "source": [
    "table(eskd.df[,c(\"fna3_cluster_n\",\"Renal.Stage..Palladini.\")])"
   ]
  },
  {
   "cell_type": "code",
   "execution_count": 5,
   "metadata": {
    "vscode": {
     "languageId": "r"
    }
   },
   "outputs": [
    {
     "data": {
      "text/plain": [
       "              treatment_eskd\n",
       "fna3_cluster_n   0   1\n",
       "  High         354   8\n",
       "  Low          638  88\n",
       "  Intermediate 533 135"
      ]
     },
     "metadata": {},
     "output_type": "display_data"
    }
   ],
   "source": [
    "table(eskd.df[,c(\"fna3_cluster_n\",\"treatment_eskd\")])"
   ]
  },
  {
   "cell_type": "code",
   "execution_count": 6,
   "metadata": {
    "vscode": {
     "languageId": "r"
    }
   },
   "outputs": [
    {
     "name": "stderr",
     "output_type": "stream",
     "text": [
      "Warning message:\n",
      "\"\u001b[1m\u001b[22mRemoved 5 rows containing missing values (`geom_step()`).\"\n",
      "Warning message:\n",
      "\"\u001b[1m\u001b[22mRemoved 2 rows containing missing values (`geom_point()`).\"\n",
      "Warning message:\n",
      "\"\u001b[1m\u001b[22mRemoved 1 rows containing missing values (`geom_text()`).\"\n",
      "Warning message:\n",
      "\"\u001b[1m\u001b[22mRemoved 2 rows containing missing values (`geom_segment()`).\"\n",
      "Warning message:\n",
      "\"\u001b[1m\u001b[22mRemoved 5 rows containing missing values (`geom_step()`).\"\n",
      "Warning message:\n",
      "\"\u001b[1m\u001b[22mRemoved 2 rows containing missing values (`geom_point()`).\"\n",
      "Warning message:\n",
      "\"\u001b[1m\u001b[22mRemoved 1 rows containing missing values (`geom_text()`).\"\n",
      "Warning message:\n",
      "\"\u001b[1m\u001b[22mRemoved 2 rows containing missing values (`geom_segment()`).\"\n"
     ]
    },
    {
     "data": {
      "text/html": [
       "<strong>pdf:</strong> 2"
      ],
      "text/latex": [
       "\\textbf{pdf:} 2"
      ],
      "text/markdown": [
       "**pdf:** 2"
      ],
      "text/plain": [
       "pdf \n",
       "  2 "
      ]
     },
     "metadata": {},
     "output_type": "display_data"
    }
   ],
   "source": [
    "pdf(\"figures/cluster_fna3_km_curve_renal_stageI.pdf\", h=8, w=6)\n",
    "\n",
    "fit <- survfit(Surv(time_to_eskd, treatment_eskd) ~ fna3_cluster_n, \n",
    "data=eskd.df[eskd.df$Renal.Stage..Palladini.==\"Stage I\",])\n",
    "plotSurv(fit, eskd.df, \"Subgroup\", NULL, palette=c(\"#ca4a29\",\"#62b67d\",\"#69a9c8\"), \n",
    "         surv.median.line=\"v\", xlim=c(0,12), ylim=c(0.75,1), break.time.by=2)\n",
    "dev.off()"
   ]
  },
  {
   "cell_type": "markdown",
   "metadata": {},
   "source": [
    "## 2. Cox Regression Modeling\n",
    "---"
   ]
  },
  {
   "cell_type": "code",
   "execution_count": 7,
   "metadata": {
    "vscode": {
     "languageId": "r"
    }
   },
   "outputs": [],
   "source": [
    "# mod.1 <- coxph(Surv(time_to_eskd_from_admission, treatment_eskd) ~ fna3_cluster_n, data=eskd.df)\n",
    "# mod.2 <- coxph(Surv(time_to_eskd_from_admission, treatment_eskd) ~ Renal.Stage..Palladini., data=eskd.df)\n",
    "# mod.3 <- coxph(Surv(time_to_eskd_from_admission, treatment_eskd) ~ fna3_cluster_n + Renal.Stage..Palladini., data=eskd.df)\n",
    "# mod.4 <- coxph(Surv(time_to_eskd_from_admission, treatment_eskd) ~ fna3_cluster_n + Renal.Stage..Palladini. + eGFR + log2(X24_hr_UTP+1), data=eskd.df)\n",
    "# mod.5 <- coxph(Surv(time_to_eskd_from_admission, treatment_eskd) ~ fna3_cluster_n + Renal.Stage..Palladini. + eGFR + log2(X24_hr_UTP+1) + Albumin, data=eskd.df)"
   ]
  },
  {
   "cell_type": "code",
   "execution_count": 8,
   "metadata": {
    "vscode": {
     "languageId": "r"
    }
   },
   "outputs": [
    {
     "data": {
      "text/plain": [
       "           chisq df     p\n",
       "Age         4.09  1 0.043\n",
       "Sex         0.23  1 0.631\n",
       "Race        3.30  3 0.347\n",
       "LC.Isotype  4.13  1 0.042\n",
       "GLOBAL     11.84  6 0.066"
      ]
     },
     "metadata": {},
     "output_type": "display_data"
    }
   ],
   "source": [
    "# Baseline Model\n",
    "eskd.crude <- coxph(Surv(time_to_eskd_from_admission, treatment_eskd) ~ fna3_cluster_n, data=eskd.df)\n",
    "eskd.stage <- coxph(Surv(time_to_eskd_from_admission, treatment_eskd) ~ Renal.Stage..Palladini., data=eskd.df)\n",
    "eskd.baseline <- coxph(Surv(time_to_eskd_from_admission, treatment_eskd) ~ Age + Sex + Race + LC.Isotype, data=eskd.df)\n",
    "cox.zph(eskd.baseline)"
   ]
  },
  {
   "cell_type": "code",
   "execution_count": 22,
   "metadata": {
    "vscode": {
     "languageId": "r"
    }
   },
   "outputs": [
    {
     "data": {
      "text/html": [
       "<style>\n",
       ".dl-inline {width: auto; margin:0; padding: 0}\n",
       ".dl-inline>dt, .dl-inline>dd {float: none; width: auto; display: inline-block}\n",
       ".dl-inline>dt::after {content: \":\\0020\"; padding-right: .5ex}\n",
       ".dl-inline>dt:not(:first-of-type) {padding-left: .5ex}\n",
       "</style><dl class=dl-inline><dt>concordant</dt><dd>87369</dd><dt>discordant</dt><dd>27787</dd><dt>tied.x</dt><dd>77458</dd><dt>tied.y</dt><dd>2</dd><dt>tied.xy</dt><dd>7</dd><dt>concordance</dt><dd>0.654666846646661</dd><dt>std</dt><dd>0.0166389576834943</dd></dl>\n"
      ],
      "text/latex": [
       "\\begin{description*}\n",
       "\\item[concordant] 87369\n",
       "\\item[discordant] 27787\n",
       "\\item[tied.x] 77458\n",
       "\\item[tied.y] 2\n",
       "\\item[tied.xy] 7\n",
       "\\item[concordance] 0.654666846646661\n",
       "\\item[std] 0.0166389576834943\n",
       "\\end{description*}\n"
      ],
      "text/markdown": [
       "concordant\n",
       ":   87369discordant\n",
       ":   27787tied.x\n",
       ":   77458tied.y\n",
       ":   2tied.xy\n",
       ":   7concordance\n",
       ":   0.654666846646661std\n",
       ":   0.0166389576834943\n",
       "\n"
      ],
      "text/plain": [
       "  concordant   discordant       tied.x       tied.y      tied.xy  concordance \n",
       "8.736900e+04 2.778700e+04 7.745800e+04 2.000000e+00 7.000000e+00 6.546668e-01 \n",
       "         std \n",
       "1.663896e-02 "
      ]
     },
     "metadata": {},
     "output_type": "display_data"
    }
   ],
   "source": [
    "eskd.crude$concordance"
   ]
  },
  {
   "cell_type": "code",
   "execution_count": 9,
   "metadata": {
    "vscode": {
     "languageId": "r"
    }
   },
   "outputs": [
    {
     "data": {
      "text/plain": [
       "                      chisq df       p\n",
       "Age                   3.753  1  0.0527\n",
       "Sex                   0.347  1  0.5557\n",
       "Race                  2.087  3  0.5546\n",
       "eGFR                 17.850  1 2.4e-05\n",
       "log2(X24_hr_UTP + 1)  0.161  1  0.6882\n",
       "GLOBAL               22.060  7  0.0025"
      ]
     },
     "metadata": {},
     "output_type": "display_data"
    }
   ],
   "source": [
    "# Baseline models\n",
    "eskd.baseline.t <- coxph(Surv(time_to_eskd_from_admission, treatment_eskd) ~ Age + tt(Age) + Sex + Race + strata(LC.Isotype) + strata(Era), data=eskd.df, tt=function(x,t,...) x * log(t))\n",
    "eskd.baseline.cluster.t <- coxph(Surv(time_to_eskd_from_admission, treatment_eskd) ~ fna3_cluster_n + Age + tt(Age) + Sex + Race + strata(LC.Isotype) + strata(Era), data=eskd.df, x=TRUE, tt=function(x,t,...) x * log(t))\n",
    "eskd.baseline.stage.t <- coxph(Surv(time_to_eskd_from_admission, treatment_eskd) ~ Renal.Stage..Palladini. + Age + tt(Age) + Sex + Race + strata(LC.Isotype) + strata(Era), data=eskd.df, x=TRUE, tt=function(x,t,...) x * log(t))\n",
    "eskd.baseline.cluster.stage.t <- coxph(Surv(time_to_eskd_from_admission, treatment_eskd) ~ fna3_cluster_n + Renal.Stage..Palladini. + Age + tt(Age) + Sex + Race + strata(LC.Isotype) + strata(Era), data=eskd.df, x=TRUE, tt=function(x,t,...) x * log(t))\n",
    "\n",
    "\n",
    "# Labs baseline for Schoenfiled test\n",
    "eskd.labs <- coxph(Surv(time_to_eskd_from_admission, treatment_eskd) ~ Age + Sex + Race + eGFR + log2(X24_hr_UTP+1) + strata(LC.Isotype) + strata(Era), data=eskd.df, x=TRUE)\n",
    "cox.zph(eskd.labs)"
   ]
  },
  {
   "cell_type": "code",
   "execution_count": 13,
   "metadata": {
    "vscode": {
     "languageId": "r"
    }
   },
   "outputs": [],
   "source": [
    "# Revisions\n",
    "#getCoef(coxph(Surv(time_to_eskd_from_admission, treatment_eskd) ~ fna3_cluster_n*Era + Age + tt(Age) + Sex + Race + strata(LC.Isotype) + strata(Era), data=eskd.df, x=TRUE, tt=function(x,t,...) x * log(t)))\n"
   ]
  },
  {
   "cell_type": "code",
   "execution_count": 19,
   "metadata": {
    "vscode": {
     "languageId": "r"
    }
   },
   "outputs": [
    {
     "data": {
      "text/html": [
       "<style>\n",
       ".dl-inline {width: auto; margin:0; padding: 0}\n",
       ".dl-inline>dt, .dl-inline>dd {float: none; width: auto; display: inline-block}\n",
       ".dl-inline>dt::after {content: \":\\0020\"; padding-right: .5ex}\n",
       ".dl-inline>dt:not(:first-of-type) {padding-left: .5ex}\n",
       "</style><dl class=dl-inline><dt>concordant</dt><dd>87369</dd><dt>discordant</dt><dd>27787</dd><dt>tied.x</dt><dd>77458</dd><dt>tied.y</dt><dd>2</dd><dt>tied.xy</dt><dd>7</dd><dt>concordance</dt><dd>0.654666846646661</dd><dt>std</dt><dd>0.0166389576834943</dd></dl>\n"
      ],
      "text/latex": [
       "\\begin{description*}\n",
       "\\item[concordant] 87369\n",
       "\\item[discordant] 27787\n",
       "\\item[tied.x] 77458\n",
       "\\item[tied.y] 2\n",
       "\\item[tied.xy] 7\n",
       "\\item[concordance] 0.654666846646661\n",
       "\\item[std] 0.0166389576834943\n",
       "\\end{description*}\n"
      ],
      "text/markdown": [
       "concordant\n",
       ":   87369discordant\n",
       ":   27787tied.x\n",
       ":   77458tied.y\n",
       ":   2tied.xy\n",
       ":   7concordance\n",
       ":   0.654666846646661std\n",
       ":   0.0166389576834943\n",
       "\n"
      ],
      "text/plain": [
       "  concordant   discordant       tied.x       tied.y      tied.xy  concordance \n",
       "8.736900e+04 2.778700e+04 7.745800e+04 2.000000e+00 7.000000e+00 6.546668e-01 \n",
       "         std \n",
       "1.663896e-02 "
      ]
     },
     "metadata": {},
     "output_type": "display_data"
    }
   ],
   "source": [
    "coxph(Surv(time_to_eskd_from_admission, treatment_eskd) ~ fna3_cluster_n, data=eskd.df, x=TRUE)$concordance"
   ]
  },
  {
   "cell_type": "code",
   "execution_count": 18,
   "metadata": {
    "vscode": {
     "languageId": "r"
    }
   },
   "outputs": [
    {
     "data": {
      "text/html": [
       "<style>\n",
       ".dl-inline {width: auto; margin:0; padding: 0}\n",
       ".dl-inline>dt, .dl-inline>dd {float: none; width: auto; display: inline-block}\n",
       ".dl-inline>dt::after {content: \":\\0020\"; padding-right: .5ex}\n",
       ".dl-inline>dt:not(:first-of-type) {padding-left: .5ex}\n",
       "</style><dl class=dl-inline><dt>concordant</dt><dd>97973</dd><dt>discordant</dt><dd>13325</dd><dt>tied.x</dt><dd>48663</dd><dt>tied.y</dt><dd>2</dd><dt>tied.xy</dt><dd>6</dd><dt>concordance</dt><dd>0.764589493689087</dd><dt>std</dt><dd>0.0131869511226974</dd></dl>\n"
      ],
      "text/latex": [
       "\\begin{description*}\n",
       "\\item[concordant] 97973\n",
       "\\item[discordant] 13325\n",
       "\\item[tied.x] 48663\n",
       "\\item[tied.y] 2\n",
       "\\item[tied.xy] 6\n",
       "\\item[concordance] 0.764589493689087\n",
       "\\item[std] 0.0131869511226974\n",
       "\\end{description*}\n"
      ],
      "text/markdown": [
       "concordant\n",
       ":   97973discordant\n",
       ":   13325tied.x\n",
       ":   48663tied.y\n",
       ":   2tied.xy\n",
       ":   6concordance\n",
       ":   0.764589493689087std\n",
       ":   0.0131869511226974\n",
       "\n"
      ],
      "text/plain": [
       "  concordant   discordant       tied.x       tied.y      tied.xy  concordance \n",
       "9.797300e+04 1.332500e+04 4.866300e+04 2.000000e+00 6.000000e+00 7.645895e-01 \n",
       "         std \n",
       "1.318695e-02 "
      ]
     },
     "metadata": {},
     "output_type": "display_data"
    }
   ],
   "source": [
    "coxph(Surv(time_to_eskd_from_admission, treatment_eskd) ~ Renal.Stage..Palladini., data=eskd.df, x=TRUE)$concordance"
   ]
  },
  {
   "cell_type": "code",
   "execution_count": 113,
   "metadata": {
    "vscode": {
     "languageId": "r"
    }
   },
   "outputs": [],
   "source": [
    "# For use with adjusted curves\n",
    "eskd.baseline.cluster <- coxph(Surv(time_to_eskd_from_admission, treatment_eskd) ~ fna3_cluster_n + Age + Sex + Race + strata(LC.Isotype) + strata(Era), data=eskd.df, x=TRUE)"
   ]
  },
  {
   "cell_type": "code",
   "execution_count": 106,
   "metadata": {
    "vscode": {
     "languageId": "r"
    }
   },
   "outputs": [],
   "source": [
    "# Proteinuria & eGFR\n",
    "eskd.labs.cluster.t <- coxph(Surv(time_to_eskd_from_admission, treatment_eskd) ~ fna3_cluster_n + Age + tt(Age) + Sex + Race + eGFR + tt(eGFR) + log2(X24_hr_UTP+1) + strata(LC.Isotype) + strata(Era), data=eskd.df, x=TRUE, tt=function(x,t,...) x * log(t))\n",
    "eskd.labs.stage.t <- coxph(Surv(time_to_eskd_from_admission, treatment_eskd) ~ Renal.Stage..Palladini. + Age + tt(Age) + Sex + Race + eGFR + tt(eGFR) + log2(X24_hr_UTP+1) + strata(LC.Isotype) + strata(Era), data=eskd.df, x=TRUE, tt=function(x,t,...) x * log(t))\n",
    "eskd.labs.cluster.stage.t <- coxph(Surv(time_to_eskd_from_admission, treatment_eskd) ~ fna3_cluster_n + Renal.Stage..Palladini. + Age + tt(Age) + Sex + Race + eGFR + tt(eGFR) + log2(X24_hr_UTP+1) + strata(LC.Isotype) + strata(Era), data=eskd.df, x=TRUE, tt=function(x,t,...) x * log(t))\n",
    "\n",
    "# Proteinuria & eGFR & Albumin\n",
    "eskd.labs.cluster.v2.t <- coxph(Surv(time_to_eskd_from_admission, treatment_eskd) ~ fna3_cluster_n + Age + tt(Age) + Sex + Race + eGFR + tt(eGFR) + log2(X24_hr_UTP+1) + Albumin + strata(LC.Isotype) + strata(Era), data=eskd.df, x=TRUE, tt=function(x,t,...) x * log(t))\n",
    "eskd.labs.stage.v2.t <- coxph(Surv(time_to_eskd_from_admission, treatment_eskd) ~ Renal.Stage..Palladini. + Age + tt(Age) + Sex + Race + eGFR + tt(eGFR) + log2(X24_hr_UTP+1) + Albumin + strata(LC.Isotype) + strata(Era), data=eskd.df, x=TRUE, tt=function(x,t,...) x * log(t))\n",
    "eskd.labs.cluster.stage.v2.t <- coxph(Surv(time_to_eskd_from_admission, treatment_eskd) ~ fna3_cluster_n + Renal.Stage..Palladini. + Age + tt(Age) + Sex + Race + eGFR + tt(eGFR) + log2(X24_hr_UTP+1) + Albumin + strata(LC.Isotype) + strata(Era), data=eskd.df, x=TRUE, tt=function(x,t,...) x * log(t))\n"
   ]
  },
  {
   "cell_type": "code",
   "execution_count": 107,
   "metadata": {
    "vscode": {
     "languageId": "r"
    }
   },
   "outputs": [
    {
     "data": {
      "text/html": [
       "<table class=\"dataframe\">\n",
       "<caption>A data.frame: 8 x 3</caption>\n",
       "<thead>\n",
       "\t<tr><th></th><th scope=col>High</th><th scope=col>Low</th><th scope=col>Intermediate</th></tr>\n",
       "\t<tr><th></th><th scope=col>&lt;chr&gt;</th><th scope=col>&lt;chr&gt;</th><th scope=col>&lt;chr&gt;</th></tr>\n",
       "</thead>\n",
       "<tbody>\n",
       "\t<tr><th scope=row>Events</th><td>8        </td><td>88               </td><td>135              </td></tr>\n",
       "\t<tr><th scope=row>Surv(time_to_eskd_from_admission, treatment_eskd) ~ fna3_cluster_n</th><td>Reference</td><td>3.2 (1.55-6.61)  </td><td>6.5 (3.18-13.3)  </td></tr>\n",
       "\t<tr><th scope=row>Surv(time_to_eskd_from_admission, treatment_eskd) ~ fna3_cluster_n +      Age + tt(Age) + Sex + Race + strata(LC.Isotype) + strata(Era)</th><td>Reference</td><td>3.25 (1.57-6.75) </td><td>6.65 (3.24-13.6) </td></tr>\n",
       "\t<tr><th scope=row>Surv(time_to_eskd_from_admission, treatment_eskd) ~ fna3_cluster_n +      Age + tt(Age) + Sex + Race + eGFR + tt(eGFR) + log2(X24_hr_UTP +      1) + strata(LC.Isotype) + strata(Era)</th><td>Reference</td><td>3.44 (1.37-8.61) </td><td>6.44 (2.56-16.2) </td></tr>\n",
       "\t<tr><th scope=row>Surv(time_to_eskd_from_admission, treatment_eskd) ~ fna3_cluster_n +      Age + tt(Age) + Sex + Race + eGFR + tt(eGFR) + log2(X24_hr_UTP +      1) + Albumin + strata(LC.Isotype) + strata(Era)</th><td>Reference</td><td>4.18 (1.3-13.5)  </td><td>4.57 (1.35-15.4) </td></tr>\n",
       "\t<tr><th scope=row>Surv(time_to_eskd_from_admission, treatment_eskd) ~ fna3_cluster_n +      Renal.Stage..Palladini. + Age + tt(Age) + Sex + Race + strata(LC.Isotype) +      strata(Era)</th><td>Reference</td><td>2.11 (0.903-4.95)</td><td>2.32 (0.987-5.46)</td></tr>\n",
       "\t<tr><th scope=row>Surv(time_to_eskd_from_admission, treatment_eskd) ~ fna3_cluster_n +      Renal.Stage..Palladini. + Age + tt(Age) + Sex + Race + eGFR +      tt(eGFR) + log2(X24_hr_UTP + 1) + strata(LC.Isotype) + strata(Era)</th><td>Reference</td><td>2.67 (1.06-6.74) </td><td>4.16 (1.62-10.7) </td></tr>\n",
       "\t<tr><th scope=row>Surv(time_to_eskd_from_admission, treatment_eskd) ~ fna3_cluster_n +      Renal.Stage..Palladini. + Age + tt(Age) + Sex + Race + eGFR +      tt(eGFR) + log2(X24_hr_UTP + 1) + Albumin + strata(LC.Isotype) +      strata(Era)</th><td>Reference</td><td>3.54 (1.09-11.5) </td><td>3.7 (1.09-12.6)  </td></tr>\n",
       "</tbody>\n",
       "</table>\n"
      ],
      "text/latex": [
       "A data.frame: 8 x 3\n",
       "\\begin{tabular}{r|lll}\n",
       "  & High & Low & Intermediate\\\\\n",
       "  & <chr> & <chr> & <chr>\\\\\n",
       "\\hline\n",
       "\tEvents & 8         & 88                & 135              \\\\\n",
       "\tSurv(time\\_to\\_eskd\\_from\\_admission, treatment\\_eskd) \\textasciitilde{} fna3\\_cluster\\_n & Reference & 3.2 (1.55-6.61)   & 6.5 (3.18-13.3)  \\\\\n",
       "\tSurv(time\\_to\\_eskd\\_from\\_admission, treatment\\_eskd) \\textasciitilde{} fna3\\_cluster\\_n +      Age + tt(Age) + Sex + Race + strata(LC.Isotype) + strata(Era) & Reference & 3.25 (1.57-6.75)  & 6.65 (3.24-13.6) \\\\\n",
       "\tSurv(time\\_to\\_eskd\\_from\\_admission, treatment\\_eskd) \\textasciitilde{} fna3\\_cluster\\_n +      Age + tt(Age) + Sex + Race + eGFR + tt(eGFR) + log2(X24\\_hr\\_UTP +      1) + strata(LC.Isotype) + strata(Era) & Reference & 3.44 (1.37-8.61)  & 6.44 (2.56-16.2) \\\\\n",
       "\tSurv(time\\_to\\_eskd\\_from\\_admission, treatment\\_eskd) \\textasciitilde{} fna3\\_cluster\\_n +      Age + tt(Age) + Sex + Race + eGFR + tt(eGFR) + log2(X24\\_hr\\_UTP +      1) + Albumin + strata(LC.Isotype) + strata(Era) & Reference & 4.18 (1.3-13.5)   & 4.57 (1.35-15.4) \\\\\n",
       "\tSurv(time\\_to\\_eskd\\_from\\_admission, treatment\\_eskd) \\textasciitilde{} fna3\\_cluster\\_n +      Renal.Stage..Palladini. + Age + tt(Age) + Sex + Race + strata(LC.Isotype) +      strata(Era) & Reference & 2.11 (0.903-4.95) & 2.32 (0.987-5.46)\\\\\n",
       "\tSurv(time\\_to\\_eskd\\_from\\_admission, treatment\\_eskd) \\textasciitilde{} fna3\\_cluster\\_n +      Renal.Stage..Palladini. + Age + tt(Age) + Sex + Race + eGFR +      tt(eGFR) + log2(X24\\_hr\\_UTP + 1) + strata(LC.Isotype) + strata(Era) & Reference & 2.67 (1.06-6.74)  & 4.16 (1.62-10.7) \\\\\n",
       "\tSurv(time\\_to\\_eskd\\_from\\_admission, treatment\\_eskd) \\textasciitilde{} fna3\\_cluster\\_n +      Renal.Stage..Palladini. + Age + tt(Age) + Sex + Race + eGFR +      tt(eGFR) + log2(X24\\_hr\\_UTP + 1) + Albumin + strata(LC.Isotype) +      strata(Era) & Reference & 3.54 (1.09-11.5)  & 3.7 (1.09-12.6)  \\\\\n",
       "\\end{tabular}\n"
      ],
      "text/markdown": [
       "\n",
       "A data.frame: 8 x 3\n",
       "\n",
       "| <!--/--> | High &lt;chr&gt; | Low &lt;chr&gt; | Intermediate &lt;chr&gt; |\n",
       "|---|---|---|---|\n",
       "| Events | 8         | 88                | 135               |\n",
       "| Surv(time_to_eskd_from_admission, treatment_eskd) ~ fna3_cluster_n | Reference | 3.2 (1.55-6.61)   | 6.5 (3.18-13.3)   |\n",
       "| Surv(time_to_eskd_from_admission, treatment_eskd) ~ fna3_cluster_n +      Age + tt(Age) + Sex + Race + strata(LC.Isotype) + strata(Era) | Reference | 3.25 (1.57-6.75)  | 6.65 (3.24-13.6)  |\n",
       "| Surv(time_to_eskd_from_admission, treatment_eskd) ~ fna3_cluster_n +      Age + tt(Age) + Sex + Race + eGFR + tt(eGFR) + log2(X24_hr_UTP +      1) + strata(LC.Isotype) + strata(Era) | Reference | 3.44 (1.37-8.61)  | 6.44 (2.56-16.2)  |\n",
       "| Surv(time_to_eskd_from_admission, treatment_eskd) ~ fna3_cluster_n +      Age + tt(Age) + Sex + Race + eGFR + tt(eGFR) + log2(X24_hr_UTP +      1) + Albumin + strata(LC.Isotype) + strata(Era) | Reference | 4.18 (1.3-13.5)   | 4.57 (1.35-15.4)  |\n",
       "| Surv(time_to_eskd_from_admission, treatment_eskd) ~ fna3_cluster_n +      Renal.Stage..Palladini. + Age + tt(Age) + Sex + Race + strata(LC.Isotype) +      strata(Era) | Reference | 2.11 (0.903-4.95) | 2.32 (0.987-5.46) |\n",
       "| Surv(time_to_eskd_from_admission, treatment_eskd) ~ fna3_cluster_n +      Renal.Stage..Palladini. + Age + tt(Age) + Sex + Race + eGFR +      tt(eGFR) + log2(X24_hr_UTP + 1) + strata(LC.Isotype) + strata(Era) | Reference | 2.67 (1.06-6.74)  | 4.16 (1.62-10.7)  |\n",
       "| Surv(time_to_eskd_from_admission, treatment_eskd) ~ fna3_cluster_n +      Renal.Stage..Palladini. + Age + tt(Age) + Sex + Race + eGFR +      tt(eGFR) + log2(X24_hr_UTP + 1) + Albumin + strata(LC.Isotype) +      strata(Era) | Reference | 3.54 (1.09-11.5)  | 3.7 (1.09-12.6)   |\n",
       "\n"
      ],
      "text/plain": [
       "                                                                                                                                                                                                                               High     \n",
       "Events                                                                                                                                                                                                                         8        \n",
       "Surv(time_to_eskd_from_admission, treatment_eskd) ~ fna3_cluster_n                                                                                                                                                             Reference\n",
       "Surv(time_to_eskd_from_admission, treatment_eskd) ~ fna3_cluster_n +      Age + tt(Age) + Sex + Race + strata(LC.Isotype) + strata(Era)                                                                                        Reference\n",
       "Surv(time_to_eskd_from_admission, treatment_eskd) ~ fna3_cluster_n +      Age + tt(Age) + Sex + Race + eGFR + tt(eGFR) + log2(X24_hr_UTP +      1) + strata(LC.Isotype) + strata(Era)                                          Reference\n",
       "Surv(time_to_eskd_from_admission, treatment_eskd) ~ fna3_cluster_n +      Age + tt(Age) + Sex + Race + eGFR + tt(eGFR) + log2(X24_hr_UTP +      1) + Albumin + strata(LC.Isotype) + strata(Era)                                Reference\n",
       "Surv(time_to_eskd_from_admission, treatment_eskd) ~ fna3_cluster_n +      Renal.Stage..Palladini. + Age + tt(Age) + Sex + Race + strata(LC.Isotype) +      strata(Era)                                                         Reference\n",
       "Surv(time_to_eskd_from_admission, treatment_eskd) ~ fna3_cluster_n +      Renal.Stage..Palladini. + Age + tt(Age) + Sex + Race + eGFR +      tt(eGFR) + log2(X24_hr_UTP + 1) + strata(LC.Isotype) + strata(Era)                Reference\n",
       "Surv(time_to_eskd_from_admission, treatment_eskd) ~ fna3_cluster_n +      Renal.Stage..Palladini. + Age + tt(Age) + Sex + Race + eGFR +      tt(eGFR) + log2(X24_hr_UTP + 1) + Albumin + strata(LC.Isotype) +      strata(Era) Reference\n",
       "                                                                                                                                                                                                                               Low              \n",
       "Events                                                                                                                                                                                                                         88               \n",
       "Surv(time_to_eskd_from_admission, treatment_eskd) ~ fna3_cluster_n                                                                                                                                                             3.2 (1.55-6.61)  \n",
       "Surv(time_to_eskd_from_admission, treatment_eskd) ~ fna3_cluster_n +      Age + tt(Age) + Sex + Race + strata(LC.Isotype) + strata(Era)                                                                                        3.25 (1.57-6.75) \n",
       "Surv(time_to_eskd_from_admission, treatment_eskd) ~ fna3_cluster_n +      Age + tt(Age) + Sex + Race + eGFR + tt(eGFR) + log2(X24_hr_UTP +      1) + strata(LC.Isotype) + strata(Era)                                          3.44 (1.37-8.61) \n",
       "Surv(time_to_eskd_from_admission, treatment_eskd) ~ fna3_cluster_n +      Age + tt(Age) + Sex + Race + eGFR + tt(eGFR) + log2(X24_hr_UTP +      1) + Albumin + strata(LC.Isotype) + strata(Era)                                4.18 (1.3-13.5)  \n",
       "Surv(time_to_eskd_from_admission, treatment_eskd) ~ fna3_cluster_n +      Renal.Stage..Palladini. + Age + tt(Age) + Sex + Race + strata(LC.Isotype) +      strata(Era)                                                         2.11 (0.903-4.95)\n",
       "Surv(time_to_eskd_from_admission, treatment_eskd) ~ fna3_cluster_n +      Renal.Stage..Palladini. + Age + tt(Age) + Sex + Race + eGFR +      tt(eGFR) + log2(X24_hr_UTP + 1) + strata(LC.Isotype) + strata(Era)                2.67 (1.06-6.74) \n",
       "Surv(time_to_eskd_from_admission, treatment_eskd) ~ fna3_cluster_n +      Renal.Stage..Palladini. + Age + tt(Age) + Sex + Race + eGFR +      tt(eGFR) + log2(X24_hr_UTP + 1) + Albumin + strata(LC.Isotype) +      strata(Era) 3.54 (1.09-11.5) \n",
       "                                                                                                                                                                                                                               Intermediate     \n",
       "Events                                                                                                                                                                                                                         135              \n",
       "Surv(time_to_eskd_from_admission, treatment_eskd) ~ fna3_cluster_n                                                                                                                                                             6.5 (3.18-13.3)  \n",
       "Surv(time_to_eskd_from_admission, treatment_eskd) ~ fna3_cluster_n +      Age + tt(Age) + Sex + Race + strata(LC.Isotype) + strata(Era)                                                                                        6.65 (3.24-13.6) \n",
       "Surv(time_to_eskd_from_admission, treatment_eskd) ~ fna3_cluster_n +      Age + tt(Age) + Sex + Race + eGFR + tt(eGFR) + log2(X24_hr_UTP +      1) + strata(LC.Isotype) + strata(Era)                                          6.44 (2.56-16.2) \n",
       "Surv(time_to_eskd_from_admission, treatment_eskd) ~ fna3_cluster_n +      Age + tt(Age) + Sex + Race + eGFR + tt(eGFR) + log2(X24_hr_UTP +      1) + Albumin + strata(LC.Isotype) + strata(Era)                                4.57 (1.35-15.4) \n",
       "Surv(time_to_eskd_from_admission, treatment_eskd) ~ fna3_cluster_n +      Renal.Stage..Palladini. + Age + tt(Age) + Sex + Race + strata(LC.Isotype) +      strata(Era)                                                         2.32 (0.987-5.46)\n",
       "Surv(time_to_eskd_from_admission, treatment_eskd) ~ fna3_cluster_n +      Renal.Stage..Palladini. + Age + tt(Age) + Sex + Race + eGFR +      tt(eGFR) + log2(X24_hr_UTP + 1) + strata(LC.Isotype) + strata(Era)                4.16 (1.62-10.7) \n",
       "Surv(time_to_eskd_from_admission, treatment_eskd) ~ fna3_cluster_n +      Renal.Stage..Palladini. + Age + tt(Age) + Sex + Race + eGFR +      tt(eGFR) + log2(X24_hr_UTP + 1) + Albumin + strata(LC.Isotype) +      strata(Era) 3.7 (1.09-12.6)  "
      ]
     },
     "metadata": {},
     "output_type": "display_data"
    }
   ],
   "source": [
    "cox_models <- list(eskd.crude, \n",
    "    eskd.baseline.cluster.t, eskd.labs.cluster.t, eskd.labs.cluster.v2.t,\n",
    "    eskd.baseline.cluster.stage.t, eskd.labs.cluster.stage.t, eskd.labs.cluster.stage.v2.t\n",
    ")\n",
    "\n",
    "cox_summary <- coxSummary(cox_models, var=\"fna3_cluster_n\")\n",
    "cox_summary$High <- \"Reference\"\n",
    "\n",
    "# # Add events\n",
    "result <- eskd.df %>% \n",
    "    filter(!is.na(eval(fna3_cluster_n))) %>% \n",
    "    group_by(fna3_cluster_n) %>% \n",
    "    summarize(Events = sum(treatment_eskd)) %>%\n",
    "    column_to_rownames(var = \"fna3_cluster_n\")\n",
    "\n",
    "cox_summary <- rbind(t(result), cox_summary)\n",
    "cox_summary"
   ]
  },
  {
   "cell_type": "code",
   "execution_count": 108,
   "metadata": {
    "vscode": {
     "languageId": "r"
    }
   },
   "outputs": [
    {
     "data": {
      "text/html": [
       "<table class=\"dataframe\">\n",
       "<caption>A data.frame: 8 x 3</caption>\n",
       "<thead>\n",
       "\t<tr><th></th><th scope=col>Stage.I</th><th scope=col>Stage.II</th><th scope=col>Stage.III</th></tr>\n",
       "\t<tr><th></th><th scope=col>&lt;chr&gt;</th><th scope=col>&lt;chr&gt;</th><th scope=col>&lt;chr&gt;</th></tr>\n",
       "</thead>\n",
       "<tbody>\n",
       "\t<tr><th scope=row>Events</th><td>23       </td><td>127             </td><td>70              </td></tr>\n",
       "\t<tr><th scope=row>Surv(time_to_eskd_from_admission, treatment_eskd) ~ Renal.Stage..Palladini.</th><td>Reference</td><td>5.93 (3.8-9.24) </td><td>14.4 (8.98-23.1)</td></tr>\n",
       "\t<tr><th scope=row>Surv(time_to_eskd_from_admission, treatment_eskd) ~ Renal.Stage..Palladini. +      Age + tt(Age) + Sex + Race + strata(LC.Isotype) + strata(Era)</th><td>Reference</td><td>5.91 (3.79-9.24)</td><td>14.7 (9.04-23.8)</td></tr>\n",
       "\t<tr><th scope=row>Surv(time_to_eskd_from_admission, treatment_eskd) ~ Renal.Stage..Palladini. +      Age + tt(Age) + Sex + Race + eGFR + tt(eGFR) + log2(X24_hr_UTP +      1) + strata(LC.Isotype) + strata(Era)</th><td>Reference</td><td>4.02 (2.42-6.69)</td><td>6.52 (3.2-13.3) </td></tr>\n",
       "\t<tr><th scope=row>Surv(time_to_eskd_from_admission, treatment_eskd) ~ Renal.Stage..Palladini. +      Age + tt(Age) + Sex + Race + eGFR + tt(eGFR) + log2(X24_hr_UTP +      1) + Albumin + strata(LC.Isotype) + strata(Era)</th><td>Reference</td><td>2.69 (1.55-4.68)</td><td>3.69 (1.67-8.16)</td></tr>\n",
       "\t<tr><th scope=row>Surv(time_to_eskd_from_admission, treatment_eskd) ~ fna3_cluster_n +      Renal.Stage..Palladini. + Age + tt(Age) + Sex + Race + strata(LC.Isotype) +      strata(Era)</th><td>Reference</td><td>5.06 (3.18-8.07)</td><td>12.1 (7.2-20.2) </td></tr>\n",
       "\t<tr><th scope=row>Surv(time_to_eskd_from_admission, treatment_eskd) ~ fna3_cluster_n +      Renal.Stage..Palladini. + Age + tt(Age) + Sex + Race + eGFR +      tt(eGFR) + log2(X24_hr_UTP + 1) + strata(LC.Isotype) + strata(Era)</th><td>Reference</td><td>3 (1.77-5.08)   </td><td>4.04 (1.9-8.57) </td></tr>\n",
       "\t<tr><th scope=row>Surv(time_to_eskd_from_admission, treatment_eskd) ~ fna3_cluster_n +      Renal.Stage..Palladini. + Age + tt(Age) + Sex + Race + eGFR +      tt(eGFR) + log2(X24_hr_UTP + 1) + Albumin + strata(LC.Isotype) +      strata(Era)</th><td>Reference</td><td>2.43 (1.4-4.23) </td><td>3.27 (1.47-7.27)</td></tr>\n",
       "</tbody>\n",
       "</table>\n"
      ],
      "text/latex": [
       "A data.frame: 8 x 3\n",
       "\\begin{tabular}{r|lll}\n",
       "  & Stage.I & Stage.II & Stage.III\\\\\n",
       "  & <chr> & <chr> & <chr>\\\\\n",
       "\\hline\n",
       "\tEvents & 23        & 127              & 70              \\\\\n",
       "\tSurv(time\\_to\\_eskd\\_from\\_admission, treatment\\_eskd) \\textasciitilde{} Renal.Stage..Palladini. & Reference & 5.93 (3.8-9.24)  & 14.4 (8.98-23.1)\\\\\n",
       "\tSurv(time\\_to\\_eskd\\_from\\_admission, treatment\\_eskd) \\textasciitilde{} Renal.Stage..Palladini. +      Age + tt(Age) + Sex + Race + strata(LC.Isotype) + strata(Era) & Reference & 5.91 (3.79-9.24) & 14.7 (9.04-23.8)\\\\\n",
       "\tSurv(time\\_to\\_eskd\\_from\\_admission, treatment\\_eskd) \\textasciitilde{} Renal.Stage..Palladini. +      Age + tt(Age) + Sex + Race + eGFR + tt(eGFR) + log2(X24\\_hr\\_UTP +      1) + strata(LC.Isotype) + strata(Era) & Reference & 4.02 (2.42-6.69) & 6.52 (3.2-13.3) \\\\\n",
       "\tSurv(time\\_to\\_eskd\\_from\\_admission, treatment\\_eskd) \\textasciitilde{} Renal.Stage..Palladini. +      Age + tt(Age) + Sex + Race + eGFR + tt(eGFR) + log2(X24\\_hr\\_UTP +      1) + Albumin + strata(LC.Isotype) + strata(Era) & Reference & 2.69 (1.55-4.68) & 3.69 (1.67-8.16)\\\\\n",
       "\tSurv(time\\_to\\_eskd\\_from\\_admission, treatment\\_eskd) \\textasciitilde{} fna3\\_cluster\\_n +      Renal.Stage..Palladini. + Age + tt(Age) + Sex + Race + strata(LC.Isotype) +      strata(Era) & Reference & 5.06 (3.18-8.07) & 12.1 (7.2-20.2) \\\\\n",
       "\tSurv(time\\_to\\_eskd\\_from\\_admission, treatment\\_eskd) \\textasciitilde{} fna3\\_cluster\\_n +      Renal.Stage..Palladini. + Age + tt(Age) + Sex + Race + eGFR +      tt(eGFR) + log2(X24\\_hr\\_UTP + 1) + strata(LC.Isotype) + strata(Era) & Reference & 3 (1.77-5.08)    & 4.04 (1.9-8.57) \\\\\n",
       "\tSurv(time\\_to\\_eskd\\_from\\_admission, treatment\\_eskd) \\textasciitilde{} fna3\\_cluster\\_n +      Renal.Stage..Palladini. + Age + tt(Age) + Sex + Race + eGFR +      tt(eGFR) + log2(X24\\_hr\\_UTP + 1) + Albumin + strata(LC.Isotype) +      strata(Era) & Reference & 2.43 (1.4-4.23)  & 3.27 (1.47-7.27)\\\\\n",
       "\\end{tabular}\n"
      ],
      "text/markdown": [
       "\n",
       "A data.frame: 8 x 3\n",
       "\n",
       "| <!--/--> | Stage.I &lt;chr&gt; | Stage.II &lt;chr&gt; | Stage.III &lt;chr&gt; |\n",
       "|---|---|---|---|\n",
       "| Events | 23        | 127              | 70               |\n",
       "| Surv(time_to_eskd_from_admission, treatment_eskd) ~ Renal.Stage..Palladini. | Reference | 5.93 (3.8-9.24)  | 14.4 (8.98-23.1) |\n",
       "| Surv(time_to_eskd_from_admission, treatment_eskd) ~ Renal.Stage..Palladini. +      Age + tt(Age) + Sex + Race + strata(LC.Isotype) + strata(Era) | Reference | 5.91 (3.79-9.24) | 14.7 (9.04-23.8) |\n",
       "| Surv(time_to_eskd_from_admission, treatment_eskd) ~ Renal.Stage..Palladini. +      Age + tt(Age) + Sex + Race + eGFR + tt(eGFR) + log2(X24_hr_UTP +      1) + strata(LC.Isotype) + strata(Era) | Reference | 4.02 (2.42-6.69) | 6.52 (3.2-13.3)  |\n",
       "| Surv(time_to_eskd_from_admission, treatment_eskd) ~ Renal.Stage..Palladini. +      Age + tt(Age) + Sex + Race + eGFR + tt(eGFR) + log2(X24_hr_UTP +      1) + Albumin + strata(LC.Isotype) + strata(Era) | Reference | 2.69 (1.55-4.68) | 3.69 (1.67-8.16) |\n",
       "| Surv(time_to_eskd_from_admission, treatment_eskd) ~ fna3_cluster_n +      Renal.Stage..Palladini. + Age + tt(Age) + Sex + Race + strata(LC.Isotype) +      strata(Era) | Reference | 5.06 (3.18-8.07) | 12.1 (7.2-20.2)  |\n",
       "| Surv(time_to_eskd_from_admission, treatment_eskd) ~ fna3_cluster_n +      Renal.Stage..Palladini. + Age + tt(Age) + Sex + Race + eGFR +      tt(eGFR) + log2(X24_hr_UTP + 1) + strata(LC.Isotype) + strata(Era) | Reference | 3 (1.77-5.08)    | 4.04 (1.9-8.57)  |\n",
       "| Surv(time_to_eskd_from_admission, treatment_eskd) ~ fna3_cluster_n +      Renal.Stage..Palladini. + Age + tt(Age) + Sex + Race + eGFR +      tt(eGFR) + log2(X24_hr_UTP + 1) + Albumin + strata(LC.Isotype) +      strata(Era) | Reference | 2.43 (1.4-4.23)  | 3.27 (1.47-7.27) |\n",
       "\n"
      ],
      "text/plain": [
       "                                                                                                                                                                                                                               Stage.I  \n",
       "Events                                                                                                                                                                                                                         23       \n",
       "Surv(time_to_eskd_from_admission, treatment_eskd) ~ Renal.Stage..Palladini.                                                                                                                                                    Reference\n",
       "Surv(time_to_eskd_from_admission, treatment_eskd) ~ Renal.Stage..Palladini. +      Age + tt(Age) + Sex + Race + strata(LC.Isotype) + strata(Era)                                                                               Reference\n",
       "Surv(time_to_eskd_from_admission, treatment_eskd) ~ Renal.Stage..Palladini. +      Age + tt(Age) + Sex + Race + eGFR + tt(eGFR) + log2(X24_hr_UTP +      1) + strata(LC.Isotype) + strata(Era)                                 Reference\n",
       "Surv(time_to_eskd_from_admission, treatment_eskd) ~ Renal.Stage..Palladini. +      Age + tt(Age) + Sex + Race + eGFR + tt(eGFR) + log2(X24_hr_UTP +      1) + Albumin + strata(LC.Isotype) + strata(Era)                       Reference\n",
       "Surv(time_to_eskd_from_admission, treatment_eskd) ~ fna3_cluster_n +      Renal.Stage..Palladini. + Age + tt(Age) + Sex + Race + strata(LC.Isotype) +      strata(Era)                                                         Reference\n",
       "Surv(time_to_eskd_from_admission, treatment_eskd) ~ fna3_cluster_n +      Renal.Stage..Palladini. + Age + tt(Age) + Sex + Race + eGFR +      tt(eGFR) + log2(X24_hr_UTP + 1) + strata(LC.Isotype) + strata(Era)                Reference\n",
       "Surv(time_to_eskd_from_admission, treatment_eskd) ~ fna3_cluster_n +      Renal.Stage..Palladini. + Age + tt(Age) + Sex + Race + eGFR +      tt(eGFR) + log2(X24_hr_UTP + 1) + Albumin + strata(LC.Isotype) +      strata(Era) Reference\n",
       "                                                                                                                                                                                                                               Stage.II        \n",
       "Events                                                                                                                                                                                                                         127             \n",
       "Surv(time_to_eskd_from_admission, treatment_eskd) ~ Renal.Stage..Palladini.                                                                                                                                                    5.93 (3.8-9.24) \n",
       "Surv(time_to_eskd_from_admission, treatment_eskd) ~ Renal.Stage..Palladini. +      Age + tt(Age) + Sex + Race + strata(LC.Isotype) + strata(Era)                                                                               5.91 (3.79-9.24)\n",
       "Surv(time_to_eskd_from_admission, treatment_eskd) ~ Renal.Stage..Palladini. +      Age + tt(Age) + Sex + Race + eGFR + tt(eGFR) + log2(X24_hr_UTP +      1) + strata(LC.Isotype) + strata(Era)                                 4.02 (2.42-6.69)\n",
       "Surv(time_to_eskd_from_admission, treatment_eskd) ~ Renal.Stage..Palladini. +      Age + tt(Age) + Sex + Race + eGFR + tt(eGFR) + log2(X24_hr_UTP +      1) + Albumin + strata(LC.Isotype) + strata(Era)                       2.69 (1.55-4.68)\n",
       "Surv(time_to_eskd_from_admission, treatment_eskd) ~ fna3_cluster_n +      Renal.Stage..Palladini. + Age + tt(Age) + Sex + Race + strata(LC.Isotype) +      strata(Era)                                                         5.06 (3.18-8.07)\n",
       "Surv(time_to_eskd_from_admission, treatment_eskd) ~ fna3_cluster_n +      Renal.Stage..Palladini. + Age + tt(Age) + Sex + Race + eGFR +      tt(eGFR) + log2(X24_hr_UTP + 1) + strata(LC.Isotype) + strata(Era)                3 (1.77-5.08)   \n",
       "Surv(time_to_eskd_from_admission, treatment_eskd) ~ fna3_cluster_n +      Renal.Stage..Palladini. + Age + tt(Age) + Sex + Race + eGFR +      tt(eGFR) + log2(X24_hr_UTP + 1) + Albumin + strata(LC.Isotype) +      strata(Era) 2.43 (1.4-4.23) \n",
       "                                                                                                                                                                                                                               Stage.III       \n",
       "Events                                                                                                                                                                                                                         70              \n",
       "Surv(time_to_eskd_from_admission, treatment_eskd) ~ Renal.Stage..Palladini.                                                                                                                                                    14.4 (8.98-23.1)\n",
       "Surv(time_to_eskd_from_admission, treatment_eskd) ~ Renal.Stage..Palladini. +      Age + tt(Age) + Sex + Race + strata(LC.Isotype) + strata(Era)                                                                               14.7 (9.04-23.8)\n",
       "Surv(time_to_eskd_from_admission, treatment_eskd) ~ Renal.Stage..Palladini. +      Age + tt(Age) + Sex + Race + eGFR + tt(eGFR) + log2(X24_hr_UTP +      1) + strata(LC.Isotype) + strata(Era)                                 6.52 (3.2-13.3) \n",
       "Surv(time_to_eskd_from_admission, treatment_eskd) ~ Renal.Stage..Palladini. +      Age + tt(Age) + Sex + Race + eGFR + tt(eGFR) + log2(X24_hr_UTP +      1) + Albumin + strata(LC.Isotype) + strata(Era)                       3.69 (1.67-8.16)\n",
       "Surv(time_to_eskd_from_admission, treatment_eskd) ~ fna3_cluster_n +      Renal.Stage..Palladini. + Age + tt(Age) + Sex + Race + strata(LC.Isotype) +      strata(Era)                                                         12.1 (7.2-20.2) \n",
       "Surv(time_to_eskd_from_admission, treatment_eskd) ~ fna3_cluster_n +      Renal.Stage..Palladini. + Age + tt(Age) + Sex + Race + eGFR +      tt(eGFR) + log2(X24_hr_UTP + 1) + strata(LC.Isotype) + strata(Era)                4.04 (1.9-8.57) \n",
       "Surv(time_to_eskd_from_admission, treatment_eskd) ~ fna3_cluster_n +      Renal.Stage..Palladini. + Age + tt(Age) + Sex + Race + eGFR +      tt(eGFR) + log2(X24_hr_UTP + 1) + Albumin + strata(LC.Isotype) +      strata(Era) 3.27 (1.47-7.27)"
      ]
     },
     "metadata": {},
     "output_type": "display_data"
    }
   ],
   "source": [
    "cox_models <- list(eskd.stage, eskd.baseline.stage.t, eskd.labs.stage.t, eskd.labs.stage.v2.t,\n",
    "    eskd.baseline.cluster.stage.t, eskd.labs.cluster.stage.t, eskd.labs.cluster.stage.v2.t\n",
    ")\n",
    "\n",
    "cox_summary <- coxSummary(cox_models, var=\"Renal.Stage..Palladini.\")\n",
    "cox_summary$Stage.I <- \"Reference\"\n",
    "\n",
    "# # Add events\n",
    "result <- eskd.df %>% \n",
    "    filter(!is.na(eval(Renal.Stage..Palladini.))) %>% \n",
    "    group_by(Renal.Stage..Palladini.) %>% \n",
    "    summarize(Events = sum(treatment_eskd)) %>%\n",
    "    column_to_rownames(var = \"Renal.Stage..Palladini.\")\n",
    "row.names(result) <- c(\"Stage.I\",\"Stage.II\",\"Stage.III\")\n",
    "\n",
    "cox_summary <- rbind(t(result), cox_summary)\n",
    "cox_summary"
   ]
  },
  {
   "cell_type": "code",
   "execution_count": 109,
   "metadata": {
    "vscode": {
     "languageId": "r"
    }
   },
   "outputs": [
    {
     "data": {
      "text/html": [
       "<strong>pdf:</strong> 2"
      ],
      "text/latex": [
       "\\textbf{pdf:} 2"
      ],
      "text/markdown": [
       "**pdf:** 2"
      ],
      "text/plain": [
       "pdf \n",
       "  2 "
      ]
     },
     "metadata": {},
     "output_type": "display_data"
    }
   ],
   "source": [
    "pdf(\"figures/cluster_fna3_km_eskd_curve.pdf\", h=8, w=6)\n",
    "fit <- survfit(Surv(time_to_eskd_from_admission, treatment_eskd) ~ fna3_cluster_n, data=eskd.df)\n",
    "plotSurv(fit, eskd.df, \"Subgroup\", NULL, palette=c(\"#ca4a29\",\"#62b67d\",\"#69a9c8\"), \n",
    "         surv.median.line=\"v\", break.time.by=2)\n",
    "dev.off()"
   ]
  },
  {
   "cell_type": "markdown",
   "metadata": {},
   "source": [
    "## 3. Adjusted Cumulative Incidence of ESKD\n",
    "---"
   ]
  },
  {
   "cell_type": "code",
   "execution_count": 115,
   "metadata": {
    "vscode": {
     "languageId": "r"
    }
   },
   "outputs": [
    {
     "data": {
      "text/plain": [
       "Call:\n",
       "coxph(formula = Surv(time_to_eskd_from_admission, treatment_eskd) ~ \n",
       "    fna3_cluster_n + Age + Sex + Race + strata(LC.Isotype) + \n",
       "        strata(Era), data = eskd.df, x = TRUE)\n",
       "\n",
       "  n= 1756, number of events= 231 \n",
       "   (6 observations deleted due to missingness)\n",
       "\n",
       "                                coef exp(coef)  se(coef)      z Pr(>|z|)    \n",
       "fna3_cluster_nLow           1.170997  3.225208  0.372031  3.148  0.00165 ** \n",
       "fna3_cluster_nIntermediate  1.892574  6.636429  0.366535  5.163 2.42e-07 ***\n",
       "Age                        -0.006494  0.993527  0.006331 -1.026  0.30500    \n",
       "Sexmale                     0.264477  1.302749  0.139279  1.899  0.05758 .  \n",
       "RaceBlack                  -0.201554  0.817459  0.550963 -0.366  0.71450    \n",
       "RaceOther                   0.738659  2.093126  0.841569  0.878  0.38010    \n",
       "RaceWhite                   0.286793  1.332149  0.457891  0.626  0.53109    \n",
       "---\n",
       "Signif. codes:  0 '***' 0.001 '**' 0.01 '*' 0.05 '.' 0.1 ' ' 1\n",
       "\n",
       "                           exp(coef) exp(-coef) lower .95 upper .95\n",
       "fna3_cluster_nLow             3.2252     0.3101    1.5556     6.687\n",
       "fna3_cluster_nIntermediate    6.6364     0.1507    3.2355    13.612\n",
       "Age                           0.9935     1.0065    0.9813     1.006\n",
       "Sexmale                       1.3027     0.7676    0.9915     1.712\n",
       "RaceBlack                     0.8175     1.2233    0.2776     2.407\n",
       "RaceOther                     2.0931     0.4778    0.4022    10.893\n",
       "RaceWhite                     1.3321     0.7507    0.5430     3.268\n",
       "\n",
       "Concordance= 0.696  (se = 0.019 )\n",
       "Likelihood ratio test= 64.99  on 7 df,   p=2e-11\n",
       "Wald test            = 54.42  on 7 df,   p=2e-09\n",
       "Score (logrank) test = 61.25  on 7 df,   p=8e-11\n"
      ]
     },
     "metadata": {},
     "output_type": "display_data"
    }
   ],
   "source": [
    "summary(eskd.baseline.cluster)"
   ]
  },
  {
   "cell_type": "code",
   "execution_count": 114,
   "metadata": {
    "vscode": {
     "languageId": "r"
    }
   },
   "outputs": [],
   "source": [
    "# Adjusted survival curve without bootstrap\n",
    "eskd.adjsurv <- adjustedsurv(data=eskd.df,\n",
    "                        variable=\"fna3_cluster_n\",\n",
    "                        ev_time=\"time_to_eskd_from_admission\",\n",
    "                        event=\"treatment_eskd\",\n",
    "                        method=\"direct\",\n",
    "                        outcome_model=eskd.baseline.cluster,\n",
    "                        conf_int=T,\n",
    "                        n_cores=8,\n",
    "                        n_boot=1000,\n",
    "                        bootstrap=TRUE\n",
    "                       )"
   ]
  },
  {
   "cell_type": "code",
   "execution_count": 116,
   "metadata": {
    "vscode": {
     "languageId": "r"
    }
   },
   "outputs": [],
   "source": [
    "saveRDS(eskd.adjsurv, \"data/analysis/eskd_adjsurv.rds\")"
   ]
  },
  {
   "cell_type": "code",
   "execution_count": 23,
   "metadata": {
    "vscode": {
     "languageId": "r"
    }
   },
   "outputs": [],
   "source": [
    "#eskd.adjsurv <- readRDS(\"data/analysis/eskd_adjsurv.rds\")"
   ]
  },
  {
   "cell_type": "code",
   "execution_count": 117,
   "metadata": {
    "vscode": {
     "languageId": "r"
    }
   },
   "outputs": [
    {
     "data": {
      "text/plain": [
       "     Average treatment effect \n",
       "\n",
       " - Treatment            : fna3_cluster_n (3 levels: \"High\" \"Low\" \"Intermediate\")\n",
       " - Event                : treatment_eskd (cause: 1, censoring: 0)\n",
       " - Time  [min;max]      : time_to_eskd_from_admission [0.00274;23.9]\n",
       " - Eval. time                     :     0 0.0054757015742642 0.0109514031485284\n",
       "              <char>         <char> <int>              <int>              <int>\n",
       "      number at risk         High     362                360                358\n",
       "      number at risk          Low     726                724                724\n",
       "      number at risk Intermediate     668                668                665\n",
       " 0.0191649555099247 0.0246406570841889 0.0355920602327173 0.0383299110198494\n",
       "              <int>              <int>              <int>              <int>\n",
       "                356                355                351                351\n",
       "                723                720                720                720\n",
       "                662                660                657                654\n",
       " 0.0410677618069815 0.0438056125941136 0.0657084188911704 0.0711841204654346\n",
       "              <int>              <int>              <int>              <int>\n",
       "                349                348                341                336\n",
       "                720                720                716                715\n",
       "                652                648                640                640\n",
       " 0.082135523613963 0.0848733744010951 0.101300479123888 0.120465434633812\n",
       "             <int>              <int>             <int>             <int>\n",
       "               330                328               322               310\n",
       "               711                711               709               705\n",
       "               635                633               627               617\n",
       " 0.125941136208077 0.134154688569473 0.136892539356605 0.139630390143737\n",
       "             <int>             <int>             <int>             <int>\n",
       "               310               307               303               303\n",
       "               703               703               703               703\n",
       "               615               609               607               604\n",
       " 0.145106091718001 0.158795345653662 0.164271047227926 0.172484599589322\n",
       "             <int>             <int>             <int>             <int>\n",
       "               302               297               294               287\n",
       "               697               696               695               695\n",
       "               600               595               594               591\n",
       " 0.177960301163587 0.186173853524983 0.205338809034908 0.210814510609172\n",
       "             <int>             <int>             <int>             <int>\n",
       "               284               281               275               274\n",
       "               694               691               682               682\n",
       "               591               590               577               576\n",
       " 0.213552361396304 0.216290212183436 0.219028062970568 0.2217659137577\n",
       "             <int>             <int>             <int>           <int>\n",
       "               272               271               271             270\n",
       "               681               679               679             678\n",
       "               572               570               567             566\n",
       " 0.246406570841889 0.251882272416153 0.26009582477755 0.268309377138946\n",
       "             <int>             <int>            <int>             <int>\n",
       "               258               257              257               256\n",
       "               674               672              669               666\n",
       "               558               555              553               548\n",
       " 0.284736481861739 0.290212183436003 0.292950034223135 0.295687885010267\n",
       "             <int>             <int>             <int>             <int>\n",
       "               251               250               249               249\n",
       "               665               665               665               664\n",
       "               542               537               535               534\n",
       " 0.31211498973306 0.32580424366872 0.328542094455852 0.366872005475702\n",
       "            <int>            <int>             <int>             <int>\n",
       "              243              241               238               229\n",
       "              660              655               654               647\n",
       "              524              518               518               507\n",
       " 0.375085557837098 0.39151266255989 0.410677618069815 0.427104722792608\n",
       "             <int>            <int>             <int>             <int>\n",
       "               225              222               219               218\n",
       "               647              645               643               638\n",
       "               505              501               495               492\n",
       " 0.42984257357974 0.438056125941136 0.468172484599589 0.487337440109514\n",
       "            <int>             <int>             <int>             <int>\n",
       "              217               216               215               213\n",
       "              638               636               633               628\n",
       "              489               488               478               475\n",
       " 0.501026694045175 0.506502395619439 0.54757015742642 0.574948665297741\n",
       "             <int>             <int>            <int>             <int>\n",
       "               207               206              201               200\n",
       "               628               628              621               617\n",
       "               471               467              464               460\n",
       " 0.613278576317591 0.640657084188912 0.654346338124572 0.659822039698836\n",
       "             <int>             <int>             <int>             <int>\n",
       "               196               193               191               190\n",
       "               611               608               606               606\n",
       "               453               448               447               446\n",
       " 0.665297741273101 0.750171115674196 0.752908966461328 0.793976728268309\n",
       "             <int>             <int>             <int>             <int>\n",
       "               190               179               178               176\n",
       "               605               590               590               584\n",
       "               445               430               428               422\n",
       " 0.848733744010951 0.908966461327858 0.944558521560575 0.947296372347707\n",
       "             <int>             <int>             <int>             <int>\n",
       "               171               167               165               164\n",
       "               574               562               557               556\n",
       "               414               409               405               404\n",
       " 0.9637234770705 0.966461327857632 0.985626283367556 1.00205338809035\n",
       "           <int>             <int>             <int>            <int>\n",
       "             162               162               161              155\n",
       "             555               554               550              544\n",
       "             402               402               397              394\n",
       " 1.00479123887748 1.0321697467488 1.05681040383299 1.07323750855578\n",
       "            <int>           <int>            <int>            <int>\n",
       "              154             150              149              149\n",
       "              543             539              537              535\n",
       "              394             388              384              382\n",
       " 1.11978097193703 1.21013004791239 1.26488706365503 1.31143052703628\n",
       "            <int>            <int>            <int>            <int>\n",
       "              146              137              133              132\n",
       "              531              521              516              508\n",
       "              380              370              365              361\n",
       " 1.3223819301848 1.35523613963039 1.3990417522245 1.40177960301164\n",
       "           <int>            <int>           <int>            <int>\n",
       "             132              132             130              130\n",
       "             507              503             499              499\n",
       "             359              355             350              349\n",
       " 1.44284736481862 1.45653661875428 1.58795345653662 1.61259411362081\n",
       "            <int>            <int>            <int>            <int>\n",
       "              130              129              127              127\n",
       "              494              492              485              483\n",
       "              346              345              338              336\n",
       " 1.68651608487337 1.80971937029432 1.82888432580424 1.9356605065024\n",
       "            <int>            <int>            <int>           <int>\n",
       "              125              123              122             118\n",
       "              475              465              462             458\n",
       "              335              331              330             324\n",
       " 1.95208761122519 1.97946611909651 2.03696098562628 2.11635865845311\n",
       "            <int>            <int>            <int>            <int>\n",
       "              117              117              115              114\n",
       "              456              450              436              431\n",
       "              322              319              317              311\n",
       " 2.13004791238877 2.13826146475017 2.14373716632444 2.1492128678987\n",
       "            <int>            <int>            <int>           <int>\n",
       "              113              113              112             112\n",
       "              430              430              430             429\n",
       "              311              309              308             308\n",
       " 2.19028062970568 2.20944558521561 2.31622176591376 2.32991101984942\n",
       "            <int>            <int>            <int>            <int>\n",
       "              110              110              105              105\n",
       "              426              426              418              417\n",
       "              304              302              299              296\n",
       " 2.34360027378508 2.34633812457221 2.39288158795346 2.41478439425051\n",
       "            <int>            <int>            <int>            <int>\n",
       "              104              104              102              100\n",
       "              415              415              412              409\n",
       "              292              291              287              287\n",
       " 2.5160848733744 2.52977412731006 2.59000684462697 2.60643394934976\n",
       "           <int>            <int>            <int>            <int>\n",
       "              98               97               93               93\n",
       "             399              398              395              395\n",
       "             280              280              277              275\n",
       " 2.65023956194387 2.6611909650924 2.66392881587953 2.6776180698152\n",
       "            <int>           <int>            <int>           <int>\n",
       "               91              90               90              90\n",
       "              390             389              389             388\n",
       "              273             272              271             271\n",
       " 2.75427789185489 2.78986995208761 2.89664613278576 2.97330595482546\n",
       "            <int>            <int>            <int>            <int>\n",
       "               88               86               85               83\n",
       "              383              382              381              371\n",
       "              271              269              264              261\n",
       " 2.98425735797399 2.99794661190965 3.17043121149897 3.1895961670089\n",
       "            <int>            <int>            <int>           <int>\n",
       "               83               83               81              80\n",
       "              370              369              355             354\n",
       "              260              258              254             253\n",
       " 3.23887748117728 3.27994524298426 3.29637234770705 3.32101300479124\n",
       "            <int>            <int>            <int>            <int>\n",
       "               79               79               79               79\n",
       "              352              350              348              347\n",
       "              253              252              252              250\n",
       " 3.34565366187543 3.37577002053388 3.38398357289528 3.57289527720739\n",
       "            <int>            <int>            <int>            <int>\n",
       "               79               79               79               77\n",
       "              347              347              347              339\n",
       "              247              245              243              236\n",
       " 3.62217659137577 3.69062286105407 3.7700205338809 3.85763175906913\n",
       "            <int>            <int>           <int>            <int>\n",
       "               76               75              73               73\n",
       "              337              330             328              323\n",
       "              232              227             225              222\n",
       " 4.145106091718 4.23819301848049 4.29568788501027 4.38603696098563\n",
       "          <int>            <int>            <int>            <int>\n",
       "             70               69               68               68\n",
       "            300              298              291              284\n",
       "            218              214              213              209\n",
       " 4.45995893223819 4.50924024640657 4.54757015742642 4.60506502395619\n",
       "            <int>            <int>            <int>            <int>\n",
       "               68               68               68               65\n",
       "              282              279              277              274\n",
       "              206              203              203              201\n",
       " 4.63791923340178 4.67898699520876 4.69541409993155 4.72279260780287\n",
       "            <int>            <int>            <int>            <int>\n",
       "               64               63               63               62\n",
       "              270              268              267              266\n",
       "              200              198              198              198\n",
       " 4.7419575633128 4.85968514715948 4.98015058179329 5.02669404517454\n",
       "           <int>            <int>            <int>            <int>\n",
       "              62               61               60               60\n",
       "             265              261              256              253\n",
       "             197              194              186              184\n",
       " 5.07049965776865 5.21286789869952 5.22929500342231 5.23203285420945\n",
       "            <int>            <int>            <int>            <int>\n",
       "               59               59               58               58\n",
       "              252              243              243              242\n",
       "              180              178              176              175\n",
       " 5.25119780971937 5.33607118412047 5.34702258726899 5.60164271047228\n",
       "            <int>            <int>            <int>            <int>\n",
       "               58               57               57               53\n",
       "              241              238              237              225\n",
       "              175              174              172              164\n",
       " 5.71115674195756 5.74401095140315 5.7741273100616 5.78507871321013\n",
       "            <int>            <int>           <int>            <int>\n",
       "               52               52              52               52\n",
       "              223              221             221              220\n",
       "              160              160             158              158\n",
       " 5.86173853524983 5.87268993839836 6.29158110882957 6.35181382614647\n",
       "            <int>            <int>            <int>            <int>\n",
       "               50               50               43               42\n",
       "              215              214              198              196\n",
       "              155              154              143              142\n",
       " 6.48049281314168 6.71321013004791 6.76249144421629 6.79534565366188\n",
       "            <int>            <int>            <int>            <int>\n",
       "               41               39               39               39\n",
       "              194              190              190              188\n",
       "              137              133              132              131\n",
       " 7.05817932922656 7.07186858316222 7.17864476386037 7.18412046543463\n",
       "            <int>            <int>            <int>            <int>\n",
       "               39               39               38               38\n",
       "              173              173              169              168\n",
       "              124              123              123              122\n",
       " 7.22518822724162 7.30184804928131 7.38672142368241 7.40588637919233\n",
       "            <int>            <int>            <int>            <int>\n",
       "               37               36               34               33\n",
       "              163              162              156              155\n",
       "              122              121              119              118\n",
       " 7.47707049965777 7.58384668035592 7.67419575633128 7.69062286105407\n",
       "            <int>            <int>            <int>            <int>\n",
       "               33               32               32               32\n",
       "              153              151              149              147\n",
       "              114              113              110              110\n",
       " 7.99726214921287 8.00273785078713 8.11772758384668 8.3066392881588\n",
       "            <int>            <int>            <int>           <int>\n",
       "               30               30               30              28\n",
       "              136              136              136             130\n",
       "              104              103              101              99\n",
       " 8.33127994524298 8.45722108145106 8.48186173853525 8.68172484599589\n",
       "            <int>            <int>            <int>            <int>\n",
       "               28               27               27               25\n",
       "              130              129              129              124\n",
       "               98               97               96               93\n",
       " 8.70636550308008 9.14168377823409 9.1854893908282 9.36618754277892\n",
       "            <int>            <int>           <int>            <int>\n",
       "               24               23              23               23\n",
       "              123              110             109              106\n",
       "               92               88              87               85\n",
       " 9.47296372347707 10.1629021218344 10.2642026009582 10.6666666666667\n",
       "            <int>            <int>            <int>            <int>\n",
       "               23               23               22               20\n",
       "              101               92               90               85\n",
       "               83               76               73               67\n",
       " 10.7597535934292 11.0143737166324 11.1485284052019 11.1594798083504\n",
       "            <int>            <int>            <int>            <int>\n",
       "               20               20               19               19\n",
       "               82               79               79               77\n",
       "               66               63               62               62\n",
       " 11.4168377823409 11.5099247091034 11.7316906228611 12.0492813141684\n",
       "            <int>            <int>            <int>            <int>\n",
       "               18               18               18               17\n",
       "               70               68               65               61\n",
       "               57               56               52               51\n",
       " 12.5119780971937 12.7501711156742 13.2265571526352 13.2621492128679\n",
       "            <int>            <int>            <int>            <int>\n",
       "               14               14               13               13\n",
       "               55               54               51               49\n",
       "               48               45               38               38\n",
       " 13.3908281998631 13.9931553730322 14.54893908282 14.7022587268994\n",
       "            <int>            <int>          <int>            <int>\n",
       "               13               13             12               11\n",
       "               47               35             33               32\n",
       "               37               31             27               27\n",
       " 14.8281998631075 15.088295687885 15.2580424366872 17.0184804928131\n",
       "            <int>           <int>            <int>            <int>\n",
       "               10              10               10                7\n",
       "               32              31               30               19\n",
       "               26              24               23               16\n",
       " 17.0239561943874 17.2156057494867 17.4893908281999 21.5687885010267\n",
       "            <int>            <int>            <int>            <int>\n",
       "                7                7                6                2\n",
       "               19               19               18                3\n",
       "               15               14               12                1\n",
       "\n",
       " Estimation procedure \n",
       " - Estimator  : G-formula\n",
       " - Uncertainty: Gaussian approximation \n",
       "                where the variance is estimated via the influence function \n",
       "\n",
       " Results \n",
       " - Standardized risks   :    [min;max]   \n",
       " fna3_cluster_n=A fna3_cluster_n=B  risk.A  risk.B difference (B-A) ratio (B/A)\n",
       "           <char>           <char>  <char>  <char>           <char>      <char>\n",
       "             High              Low [NA;NA] [NA;NA]          [NA;NA]     [NA;NA]\n",
       "             High     Intermediate [NA;NA] [NA;NA]          [NA;NA]     [NA;NA]\n",
       "              Low     Intermediate [NA;NA] [NA;NA]          [NA;NA]     [NA;NA]\n",
       "\n",
       " - Computation time     : 0.152998 secs (point estimate)\n",
       "                          0.0001001358 secs (iid)\n"
      ]
     },
     "metadata": {},
     "output_type": "display_data"
    }
   ],
   "source": [
    "eskd.adjsurv$ate_object"
   ]
  },
  {
   "cell_type": "code",
   "execution_count": 120,
   "metadata": {
    "vscode": {
     "languageId": "r"
    }
   },
   "outputs": [
    {
     "name": "stderr",
     "output_type": "stream",
     "text": [
      "Warning message:\n",
      "\"\u001b[1m\u001b[22mRemoved 48 rows containing missing values (`geom_step()`).\"\n"
     ]
    },
    {
     "data": {
      "text/html": [
       "<strong>pdf:</strong> 2"
      ],
      "text/latex": [
       "\\textbf{pdf:} 2"
      ],
      "text/markdown": [
       "**pdf:** 2"
      ],
      "text/plain": [
       "pdf \n",
       "  2 "
      ]
     },
     "metadata": {},
     "output_type": "display_data"
    }
   ],
   "source": [
    "pdf(\"figures/adjusted_eskd_clust.pdf\")\n",
    "plot(eskd.adjsurv, conf_int=F, custom_colors=c(\"#ca4a29\",\"#62b67d\",\"#69a9c8\"), cif=T) + xlim(0,12.5) + ylim(0,0.45)\n",
    "dev.off()"
   ]
  },
  {
   "cell_type": "code",
   "execution_count": 124,
   "metadata": {
    "vscode": {
     "languageId": "r"
    }
   },
   "outputs": [],
   "source": [
    "source(\"funcs/rfuncs.R\")"
   ]
  },
  {
   "cell_type": "code",
   "execution_count": 125,
   "metadata": {
    "vscode": {
     "languageId": "r"
    }
   },
   "outputs": [
    {
     "data": {
      "text/html": [
       "<table class=\"dataframe\">\n",
       "<caption>A data.frame: 3 x 3</caption>\n",
       "<thead>\n",
       "\t<tr><th></th><th scope=col>1</th><th scope=col>5</th><th scope=col>10</th></tr>\n",
       "\t<tr><th></th><th scope=col>&lt;chr&gt;</th><th scope=col>&lt;chr&gt;</th><th scope=col>&lt;chr&gt;</th></tr>\n",
       "</thead>\n",
       "<tbody>\n",
       "\t<tr><th scope=row>High</th><td>1.28 (0.495-2.26)</td><td>3.72 (1.48-6.43)</td><td>6.72 (2.75-11.3)</td></tr>\n",
       "\t<tr><th scope=row>Low</th><td>4.16 (3.07-5.39) </td><td>11.7 (9.16-14.5)</td><td>20.4 (16.1-24.5)</td></tr>\n",
       "\t<tr><th scope=row>Intermediate</th><td>8.4 (6.37-10.6)  </td><td>22.7 (18.9-27)  </td><td>37.6 (31.8-43.8)</td></tr>\n",
       "</tbody>\n",
       "</table>\n"
      ],
      "text/latex": [
       "A data.frame: 3 x 3\n",
       "\\begin{tabular}{r|lll}\n",
       "  & 1 & 5 & 10\\\\\n",
       "  & <chr> & <chr> & <chr>\\\\\n",
       "\\hline\n",
       "\tHigh & 1.28 (0.495-2.26) & 3.72 (1.48-6.43) & 6.72 (2.75-11.3)\\\\\n",
       "\tLow & 4.16 (3.07-5.39)  & 11.7 (9.16-14.5) & 20.4 (16.1-24.5)\\\\\n",
       "\tIntermediate & 8.4 (6.37-10.6)   & 22.7 (18.9-27)   & 37.6 (31.8-43.8)\\\\\n",
       "\\end{tabular}\n"
      ],
      "text/markdown": [
       "\n",
       "A data.frame: 3 x 3\n",
       "\n",
       "| <!--/--> | 1 &lt;chr&gt; | 5 &lt;chr&gt; | 10 &lt;chr&gt; |\n",
       "|---|---|---|---|\n",
       "| High | 1.28 (0.495-2.26) | 3.72 (1.48-6.43) | 6.72 (2.75-11.3) |\n",
       "| Low | 4.16 (3.07-5.39)  | 11.7 (9.16-14.5) | 20.4 (16.1-24.5) |\n",
       "| Intermediate | 8.4 (6.37-10.6)   | 22.7 (18.9-27)   | 37.6 (31.8-43.8) |\n",
       "\n"
      ],
      "text/plain": [
       "             1                 5                10              \n",
       "High         1.28 (0.495-2.26) 3.72 (1.48-6.43) 6.72 (2.75-11.3)\n",
       "Low          4.16 (3.07-5.39)  11.7 (9.16-14.5) 20.4 (16.1-24.5)\n",
       "Intermediate 8.4 (6.37-10.6)   22.7 (18.9-27)   37.6 (31.8-43.8)"
      ]
     },
     "metadata": {},
     "output_type": "display_data"
    }
   ],
   "source": [
    "getIncidenceGroup(eskd.adjsurv)"
   ]
  },
  {
   "cell_type": "code",
   "execution_count": 126,
   "metadata": {
    "vscode": {
     "languageId": "r"
    }
   },
   "outputs": [
    {
     "data": {
      "text/html": [
       "<table class=\"dataframe\">\n",
       "<caption>A data.frame: 3 x 4</caption>\n",
       "<thead>\n",
       "\t<tr><th scope=col>group</th><th scope=col>1</th><th scope=col>5</th><th scope=col>10</th></tr>\n",
       "\t<tr><th scope=col>&lt;fct&gt;</th><th scope=col>&lt;chr&gt;</th><th scope=col>&lt;chr&gt;</th><th scope=col>&lt;chr&gt;</th></tr>\n",
       "</thead>\n",
       "<tbody>\n",
       "\t<tr><td>Low vs. High         </td><td>2.82 (1.46-4.19)</td><td>7.96 (4.46-11.5)</td><td>13.5 (7.47-19.5)</td></tr>\n",
       "\t<tr><td>Intermediate vs. High</td><td>6.95 (4.68-9.21)</td><td>18.8 (14-23.7)  </td><td>30.4 (23-37.7)  </td></tr>\n",
       "\t<tr><td>Intermediate vs. Low </td><td>4.12 (1.77-6.48)</td><td>10.9 (6.04-15.7)</td><td>16.9 (9.54-24.2)</td></tr>\n",
       "</tbody>\n",
       "</table>\n"
      ],
      "text/latex": [
       "A data.frame: 3 x 4\n",
       "\\begin{tabular}{llll}\n",
       " group & 1 & 5 & 10\\\\\n",
       " <fct> & <chr> & <chr> & <chr>\\\\\n",
       "\\hline\n",
       "\t Low vs. High          & 2.82 (1.46-4.19) & 7.96 (4.46-11.5) & 13.5 (7.47-19.5)\\\\\n",
       "\t Intermediate vs. High & 6.95 (4.68-9.21) & 18.8 (14-23.7)   & 30.4 (23-37.7)  \\\\\n",
       "\t Intermediate vs. Low  & 4.12 (1.77-6.48) & 10.9 (6.04-15.7) & 16.9 (9.54-24.2)\\\\\n",
       "\\end{tabular}\n"
      ],
      "text/markdown": [
       "\n",
       "A data.frame: 3 x 4\n",
       "\n",
       "| group &lt;fct&gt; | 1 &lt;chr&gt; | 5 &lt;chr&gt; | 10 &lt;chr&gt; |\n",
       "|---|---|---|---|\n",
       "| Low vs. High          | 2.82 (1.46-4.19) | 7.96 (4.46-11.5) | 13.5 (7.47-19.5) |\n",
       "| Intermediate vs. High | 6.95 (4.68-9.21) | 18.8 (14-23.7)   | 30.4 (23-37.7)   |\n",
       "| Intermediate vs. Low  | 4.12 (1.77-6.48) | 10.9 (6.04-15.7) | 16.9 (9.54-24.2) |\n",
       "\n"
      ],
      "text/plain": [
       "  group                 1                5                10              \n",
       "1 Low vs. High          2.82 (1.46-4.19) 7.96 (4.46-11.5) 13.5 (7.47-19.5)\n",
       "2 Intermediate vs. High 6.95 (4.68-9.21) 18.8 (14-23.7)   30.4 (23-37.7)  \n",
       "3 Intermediate vs. Low  4.12 (1.77-6.48) 10.9 (6.04-15.7) 16.9 (9.54-24.2)"
      ]
     },
     "metadata": {},
     "output_type": "display_data"
    }
   ],
   "source": [
    "getRiskDiff(eskd.adjsurv, c(\"Low vs. High\",\"Intermediate vs. High\",\"Intermediate vs. Low\"))"
   ]
  },
  {
   "cell_type": "code",
   "execution_count": 127,
   "metadata": {
    "vscode": {
     "languageId": "r"
    }
   },
   "outputs": [
    {
     "name": "stdout",
     "output_type": "stream",
     "text": [
      "------------------------------------------------------------------\n",
      "   Test of the Difference between two adjusted Survival Curves\n",
      "------------------------------------------------------------------\n",
      "\n",
      "Using the interval: 0 to 12 \n",
      "\n",
      "                         ABC ABC SE 95% CI (lower) 95% CI (upper) P-Value\n",
      "High vs. Low          1.0802 0.2361         0.6178         1.5188       0\n",
      "High vs. Intermediate 2.4855 0.2919         1.9391         3.0619       0\n",
      "Low vs. Intermediate  1.4053 0.2801         0.8766         1.9493       0\n",
      "                      N Boot\n",
      "High vs. Low             901\n",
      "High vs. Intermediate    901\n",
      "Low vs. Intermediate     901\n",
      "------------------------------------------------------------------\n"
     ]
    }
   ],
   "source": [
    "# P-values\n",
    "adj_test <- adjusted_curve_test(eskd.adjsurv, from=0, to=12)\n",
    "summary(adj_test)"
   ]
  },
  {
   "cell_type": "code",
   "execution_count": 128,
   "metadata": {
    "vscode": {
     "languageId": "r"
    }
   },
   "outputs": [],
   "source": [
    "clust.adjci <- eskd.adjsurv\n",
    "clust.adjci$adjsurv$surv <- 1-clust.adjci$adjsurv$surv"
   ]
  },
  {
   "cell_type": "code",
   "execution_count": 129,
   "metadata": {
    "vscode": {
     "languageId": "r"
    }
   },
   "outputs": [
    {
     "name": "stderr",
     "output_type": "stream",
     "text": [
      "Warning message:\n",
      "\"\u001b[1m\u001b[22mRemoved 1 row containing missing values (`geom_step()`).\"\n"
     ]
    },
    {
     "data": {
      "text/html": [
       "<strong>pdf:</strong> 2"
      ],
      "text/latex": [
       "\\textbf{pdf:} 2"
      ],
      "text/markdown": [
       "**pdf:** 2"
      ],
      "text/plain": [
       "pdf \n",
       "  2 "
      ]
     },
     "metadata": {},
     "output_type": "display_data"
    }
   ],
   "source": [
    "pdf(\"figures/adjusted_eskd_clustdiff_low_high.pdf\")\n",
    "plot_curve_diff(clust.adjci, group_1=\"Low\", group_2=\"High\", conf_int=F, color=\"blue\") + ylim(0,0.4) + xlim(0,12.5)\n",
    "dev.off()"
   ]
  },
  {
   "cell_type": "code",
   "execution_count": 130,
   "metadata": {
    "vscode": {
     "languageId": "r"
    }
   },
   "outputs": [
    {
     "name": "stderr",
     "output_type": "stream",
     "text": [
      "Warning message:\n",
      "\"\u001b[1m\u001b[22mRemoved 1 row containing missing values (`geom_step()`).\"\n"
     ]
    },
    {
     "data": {
      "text/html": [
       "<strong>pdf:</strong> 2"
      ],
      "text/latex": [
       "\\textbf{pdf:} 2"
      ],
      "text/markdown": [
       "**pdf:** 2"
      ],
      "text/plain": [
       "pdf \n",
       "  2 "
      ]
     },
     "metadata": {},
     "output_type": "display_data"
    }
   ],
   "source": [
    "pdf(\"figures/adjusted_eskd_clustdiff_intermediate_high.pdf\")\n",
    "plot_curve_diff(clust.adjci, group_1=\"Intermediate\", group_2=\"High\", conf_int=F, color=\"red\")+ ylim(0,0.4) + xlim(0,12.5)\n",
    "dev.off()"
   ]
  },
  {
   "cell_type": "code",
   "execution_count": 131,
   "metadata": {
    "vscode": {
     "languageId": "r"
    }
   },
   "outputs": [
    {
     "name": "stderr",
     "output_type": "stream",
     "text": [
      "Warning message:\n",
      "\"\u001b[1m\u001b[22mRemoved 1 row containing missing values (`geom_step()`).\"\n"
     ]
    },
    {
     "data": {
      "text/html": [
       "<strong>pdf:</strong> 2"
      ],
      "text/latex": [
       "\\textbf{pdf:} 2"
      ],
      "text/markdown": [
       "**pdf:** 2"
      ],
      "text/plain": [
       "pdf \n",
       "  2 "
      ]
     },
     "metadata": {},
     "output_type": "display_data"
    }
   ],
   "source": [
    "pdf(\"figures/adjusted_eskd_clustdiff_high_intermediate.pdf\")\n",
    "plot_curve_diff(clust.adjci, group_1=\"Intermediate\", group_2=\"Low\", conf_int=F, color=\"green\")+ ylim(0,0.4) + xlim(0,12.5)\n",
    "dev.off()"
   ]
  },
  {
   "cell_type": "markdown",
   "metadata": {},
   "source": [
    "## 4. Fine Gray Model\n",
    "---"
   ]
  },
  {
   "cell_type": "code",
   "execution_count": 132,
   "metadata": {
    "vscode": {
     "languageId": "r"
    }
   },
   "outputs": [
    {
     "data": {
      "text/plain": [
       "Call:\n",
       "coxph(formula = Surv(time_to_eskd_from_admission, treatment_eskd) ~ \n",
       "    fna3_cluster_n + Age + tt(Age) + Sex + Race + strata(LC.Isotype) + \n",
       "        strata(Era), data = eskd.df, x = TRUE, tt = function(x, \n",
       "    t, ...) x * log(t))\n",
       "\n",
       "                                coef exp(coef)  se(coef)      z        p\n",
       "fna3_cluster_nLow           1.179837  3.253843  0.372258  3.169  0.00153\n",
       "fna3_cluster_nIntermediate  1.895019  6.652673  0.366602  5.169 2.35e-07\n",
       "Age                        -0.004992  0.995020  0.006640 -0.752  0.45217\n",
       "tt(Age)                    -0.002851  0.997153  0.003712 -0.768  0.44244\n",
       "Sexmale                     0.262840  1.300619  0.139275  1.887  0.05913\n",
       "RaceBlack                  -0.189598  0.827292  0.551239 -0.344  0.73088\n",
       "RaceOther                   0.758421  2.134903  0.842105  0.901  0.36779\n",
       "RaceWhite                   0.290840  1.337551  0.457936  0.635  0.52536\n",
       "\n",
       "Likelihood ratio test=65.59  on 8 df, p=3.694e-11\n",
       "n= 1756, number of events= 231 \n",
       "   (6 observations deleted due to missingness)"
      ]
     },
     "metadata": {},
     "output_type": "display_data"
    }
   ],
   "source": [
    "eskd.baseline.cluster.t"
   ]
  },
  {
   "cell_type": "code",
   "execution_count": 133,
   "metadata": {
    "vscode": {
     "languageId": "r"
    }
   },
   "outputs": [],
   "source": [
    "# Fit with CSC\n",
    "# adjustedcif (X)\n",
    "\n",
    "# then plot - make sure y-axis is adjusted cumulative incidence function\n"
   ]
  },
  {
   "cell_type": "code",
   "execution_count": 134,
   "metadata": {
    "vscode": {
     "languageId": "r"
    }
   },
   "outputs": [
    {
     "name": "stdout",
     "output_type": "stream",
     "text": [
      "6 cases omitted due to missing values\n"
     ]
    },
    {
     "name": "stderr",
     "output_type": "stream",
     "text": [
      "Warning message:\n",
      "\"\u001b[1m\u001b[22mUsing `size` aesthetic for lines was deprecated in ggplot2 3.4.0.\n",
      "\u001b[36mi\u001b[39m Please use `linewidth` instead.\"\n",
      "\u001b[1m\u001b[22mScale for \u001b[32mfill\u001b[39m is already present.\n",
      "Adding another scale for \u001b[32mfill\u001b[39m, which will replace the existing scale.\n",
      "Warning message:\n",
      "\"\u001b[1m\u001b[22mRemoved 152 rows containing missing values (`geom_line()`).\"\n",
      "Warning message:\n",
      "\"\u001b[1m\u001b[22mRemoved 152 rows containing missing values (`geom_line()`).\"\n"
     ]
    },
    {
     "data": {
      "text/html": [
       "<strong>pdf:</strong> 2"
      ],
      "text/latex": [
       "\\textbf{pdf:} 2"
      ],
      "text/markdown": [
       "**pdf:** 2"
      ],
      "text/plain": [
       "pdf \n",
       "  2 "
      ]
     },
     "metadata": {},
     "output_type": "display_data"
    }
   ],
   "source": [
    "CR <- cuminc(eskd.df$CR_time, eskd.df$CR_event, group=eskd.df$fna3_cluster_n, cencode=0)\n",
    "\n",
    "p <- ggcompetingrisks(CR, xlabs=\"Time from Diagnosis (Yr)\", \n",
    "    ylab=\"Cumulative Incidence\", multiple_panels = F, palette=c(\"#ca4a29\",\"#69a9c8\",\"#62b67d\"), conf.int = T)\n",
    "p$mapping <- aes(x = time, y = est, colour = group, linetype = event)\n",
    "\n",
    "pdf(\"figures/competingrisks_ci.pdf\")\n",
    "p + labs(linetype = \"event\", colour = \"group\") + geom_line(size = 1) + xlim(0,12.5) + scale_fill_manual(values = c(\"lightgrey\",\"lightgrey\"))\n",
    "dev.off()\n"
   ]
  },
  {
   "cell_type": "code",
   "execution_count": 10,
   "metadata": {
    "vscode": {
     "languageId": "r"
    }
   },
   "outputs": [
    {
     "name": "stdout",
     "output_type": "stream",
     "text": [
      "6 cases omitted due to missing values\n",
      "6 cases omitted due to missing values\n",
      "6 cases omitted due to missing values\n",
      "6 cases omitted due to missing values\n",
      "6 cases omitted due to missing values\n",
      "6 cases omitted due to missing values\n",
      "293 cases omitted due to missing values\n",
      "293 cases omitted due to missing values\n",
      "173 cases omitted due to missing values\n",
      "173 cases omitted due to missing values\n",
      "896 cases omitted due to missing values\n",
      "896 cases omitted due to missing values\n",
      "896 cases omitted due to missing values\n",
      "896 cases omitted due to missing values\n"
     ]
    }
   ],
   "source": [
    "# Addd log UTP\n",
    "eskd.df$log2_UTP <- log2(eskd.df$X24_hr_UTP+1)\n",
    "\n",
    "fg.crude <- runFineGray(eskd.df, c(\"fna3_cluster_n\"))\n",
    "fg.baseline <- runFineGray(eskd.df, c(\"fna3_cluster_n\", \"Age\", \"Sex\", \"Race\", \"LC.Isotype\"))\n",
    "fg.renal <- runFineGray(eskd.df, c(\"fna3_cluster_n\", \"Renal.Stage..Palladini.\", \"Age\", \"Sex\", \"Race\", \"LC.Isotype\"))\n",
    "fg.labs <- runFineGray(eskd.df, c(\"fna3_cluster_n\", \"Age\", \"Sex\", \"Race\", \"LC.Isotype\", \"log2_UTP\", \"eGFR\"))\n",
    "fg.renal_labs <- runFineGray(eskd.df, c(\"fna3_cluster_n\", \"Renal.Stage..Palladini.\", \"Age\", \"Sex\", \"Race\", \"LC.Isotype\", \"eGFR\"))\n",
    "fg.bu <- runFineGray(eskd.df, c(\"fna3_cluster_n\", \"BU.Cardiac.Stage\", \"Age\", \"Sex\", \"Race\", \"LC.Isotype\"))\n",
    "fg.all <- runFineGray(eskd.df, c(\"fna3_cluster_n\", \"BU.Cardiac.Stage\", \"Renal.Stage..Palladini.\", \"Age\", \"Sex\", \"Race\", \"LC.Isotype\"))"
   ]
  },
  {
   "cell_type": "code",
   "execution_count": 17,
   "metadata": {
    "vscode": {
     "languageId": "r"
    }
   },
   "outputs": [
    {
     "data": {
      "text/html": [
       "<table class=\"dataframe\">\n",
       "<caption>A data.frame: 6 x 105</caption>\n",
       "<thead>\n",
       "\t<tr><th></th><th scope=col>Date_of_admission_to_center</th><th scope=col>Date_of_birth</th><th scope=col>Date_of_diagnosis</th><th scope=col>Date_of_death</th><th scope=col>Date_of_last_visit</th><th scope=col>Cardiopulmonary_symptom_onset</th><th scope=col>Renal_signs_symptom_onset</th><th scope=col>Neurologic_symptom_onset</th><th scope=col>Amyloid_type</th><th scope=col>Age</th><th scope=col>...</th><th scope=col>fna3_cluster_n</th><th scope=col>m02q4_cluster_n</th><th scope=col>m02q3_cluster_n</th><th scope=col>RRT.Type</th><th scope=col>treatment_eskd</th><th scope=col>time_to_eskd</th><th scope=col>time_to_eskd_from_admission</th><th scope=col>CR_event</th><th scope=col>CR_time</th><th scope=col>log2_UTP</th></tr>\n",
       "\t<tr><th></th><th scope=col>&lt;chr&gt;</th><th scope=col>&lt;chr&gt;</th><th scope=col>&lt;chr&gt;</th><th scope=col>&lt;chr&gt;</th><th scope=col>&lt;chr&gt;</th><th scope=col>&lt;chr&gt;</th><th scope=col>&lt;chr&gt;</th><th scope=col>&lt;chr&gt;</th><th scope=col>&lt;chr&gt;</th><th scope=col>&lt;int&gt;</th><th scope=col>...</th><th scope=col>&lt;fct&gt;</th><th scope=col>&lt;fct&gt;</th><th scope=col>&lt;fct&gt;</th><th scope=col>&lt;chr&gt;</th><th scope=col>&lt;int&gt;</th><th scope=col>&lt;dbl&gt;</th><th scope=col>&lt;dbl&gt;</th><th scope=col>&lt;int&gt;</th><th scope=col>&lt;dbl&gt;</th><th scope=col>&lt;dbl&gt;</th></tr>\n",
       "</thead>\n",
       "<tbody>\n",
       "\t<tr><th scope=row>6102</th><td>1996-12-16</td><td>1944-03-20</td><td>1996-11-08</td><td>2017-01-28</td><td>2012-08-27</td><td>          </td><td>1996-05-15</td><td>          </td><td>AL</td><td>52</td><td>...</td><td>Low         </td><td>Low             </td><td>Low         </td><td>                   </td><td>0</td><td>20.2217659</td><td>20.117727584</td><td>2</td><td>20.117727584</td><td>11.028597</td></tr>\n",
       "\t<tr><th scope=row>9338</th><td>1994-07-11</td><td>1933-12-21</td><td>1993-06-24</td><td>1997-08-02</td><td>1997-03-24</td><td>          </td><td>1993-03-15</td><td>          </td><td>AL</td><td>59</td><td>...</td><td>Low         </td><td>Intermediate-Low</td><td>Intermediate</td><td>Peritoneal Dialysis</td><td>1</td><td> 1.4757016</td><td> 0.429842574</td><td>1</td><td> 0.429842574</td><td> 0.000000</td></tr>\n",
       "\t<tr><th scope=row>9419</th><td>1994-07-11</td><td>1920-02-06</td><td>1994-04-15</td><td>1994-08-21</td><td>1994-07-11</td><td>          </td><td>1994-01-15</td><td>          </td><td>AL</td><td>74</td><td>...</td><td>Intermediate</td><td>Intermediate    </td><td>Intermediate</td><td>                   </td><td>0</td><td> 0.3504449</td><td> 0.112251882</td><td>2</td><td> 0.112251882</td><td>14.090361</td></tr>\n",
       "\t<tr><th scope=row>9421</th><td>1994-07-18</td><td>1937-04-26</td><td>1994-05-04</td><td>1995-02-24</td><td>1994-07-18</td><td>1993-04-15</td><td>          </td><td>          </td><td>AL</td><td>57</td><td>...</td><td>High        </td><td>High            </td><td>High        </td><td>                   </td><td>0</td><td> 0.8104038</td><td> 0.605065024</td><td>2</td><td> 0.605065024</td><td> 6.658211</td></tr>\n",
       "\t<tr><th scope=row>9422</th><td>1994-07-25</td><td>1948-05-05</td><td>1994-05-06</td><td>2018-04-10</td><td>2001-07-23</td><td>1992-12-15</td><td>          </td><td>1994-03-15</td><td>AL</td><td>46</td><td>...</td><td>High        </td><td>High            </td><td>High        </td><td>KidneyTransplant   </td><td>1</td><td>21.7878166</td><td>21.568788501</td><td>1</td><td>21.568788501</td><td> 8.005625</td></tr>\n",
       "\t<tr><th scope=row>9423</th><td>1994-07-25</td><td>1936-02-10</td><td>1994-06-17</td><td>1994-12-01</td><td>1994-07-25</td><td>          </td><td>1994-05-15</td><td>          </td><td>AL</td><td>58</td><td>...</td><td>Intermediate</td><td>Intermediate    </td><td>Intermediate</td><td>Peritoneal Dialysis</td><td>1</td><td> 0.1095140</td><td> 0.005475702</td><td>1</td><td> 0.005475702</td><td>12.200592</td></tr>\n",
       "</tbody>\n",
       "</table>\n"
      ],
      "text/latex": [
       "A data.frame: 6 x 105\n",
       "\\begin{tabular}{r|lllllllllllllllllllll}\n",
       "  & Date\\_of\\_admission\\_to\\_center & Date\\_of\\_birth & Date\\_of\\_diagnosis & Date\\_of\\_death & Date\\_of\\_last\\_visit & Cardiopulmonary\\_symptom\\_onset & Renal\\_signs\\_symptom\\_onset & Neurologic\\_symptom\\_onset & Amyloid\\_type & Age & ... & fna3\\_cluster\\_n & m02q4\\_cluster\\_n & m02q3\\_cluster\\_n & RRT.Type & treatment\\_eskd & time\\_to\\_eskd & time\\_to\\_eskd\\_from\\_admission & CR\\_event & CR\\_time & log2\\_UTP\\\\\n",
       "  & <chr> & <chr> & <chr> & <chr> & <chr> & <chr> & <chr> & <chr> & <chr> & <int> & ... & <fct> & <fct> & <fct> & <chr> & <int> & <dbl> & <dbl> & <int> & <dbl> & <dbl>\\\\\n",
       "\\hline\n",
       "\t6102 & 1996-12-16 & 1944-03-20 & 1996-11-08 & 2017-01-28 & 2012-08-27 &            & 1996-05-15 &            & AL & 52 & ... & Low          & Low              & Low          &                     & 0 & 20.2217659 & 20.117727584 & 2 & 20.117727584 & 11.028597\\\\\n",
       "\t9338 & 1994-07-11 & 1933-12-21 & 1993-06-24 & 1997-08-02 & 1997-03-24 &            & 1993-03-15 &            & AL & 59 & ... & Low          & Intermediate-Low & Intermediate & Peritoneal Dialysis & 1 &  1.4757016 &  0.429842574 & 1 &  0.429842574 &  0.000000\\\\\n",
       "\t9419 & 1994-07-11 & 1920-02-06 & 1994-04-15 & 1994-08-21 & 1994-07-11 &            & 1994-01-15 &            & AL & 74 & ... & Intermediate & Intermediate     & Intermediate &                     & 0 &  0.3504449 &  0.112251882 & 2 &  0.112251882 & 14.090361\\\\\n",
       "\t9421 & 1994-07-18 & 1937-04-26 & 1994-05-04 & 1995-02-24 & 1994-07-18 & 1993-04-15 &            &            & AL & 57 & ... & High         & High             & High         &                     & 0 &  0.8104038 &  0.605065024 & 2 &  0.605065024 &  6.658211\\\\\n",
       "\t9422 & 1994-07-25 & 1948-05-05 & 1994-05-06 & 2018-04-10 & 2001-07-23 & 1992-12-15 &            & 1994-03-15 & AL & 46 & ... & High         & High             & High         & KidneyTransplant    & 1 & 21.7878166 & 21.568788501 & 1 & 21.568788501 &  8.005625\\\\\n",
       "\t9423 & 1994-07-25 & 1936-02-10 & 1994-06-17 & 1994-12-01 & 1994-07-25 &            & 1994-05-15 &            & AL & 58 & ... & Intermediate & Intermediate     & Intermediate & Peritoneal Dialysis & 1 &  0.1095140 &  0.005475702 & 1 &  0.005475702 & 12.200592\\\\\n",
       "\\end{tabular}\n"
      ],
      "text/markdown": [
       "\n",
       "A data.frame: 6 x 105\n",
       "\n",
       "| <!--/--> | Date_of_admission_to_center &lt;chr&gt; | Date_of_birth &lt;chr&gt; | Date_of_diagnosis &lt;chr&gt; | Date_of_death &lt;chr&gt; | Date_of_last_visit &lt;chr&gt; | Cardiopulmonary_symptom_onset &lt;chr&gt; | Renal_signs_symptom_onset &lt;chr&gt; | Neurologic_symptom_onset &lt;chr&gt; | Amyloid_type &lt;chr&gt; | Age &lt;int&gt; | ... ... | fna3_cluster_n &lt;fct&gt; | m02q4_cluster_n &lt;fct&gt; | m02q3_cluster_n &lt;fct&gt; | RRT.Type &lt;chr&gt; | treatment_eskd &lt;int&gt; | time_to_eskd &lt;dbl&gt; | time_to_eskd_from_admission &lt;dbl&gt; | CR_event &lt;int&gt; | CR_time &lt;dbl&gt; | log2_UTP &lt;dbl&gt; |\n",
       "|---|---|---|---|---|---|---|---|---|---|---|---|---|---|---|---|---|---|---|---|---|---|\n",
       "| 6102 | 1996-12-16 | 1944-03-20 | 1996-11-08 | 2017-01-28 | 2012-08-27 | <!----> | 1996-05-15 | <!----> | AL | 52 | ... | Low          | Low              | Low          | <!----> | 0 | 20.2217659 | 20.117727584 | 2 | 20.117727584 | 11.028597 |\n",
       "| 9338 | 1994-07-11 | 1933-12-21 | 1993-06-24 | 1997-08-02 | 1997-03-24 | <!----> | 1993-03-15 | <!----> | AL | 59 | ... | Low          | Intermediate-Low | Intermediate | Peritoneal Dialysis | 1 |  1.4757016 |  0.429842574 | 1 |  0.429842574 |  0.000000 |\n",
       "| 9419 | 1994-07-11 | 1920-02-06 | 1994-04-15 | 1994-08-21 | 1994-07-11 | <!----> | 1994-01-15 | <!----> | AL | 74 | ... | Intermediate | Intermediate     | Intermediate | <!----> | 0 |  0.3504449 |  0.112251882 | 2 |  0.112251882 | 14.090361 |\n",
       "| 9421 | 1994-07-18 | 1937-04-26 | 1994-05-04 | 1995-02-24 | 1994-07-18 | 1993-04-15 | <!----> | <!----> | AL | 57 | ... | High         | High             | High         | <!----> | 0 |  0.8104038 |  0.605065024 | 2 |  0.605065024 |  6.658211 |\n",
       "| 9422 | 1994-07-25 | 1948-05-05 | 1994-05-06 | 2018-04-10 | 2001-07-23 | 1992-12-15 | <!----> | 1994-03-15 | AL | 46 | ... | High         | High             | High         | KidneyTransplant    | 1 | 21.7878166 | 21.568788501 | 1 | 21.568788501 |  8.005625 |\n",
       "| 9423 | 1994-07-25 | 1936-02-10 | 1994-06-17 | 1994-12-01 | 1994-07-25 | <!----> | 1994-05-15 | <!----> | AL | 58 | ... | Intermediate | Intermediate     | Intermediate | Peritoneal Dialysis | 1 |  0.1095140 |  0.005475702 | 1 |  0.005475702 | 12.200592 |\n",
       "\n"
      ],
      "text/plain": [
       "     Date_of_admission_to_center Date_of_birth Date_of_diagnosis Date_of_death\n",
       "6102 1996-12-16                  1944-03-20    1996-11-08        2017-01-28   \n",
       "9338 1994-07-11                  1933-12-21    1993-06-24        1997-08-02   \n",
       "9419 1994-07-11                  1920-02-06    1994-04-15        1994-08-21   \n",
       "9421 1994-07-18                  1937-04-26    1994-05-04        1995-02-24   \n",
       "9422 1994-07-25                  1948-05-05    1994-05-06        2018-04-10   \n",
       "9423 1994-07-25                  1936-02-10    1994-06-17        1994-12-01   \n",
       "     Date_of_last_visit Cardiopulmonary_symptom_onset Renal_signs_symptom_onset\n",
       "6102 2012-08-27                                       1996-05-15               \n",
       "9338 1997-03-24                                       1993-03-15               \n",
       "9419 1994-07-11                                       1994-01-15               \n",
       "9421 1994-07-18         1993-04-15                                             \n",
       "9422 2001-07-23         1992-12-15                                             \n",
       "9423 1994-07-25                                       1994-05-15               \n",
       "     Neurologic_symptom_onset Amyloid_type Age ... fna3_cluster_n\n",
       "6102                          AL           52  ... Low           \n",
       "9338                          AL           59  ... Low           \n",
       "9419                          AL           74  ... Intermediate  \n",
       "9421                          AL           57  ... High          \n",
       "9422 1994-03-15               AL           46  ... High          \n",
       "9423                          AL           58  ... Intermediate  \n",
       "     m02q4_cluster_n  m02q3_cluster_n RRT.Type            treatment_eskd\n",
       "6102 Low              Low                                 0             \n",
       "9338 Intermediate-Low Intermediate    Peritoneal Dialysis 1             \n",
       "9419 Intermediate     Intermediate                        0             \n",
       "9421 High             High                                0             \n",
       "9422 High             High            KidneyTransplant    1             \n",
       "9423 Intermediate     Intermediate    Peritoneal Dialysis 1             \n",
       "     time_to_eskd time_to_eskd_from_admission CR_event CR_time      log2_UTP \n",
       "6102 20.2217659   20.117727584                2        20.117727584 11.028597\n",
       "9338  1.4757016    0.429842574                1         0.429842574  0.000000\n",
       "9419  0.3504449    0.112251882                2         0.112251882 14.090361\n",
       "9421  0.8104038    0.605065024                2         0.605065024  6.658211\n",
       "9422 21.7878166   21.568788501                1        21.568788501  8.005625\n",
       "9423  0.1095140    0.005475702                1         0.005475702 12.200592"
      ]
     },
     "metadata": {},
     "output_type": "display_data"
    }
   ],
   "source": [
    "head(eskd.df)"
   ]
  },
  {
   "cell_type": "code",
   "execution_count": 11,
   "metadata": {
    "vscode": {
     "languageId": "r"
    }
   },
   "outputs": [
    {
     "data": {
      "text/html": [
       "<table class=\"dataframe\">\n",
       "<caption>A data.frame: 2 x 9</caption>\n",
       "<thead>\n",
       "\t<tr><th></th><th scope=col>coef</th><th scope=col>exp.coef.</th><th scope=col>se.coef.</th><th scope=col>z</th><th scope=col>p.value</th><th scope=col>coef_exp</th><th scope=col>ci_lower</th><th scope=col>ci_upper</th><th scope=col>HR</th></tr>\n",
       "\t<tr><th></th><th scope=col>&lt;dbl&gt;</th><th scope=col>&lt;dbl&gt;</th><th scope=col>&lt;dbl&gt;</th><th scope=col>&lt;dbl&gt;</th><th scope=col>&lt;dbl&gt;</th><th scope=col>&lt;dbl&gt;</th><th scope=col>&lt;dbl&gt;</th><th scope=col>&lt;dbl&gt;</th><th scope=col>&lt;chr&gt;</th></tr>\n",
       "</thead>\n",
       "<tbody>\n",
       "\t<tr><th scope=row>fna3_cluster_n.Low</th><td>1.755887</td><td> 5.788579</td><td>0.3660703</td><td>4.796584</td><td>1.6e-06</td><td> 5.79</td><td>2.82</td><td>11.9</td><td>5.79 (2.82-11.9)</td></tr>\n",
       "\t<tr><th scope=row>fna3_cluster_n.Intermediate</th><td>2.315191</td><td>10.126858</td><td>0.3609510</td><td>6.414142</td><td>1.4e-10</td><td>10.10</td><td>4.99</td><td>20.5</td><td>10.1 (4.99-20.5)</td></tr>\n",
       "</tbody>\n",
       "</table>\n"
      ],
      "text/latex": [
       "A data.frame: 2 x 9\n",
       "\\begin{tabular}{r|lllllllll}\n",
       "  & coef & exp.coef. & se.coef. & z & p.value & coef\\_exp & ci\\_lower & ci\\_upper & HR\\\\\n",
       "  & <dbl> & <dbl> & <dbl> & <dbl> & <dbl> & <dbl> & <dbl> & <dbl> & <chr>\\\\\n",
       "\\hline\n",
       "\tfna3\\_cluster\\_n.Low & 1.755887 &  5.788579 & 0.3660703 & 4.796584 & 1.6e-06 &  5.79 & 2.82 & 11.9 & 5.79 (2.82-11.9)\\\\\n",
       "\tfna3\\_cluster\\_n.Intermediate & 2.315191 & 10.126858 & 0.3609510 & 6.414142 & 1.4e-10 & 10.10 & 4.99 & 20.5 & 10.1 (4.99-20.5)\\\\\n",
       "\\end{tabular}\n"
      ],
      "text/markdown": [
       "\n",
       "A data.frame: 2 x 9\n",
       "\n",
       "| <!--/--> | coef &lt;dbl&gt; | exp.coef. &lt;dbl&gt; | se.coef. &lt;dbl&gt; | z &lt;dbl&gt; | p.value &lt;dbl&gt; | coef_exp &lt;dbl&gt; | ci_lower &lt;dbl&gt; | ci_upper &lt;dbl&gt; | HR &lt;chr&gt; |\n",
       "|---|---|---|---|---|---|---|---|---|---|\n",
       "| fna3_cluster_n.Low | 1.755887 |  5.788579 | 0.3660703 | 4.796584 | 1.6e-06 |  5.79 | 2.82 | 11.9 | 5.79 (2.82-11.9) |\n",
       "| fna3_cluster_n.Intermediate | 2.315191 | 10.126858 | 0.3609510 | 6.414142 | 1.4e-10 | 10.10 | 4.99 | 20.5 | 10.1 (4.99-20.5) |\n",
       "\n"
      ],
      "text/plain": [
       "                            coef     exp.coef. se.coef.  z        p.value\n",
       "fna3_cluster_n.Low          1.755887  5.788579 0.3660703 4.796584 1.6e-06\n",
       "fna3_cluster_n.Intermediate 2.315191 10.126858 0.3609510 6.414142 1.4e-10\n",
       "                            coef_exp ci_lower ci_upper HR              \n",
       "fna3_cluster_n.Low           5.79    2.82     11.9     5.79 (2.82-11.9)\n",
       "fna3_cluster_n.Intermediate 10.10    4.99     20.5     10.1 (4.99-20.5)"
      ]
     },
     "metadata": {},
     "output_type": "display_data"
    }
   ],
   "source": [
    "getCoef((fg.crude$eskd.crr))"
   ]
  },
  {
   "cell_type": "code",
   "execution_count": 198,
   "metadata": {
    "vscode": {
     "languageId": "r"
    }
   },
   "outputs": [
    {
     "data": {
      "text/html": [
       "<table class=\"dataframe\">\n",
       "<caption>A data.frame: 5 x 3</caption>\n",
       "<thead>\n",
       "\t<tr><th></th><th scope=col>High</th><th scope=col>Low</th><th scope=col>Intermediate</th></tr>\n",
       "\t<tr><th></th><th scope=col>&lt;chr&gt;</th><th scope=col>&lt;chr&gt;</th><th scope=col>&lt;chr&gt;</th></tr>\n",
       "</thead>\n",
       "<tbody>\n",
       "\t<tr><th scope=row>Events</th><td>602      </td><td>948             </td><td>953             </td></tr>\n",
       "\t<tr><th scope=row>~  fna3_cluster_n</th><td>Reference</td><td>5.79 (2.82-11.9)</td><td>10.1 (4.99-20.5)</td></tr>\n",
       "\t<tr><th scope=row>~  fna3_cluster_n + Age + Sex + Race + LC.Isotype</th><td>Reference</td><td>5.86 (2.86-12)  </td><td>10.1 (4.99-20.5)</td></tr>\n",
       "\t<tr><th scope=row>~  fna3_cluster_n + Age + Sex + Race + LC.Isotype + log2_UTP + eGFR</th><td>Reference</td><td>6.97 (2.87-16.9)</td><td>9.88 (4.02-24.3)</td></tr>\n",
       "\t<tr><th scope=row>~  fna3_cluster_n + Renal.Stage..Palladini. + Age + Sex + Race + LC.Isotype + eGFR</th><td>Reference</td><td>4.79 (2.12-10.8)</td><td>5.44 (2.34-12.7)</td></tr>\n",
       "</tbody>\n",
       "</table>\n"
      ],
      "text/latex": [
       "A data.frame: 5 x 3\n",
       "\\begin{tabular}{r|lll}\n",
       "  & High & Low & Intermediate\\\\\n",
       "  & <chr> & <chr> & <chr>\\\\\n",
       "\\hline\n",
       "\tEvents & 602       & 948              & 953             \\\\\n",
       "\t\\textasciitilde{}  fna3\\_cluster\\_n & Reference & 5.79 (2.82-11.9) & 10.1 (4.99-20.5)\\\\\n",
       "\t\\textasciitilde{}  fna3\\_cluster\\_n + Age + Sex + Race + LC.Isotype & Reference & 5.86 (2.86-12)   & 10.1 (4.99-20.5)\\\\\n",
       "\t\\textasciitilde{}  fna3\\_cluster\\_n + Age + Sex + Race + LC.Isotype + log2\\_UTP + eGFR & Reference & 6.97 (2.87-16.9) & 9.88 (4.02-24.3)\\\\\n",
       "\t\\textasciitilde{}  fna3\\_cluster\\_n + Renal.Stage..Palladini. + Age + Sex + Race + LC.Isotype + eGFR & Reference & 4.79 (2.12-10.8) & 5.44 (2.34-12.7)\\\\\n",
       "\\end{tabular}\n"
      ],
      "text/markdown": [
       "\n",
       "A data.frame: 5 x 3\n",
       "\n",
       "| <!--/--> | High &lt;chr&gt; | Low &lt;chr&gt; | Intermediate &lt;chr&gt; |\n",
       "|---|---|---|---|\n",
       "| Events | 602       | 948              | 953              |\n",
       "| ~  fna3_cluster_n | Reference | 5.79 (2.82-11.9) | 10.1 (4.99-20.5) |\n",
       "| ~  fna3_cluster_n + Age + Sex + Race + LC.Isotype | Reference | 5.86 (2.86-12)   | 10.1 (4.99-20.5) |\n",
       "| ~  fna3_cluster_n + Age + Sex + Race + LC.Isotype + log2_UTP + eGFR | Reference | 6.97 (2.87-16.9) | 9.88 (4.02-24.3) |\n",
       "| ~  fna3_cluster_n + Renal.Stage..Palladini. + Age + Sex + Race + LC.Isotype + eGFR | Reference | 4.79 (2.12-10.8) | 5.44 (2.34-12.7) |\n",
       "\n"
      ],
      "text/plain": [
       "                                                                                   High     \n",
       "Events                                                                             602      \n",
       "~  fna3_cluster_n                                                                  Reference\n",
       "~  fna3_cluster_n + Age + Sex + Race + LC.Isotype                                  Reference\n",
       "~  fna3_cluster_n + Age + Sex + Race + LC.Isotype + log2_UTP + eGFR                Reference\n",
       "~  fna3_cluster_n + Renal.Stage..Palladini. + Age + Sex + Race + LC.Isotype + eGFR Reference\n",
       "                                                                                   Low             \n",
       "Events                                                                             948             \n",
       "~  fna3_cluster_n                                                                  5.79 (2.82-11.9)\n",
       "~  fna3_cluster_n + Age + Sex + Race + LC.Isotype                                  5.86 (2.86-12)  \n",
       "~  fna3_cluster_n + Age + Sex + Race + LC.Isotype + log2_UTP + eGFR                6.97 (2.87-16.9)\n",
       "~  fna3_cluster_n + Renal.Stage..Palladini. + Age + Sex + Race + LC.Isotype + eGFR 4.79 (2.12-10.8)\n",
       "                                                                                   Intermediate    \n",
       "Events                                                                             953             \n",
       "~  fna3_cluster_n                                                                  10.1 (4.99-20.5)\n",
       "~  fna3_cluster_n + Age + Sex + Race + LC.Isotype                                  10.1 (4.99-20.5)\n",
       "~  fna3_cluster_n + Age + Sex + Race + LC.Isotype + log2_UTP + eGFR                9.88 (4.02-24.3)\n",
       "~  fna3_cluster_n + Renal.Stage..Palladini. + Age + Sex + Race + LC.Isotype + eGFR 5.44 (2.34-12.7)"
      ]
     },
     "metadata": {},
     "output_type": "display_data"
    }
   ],
   "source": [
    "df <- rbind(fg.crude$coef, fg.baseline$coef, fg.labs$coef, fg.renal_labs$coef)\n",
    "df <- df[df$covariate %in% c(\"fna3_cluster_n.Low\",\"fna3_cluster_n.Intermediate\"),]\n",
    "df <- df[df$Risk==\"ESKD\",c(\"covariate\",\"HR\",\"formula\")]\n",
    "df <- data.frame(pivot_wider(df, names_from = covariate, values_from = HR))\n",
    "rownames(df) <- df$formula\n",
    "df$formula <- NULL\n",
    "\n",
    "# Add events\n",
    "result <- eskd.df %>% \n",
    "    filter(!is.na(eval(fna3_cluster_n))) %>% \n",
    "    group_by(fna3_cluster_n) %>% \n",
    "    summarize(Events = sum(CR_event)) %>%\n",
    "    column_to_rownames(var = \"fna3_cluster_n\")\n",
    "\n",
    "\n",
    "colnames(df) <- c(\"Low\",\"Intermediate\")\n",
    "df$High <- \"Reference\"\n",
    "\n",
    "rbind(t(result),df)\n",
    "\n"
   ]
  }
 ],
 "metadata": {
  "kernelspec": {
   "display_name": "R",
   "language": "R",
   "name": "ir"
  },
  "language_info": {
   "codemirror_mode": "r",
   "file_extension": ".r",
   "mimetype": "text/x-r-source",
   "name": "R",
   "pygments_lexer": "r",
   "version": "4.3.2"
  }
 },
 "nbformat": 4,
 "nbformat_minor": 2
}
