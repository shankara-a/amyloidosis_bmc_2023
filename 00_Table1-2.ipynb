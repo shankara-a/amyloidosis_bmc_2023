{
 "cells": [
  {
   "cell_type": "code",
   "execution_count": 1,
   "metadata": {},
   "outputs": [],
   "source": [
    "import pandas as pd\n",
    "import numpy as np\n",
    "import matplotlib.pyplot as plt\n",
    "import seaborn as sns\n",
    "import os\n",
    "import funcs.utils as utils\n",
    "import funcs.plotting as plot\n",
    "import funcs.amyloid as amyloid\n",
    "import scipy\n",
    "from tableone import TableOne\n"
   ]
  },
  {
   "cell_type": "code",
   "execution_count": 2,
   "metadata": {},
   "outputs": [],
   "source": [
    "PROCESSED_DIR = \"data/processed\""
   ]
  },
  {
   "cell_type": "markdown",
   "metadata": {},
   "source": [
    "### 1. Load Data\n",
    "---"
   ]
  },
  {
   "cell_type": "code",
   "execution_count": 8,
   "metadata": {},
   "outputs": [],
   "source": [
    "# Raw Data\n",
    "data_df = pd.read_csv(os.path.join(PROCESSED_DIR,\"AL_with_ccp_03.tsv\"), sep=\"\\t\", index_col=0).rename(columns=amyloid.ddict_unclean)\n",
    "data_df[\"cluster\"] = data_df[\"fna3_cluster_n\"]\n",
    "data_df[\"cluster4\"] = data_df[\"m02q4_cluster_n\"]\n",
    "data_df = data_df.dropna(subset=\"cluster\")\n",
    "\n",
    "# Fix Dates\n",
    "data_df = pd.concat([pd.to_datetime(data_df[amyloid.dates][var], format=\"mixed\") for var in amyloid.dates], axis=1, keys=amyloid.dates).join(\n",
    "    data_df.drop(amyloid.dates, axis=1)  \n",
    ")\n",
    "\n",
    "# Not imputed\n",
    "X = pd.read_csv(os.path.join(PROCESSED_DIR, \"AL_for_ccp_02.tsv\"), sep='\\t', index_col=0).rename(columns=amyloid.ddict_unclean)"
   ]
  },
  {
   "cell_type": "code",
   "execution_count": 9,
   "metadata": {},
   "outputs": [],
   "source": [
    "# Order cluster subtypes\n",
    "from pandas.api.types import CategoricalDtype\n",
    "\n",
    "data_df[\"cluster\"] = data_df[\"cluster\"].astype(CategoricalDtype(categories=[\"Low\",\"Intermediate\",\"High\"], ordered=True))\n",
    "data_df[\"cluster4\"] = data_df[\"cluster4\"].astype(CategoricalDtype(categories=[\"Low\",\"Low-Intermediate\",\"Intermediate\",\"High\"], ordered=True))\n",
    "\n",
    "# Sex\n",
    "data_df[\"Sex\"] = data_df[\"Sex\"].apply(lambda x: \"F\" if x==\"female\" else \"M\")\n",
    "\n",
    "# Collapse Race\n",
    "data_df[\"Race\"] = data_df[\"Race\"].apply(lambda x: \"Other\" if x in ['American_Indian_Alaska_Native','Multiracial','Native_Hawaiian_Pacific', 'Unknown/other'] else x)\n",
    "\n",
    "for x in amyloid.amyloid_ros + amyloid.amyloid_symptoms:\n",
    "    data_df[x] = data_df[x].apply(lambda x: True if x in [\"involved\",\"yes\"] else False)"
   ]
  },
  {
   "cell_type": "code",
   "execution_count": 10,
   "metadata": {},
   "outputs": [],
   "source": [
    "rename = {\n",
    "    \"Bone marrow plasma cells (%)\":\"BMPC (%)\", \n",
    "    \"Kappa or lambda PCD\":\"LC Isotype\",\n",
    "    \"BU (BNP-based) cardiac staging\":\"BU Stage (2019)\",\n",
    "    \"time\":\"OS (yr)\"}\n",
    "\n",
    "data_df[\"Renal Stage (Palladini)\"] = data_df[\"Renal Stage (Palladini)\"].apply(lambda x: {\"Stage I\":\"I\", \"Stage II\":\"II\", \"Stage III\":\"III\", np.nan:None, None:None}[x])\n",
    "data_df[\"BU (BNP-based) cardiac staging\"] = data_df[\"BU (BNP-based) cardiac staging\"].apply(lambda x: {\"stage I\":\"I\", \"stage II\":\"II\", \"stage III\":\"III\", \"stage IIIb\":\"IIIb\", np.nan:None, None:None}[x])\n"
   ]
  },
  {
   "cell_type": "code",
   "execution_count": 15,
   "metadata": {},
   "outputs": [
    {
     "data": {
      "text/plain": [
       "(3.989048596851472,\n",
       " {'High': 1.2375085557837098,\n",
       "  'Intermediate': 3.7207392197125255,\n",
       "  'Low': 6.132785763175907},\n",
       " {'Era_1-2': 2.97056810403833,\n",
       "  'Era_3': 3.3894592744695413,\n",
       "  'Era_4': 5.938398357289528})"
      ]
     },
     "execution_count": 15,
     "metadata": {},
     "output_type": "execute_result"
    }
   ],
   "source": [
    "utils.get_median_os(data_df, duration=\"time\"), utils.get_median_os(data_df, groupby=\"cluster\", duration=\"time\"), utils.get_median_os(data_df, groupby=\"Era\", duration=\"time\")"
   ]
  },
  {
   "cell_type": "markdown",
   "metadata": {},
   "source": [
    "### 2. Abstract Table\n",
    "---"
   ]
  },
  {
   "cell_type": "code",
   "execution_count": 20,
   "metadata": {},
   "outputs": [],
   "source": [
    "# # Table for abstract\n",
    "# columns = [\"OS (yr)\",\"LC Isotype\",\"dFLC\",\"BNP\",\"Troponin\",\"eGFR\",\"24-hr UTP\",\"Albumin\",\"BU Stage (2019)\"]\n",
    "# categorical = [\"LC Isotype\",\"BU Stage (2019)\",] \n",
    "# groupby = [\"cluster\"]\n",
    "# nonnormal = [\"OS (yr)\",\"dFLC\",\"BNP\", \"Troponin\",\"eGFR\",\"24-hr UTP\"]\n",
    "\n",
    "# mytable = TableOne(data_df, columns, categorical, groupby, nonnormal, pval=True, rename=rename)\n",
    "# mytable.to_html(\"onetable.html\")\n",
    "# print(mytable.tabulate(tablefmt=\"github\"))"
   ]
  },
  {
   "cell_type": "markdown",
   "metadata": {},
   "source": [
    "### 3. Table 1\n",
    "---"
   ]
  },
  {
   "cell_type": "code",
   "execution_count": 21,
   "metadata": {},
   "outputs": [
    {
     "name": "stderr",
     "output_type": "stream",
     "text": [
      "/Users/shankaraanand/anaconda3/envs/r4/lib/python3.11/site-packages/tableone/tableone.py:370: FutureWarning: The default of observed=False is deprecated and will be changed to True in a future version of pandas. Pass observed=False to retain current behavior or observed=True to adopt the future default and silence this warning.\n",
      "  self._groupbylvls = sorted(data.groupby(groupby).groups.keys())  # type: ignore\n"
     ]
    },
    {
     "name": "stdout",
     "output_type": "stream",
     "text": [
      "|                                  |             | Missing   | Overall         | Low             | Intermediate    | High             | P-Value   |\n",
      "|----------------------------------|-------------|-----------|-----------------|-----------------|-----------------|------------------|-----------|\n",
      "| n                                |             |           | 2067            | 914             | 757             | 396              |           |\n",
      "| Age, mean (SD)                   |             | 0         | 60.9 (10.4)     | 61.6 (9.9)      | 60.4 (11.2)     | 60.1 (10.2)      | 0.011     |\n",
      "| Sex, n (%)                       | F           | 0         | 806 (39.0)      | 351 (38.4)      | 312 (41.2)      | 143 (36.1)       | 0.214     |\n",
      "|                                  | M           |           | 1261 (61.0)     | 563 (61.6)      | 445 (58.8)      | 253 (63.9)       |           |\n",
      "| Race, n (%)                      | Asian       | 0         | 47 (2.3)        | 23 (2.5)        | 14 (1.8)        | 10 (2.5)         | 0.270     |\n",
      "|                                  | Black       |           | 172 (8.3)       | 83 (9.1)        | 53 (7.0)        | 36 (9.1)         |           |\n",
      "|                                  | Other       |           | 12 (0.6)        | 5 (0.5)         | 7 (0.9)         |                  |           |\n",
      "|                                  | White       |           | 1836 (88.8)     | 803 (87.9)      | 683 (90.2)      | 350 (88.4)       |           |\n",
      "| Amyloidogenic LC, n (%)          | K           | 0         | 449 (21.7)      | 248 (27.1)      | 125 (16.5)      | 76 (19.2)        | <0.001    |\n",
      "|                                  | L           |           | 1618 (78.3)     | 666 (72.9)      | 632 (83.5)      | 320 (80.8)       |           |\n",
      "| Primary organ, n (%)             | ans         | 251       | 32 (1.8)        | 16 (1.9)        | 13 (2.0)        | 3 (0.8)          | <0.001    |\n",
      "|                                  | cardiac     |           | 493 (27.1)      | 154 (18.7)      | 75 (11.7)       | 264 (74.4)       |           |\n",
      "|                                  | gi          |           | 93 (5.1)        | 76 (9.2)        | 7 (1.1)         | 10 (2.8)         |           |\n",
      "|                                  | hepatic     |           | 86 (4.7)        | 44 (5.4)        | 31 (4.9)        | 11 (3.1)         |           |\n",
      "|                                  | other       |           | 26 (1.4)        | 18 (2.2)        | 1 (0.2)         | 7 (2.0)          |           |\n",
      "|                                  | pns         |           | 33 (1.8)        | 19 (2.3)        | 7 (1.1)         | 7 (2.0)          |           |\n",
      "|                                  | pulm        |           | 26 (1.4)        | 19 (2.3)        | 2 (0.3)         | 5 (1.4)          |           |\n",
      "|                                  | renal       |           | 917 (50.5)      | 389 (47.3)      | 497 (77.8)      | 31 (8.7)         |           |\n",
      "|                                  | soft_tissue |           | 110 (6.1)       | 87 (10.6)       | 6 (0.9)         | 17 (4.8)         |           |\n",
      "| K (mg/L), mean (SD)              |             | 511       | 86.5 (280.4)    | 85.6 (299.5)    | 66.1 (190.0)    | 124.9 (353.0)    | 0.015     |\n",
      "| L (mg/L), mean (SD)              |             | 511       | 201.6 (514.2)   | 173.9 (532.0)   | 166.8 (287.7)   | 331.4 (720.7)    | <0.001    |\n",
      "| K:L, mean (SD)                   |             | 511       | 6.33 (29.15)    | 7.07 (33.66)    | 3.25 (15.73)    | 9.95 (34.45)     | 0.004     |\n",
      "| dFLC mg/L, mean (SD)             |             | 511       | 247.3 (563.7)   | 221.7 (593.6)   | 184.4 (322.8)   | 421.1 (756.6)    | <0.001    |\n",
      "| BMPC (%), mean (SD)              |             | 306       | 9.79 (6.81)     | 9.33 (6.84)     | 9.12 (5.73)     | 12.19 (8.10)     | <0.001    |\n",
      "| IVSd (mm), mean (SD)             |             | 198       | 12.4 (4.0)      | 11.8 (4.4)      | 11.9 (3.6)      | 14.5 (2.6)       | <0.001    |\n",
      "| LVEF (%), mean (SD)              |             | 334       | 58.7 (16.8)     | 60.9 (21.5)     | 61.3 (8.4)      | 49.2 (11.4)      | <0.001    |\n",
      "| Floors climbed, mean (SD)        |             | 1932      | 4.5 (1.8)       | 4.5 (1.8)       | 5.0 (1.5)       | 4.0 (1.8)        | 0.071     |\n",
      "| Distance walked, mean (SD)       |             | 1289      | 1111.0 (471.2)  | 1124.0 (440.6)  | 1137.6 (418.1)  | 1019.9 (623.1)   | 0.041     |\n",
      "| WBC /mm^3, mean (SD)             |             | 25        | 7.90 (3.93)     | 7.40 (3.44)     | 8.68 (4.72)     | 7.58 (2.98)      | <0.001    |\n",
      "| Hgb (g/dL), mean (SD)            |             | 27        | 12.92 (1.90)    | 12.70 (1.84)    | 13.06 (2.03)    | 13.14 (1.75)     | <0.001    |\n",
      "| MCV (um^3), mean (SD)            |             | 33        | 91.3 (6.2)      | 91.3 (6.4)      | 91.4 (5.9)      | 90.9 (6.3)       | 0.359     |\n",
      "| PLT /mm^2, mean (SD)             |             | 665       | 289.0 (120.8)   | 262.3 (98.5)    | 341.5 (133.6)   | 236.5 (90.6)     | <0.001    |\n",
      "| ESR (mm/hr), mean (SD)           |             | 73        | 49.2 (34.6)     | 37.5 (28.4)     | 75.4 (29.6)     | 26.1 (23.7)      | <0.001    |\n",
      "| CRP, mean (SD)                   |             | 1452      | 6.6 (17.7)      | 4.9 (12.6)      | 7.8 (24.4)      | 9.3 (16.7)       | 0.040     |\n",
      "| D-dimer (mg/L), mean (SD)        |             | 734       | 214.0 (635.8)   | 196.5 (520.2)   | 218.5 (636.7)   | 242.6 (835.2)    | 0.625     |\n",
      "| Factor X (%), mean (SD)          |             | 240       | 88.2 (36.1)     | 92.5 (34.9)     | 92.6 (36.7)     | 69.4 (31.8)      | <0.001    |\n",
      "| Creatinine, mean (SD)            |             | 180       | 1.7 (1.8)       | 1.9 (2.1)       | 1.8 (1.8)       | 1.3 (1.2)        | <0.001    |\n",
      "| Proteinuria (mg/24h), mean (SD)  |             | 161       | 4141.7 (6207.8) | 2317.1 (3196.8) | 7908.1 (8125.3) | 798.5 (1280.3)   | <0.001    |\n",
      "| Albumin (g/dL), mean (SD)        |             | 339       | 3.21 (0.84)     | 3.68 (0.58)     | 2.43 (0.59)     | 3.79 (0.46)      | <0.001    |\n",
      "| ALP (U/L), mean (SD)             |             | 185       | 164.7 (278.1)   | 126.5 (133.8)   | 217.9 (410.7)   | 148.5 (158.5)    | <0.001    |\n",
      "| BNP (pg/mL), mean (SD)           |             | 817       | 499.6 (820.0)   | 329.0 (595.8)   | 357.9 (654.3)   | 1134.7 (1151.3)  | <0.001    |\n",
      "| NT-proBNP, mean (SD)             |             | 1914      | 3465.9 (8320.0) | 2829.5 (8733.1) | 1874.2 (2079.1) | 8635.2 (12266.4) | 0.002     |\n",
      "| Troponin (ng/mL), mean (SD)      |             | 1052      | 0.155 (0.451)   | 0.073 (0.179)   | 0.141 (0.344)   | 0.379 (0.827)    | <0.001    |\n",
      "| Calcium (mg/dL), mean (SD)       |             | 190       | 9.14 (4.98)     | 9.33 (2.89)     | 8.83 (7.49)     | 9.33 (0.70)      | 0.107     |\n",
      "| Uric Acid (mg/dL), mean (SD)     |             | 221       | 6.99 (2.59)     | 6.71 (2.41)     | 6.84 (2.48)     | 7.99 (2.96)      | <0.001    |\n",
      "| LDH (U/L), mean (SD)             |             | 273       | 250.6 (74.6)    | 233.8 (66.5)    | 257.9 (75.7)    | 276.5 (81.1)     | <0.001    |\n",
      "| Fe (mcg/dL), mean (SD)           |             | 217       | 64.6 (30.2)     | 69.7 (30.0)     | 60.7 (27.9)     | 60.2 (33.1)      | <0.001    |\n",
      "| TIBC (mcg/dL), mean (SD)         |             | 240       | 267.2 (69.6)    | 295.0 (54.9)    | 210.5 (50.5)    | 316.4 (55.6)     | <0.001    |\n",
      "| Systolic BP sitting, mean (SD)   |             | 62        | 121.2 (20.7)    | 132.3 (18.3)    | 116.5 (19.7)    | 105.2 (12.0)     | <0.001    |\n",
      "| Diastolic BP sitting, mean (SD)  |             | 62        | 76.0 (11.2)     | 81.1 (9.8)      | 73.2 (11.1)     | 69.6 (8.9)       | <0.001    |\n",
      "| Pulse sitting, mean (SD)         |             | 171       | 81.7 (14.4)     | 78.2 (14.2)     | 84.0 (14.1)     | 85.6 (13.5)      | <0.001    |\n",
      "| eGFR (mL/min/1.72m^2), mean (SD) |             | 180       | 66.1 (32.7)     | 65.1 (32.7)     | 64.2 (34.3)     | 72.2 (28.4)      | <0.001    |\n",
      "| Weight loss, n (%)               | False       | 0         | 1134 (54.9)     | 539 (59.0)      | 418 (55.2)      | 177 (44.7)       | <0.001    |\n",
      "|                                  | True        |           | 933 (45.1)      | 375 (41.0)      | 339 (44.8)      | 219 (55.3)       |           |\n",
      "| Fatigue, n (%)                   | False       | 0         | 606 (29.3)      | 320 (35.0)      | 201 (26.6)      | 85 (21.5)        | <0.001    |\n",
      "|                                  | True        |           | 1461 (70.7)     | 594 (65.0)      | 556 (73.4)      | 311 (78.5)       |           |\n",
      "| Exertional dyspnea, n (%)        | False       | 0         | 833 (40.3)      | 451 (49.3)      | 320 (42.3)      | 62 (15.7)        | <0.001    |\n",
      "|                                  | True        |           | 1234 (59.7)     | 463 (50.7)      | 437 (57.7)      | 334 (84.3)       |           |\n",
      "| Dyspnea at rest, n (%)           | False       | 0         | 1929 (93.3)     | 874 (95.6)      | 716 (94.6)      | 339 (85.6)       | <0.001    |\n",
      "|                                  | True        |           | 138 (6.7)       | 40 (4.4)        | 41 (5.4)        | 57 (14.4)        |           |\n",
      "| Orthopnea/PND, n (%)             | False       | 0         | 1728 (83.6)     | 820 (89.7)      | 662 (87.5)      | 246 (62.1)       | <0.001    |\n",
      "|                                  | True        |           | 339 (16.4)      | 94 (10.3)       | 95 (12.5)       | 150 (37.9)       |           |\n",
      "| Leg swelling (symptom), n (%)    | False       | 0         | 688 (33.3)      | 449 (49.1)      | 127 (16.8)      | 112 (28.3)       | <0.001    |\n",
      "|                                  | True        |           | 1379 (66.7)     | 465 (50.9)      | 630 (83.2)      | 284 (71.7)       |           |\n",
      "| Peripheral edema on exam, n (%)  | False       | 0         | 823 (39.8)      | 480 (52.5)      | 186 (24.6)      | 157 (39.6)       | <0.001    |\n",
      "|                                  | True        |           | 1244 (60.2)     | 434 (47.5)      | 571 (75.4)      | 239 (60.4)       |           |\n",
      "| ascites symptom, n (%)           | False       | 0         | 1555 (75.2)     | 682 (74.6)      | 597 (78.9)      | 276 (69.7)       | 0.002     |\n",
      "|                                  | True        |           | 512 (24.8)      | 232 (25.4)      | 160 (21.1)      | 120 (30.3)       |           |\n",
      "| Ascites on exam, n (%)           | False       | 0         | 1971 (95.4)     | 900 (98.5)      | 698 (92.2)      | 373 (94.2)       | <0.001    |\n",
      "|                                  | True        |           | 96 (4.6)        | 14 (1.5)        | 59 (7.8)        | 23 (5.8)         |           |\n",
      "| Orthostasis, n (%)               | False       | 0         | 1535 (74.3)     | 730 (79.9)      | 526 (69.5)      | 279 (70.5)       | <0.001    |\n",
      "|                                  | True        |           | 532 (25.7)      | 184 (20.1)      | 231 (30.5)      | 117 (29.5)       |           |\n",
      "| Dizzy spells, n (%)              | False       | 0         | 1500 (72.6)     | 727 (79.5)      | 525 (69.4)      | 248 (62.6)       | <0.001    |\n",
      "|                                  | True        |           | 567 (27.4)      | 187 (20.5)      | 232 (30.6)      | 148 (37.4)       |           |\n",
      "| Syncope, n (%)                   | False       | 0         | 1816 (87.9)     | 840 (91.9)      | 651 (86.0)      | 325 (82.1)       | <0.001    |\n",
      "|                                  | True        |           | 251 (12.1)      | 74 (8.1)        | 106 (14.0)      | 71 (17.9)        |           |\n",
      "| Ecchymosis, n (%)                | False       | 0         | 1690 (81.8)     | 765 (83.7)      | 622 (82.2)      | 303 (76.5)       | 0.008     |\n",
      "|                                  | True        |           | 377 (18.2)      | 149 (16.3)      | 135 (17.8)      | 93 (23.5)        |           |\n",
      "| Petechiae, n (%)                 | False       | 0         | 1966 (95.1)     | 875 (95.7)      | 727 (96.0)      | 364 (91.9)       | 0.004     |\n",
      "|                                  | True        |           | 101 (4.9)       | 39 (4.3)        | 30 (4.0)        | 32 (8.1)         |           |\n",
      "| Periorbital ecchymosis, n (%)    | False       | 0         | 1931 (93.4)     | 867 (94.9)      | 716 (94.6)      | 348 (87.9)       | <0.001    |\n",
      "|                                  | True        |           | 136 (6.6)       | 47 (5.1)        | 41 (5.4)        | 48 (12.1)        |           |\n",
      "| Anorexia, n (%)                  | False       | 0         | 1568 (75.9)     | 737 (80.6)      | 562 (74.2)      | 269 (67.9)       | <0.001    |\n",
      "|                                  | True        |           | 499 (24.1)      | 177 (19.4)      | 195 (25.8)      | 127 (32.1)       |           |\n",
      "| Abdominal pain, n (%)            | False       | 0         | 1823 (88.2)     | 813 (88.9)      | 662 (87.5)      | 348 (87.9)       | 0.625     |\n",
      "|                                  | True        |           | 244 (11.8)      | 101 (11.1)      | 95 (12.5)       | 48 (12.1)        |           |\n",
      "| Large tongue, n (%)              | False       | 0         | 1856 (89.8)     | 813 (88.9)      | 702 (92.7)      | 341 (86.1)       | 0.001     |\n",
      "|                                  | True        |           | 211 (10.2)      | 101 (11.1)      | 55 (7.3)        | 55 (13.9)        |           |\n",
      "| Carpal tunnel, n (%)             | False       | 0         | 1907 (92.3)     | 841 (92.0)      | 711 (93.9)      | 355 (89.6)       | 0.033     |\n",
      "|                                  | True        |           | 160 (7.7)       | 73 (8.0)        | 46 (6.1)        | 41 (10.4)        |           |\n",
      "| Hypertension, n (%)              | False       | 0         | 1559 (75.4)     | 651 (71.2)      | 587 (77.5)      | 321 (81.1)       | <0.001    |\n",
      "|                                  | True        |           | 508 (24.6)      | 263 (28.8)      | 170 (22.5)      | 75 (18.9)        |           |\n",
      "| Arrhythmia , n (%)               | False       | 0         | 1896 (91.7)     | 843 (92.2)      | 715 (94.5)      | 338 (85.4)       | <0.001    |\n",
      "|                                  | True        |           | 171 (8.3)       | 71 (7.8)        | 42 (5.5)        | 58 (14.6)        |           |\n"
     ]
    },
    {
     "name": "stderr",
     "output_type": "stream",
     "text": [
      "/Users/shankaraanand/anaconda3/envs/r4/lib/python3.11/site-packages/tableone/tableone.py:927: FutureWarning: The default value of observed=False is deprecated and will change to observed=True in a future version of pandas. Specify observed=False to silence this warning and retain the current behavior\n",
      "  df_cont = pd.pivot_table(cont_data,\n",
      "/Users/shankaraanand/anaconda3/envs/r4/lib/python3.11/site-packages/tableone/tableone.py:927: FutureWarning: The default value of observed=False is deprecated and will change to observed=True in a future version of pandas. Specify observed=False to silence this warning and retain the current behavior\n",
      "  df_cont = pd.pivot_table(cont_data,\n",
      "/Users/shankaraanand/anaconda3/envs/r4/lib/python3.11/site-packages/tableone/tableone.py:927: FutureWarning: The provided callable <function mean at 0x105e49080> is currently using DataFrameGroupBy.mean. In a future version of pandas, the provided callable will be used directly. To keep current behavior pass the string \"mean\" instead.\n",
      "  df_cont = pd.pivot_table(cont_data,\n",
      "/Users/shankaraanand/anaconda3/envs/r4/lib/python3.11/site-packages/tableone/tableone.py:927: FutureWarning: The default value of observed=False is deprecated and will change to observed=True in a future version of pandas. Specify observed=False to silence this warning and retain the current behavior\n",
      "  df_cont = pd.pivot_table(cont_data,\n",
      "/Users/shankaraanand/anaconda3/envs/r4/lib/python3.11/site-packages/tableone/tableone.py:927: FutureWarning: The provided callable <function median at 0x10629cf40> is currently using DataFrameGroupBy.median. In a future version of pandas, the provided callable will be used directly. To keep current behavior pass the string \"median\" instead.\n",
      "  df_cont = pd.pivot_table(cont_data,\n",
      "/Users/shankaraanand/anaconda3/envs/r4/lib/python3.11/site-packages/tableone/tableone.py:927: FutureWarning: The default value of observed=False is deprecated and will change to observed=True in a future version of pandas. Specify observed=False to silence this warning and retain the current behavior\n",
      "  df_cont = pd.pivot_table(cont_data,\n",
      "/Users/shankaraanand/anaconda3/envs/r4/lib/python3.11/site-packages/tableone/tableone.py:927: FutureWarning: The default value of observed=False is deprecated and will change to observed=True in a future version of pandas. Specify observed=False to silence this warning and retain the current behavior\n",
      "  df_cont = pd.pivot_table(cont_data,\n",
      "/Users/shankaraanand/anaconda3/envs/r4/lib/python3.11/site-packages/tableone/tableone.py:927: FutureWarning: The default value of observed=False is deprecated and will change to observed=True in a future version of pandas. Specify observed=False to silence this warning and retain the current behavior\n",
      "  df_cont = pd.pivot_table(cont_data,\n",
      "/Users/shankaraanand/anaconda3/envs/r4/lib/python3.11/site-packages/tableone/tableone.py:927: FutureWarning: The default value of observed=False is deprecated and will change to observed=True in a future version of pandas. Specify observed=False to silence this warning and retain the current behavior\n",
      "  df_cont = pd.pivot_table(cont_data,\n",
      "/Users/shankaraanand/anaconda3/envs/r4/lib/python3.11/site-packages/tableone/tableone.py:927: FutureWarning: The provided callable <built-in function min> is currently using DataFrameGroupBy.min. In a future version of pandas, the provided callable will be used directly. To keep current behavior pass the string \"min\" instead.\n",
      "  df_cont = pd.pivot_table(cont_data,\n",
      "/Users/shankaraanand/anaconda3/envs/r4/lib/python3.11/site-packages/tableone/tableone.py:927: FutureWarning: The default value of observed=False is deprecated and will change to observed=True in a future version of pandas. Specify observed=False to silence this warning and retain the current behavior\n",
      "  df_cont = pd.pivot_table(cont_data,\n",
      "/Users/shankaraanand/anaconda3/envs/r4/lib/python3.11/site-packages/tableone/tableone.py:927: FutureWarning: The provided callable <built-in function max> is currently using DataFrameGroupBy.max. In a future version of pandas, the provided callable will be used directly. To keep current behavior pass the string \"max\" instead.\n",
      "  df_cont = pd.pivot_table(cont_data,\n",
      "/Users/shankaraanand/anaconda3/envs/r4/lib/python3.11/site-packages/tableone/tableone.py:927: FutureWarning: The default value of observed=False is deprecated and will change to observed=True in a future version of pandas. Specify observed=False to silence this warning and retain the current behavior\n",
      "  df_cont = pd.pivot_table(cont_data,\n",
      "/Users/shankaraanand/anaconda3/envs/r4/lib/python3.11/site-packages/tableone/tableone.py:1449: UserWarning: Order variable not found: cluster4\n",
      "  warnings.warn(\"Order variable not found: {}\".format(k))\n"
     ]
    }
   ],
   "source": [
    "columns = [\"Age\",\"Sex\",\"Race\",\"Kappa or lambda PCD\", \"Primary organ\",\"cluster\"] + amyloid.qvars + ['eGFR'] + amyloid.amyloid_symptoms\n",
    "\n",
    "categorical = [\"Sex\",\"Race\",\"Kappa or lambda PCD\", \"Primary organ\"] + amyloid.amyloid_symptoms\n",
    "groupby = [\"cluster\"]\n",
    "nonnormal = []\n",
    "\n",
    "mytable = TableOne(data_df, columns, categorical, groupby, nonnormal, \n",
    "                   pval=True, overall=True, \n",
    "                   decimals = {'WBC':2, 'Hemoglobin':2, 'Troponin': 3, 'Calcium':2, \n",
    "                               'Bone marrow plasma cells (%)':2, 'Uric acid':2, 'Albumin':2, 'kappa:lambda ratio':2},\n",
    "                   rename=amyloid.tableone_names)\n",
    "\n",
    "print(mytable.tabulate(tablefmt=\"github\"))\n",
    "mytable.to_excel('tables/Table1.xlsx')"
   ]
  },
  {
   "cell_type": "markdown",
   "metadata": {},
   "source": [
    "## 2. Table 2\n",
    "---"
   ]
  },
  {
   "cell_type": "code",
   "execution_count": 19,
   "metadata": {},
   "outputs": [
    {
     "name": "stdout",
     "output_type": "stream",
     "text": [
      "|                                |      | Missing   | Overall    | Low        | Intermediate   | High       | P-Value   |\n",
      "|--------------------------------|------|-----------|------------|------------|----------------|------------|-----------|\n",
      "| n                              |      |           | 2067       | 914        | 757            | 396        |           |\n",
      "| Cardiac Stage (BU 2019), n (%) | I    | 987       | 305 (28.2) | 200 (36.4) | 99 (31.2)      | 6 (2.8)    | <0.001    |\n",
      "|                                | II   |           | 458 (42.4) | 254 (46.3) | 131 (41.3)     | 73 (34.1)  |           |\n",
      "|                                | III  |           | 151 (14.0) | 50 (9.1)   | 58 (18.3)      | 43 (20.1)  |           |\n",
      "|                                | IIIb |           | 166 (15.4) | 45 (8.2)   | 29 (9.1)       | 92 (43.0)  |           |\n",
      "| Renal Stage (Palladini), n (%) | I    | 264       | 788 (43.7) | 418 (53.3) | 136 (19.3)     | 234 (74.3) | <0.001    |\n",
      "|                                | II   |           | 784 (43.5) | 304 (38.8) | 401 (57.0)     | 79 (25.1)  |           |\n",
      "|                                | III  |           | 231 (12.8) | 62 (7.9)   | 167 (23.7)     | 2 (0.6)    |           |\n"
     ]
    },
    {
     "name": "stderr",
     "output_type": "stream",
     "text": [
      "/Users/shankaraanand/anaconda3/envs/r4/lib/python3.11/site-packages/tableone/tableone.py:370: FutureWarning: The default of observed=False is deprecated and will be changed to True in a future version of pandas. Pass observed=False to retain current behavior or observed=True to adopt the future default and silence this warning.\n",
      "  self._groupbylvls = sorted(data.groupby(groupby).groups.keys())  # type: ignore\n",
      "/Users/shankaraanand/anaconda3/envs/r4/lib/python3.11/site-packages/tableone/tableone.py:1449: UserWarning: Order variable not found: cluster4\n",
      "  warnings.warn(\"Order variable not found: {}\".format(k))\n"
     ]
    }
   ],
   "source": [
    "columns = [\"BU (BNP-based) cardiac staging\",\"Renal Stage (Palladini)\",\"cluster\"]\n",
    "\n",
    "categorical = [\"BU (BNP-based) cardiac staging\",\"Renal Stage (Palladini)\"]\n",
    "groupby = [\"cluster\"]\n",
    "nonnormal = []\n",
    "\n",
    "mytable = TableOne(data_df, columns, categorical, groupby, nonnormal, \n",
    "                   pval=True, overall=True,\n",
    "                   rename={\n",
    "                       \"BU (BNP-based) cardiac staging\":\"Cardiac Stage (BU 2019)\",\n",
    "                       \"Renal Stage (Palladini)\":\"Renal Stage (Palladini)\"\n",
    "                       })\n",
    "\n",
    "print(mytable.tabulate(tablefmt=\"github\"))\n",
    "mytable.to_excel('tables/Table1B.xlsx')"
   ]
  },
  {
   "cell_type": "code",
   "execution_count": null,
   "metadata": {},
   "outputs": [],
   "source": []
  }
 ],
 "metadata": {
  "kernelspec": {
   "display_name": "Python 3 (ipykernel)",
   "language": "python",
   "name": "python3"
  },
  "language_info": {
   "codemirror_mode": {
    "name": "ipython",
    "version": 3
   },
   "file_extension": ".py",
   "mimetype": "text/x-python",
   "name": "python",
   "nbconvert_exporter": "python",
   "pygments_lexer": "ipython3",
   "version": "3.11.8"
  },
  "vscode": {
   "interpreter": {
    "hash": "1cb7d89f10138752af65ef706fb595972ec9b0d7ed92a43a4be7d17426113632"
   }
  }
 },
 "nbformat": 4,
 "nbformat_minor": 4
}
