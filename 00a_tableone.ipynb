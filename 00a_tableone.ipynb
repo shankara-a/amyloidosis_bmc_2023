{
 "cells": [
  {
   "cell_type": "code",
   "execution_count": 1,
   "metadata": {},
   "outputs": [],
   "source": [
    "import pandas as pd\n",
    "import numpy as np\n",
    "import matplotlib.pyplot as plt\n",
    "import seaborn as sns\n",
    "import os\n",
    "import funcs.utils as utils\n",
    "import funcs.plotting as plot\n",
    "import funcs.amyloid as amyloid\n",
    "import scipy\n",
    "from tableone import TableOne\n"
   ]
  },
  {
   "cell_type": "code",
   "execution_count": 2,
   "metadata": {},
   "outputs": [],
   "source": [
    "PROCESSED_DIR = \"data/processed\""
   ]
  },
  {
   "cell_type": "code",
   "execution_count": 90,
   "metadata": {},
   "outputs": [],
   "source": [
    "# Raw Data\n",
    "data_df = pd.read_csv(os.path.join(PROCESSED_DIR,\"AL_with_ccp_03.tsv\"), sep=\"\\t\", index_col=0).rename(columns=amyloid.ddict_unclean)\n",
    "data_df = data_df.dropna(subset=\"cluster\")\n",
    "\n",
    "# Fix Dates\n",
    "data_df = pd.concat([pd.to_datetime(data_df[amyloid.dates][var], format=\"mixed\") for var in amyloid.dates], axis=1, keys=amyloid.dates).join(\n",
    "    data_df.drop(amyloid.dates, axis=1)  \n",
    ")\n",
    "\n",
    "# Not imputed\n",
    "X = pd.read_csv(os.path.join(PROCESSED_DIR, \"AL_for_ccp_02.tsv\"), sep='\\t', index_col=0).rename(columns=amyloid.ddict_unclean)\n",
    "\n",
    "# Imputed\n",
    "Xi_median = pd.read_csv(\"data/imputed/median_qvars_01.tsv\", sep=\"\\t\", index_col=0).rename(columns=amyloid.ddict_unclean)\n",
    "Xi_knn = pd.read_csv(\"data/imputed/knn_qvars_01.tsv\", sep=\"\\t\", index_col=0).rename(columns=amyloid.ddict_unclean)\n",
    "Xi_mice = pd.read_csv(\"data/imputed/mice_qvars_05.tsv\", sep=\"\\t\").rename(columns={'X24_hr_UTP':'24_hr_UTP'}).rename(columns=amyloid.ddict_unclean)"
   ]
  },
  {
   "cell_type": "code",
   "execution_count": 91,
   "metadata": {},
   "outputs": [],
   "source": [
    "# Order cluster subtypes\n",
    "from pandas.api.types import CategoricalDtype\n",
    "\n",
    "data_df[\"cluster\"] = data_df[\"cluster\"].astype(CategoricalDtype(categories=[\"Low\",\"Intermediate\",\"High\"], ordered=True))\n",
    "data_df[\"cluster4\"] = data_df[\"cluster4\"].astype(CategoricalDtype(categories=[\"Low\",\"Low-Intermediate\",\"Intermediate\",\"High\"], ordered=True))\n",
    "\n",
    "# Sex\n",
    "data_df[\"Sex\"] = data_df[\"Sex\"].apply(lambda x: \"F\" if x==\"female\" else \"M\")\n",
    "\n",
    "# Collapse Race\n",
    "data_df[\"Race\"] = data_df[\"Race\"].apply(lambda x: \"Other\" if x in ['American_Indian_Alaska_Native','Multiracial','Native_Hawaiian_Pacific', 'Unknown/other'] else x)\n",
    "\n",
    "for x in amyloid.amyloid_ros + amyloid.amyloid_symptoms:\n",
    "    data_df[x] = data_df[x].apply(lambda x: True if x in [\"involved\",\"yes\"] else False)"
   ]
  },
  {
   "cell_type": "code",
   "execution_count": 92,
   "metadata": {},
   "outputs": [
    {
     "name": "stdout",
     "output_type": "stream",
     "text": [
      "|                                              |            | Missing   | Overall           |\n",
      "|----------------------------------------------|------------|-----------|-------------------|\n",
      "| n                                            |            |           | 2074              |\n",
      "| Age, mean (SD)                               |            | 0         | 60.9 (10.4)       |\n",
      "| Sex, n (%)                                   | F          | 0         | 810 (39.1)        |\n",
      "|                                              | M          |           | 1264 (60.9)       |\n",
      "| Race, n (%)                                  | Asian      | 0         | 47 (2.3)          |\n",
      "|                                              | Black      |           | 172 (8.3)         |\n",
      "|                                              | Other      |           | 12 (0.6)          |\n",
      "|                                              | White      |           | 1843 (88.9)       |\n",
      "| Kappa or lambda PCD, n (%)                   | K          | 0         | 450 (21.7)        |\n",
      "|                                              | L          |           | 1624 (78.3)       |\n",
      "| dFLC, median [Q1,Q3]                         |            | 517       | 86.6 [26.0,253.8] |\n",
      "| eGFR, median [Q1,Q3]                         |            | 181       | 71.3 [39.2,94.8]  |\n",
      "| Bone marrow plasma cells (%), median [Q1,Q3] |            | 308       | 10.0 [5.0,10.0]   |\n",
      "| Troponin, median [Q1,Q3]                     |            | 1058      | 0.0 [0.0,0.1]     |\n",
      "| BNP, mean (SD)                               |            | 823       | 499.4 (819.6)     |\n",
      "| BU (BNP-based) cardiac staging, n (%)        | stage I    | 993       | 305 (28.2)        |\n",
      "|                                              | stage II   |           | 459 (42.5)        |\n",
      "|                                              | stage III  |           | 151 (14.0)        |\n",
      "|                                              | stage IIIb |           | 166 (15.4)        |\n"
     ]
    },
    {
     "name": "stderr",
     "output_type": "stream",
     "text": [
      "/Users/sanand/anaconda3/envs/r4/lib/python3.10/site-packages/tableone/tableone.py:1449: UserWarning: Order variable not found: cluster\n",
      "  warnings.warn(\"Order variable not found: {}\".format(k))\n",
      "/Users/sanand/anaconda3/envs/r4/lib/python3.10/site-packages/tableone/tableone.py:1449: UserWarning: Order variable not found: cluster4\n",
      "  warnings.warn(\"Order variable not found: {}\".format(k))\n"
     ]
    }
   ],
   "source": [
    "columns = [\"Age\", \"Sex\", \"Race\", \"Kappa or lambda PCD\", \"dFLC\",\"eGFR\",\"Bone marrow plasma cells (%)\",\"Troponin\",\"BNP\",\"BU (BNP-based) cardiac staging\"]\n",
    "categorical = [\"Sex\",\"Race\",\"Kappa or lambda PCD\",\"BU (BNP-based) cardiac staging\"]\n",
    "\n",
    "nonnormal = [\"dFLC\",\"eGFR\",\"Bone marrow plasma cells (%)\",\"Troponin\",\"eGFR\"]\n",
    "\n",
    "mytable = TableOne(data_df, columns, categorical, groupby=None, nonnormal=nonnormal)\n",
    "print(mytable.tabulate(tablefmt=\"github\"))\n"
   ]
  },
  {
   "cell_type": "code",
   "execution_count": 97,
   "metadata": {},
   "outputs": [
    {
     "name": "stderr",
     "output_type": "stream",
     "text": [
      "/Users/sanand/anaconda3/envs/r4/lib/python3.10/site-packages/tableone/tableone.py:370: FutureWarning: The default of observed=False is deprecated and will be changed to True in a future version of pandas. Pass observed=False to retain current behavior or observed=True to adopt the future default and silence this warning.\n",
      "  self._groupbylvls = sorted(data.groupby(groupby).groups.keys())  # type: ignore\n",
      "/Users/sanand/anaconda3/envs/r4/lib/python3.10/site-packages/tableone/tableone.py:927: FutureWarning: The provided callable <function mean at 0x105abbeb0> is currently using DataFrameGroupBy.mean. In a future version of pandas, the provided callable will be used directly. To keep current behavior pass the string \"mean\" instead.\n",
      "  df_cont = pd.pivot_table(cont_data,\n",
      "/Users/sanand/anaconda3/envs/r4/lib/python3.10/site-packages/tableone/tableone.py:927: FutureWarning: The provided callable <function median at 0x105bf76d0> is currently using DataFrameGroupBy.median. In a future version of pandas, the provided callable will be used directly. To keep current behavior pass the string \"median\" instead.\n",
      "  df_cont = pd.pivot_table(cont_data,\n",
      "/Users/sanand/anaconda3/envs/r4/lib/python3.10/site-packages/tableone/tableone.py:927: FutureWarning: The provided callable <built-in function min> is currently using DataFrameGroupBy.min. In a future version of pandas, the provided callable will be used directly. To keep current behavior pass the string \"min\" instead.\n",
      "  df_cont = pd.pivot_table(cont_data,\n",
      "/Users/sanand/anaconda3/envs/r4/lib/python3.10/site-packages/tableone/tableone.py:927: FutureWarning: The provided callable <built-in function max> is currently using DataFrameGroupBy.max. In a future version of pandas, the provided callable will be used directly. To keep current behavior pass the string \"max\" instead.\n",
      "  df_cont = pd.pivot_table(cont_data,\n",
      "/Users/sanand/anaconda3/envs/r4/lib/python3.10/site-packages/tableone/tableone.py:1449: UserWarning: Order variable not found: cluster4\n",
      "  warnings.warn(\"Order variable not found: {}\".format(k))\n"
     ]
    },
    {
     "name": "stdout",
     "output_type": "stream",
     "text": [
      "|                                              |             | Missing   | Overall         | Low             | Intermediate    | High            | P-Value   |\n",
      "|----------------------------------------------|-------------|-----------|-----------------|-----------------|-----------------|-----------------|-----------|\n",
      "| n                                            |             |           | 2074            | 689             | 822             | 563             |           |\n",
      "| Age, mean (SD)                               |             | 0         | 60.9 (10.4)     | 61.0 (10.0)     | 60.7 (11.0)     | 61.0 (10.2)     | 0.824     |\n",
      "| Sex, n (%)                                   | F           | 0         | 810 (39.1)      | 276 (40.1)      | 342 (41.6)      | 192 (34.1)      | 0.015     |\n",
      "|                                              | M           |           | 1264 (60.9)     | 413 (59.9)      | 480 (58.4)      | 371 (65.9)      |           |\n",
      "| Race, n (%)                                  | Asian       | 0         | 47 (2.3)        | 20 (2.9)        | 18 (2.2)        | 9 (1.6)         | 0.250     |\n",
      "|                                              | Black       |           | 172 (8.3)       | 54 (7.8)        | 59 (7.2)        | 59 (10.5)       |           |\n",
      "|                                              | Other       |           | 12 (0.6)        | 3 (0.4)         | 6 (0.7)         | 3 (0.5)         |           |\n",
      "|                                              | White       |           | 1843 (88.9)     | 612 (88.8)      | 739 (89.9)      | 492 (87.4)      |           |\n",
      "| Kappa or lambda PCD, n (%)                   | K           | 0         | 450 (21.7)      | 200 (29.0)      | 140 (17.0)      | 110 (19.5)      | <0.001    |\n",
      "|                                              | L           |           | 1624 (78.3)     | 489 (71.0)      | 682 (83.0)      | 453 (80.5)      |           |\n",
      "| Primary organ, n (%)                         | ans         | 256       | 32 (1.8)        | 7 (1.1)         | 13 (1.9)        | 12 (2.4)        | <0.001    |\n",
      "|                                              | cardiac     |           | 494 (27.2)      | 96 (15.5)       | 71 (10.1)       | 327 (65.8)      |           |\n",
      "|                                              | gi          |           | 93 (5.1)        | 67 (10.8)       | 8 (1.1)         | 18 (3.6)        |           |\n",
      "|                                              | hepatic     |           | 86 (4.7)        | 41 (6.6)        | 32 (4.6)        | 13 (2.6)        |           |\n",
      "|                                              | other       |           | 26 (1.4)        | 20 (3.2)        |                 | 6 (1.2)         |           |\n",
      "|                                              | pns         |           | 33 (1.8)        | 19 (3.1)        | 4 (0.6)         | 10 (2.0)        |           |\n",
      "|                                              | pulm        |           | 26 (1.4)        | 14 (2.3)        | 2 (0.3)         | 10 (2.0)        |           |\n",
      "|                                              | renal       |           | 918 (50.5)      | 271 (43.8)      | 568 (80.9)      | 79 (15.9)       |           |\n",
      "|                                              | soft_tissue |           | 110 (6.1)       | 84 (13.6)       | 4 (0.6)         | 22 (4.4)        |           |\n",
      "| Kappa-sFLC, mean (SD)                        |             | 517       | 86.5 (280.3)    | 109.5 (363.0)   | 61.4 (192.0)    | 91.0 (255.5)    | 0.014     |\n",
      "| Lambda-sFLC, mean (SD)                       |             | 517       | 201.5 (514.0)   | 159.3 (415.5)   | 165.0 (290.0)   | 306.6 (785.2)   | <0.001    |\n",
      "| kappa:lambda ratio, mean (SD)                |             | 517       | 6.3 (29.1)      | 9.2 (38.7)      | 2.5 (11.7)      | 7.8 (30.9)      | <0.001    |\n",
      "| dFLC, mean (SD)                              |             | 517       | 247.2 (563.5)   | 231.2 (529.0)   | 181.3 (326.9)   | 358.2 (799.0)   | <0.001    |\n",
      "| Bone marrow plasma cells (%), median [Q1,Q3] |             | 308       | 10.0 [5.0,10.0] | 6.0 [5.0,10.0]  | 10.0 [5.0,10.0] | 10.0 [5.0,15.0] | <0.001    |\n",
      "| IVSd, mean (SD)                              |             | 202       | 12.4 (4.0)      | 11.1 (3.3)      | 11.8 (4.1)      | 14.6 (3.6)      | <0.001    |\n",
      "| LVEF, mean (SD)                              |             | 340       | 58.7 (16.8)     | 62.2 (24.0)     | 61.5 (8.4)      | 50.8 (11.6)     | <0.001    |\n",
      "| WBC, mean (SD)                               |             | 26        | 7.9 (3.9)       | 7.5 (3.4)       | 8.5 (3.6)       | 7.6 (4.9)       | <0.001    |\n",
      "| Hemoglobin, mean (SD)                        |             | 28        | 12.9 (1.9)      | 12.9 (1.8)      | 13.1 (2.0)      | 12.8 (1.8)      | 0.008     |\n",
      "| MCV, mean (SD)                               |             | 34        | 91.3 (6.2)      | 91.1 (6.4)      | 91.7 (5.9)      | 90.9 (6.4)      | 0.044     |\n",
      "| Platelet count, mean (SD)                    |             | 666       | 289.6 (121.5)   | 268.9 (99.3)    | 337.3 (135.1)   | 238.0 (91.2)    | <0.001    |\n",
      "| Sed rate, mean (SD)                          |             | 74        | 49.3 (34.8)     | 37.0 (28.1)     | 74.3 (30.6)     | 27.9 (23.9)     | <0.001    |\n",
      "| D-dimer, mean (SD)                           |             | 737       | 213.4 (635.0)   | 176.2 (466.2)   | 220.8 (619.7)   | 246.5 (813.8)   | 0.293     |\n",
      "| Factor X, mean (SD)                          |             | 246       | 88.2 (36.1)     | 97.5 (33.8)     | 92.6 (37.2)     | 70.1 (30.7)     | <0.001    |\n",
      "| eGFR, mean (SD)                              |             | 181       | 66.1 (32.7)     | 67.0 (32.1)     | 65.1 (34.5)     | 66.5 (30.6)     | 0.537     |\n",
      "| 24-hr UTP, mean (SD)                         |             | 162       | 4146.0 (6207.5) | 1956.0 (2861.5) | 7837.6 (7880.3) | 1151.5 (1946.0) | <0.001    |\n",
      "| Albumin, mean (SD)                           |             | 340       | 3.2 (0.8)       | 3.8 (0.5)       | 2.4 (0.5)       | 3.7 (0.5)       | <0.001    |\n",
      "| Alk phos, mean (SD)                          |             | 186       | 165.0 (278.0)   | 129.4 (153.3)   | 201.6 (374.0)   | 153.2 (212.5)   | <0.001    |\n",
      "| BNP, mean (SD)                               |             | 823       | 499.4 (819.6)   | 205.3 (315.0)   | 320.3 (614.6)   | 1073.9 (1120.0) | <0.001    |\n",
      "| Troponin, mean (SD)                          |             | 1058      | 0.2 (0.5)       | 0.0 (0.1)       | 0.1 (0.3)       | 0.3 (0.7)       | <0.001    |\n",
      "| Calcium, mean (SD)                           |             | 191       | 9.1 (5.0)       | 9.5 (3.3)       | 8.8 (7.2)       | 9.3 (0.7)       | 0.031     |\n",
      "| Uric acid, mean (SD)                         |             | 223       | 7.0 (2.6)       | 6.6 (1.9)       | 6.8 (2.8)       | 7.9 (2.9)       | <0.001    |\n",
      "| LDH, mean (SD)                               |             | 275       | 250.6 (74.6)    | 223.4 (62.7)    | 259.2 (73.8)    | 271.3 (79.5)    | <0.001    |\n",
      "| Iron, mean (SD)                              |             | 218       | 64.6 (30.2)     | 73.7 (30.1)     | 62.7 (28.6)     | 56.1 (29.5)     | <0.001    |\n",
      "| TIBC, mean (SD)                              |             | 241       | 267.1 (69.7)    | 302.7 (51.9)    | 211.6 (48.5)    | 308.7 (58.0)    | <0.001    |\n",
      "| Systolic BP sitting, mean (SD)               |             | 68        | 121.2 (20.7)    | 133.1 (18.8)    | 119.0 (20.5)    | 110.1 (15.3)    | <0.001    |\n",
      "| Diastolic BP sitting, mean (SD)              |             | 68        | 76.0 (11.2)     | 81.3 (10.5)     | 74.5 (11.1)     | 71.7 (9.6)      | <0.001    |\n",
      "| Pulse sitting, mean (SD)                     |             | 177       | 81.7 (14.4)     | 78.2 (14.2)     | 83.6 (13.9)     | 83.5 (14.6)     | <0.001    |\n"
     ]
    }
   ],
   "source": [
    "columns = [\"Age\",\"Sex\",\"Race\",\"Kappa or lambda PCD\", \"Primary organ\"] + list(Xi_mice.columns) #+ amyloid.amyloid_symptoms\n",
    "#columns = [\"Age\",\"Sex\",\"Race\",\"Kappa or lambda PCD\", \"Primary organ\"] + [amyloid.amyloid_ros[0]]\n",
    "categorical = [\"Sex\",\"Race\",\"Kappa or lambda PCD\", \"Primary organ\"] #+ amyloid.amyloid_symptoms\n",
    "#categorical = [\"Sex\",\"Race\",\"Kappa or lambda PCD\", \"Primary organ\"] + [amyloid.amyloid_ros[0]]\n",
    "\n",
    "groupby = [\"cluster\"]\n",
    "\n",
    "nonnormal = [\"Bone marrow plasma cells (%)\"]\n",
    "\n",
    "mytable = TableOne(data_df, columns, categorical, groupby, nonnormal, pval=True)\n",
    "#mytable.to_html(\"onetable.html\")\n",
    "print(mytable.tabulate(tablefmt=\"github\"))"
   ]
  },
  {
   "cell_type": "code",
   "execution_count": 113,
   "metadata": {},
   "outputs": [
    {
     "name": "stderr",
     "output_type": "stream",
     "text": [
      "/Users/sanand/anaconda3/envs/r4/lib/python3.10/site-packages/tableone/tableone.py:370: FutureWarning: The default of observed=False is deprecated and will be changed to True in a future version of pandas. Pass observed=False to retain current behavior or observed=True to adopt the future default and silence this warning.\n",
      "  self._groupbylvls = sorted(data.groupby(groupby).groups.keys())  # type: ignore\n",
      "/Users/sanand/anaconda3/envs/r4/lib/python3.10/site-packages/tableone/tableone.py:927: FutureWarning: The provided callable <function mean at 0x105abbeb0> is currently using DataFrameGroupBy.mean. In a future version of pandas, the provided callable will be used directly. To keep current behavior pass the string \"mean\" instead.\n",
      "  df_cont = pd.pivot_table(cont_data,\n",
      "/Users/sanand/anaconda3/envs/r4/lib/python3.10/site-packages/tableone/tableone.py:927: FutureWarning: The provided callable <function median at 0x105bf76d0> is currently using DataFrameGroupBy.median. In a future version of pandas, the provided callable will be used directly. To keep current behavior pass the string \"median\" instead.\n",
      "  df_cont = pd.pivot_table(cont_data,\n",
      "/Users/sanand/anaconda3/envs/r4/lib/python3.10/site-packages/tableone/tableone.py:927: FutureWarning: The provided callable <built-in function min> is currently using DataFrameGroupBy.min. In a future version of pandas, the provided callable will be used directly. To keep current behavior pass the string \"min\" instead.\n",
      "  df_cont = pd.pivot_table(cont_data,\n",
      "/Users/sanand/anaconda3/envs/r4/lib/python3.10/site-packages/tableone/tableone.py:927: FutureWarning: The provided callable <built-in function max> is currently using DataFrameGroupBy.max. In a future version of pandas, the provided callable will be used directly. To keep current behavior pass the string \"max\" instead.\n",
      "  df_cont = pd.pivot_table(cont_data,\n",
      "/Users/sanand/anaconda3/envs/r4/lib/python3.10/site-packages/tableone/tableone.py:1449: UserWarning: Order variable not found: cluster4\n",
      "  warnings.warn(\"Order variable not found: {}\".format(k))\n"
     ]
    }
   ],
   "source": [
    "# Table for abstract\n",
    "columns = [\"Age\",\"Sex\",\"Race\",\"Kappa or lambda PCD\", \"Primary organ\"] + [\"dFLC\",\"Bone marrow plasma cells (%)\",\"BNP\",\"Troponin\",\"eGFR\",\"24-hr UTP\",\"Albumin\",\"Uric acid\",\"LDH\",\"Alk phos\"]\n",
    "categorical = [\"Sex\",\"Race\",\"Kappa or lambda PCD\", \"Primary organ\"] \n",
    "\n",
    "groupby = [\"cluster\"]\n",
    "\n",
    "nonnormal = [\"dFLC\",\"Bone marrow plasma cells (%)\",\"BNP\", \"Troponin\",\"eGFR\",\"24-hr UTP\"]\n",
    "\n",
    "mytable = TableOne(data_df, columns, categorical, groupby, nonnormal, pval=True)\n",
    "mytable.to_html(\"onetable.html\")\n",
    "#print(mytable.tabulate(tablefmt=\"html\"))"
   ]
  },
  {
   "cell_type": "code",
   "execution_count": 114,
   "metadata": {},
   "outputs": [
    {
     "name": "stdout",
     "output_type": "stream",
     "text": [
      "|                                              |             | Missing   | Overall               | Low                  | Intermediate            | High                 | P-Value   |\n",
      "|----------------------------------------------|-------------|-----------|-----------------------|----------------------|-------------------------|----------------------|-----------|\n",
      "| n                                            |             |           | 2074                  | 689                  | 822                     | 563                  |           |\n",
      "| Age, mean (SD)                               |             | 0         | 60.9 (10.4)           | 61.0 (10.0)          | 60.7 (11.0)             | 61.0 (10.2)          | 0.824     |\n",
      "| Sex, n (%)                                   | F           | 0         | 810 (39.1)            | 276 (40.1)           | 342 (41.6)              | 192 (34.1)           | 0.015     |\n",
      "|                                              | M           |           | 1264 (60.9)           | 413 (59.9)           | 480 (58.4)              | 371 (65.9)           |           |\n",
      "| Race, n (%)                                  | Asian       | 0         | 47 (2.3)              | 20 (2.9)             | 18 (2.2)                | 9 (1.6)              | 0.250     |\n",
      "|                                              | Black       |           | 172 (8.3)             | 54 (7.8)             | 59 (7.2)                | 59 (10.5)            |           |\n",
      "|                                              | Other       |           | 12 (0.6)              | 3 (0.4)              | 6 (0.7)                 | 3 (0.5)              |           |\n",
      "|                                              | White       |           | 1843 (88.9)           | 612 (88.8)           | 739 (89.9)              | 492 (87.4)           |           |\n",
      "| Kappa or lambda PCD, n (%)                   | K           | 0         | 450 (21.7)            | 200 (29.0)           | 140 (17.0)              | 110 (19.5)           | <0.001    |\n",
      "|                                              | L           |           | 1624 (78.3)           | 489 (71.0)           | 682 (83.0)              | 453 (80.5)           |           |\n",
      "| Primary organ, n (%)                         | ans         | 256       | 32 (1.8)              | 7 (1.1)              | 13 (1.9)                | 12 (2.4)             | <0.001    |\n",
      "|                                              | cardiac     |           | 494 (27.2)            | 96 (15.5)            | 71 (10.1)               | 327 (65.8)           |           |\n",
      "|                                              | gi          |           | 93 (5.1)              | 67 (10.8)            | 8 (1.1)                 | 18 (3.6)             |           |\n",
      "|                                              | hepatic     |           | 86 (4.7)              | 41 (6.6)             | 32 (4.6)                | 13 (2.6)             |           |\n",
      "|                                              | other       |           | 26 (1.4)              | 20 (3.2)             |                         | 6 (1.2)              |           |\n",
      "|                                              | pns         |           | 33 (1.8)              | 19 (3.1)             | 4 (0.6)                 | 10 (2.0)             |           |\n",
      "|                                              | pulm        |           | 26 (1.4)              | 14 (2.3)             | 2 (0.3)                 | 10 (2.0)             |           |\n",
      "|                                              | renal       |           | 918 (50.5)            | 271 (43.8)           | 568 (80.9)              | 79 (15.9)            |           |\n",
      "|                                              | soft_tissue |           | 110 (6.1)             | 84 (13.6)            | 4 (0.6)                 | 22 (4.4)             |           |\n",
      "| dFLC, median [Q1,Q3]                         |             | 517       | 86.6 [26.0,253.8]     | 53.0 [14.5,184.9]    | 77.3 [29.9,191.8]       | 149.8 [56.9,400.0]   | <0.001    |\n",
      "| Bone marrow plasma cells (%), median [Q1,Q3] |             | 308       | 10.0 [5.0,10.0]       | 6.0 [5.0,10.0]       | 10.0 [5.0,10.0]         | 10.0 [5.0,15.0]      | <0.001    |\n",
      "| BNP, median [Q1,Q3]                          |             | 823       | 201.0 [67.5,556.5]    | 112.5 [41.8,239.2]   | 121.5 [60.0,285.2]      | 683.0 [356.0,1362.5] | <0.001    |\n",
      "| Troponin, median [Q1,Q3]                     |             | 1058      | 0.0 [0.0,0.1]         | 0.0 [0.0,0.1]        | 0.0 [0.0,0.1]           | 0.1 [0.1,0.3]        | <0.001    |\n",
      "| eGFR, median [Q1,Q3]                         |             | 181       | 71.3 [39.2,94.8]      | 75.4 [38.9,94.2]     | 68.3 [34.7,96.6]        | 69.2 [42.1,93.1]     | 0.678     |\n",
      "| 24-hr UTP, median [Q1,Q3]                    |             | 162       | 1937.5 [178.0,6701.0] | 518.0 [104.5,2918.5] | 7044.0 [3987.0,10385.0] | 297.0 [100.0,1200.0] | <0.001    |\n",
      "| Albumin, mean (SD)                           |             | 340       | 3.2 (0.8)             | 3.8 (0.5)            | 2.4 (0.5)               | 3.7 (0.5)            | <0.001    |\n",
      "| Uric acid, mean (SD)                         |             | 223       | 7.0 (2.6)             | 6.6 (1.9)            | 6.8 (2.8)               | 7.9 (2.9)            | <0.001    |\n",
      "| LDH, mean (SD)                               |             | 275       | 250.6 (74.6)          | 223.4 (62.7)         | 259.2 (73.8)            | 271.3 (79.5)         | <0.001    |\n",
      "| Alk phos, mean (SD)                          |             | 186       | 165.0 (278.0)         | 129.4 (153.3)        | 201.6 (374.0)           | 153.2 (212.5)        | <0.001    |\n"
     ]
    }
   ],
   "source": [
    "print(mytable.tabulate(tablefmt=\"github\"))"
   ]
  },
  {
   "cell_type": "code",
   "execution_count": null,
   "metadata": {},
   "outputs": [],
   "source": []
  }
 ],
 "metadata": {
  "kernelspec": {
   "display_name": "Python 3 (ipykernel)",
   "language": "python",
   "name": "python3"
  },
  "language_info": {
   "codemirror_mode": {
    "name": "ipython",
    "version": 3
   },
   "file_extension": ".py",
   "mimetype": "text/x-python",
   "name": "python",
   "nbconvert_exporter": "python",
   "pygments_lexer": "ipython3",
   "version": "3.10.13"
  },
  "vscode": {
   "interpreter": {
    "hash": "1cb7d89f10138752af65ef706fb595972ec9b0d7ed92a43a4be7d17426113632"
   }
  }
 },
 "nbformat": 4,
 "nbformat_minor": 4
}
