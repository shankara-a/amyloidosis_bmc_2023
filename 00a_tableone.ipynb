{
 "cells": [
  {
   "cell_type": "code",
   "execution_count": 35,
   "metadata": {},
   "outputs": [],
   "source": [
    "import pandas as pd\n",
    "import numpy as np\n",
    "import matplotlib.pyplot as plt\n",
    "import seaborn as sns\n",
    "import os\n",
    "import funcs.utils as utils\n",
    "import funcs.plotting as plot\n",
    "import funcs.amyloid as amyloid\n",
    "import scipy\n",
    "from tableone import TableOne\n"
   ]
  },
  {
   "cell_type": "code",
   "execution_count": 36,
   "metadata": {},
   "outputs": [],
   "source": [
    "PROCESSED_DIR = \"data/processed\""
   ]
  },
  {
   "cell_type": "markdown",
   "metadata": {},
   "source": [
    "### 1. Load Data\n",
    "---"
   ]
  },
  {
   "cell_type": "code",
   "execution_count": 42,
   "metadata": {},
   "outputs": [],
   "source": [
    "# Raw Data\n",
    "data_df = pd.read_csv(os.path.join(PROCESSED_DIR,\"AL_with_ccp_03.tsv\"), sep=\"\\t\", index_col=0).rename(columns=amyloid.ddict_unclean)\n",
    "data_df = data_df.dropna(subset=\"cluster\")\n",
    "\n",
    "# Fix Dates\n",
    "data_df = pd.concat([pd.to_datetime(data_df[amyloid.dates][var], format=\"mixed\") for var in amyloid.dates], axis=1, keys=amyloid.dates).join(\n",
    "    data_df.drop(amyloid.dates, axis=1)  \n",
    ")\n",
    "\n",
    "# Not imputed\n",
    "X = pd.read_csv(os.path.join(PROCESSED_DIR, \"AL_for_ccp_02.tsv\"), sep='\\t', index_col=0).rename(columns=amyloid.ddict_unclean)\n",
    "\n",
    "# Imputed\n",
    "Xi_median = pd.read_csv(\"data/imputed/median_qvars_01.tsv\", sep=\"\\t\", index_col=0).rename(columns=amyloid.ddict_unclean)\n",
    "Xi_knn = pd.read_csv(\"data/imputed/knn_qvars_01.tsv\", sep=\"\\t\", index_col=0).rename(columns=amyloid.ddict_unclean)\n",
    "Xi_mice = pd.read_csv(\"data/imputed/mice_qvars_05.tsv\", sep=\"\\t\").rename(columns={'X24_hr_UTP':'24_hr_UTP'}).rename(columns=amyloid.ddict_unclean)"
   ]
  },
  {
   "cell_type": "code",
   "execution_count": 43,
   "metadata": {},
   "outputs": [],
   "source": [
    "# Order cluster subtypes\n",
    "from pandas.api.types import CategoricalDtype\n",
    "\n",
    "data_df[\"cluster\"] = data_df[\"cluster\"].astype(CategoricalDtype(categories=[\"Low\",\"Intermediate\",\"High\"], ordered=True))\n",
    "data_df[\"cluster4\"] = data_df[\"cluster4\"].astype(CategoricalDtype(categories=[\"Low\",\"Low-Intermediate\",\"Intermediate\",\"High\"], ordered=True))\n",
    "\n",
    "# Sex\n",
    "data_df[\"Sex\"] = data_df[\"Sex\"].apply(lambda x: \"F\" if x==\"female\" else \"M\")\n",
    "\n",
    "# Collapse Race\n",
    "data_df[\"Race\"] = data_df[\"Race\"].apply(lambda x: \"Other\" if x in ['American_Indian_Alaska_Native','Multiracial','Native_Hawaiian_Pacific', 'Unknown/other'] else x)\n",
    "\n",
    "for x in amyloid.amyloid_ros + amyloid.amyloid_symptoms:\n",
    "    data_df[x] = data_df[x].apply(lambda x: True if x in [\"involved\",\"yes\"] else False)"
   ]
  },
  {
   "cell_type": "code",
   "execution_count": 44,
   "metadata": {},
   "outputs": [],
   "source": [
    "rename = {\n",
    "    \"Bone marrow plasma cells (%)\":\"BMPC (%)\", \n",
    "    \"Kappa or lambda PCD\":\"LC Isotype\",\n",
    "    \"BU (BNP-based) cardiac staging\":\"BU Stage (2019)\",\n",
    "    \"time\":\"OS (yr)\"}\n",
    "\n",
    "data_df[\"Renal Stage (Palladini)\"] = data_df[\"Renal Stage (Palladini)\"].apply(lambda x: {\"Stage I\":\"I\", \"Stage II\":\"II\", \"Stage III\":\"III\", np.nan:None, None:None}[x])\n",
    "data_df[\"BU (BNP-based) cardiac staging\"] = data_df[\"BU (BNP-based) cardiac staging\"].apply(lambda x: {\"stage I\":\"I\", \"stage II\":\"II\", \"stage III\":\"III\", \"stage IIIb\":\"IIIb\", np.nan:None, None:None}[x])\n"
   ]
  },
  {
   "cell_type": "code",
   "execution_count": 50,
   "metadata": {},
   "outputs": [
    {
     "data": {
      "text/plain": [
       "(3.989048596851472,\n",
       " {'High': 1.566050650239562,\n",
       "  'Intermediate': 4.027378507871321,\n",
       "  'Low': 7.112936344969199},\n",
       " {'Era_1-2': 2.97056810403833,\n",
       "  'Era_3': 3.3894592744695413,\n",
       "  'Era_4': 5.938398357289528})"
      ]
     },
     "execution_count": 50,
     "metadata": {},
     "output_type": "execute_result"
    }
   ],
   "source": [
    "utils.get_median_os(data_df, duration=\"time\"), utils.get_median_os(data_df, groupby=\"cluster\", duration=\"time\"), utils.get_median_os(data_df, groupby=\"Era\", duration=\"time\")"
   ]
  },
  {
   "cell_type": "markdown",
   "metadata": {},
   "source": [
    "### 2. Abstract Table\n",
    "---"
   ]
  },
  {
   "cell_type": "code",
   "execution_count": 13,
   "metadata": {},
   "outputs": [
    {
     "name": "stderr",
     "output_type": "stream",
     "text": [
      "/Users/sanand/anaconda3/envs/r4/lib/python3.10/site-packages/tableone/tableone.py:370: FutureWarning: The default of observed=False is deprecated and will be changed to True in a future version of pandas. Pass observed=False to retain current behavior or observed=True to adopt the future default and silence this warning.\n",
      "  self._groupbylvls = sorted(data.groupby(groupby).groups.keys())  # type: ignore\n"
     ]
    },
    {
     "name": "stdout",
     "output_type": "stream",
     "text": [
      "|                           |      | Missing   | Overall               | Low                  | Intermediate            | High                 | P-Value   |\n",
      "|---------------------------|------|-----------|-----------------------|----------------------|-------------------------|----------------------|-----------|\n",
      "| n                         |      |           | 2074                  | 689                  | 822                     | 563                  |           |\n",
      "| OS (yr), median [Q1,Q3]   |      | 0         | 2.4 [0.7,6.4]         | 3.7 [1.2,7.8]        | 2.6 [0.7,6.8]           | 1.2 [0.4,3.4]        | <0.001    |\n",
      "| LC Isotype, n (%)         | K    | 0         | 450 (21.7)            | 200 (29.0)           | 140 (17.0)              | 110 (19.5)           | <0.001    |\n",
      "|                           | L    |           | 1624 (78.3)           | 489 (71.0)           | 682 (83.0)              | 453 (80.5)           |           |\n",
      "| dFLC, median [Q1,Q3]      |      | 517       | 86.6 [26.0,253.8]     | 53.0 [14.5,184.9]    | 77.3 [29.9,191.8]       | 149.8 [56.9,400.0]   | <0.001    |\n",
      "| BNP, median [Q1,Q3]       |      | 823       | 201.0 [67.5,556.5]    | 112.5 [41.8,239.2]   | 121.5 [60.0,285.2]      | 683.0 [356.0,1362.5] | <0.001    |\n",
      "| Troponin, median [Q1,Q3]  |      | 1058      | 0.0 [0.0,0.1]         | 0.0 [0.0,0.1]        | 0.0 [0.0,0.1]           | 0.1 [0.1,0.3]        | <0.001    |\n",
      "| eGFR, median [Q1,Q3]      |      | 181       | 71.3 [39.2,94.8]      | 75.4 [38.9,94.2]     | 68.3 [34.7,96.6]        | 69.2 [42.1,93.1]     | 0.678     |\n",
      "| 24-hr UTP, median [Q1,Q3] |      | 162       | 1937.5 [178.0,6701.0] | 518.0 [104.5,2918.5] | 7044.0 [3987.0,10385.0] | 297.0 [100.0,1200.0] | <0.001    |\n",
      "| Albumin, mean (SD)        |      | 340       | 3.2 (0.8)             | 3.8 (0.5)            | 2.4 (0.5)               | 3.7 (0.5)            | <0.001    |\n",
      "| BU Stage (2019), n (%)    | I    | 993       | 305 (28.2)            | 172 (43.5)           | 124 (34.1)              | 9 (2.8)              | <0.001    |\n",
      "|                           | II   |           | 459 (42.5)            | 187 (47.3)           | 159 (43.7)              | 113 (35.1)           |           |\n",
      "|                           | III  |           | 151 (14.0)            | 29 (7.3)             | 56 (15.4)               | 66 (20.5)            |           |\n",
      "|                           | IIIb |           | 166 (15.4)            | 7 (1.8)              | 25 (6.9)                | 134 (41.6)           |           |\n"
     ]
    },
    {
     "name": "stderr",
     "output_type": "stream",
     "text": [
      "/Users/sanand/anaconda3/envs/r4/lib/python3.10/site-packages/tableone/tableone.py:927: FutureWarning: The provided callable <function mean at 0x104e37c70> is currently using DataFrameGroupBy.mean. In a future version of pandas, the provided callable will be used directly. To keep current behavior pass the string \"mean\" instead.\n",
      "  df_cont = pd.pivot_table(cont_data,\n",
      "/Users/sanand/anaconda3/envs/r4/lib/python3.10/site-packages/tableone/tableone.py:927: FutureWarning: The provided callable <function median at 0x104f73490> is currently using DataFrameGroupBy.median. In a future version of pandas, the provided callable will be used directly. To keep current behavior pass the string \"median\" instead.\n",
      "  df_cont = pd.pivot_table(cont_data,\n",
      "/Users/sanand/anaconda3/envs/r4/lib/python3.10/site-packages/tableone/tableone.py:927: FutureWarning: The provided callable <built-in function min> is currently using DataFrameGroupBy.min. In a future version of pandas, the provided callable will be used directly. To keep current behavior pass the string \"min\" instead.\n",
      "  df_cont = pd.pivot_table(cont_data,\n",
      "/Users/sanand/anaconda3/envs/r4/lib/python3.10/site-packages/tableone/tableone.py:927: FutureWarning: The provided callable <built-in function max> is currently using DataFrameGroupBy.max. In a future version of pandas, the provided callable will be used directly. To keep current behavior pass the string \"max\" instead.\n",
      "  df_cont = pd.pivot_table(cont_data,\n",
      "/Users/sanand/anaconda3/envs/r4/lib/python3.10/site-packages/tableone/tableone.py:1449: UserWarning: Order variable not found: cluster4\n",
      "  warnings.warn(\"Order variable not found: {}\".format(k))\n"
     ]
    }
   ],
   "source": [
    "# Table for abstract\n",
    "columns = [\"OS (yr)\",\"LC Isotype\",\"dFLC\",\"BNP\",\"Troponin\",\"eGFR\",\"24-hr UTP\",\"Albumin\",\"BU Stage (2019)\"]\n",
    "categorical = [\"LC Isotype\",\"BU Stage (2019)\",] \n",
    "groupby = [\"cluster\"]\n",
    "nonnormal = [\"OS (yr)\",\"dFLC\",\"BNP\", \"Troponin\",\"eGFR\",\"24-hr UTP\"]\n",
    "\n",
    "mytable = TableOne(data_df, columns, categorical, groupby, nonnormal, pval=True, rename=rename)\n",
    "mytable.to_html(\"onetable.html\")\n",
    "print(mytable.tabulate(tablefmt=\"github\"))"
   ]
  },
  {
   "cell_type": "markdown",
   "metadata": {},
   "source": [
    "### 3. Table 1\n",
    "---"
   ]
  },
  {
   "cell_type": "code",
   "execution_count": 58,
   "metadata": {},
   "outputs": [
    {
     "name": "stderr",
     "output_type": "stream",
     "text": [
      "/Users/sanand/anaconda3/envs/r4/lib/python3.10/site-packages/tableone/tableone.py:370: FutureWarning: The default of observed=False is deprecated and will be changed to True in a future version of pandas. Pass observed=False to retain current behavior or observed=True to adopt the future default and silence this warning.\n",
      "  self._groupbylvls = sorted(data.groupby(groupby).groups.keys())  # type: ignore\n",
      "/Users/sanand/anaconda3/envs/r4/lib/python3.10/site-packages/tableone/tableone.py:927: FutureWarning: The provided callable <function mean at 0x104e37c70> is currently using DataFrameGroupBy.mean. In a future version of pandas, the provided callable will be used directly. To keep current behavior pass the string \"mean\" instead.\n",
      "  df_cont = pd.pivot_table(cont_data,\n",
      "/Users/sanand/anaconda3/envs/r4/lib/python3.10/site-packages/tableone/tableone.py:927: FutureWarning: The provided callable <function median at 0x104f73490> is currently using DataFrameGroupBy.median. In a future version of pandas, the provided callable will be used directly. To keep current behavior pass the string \"median\" instead.\n",
      "  df_cont = pd.pivot_table(cont_data,\n",
      "/Users/sanand/anaconda3/envs/r4/lib/python3.10/site-packages/tableone/tableone.py:927: FutureWarning: The provided callable <built-in function min> is currently using DataFrameGroupBy.min. In a future version of pandas, the provided callable will be used directly. To keep current behavior pass the string \"min\" instead.\n",
      "  df_cont = pd.pivot_table(cont_data,\n",
      "/Users/sanand/anaconda3/envs/r4/lib/python3.10/site-packages/tableone/tableone.py:927: FutureWarning: The provided callable <built-in function max> is currently using DataFrameGroupBy.max. In a future version of pandas, the provided callable will be used directly. To keep current behavior pass the string \"max\" instead.\n",
      "  df_cont = pd.pivot_table(cont_data,\n",
      "/Users/sanand/anaconda3/envs/r4/lib/python3.10/site-packages/tableone/tableone.py:1449: UserWarning: Order variable not found: cluster4\n",
      "  warnings.warn(\"Order variable not found: {}\".format(k))\n"
     ]
    },
    {
     "name": "stdout",
     "output_type": "stream",
     "text": [
      "|                                  |             | Missing   | Overall         | Low             | Intermediate    | High            | P-Value   |\n",
      "|----------------------------------|-------------|-----------|-----------------|-----------------|-----------------|-----------------|-----------|\n",
      "| n                                |             |           | 2074            | 689             | 822             | 563             |           |\n",
      "| Age, mean (SD)                   |             | 0         | 60.9 (10.4)     | 61.0 (10.0)     | 60.7 (11.0)     | 61.0 (10.2)     | 0.824     |\n",
      "| Sex, n (%)                       | F           | 0         | 810 (39.1)      | 276 (40.1)      | 342 (41.6)      | 192 (34.1)      | 0.015     |\n",
      "|                                  | M           |           | 1264 (60.9)     | 413 (59.9)      | 480 (58.4)      | 371 (65.9)      |           |\n",
      "| Race, n (%)                      | Asian       | 0         | 47 (2.3)        | 20 (2.9)        | 18 (2.2)        | 9 (1.6)         | 0.250     |\n",
      "|                                  | Black       |           | 172 (8.3)       | 54 (7.8)        | 59 (7.2)        | 59 (10.5)       |           |\n",
      "|                                  | Other       |           | 12 (0.6)        | 3 (0.4)         | 6 (0.7)         | 3 (0.5)         |           |\n",
      "|                                  | White       |           | 1843 (88.9)     | 612 (88.8)      | 739 (89.9)      | 492 (87.4)      |           |\n",
      "| Amyloidogenic LC, n (%)          | K           | 0         | 450 (21.7)      | 200 (29.0)      | 140 (17.0)      | 110 (19.5)      | <0.001    |\n",
      "|                                  | L           |           | 1624 (78.3)     | 489 (71.0)      | 682 (83.0)      | 453 (80.5)      |           |\n",
      "| Primary organ, n (%)             | ans         | 256       | 32 (1.8)        | 7 (1.1)         | 13 (1.9)        | 12 (2.4)        | <0.001    |\n",
      "|                                  | cardiac     |           | 494 (27.2)      | 96 (15.5)       | 71 (10.1)       | 327 (65.8)      |           |\n",
      "|                                  | gi          |           | 93 (5.1)        | 67 (10.8)       | 8 (1.1)         | 18 (3.6)        |           |\n",
      "|                                  | hepatic     |           | 86 (4.7)        | 41 (6.6)        | 32 (4.6)        | 13 (2.6)        |           |\n",
      "|                                  | other       |           | 26 (1.4)        | 20 (3.2)        |                 | 6 (1.2)         |           |\n",
      "|                                  | pns         |           | 33 (1.8)        | 19 (3.1)        | 4 (0.6)         | 10 (2.0)        |           |\n",
      "|                                  | pulm        |           | 26 (1.4)        | 14 (2.3)        | 2 (0.3)         | 10 (2.0)        |           |\n",
      "|                                  | renal       |           | 918 (50.5)      | 271 (43.8)      | 568 (80.9)      | 79 (15.9)       |           |\n",
      "|                                  | soft_tissue |           | 110 (6.1)       | 84 (13.6)       | 4 (0.6)         | 22 (4.4)        |           |\n",
      "| K (mg/L), mean (SD)              |             | 517       | 86.5 (280.3)    | 109.5 (363.0)   | 61.4 (192.0)    | 91.0 (255.5)    | 0.014     |\n",
      "| L (mg/L), mean (SD)              |             | 517       | 201.5 (514.0)   | 159.3 (415.5)   | 165.0 (290.0)   | 306.6 (785.2)   | <0.001    |\n",
      "| K:L, mean (SD)                   |             | 517       | 6.33 (29.14)    | 9.22 (38.67)    | 2.50 (11.71)    | 7.81 (30.87)    | <0.001    |\n",
      "| dFLC mg/L, mean (SD)             |             | 517       | 247.2 (563.5)   | 231.2 (529.0)   | 181.3 (326.9)   | 358.2 (799.0)   | <0.001    |\n",
      "| BMPC (%), mean (SD)              |             | 308       | 9.78 (6.81)     | 9.18 (6.94)     | 9.11 (5.75)     | 11.44 (7.74)    | <0.001    |\n",
      "| IVSd (mm), mean (SD)             |             | 202       | 12.4 (4.0)      | 11.1 (3.3)      | 11.8 (4.1)      | 14.6 (3.6)      | <0.001    |\n",
      "| LVEF (%), mean (SD)              |             | 340       | 58.7 (16.8)     | 62.2 (24.0)     | 61.5 (8.4)      | 50.8 (11.6)     | <0.001    |\n",
      "| WBC /mm^3, mean (SD)             |             | 26        | 7.90 (3.93)     | 7.48 (3.38)     | 8.46 (3.57)     | 7.61 (4.85)     | <0.001    |\n",
      "| Hgb (g/dL), mean (SD)            |             | 28        | 12.91 (1.90)    | 12.85 (1.82)    | 13.07 (2.03)    | 12.76 (1.80)    | 0.008     |\n",
      "| MCV (um^3), mean (SD)            |             | 34        | 91.3 (6.2)      | 91.1 (6.4)      | 91.7 (5.9)      | 90.9 (6.4)      | 0.044     |\n",
      "| PLT /mm^2, mean (SD)             |             | 666       | 289.6 (121.5)   | 268.9 (99.3)    | 337.3 (135.1)   | 238.0 (91.2)    | <0.001    |\n",
      "| ESR (mm/hr), mean (SD)           |             | 74        | 49.3 (34.8)     | 37.0 (28.1)     | 74.3 (30.6)     | 27.9 (23.9)     | <0.001    |\n",
      "| D-dimer (mg/L), mean (SD)        |             | 737       | 213.4 (635.0)   | 176.2 (466.2)   | 220.8 (619.7)   | 246.5 (813.8)   | 0.293     |\n",
      "| Factor X (%), mean (SD)          |             | 246       | 88.2 (36.1)     | 97.5 (33.8)     | 92.6 (37.2)     | 70.1 (30.7)     | <0.001    |\n",
      "| eGFR (mL/min/1.72m^2), mean (SD) |             | 181       | 66.1 (32.7)     | 67.0 (32.1)     | 65.1 (34.5)     | 66.5 (30.6)     | 0.537     |\n",
      "| Proteinuria (mg/24h), mean (SD)  |             | 162       | 4146.0 (6207.5) | 1956.0 (2861.5) | 7837.6 (7880.3) | 1151.5 (1946.0) | <0.001    |\n",
      "| Albumin (g/dL), mean (SD)        |             | 340       | 3.21 (0.84)     | 3.83 (0.49)     | 2.42 (0.54)     | 3.71 (0.49)     | <0.001    |\n",
      "| ALP (U/L), mean (SD)             |             | 186       | 165.0 (278.0)   | 129.4 (153.3)   | 201.6 (374.0)   | 153.2 (212.5)   | <0.001    |\n",
      "| BNP (pg/mL), mean (SD)           |             | 823       | 499.4 (819.6)   | 205.3 (315.0)   | 320.3 (614.6)   | 1073.9 (1120.0) | <0.001    |\n",
      "| Troponin (ng/mL), mean (SD)      |             | 1058      | 0.155 (0.450)   | 0.042 (0.068)   | 0.120 (0.319)   | 0.328 (0.711)   | <0.001    |\n",
      "| Calcium (mg/dL), mean (SD)       |             | 191       | 9.14 (4.98)     | 9.48 (3.33)     | 8.79 (7.18)     | 9.27 (0.70)     | 0.031     |\n",
      "| Uric Acid (mg/dL), mean (SD)     |             | 223       | 6.99 (2.59)     | 6.55 (1.86)     | 6.75 (2.76)     | 7.90 (2.85)     | <0.001    |\n",
      "| LDH (U/L), mean (SD)             |             | 275       | 250.6 (74.6)    | 223.4 (62.7)    | 259.2 (73.8)    | 271.3 (79.5)    | <0.001    |\n",
      "| Fe (mcg/dL), mean (SD)           |             | 218       | 64.6 (30.2)     | 73.7 (30.1)     | 62.7 (28.6)     | 56.1 (29.5)     | <0.001    |\n",
      "| TIBC (mcg/dL), mean (SD)         |             | 241       | 267.1 (69.7)    | 302.7 (51.9)    | 211.6 (48.5)    | 308.7 (58.0)    | <0.001    |\n",
      "| Systolic BP sitting, mean (SD)   |             | 68        | 121.2 (20.7)    | 133.1 (18.8)    | 119.0 (20.5)    | 110.1 (15.3)    | <0.001    |\n",
      "| Diastolic BP sitting, mean (SD)  |             | 68        | 76.0 (11.2)     | 81.3 (10.5)     | 74.5 (11.1)     | 71.7 (9.6)      | <0.001    |\n",
      "| Pulse sitting, mean (SD)         |             | 177       | 81.7 (14.4)     | 78.2 (14.2)     | 83.6 (13.9)     | 83.5 (14.6)     | <0.001    |\n",
      "| Weight loss, n (%)               | False       | 0         | 1137 (54.8)     | 416 (60.4)      | 475 (57.8)      | 246 (43.7)      | <0.001    |\n",
      "|                                  | True        |           | 937 (45.2)      | 273 (39.6)      | 347 (42.2)      | 317 (56.3)      |           |\n",
      "| Fatigue, n (%)                   | False       | 0         | 608 (29.3)      | 260 (37.7)      | 231 (28.1)      | 117 (20.8)      | <0.001    |\n",
      "|                                  | True        |           | 1466 (70.7)     | 429 (62.3)      | 591 (71.9)      | 446 (79.2)      |           |\n",
      "| Exertional dyspnea, n (%)        | False       | 0         | 837 (40.4)      | 367 (53.3)      | 364 (44.3)      | 106 (18.8)      | <0.001    |\n",
      "|                                  | True        |           | 1237 (59.6)     | 322 (46.7)      | 458 (55.7)      | 457 (81.2)      |           |\n",
      "| Dyspnea at rest, n (%)           | False       | 0         | 1935 (93.3)     | 670 (97.2)      | 780 (94.9)      | 485 (86.1)      | <0.001    |\n",
      "|                                  | True        |           | 139 (6.7)       | 19 (2.8)        | 42 (5.1)        | 78 (13.9)       |           |\n",
      "| Orthopnea/PND, n (%)             | False       | 0         | 1733 (83.6)     | 636 (92.3)      | 720 (87.6)      | 377 (67.0)      | <0.001    |\n",
      "|                                  | True        |           | 341 (16.4)      | 53 (7.7)        | 102 (12.4)      | 186 (33.0)      |           |\n",
      "| Leg swelling (symptom), n (%)    | False       | 0         | 690 (33.3)      | 378 (54.9)      | 141 (17.2)      | 171 (30.4)      | <0.001    |\n",
      "|                                  | True        |           | 1384 (66.7)     | 311 (45.1)      | 681 (82.8)      | 392 (69.6)      |           |\n",
      "| Peripheral edema on exam, n (%)  | False       | 0         | 824 (39.7)      | 419 (60.8)      | 190 (23.1)      | 215 (38.2)      | <0.001    |\n",
      "|                                  | True        |           | 1250 (60.3)     | 270 (39.2)      | 632 (76.9)      | 348 (61.8)      |           |\n",
      "| ascites symptom, n (%)           | False       | 0         | 1561 (75.3)     | 503 (73.0)      | 656 (79.8)      | 402 (71.4)      | <0.001    |\n",
      "|                                  | True        |           | 513 (24.7)      | 186 (27.0)      | 166 (20.2)      | 161 (28.6)      |           |\n",
      "| Ascites on exam, n (%)           | False       | 0         | 1978 (95.4)     | 680 (98.7)      | 763 (92.8)      | 535 (95.0)      | <0.001    |\n",
      "|                                  | True        |           | 96 (4.6)        | 9 (1.3)         | 59 (7.2)        | 28 (5.0)        |           |\n",
      "| Orthostasis, n (%)               | False       | 0         | 1541 (74.3)     | 559 (81.1)      | 584 (71.0)      | 398 (70.7)      | <0.001    |\n",
      "|                                  | True        |           | 533 (25.7)      | 130 (18.9)      | 238 (29.0)      | 165 (29.3)      |           |\n",
      "| Dizzy spells, n (%)              | False       | 0         | 1505 (72.6)     | 554 (80.4)      | 576 (70.1)      | 375 (66.6)      | <0.001    |\n",
      "|                                  | True        |           | 569 (27.4)      | 135 (19.6)      | 246 (29.9)      | 188 (33.4)      |           |\n",
      "| Syncope, n (%)                   | False       | 0         | 1823 (87.9)     | 636 (92.3)      | 716 (87.1)      | 471 (83.7)      | <0.001    |\n",
      "|                                  | True        |           | 251 (12.1)      | 53 (7.7)        | 106 (12.9)      | 92 (16.3)       |           |\n",
      "| Ecchymosis, n (%)                | False       | 0         | 1695 (81.7)     | 584 (84.8)      | 685 (83.3)      | 426 (75.7)      | <0.001    |\n",
      "|                                  | True        |           | 379 (18.3)      | 105 (15.2)      | 137 (16.7)      | 137 (24.3)      |           |\n",
      "| Petechiae, n (%)                 | False       | 0         | 1973 (95.1)     | 661 (95.9)      | 791 (96.2)      | 521 (92.5)      | 0.004     |\n",
      "|                                  | True        |           | 101 (4.9)       | 28 (4.1)        | 31 (3.8)        | 42 (7.5)        |           |\n",
      "| Periorbital ecchymosis, n (%)    | False       | 0         | 1937 (93.4)     | 655 (95.1)      | 781 (95.0)      | 501 (89.0)      | <0.001    |\n",
      "|                                  | True        |           | 137 (6.6)       | 34 (4.9)        | 41 (5.0)        | 62 (11.0)       |           |\n",
      "| Anorexia, n (%)                  | False       | 0         | 1574 (75.9)     | 569 (82.6)      | 615 (74.8)      | 390 (69.3)      | <0.001    |\n",
      "|                                  | True        |           | 500 (24.1)      | 120 (17.4)      | 207 (25.2)      | 173 (30.7)      |           |\n",
      "| Abdominal pain, n (%)            | False       | 0         | 1829 (88.2)     | 611 (88.7)      | 727 (88.4)      | 491 (87.2)      | 0.695     |\n",
      "|                                  | True        |           | 245 (11.8)      | 78 (11.3)       | 95 (11.6)       | 72 (12.8)       |           |\n",
      "| Large tongue, n (%)              | False       | 0         | 1863 (89.8)     | 618 (89.7)      | 764 (92.9)      | 481 (85.4)      | <0.001    |\n",
      "|                                  | True        |           | 211 (10.2)      | 71 (10.3)       | 58 (7.1)        | 82 (14.6)       |           |\n",
      "| Carpal tunnel, n (%)             | False       | 0         | 1913 (92.2)     | 630 (91.4)      | 772 (93.9)      | 511 (90.8)      | 0.062     |\n",
      "|                                  | True        |           | 161 (7.8)       | 59 (8.6)        | 50 (6.1)        | 52 (9.2)        |           |\n",
      "| Hypertension, n (%)              | False       | 0         | 1565 (75.5)     | 494 (71.7)      | 630 (76.6)      | 441 (78.3)      | 0.015     |\n",
      "|                                  | True        |           | 509 (24.5)      | 195 (28.3)      | 192 (23.4)      | 122 (21.7)      |           |\n",
      "| Arrhythmia , n (%)               | False       | 0         | 1903 (91.8)     | 642 (93.2)      | 779 (94.8)      | 482 (85.6)      | <0.001    |\n",
      "|                                  | True        |           | 171 (8.2)       | 47 (6.8)        | 43 (5.2)        | 81 (14.4)       |           |\n"
     ]
    }
   ],
   "source": [
    "columns = [\"Age\",\"Sex\",\"Race\",\"Kappa or lambda PCD\", \"Primary organ\",\"cluster\"] + list(Xi_mice.columns) + amyloid.amyloid_symptoms\n",
    "\n",
    "categorical = [\"Sex\",\"Race\",\"Kappa or lambda PCD\", \"Primary organ\"] + amyloid.amyloid_symptoms\n",
    "groupby = [\"cluster\"]\n",
    "nonnormal = []\n",
    "\n",
    "mytable = TableOne(data_df, columns, categorical, groupby, nonnormal, \n",
    "                   pval=True, overall=True, \n",
    "                   decimals = {'WBC':2, 'Hemoglobin':2, 'Troponin': 3, 'Calcium':2, \n",
    "                               'Bone marrow plasma cells (%)':2, 'Uric acid':2, 'Albumin':2, 'kappa:lambda ratio':2},\n",
    "                   rename=amyloid.tableone_names)\n",
    "\n",
    "print(mytable.tabulate(tablefmt=\"github\"))\n",
    "mytable.to_excel('tables/Table1.xlsx')"
   ]
  },
  {
   "cell_type": "code",
   "execution_count": 65,
   "metadata": {},
   "outputs": [
    {
     "data": {
      "text/plain": [
       "['Mayo  2004 cardiac biomarker staging', 'BU (BNP-based) cardiac staging']"
      ]
     },
     "execution_count": 65,
     "metadata": {},
     "output_type": "execute_result"
    }
   ],
   "source": []
  },
  {
   "cell_type": "code",
   "execution_count": 72,
   "metadata": {},
   "outputs": [
    {
     "name": "stderr",
     "output_type": "stream",
     "text": [
      "/Users/sanand/anaconda3/envs/r4/lib/python3.10/site-packages/tableone/tableone.py:370: FutureWarning: The default of observed=False is deprecated and will be changed to True in a future version of pandas. Pass observed=False to retain current behavior or observed=True to adopt the future default and silence this warning.\n",
      "  self._groupbylvls = sorted(data.groupby(groupby).groups.keys())  # type: ignore\n"
     ]
    },
    {
     "name": "stderr",
     "output_type": "stream",
     "text": [
      "/Users/sanand/anaconda3/envs/r4/lib/python3.10/site-packages/tableone/tableone.py:1449: UserWarning: Order variable not found: cluster4\n",
      "  warnings.warn(\"Order variable not found: {}\".format(k))\n"
     ]
    },
    {
     "name": "stdout",
     "output_type": "stream",
     "text": [
      "|                                |      | Missing   | Overall    | Low        | Intermediate   | High       | P-Value   |\n",
      "|--------------------------------|------|-----------|------------|------------|----------------|------------|-----------|\n",
      "| n                              |      |           | 2074       | 689        | 822            | 563        |           |\n",
      "| Cardiac Stage (BU 2019), n (%) | I    | 993       | 305 (28.2) | 172 (43.5) | 124 (34.1)     | 9 (2.8)    | <0.001    |\n",
      "|                                | II   |           | 459 (42.5) | 187 (47.3) | 159 (43.7)     | 113 (35.1) |           |\n",
      "|                                | III  |           | 151 (14.0) | 29 (7.3)   | 56 (15.4)      | 66 (20.5)  |           |\n",
      "|                                | IIIb |           | 166 (15.4) | 7 (1.8)    | 25 (6.9)       | 134 (41.6) |           |\n",
      "| Renal Stage (Palladini), n (%) | I    | 265       | 792 (43.8) | 344 (59.6) | 153 (20.1)     | 295 (62.8) | <0.001    |\n",
      "|                                | II   |           | 785 (43.4) | 196 (34.0) | 426 (55.9)     | 163 (34.7) |           |\n",
      "|                                | III  |           | 232 (12.8) | 37 (6.4)   | 183 (24.0)     | 12 (2.6)   |           |\n"
     ]
    }
   ],
   "source": [
    "columns = [\"BU (BNP-based) cardiac staging\",\"Renal Stage (Palladini)\",\"cluster\"]\n",
    "\n",
    "categorical = [\"BU (BNP-based) cardiac staging\",\"Renal Stage (Palladini)\"]\n",
    "groupby = [\"cluster\"]\n",
    "nonnormal = []\n",
    "\n",
    "mytable = TableOne(data_df, columns, categorical, groupby, nonnormal, \n",
    "                   pval=True, overall=True,\n",
    "                   rename={\n",
    "                       \"BU (BNP-based) cardiac staging\":\"Cardiac Stage (BU 2019)\",\n",
    "                       \"Renal Stage (Palladini)\":\"Renal Stage (Palladini)\"\n",
    "                       })\n",
    "\n",
    "print(mytable.tabulate(tablefmt=\"github\"))\n",
    "mytable.to_excel('tables/Table1B.xlsx')"
   ]
  }
 ],
 "metadata": {
  "kernelspec": {
   "display_name": "Python 3 (ipykernel)",
   "language": "python",
   "name": "python3"
  },
  "language_info": {
   "codemirror_mode": {
    "name": "ipython",
    "version": 3
   },
   "file_extension": ".py",
   "mimetype": "text/x-python",
   "name": "python",
   "nbconvert_exporter": "python",
   "pygments_lexer": "ipython3",
   "version": "3.10.13"
  },
  "vscode": {
   "interpreter": {
    "hash": "1cb7d89f10138752af65ef706fb595972ec9b0d7ed92a43a4be7d17426113632"
   }
  }
 },
 "nbformat": 4,
 "nbformat_minor": 4
}
