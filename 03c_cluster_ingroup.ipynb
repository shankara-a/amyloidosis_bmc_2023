{
 "cells": [
  {
   "cell_type": "code",
   "execution_count": 1,
   "metadata": {},
   "outputs": [],
   "source": [
    "import pandas as pd\n",
    "import numpy as np\n",
    "import matplotlib.pyplot as plt\n",
    "import seaborn as sns\n",
    "import os\n",
    "import glob\n",
    "\n",
    "import funcs.utils as utils\n",
    "import funcs.plotting as plot\n",
    "import funcs.amyloid as amyloid\n",
    "from tqdm import tqdm\n",
    "\n",
    "import matplotlib\n",
    "matplotlib.rcParams['pdf.fonttype'] = 42\n",
    "matplotlib.rcParams['ps.fonttype'] = 42"
   ]
  },
  {
   "cell_type": "code",
   "execution_count": 2,
   "metadata": {},
   "outputs": [],
   "source": [
    "PROCESSED_DIR = \"data/processed\""
   ]
  },
  {
   "cell_type": "markdown",
   "metadata": {},
   "source": [
    "### 1. Load Data\n",
    "---"
   ]
  },
  {
   "cell_type": "code",
   "execution_count": 3,
   "metadata": {},
   "outputs": [],
   "source": [
    "data_df = pd.read_csv(os.path.join(PROCESSED_DIR, \"dataset_processed.tsv\"), sep='\\t', index_col=0).rename(columns=amyloid.ddict_unclean)\n",
    "\n",
    "# Fix Dates\n",
    "data_df = pd.concat([pd.to_datetime(data_df[amyloid.dates][var], format=\"mixed\") for var in amyloid.dates], axis=1, keys=amyloid.dates).join(\n",
    "    data_df.drop(amyloid.dates, axis=1)  \n",
    ")\n",
    "\n",
    "# Add clusters\n",
    "data_df = data_df.join(\n",
    "    pd.read_csv(os.path.join(PROCESSED_DIR,\"AL_with_ccp_03.tsv\"), sep=\"\\t\", index_col=0).rename(columns=amyloid.ddict_unclean)['fna3_cluster_n']\n",
    ")\n",
    "\n",
    "data_df = data_df[data_df['fna3_cluster_n'].notna()]"
   ]
  },
  {
   "cell_type": "markdown",
   "metadata": {},
   "source": [
    "### 2. Comparisons\n",
    "---"
   ]
  },
  {
   "cell_type": "code",
   "execution_count": 6,
   "metadata": {},
   "outputs": [],
   "source": [
    "cardiac_stage = \"BU (BNP-based) cardiac staging\"\n",
    "renal_stage = \"Renal Stage (Palladini)\""
   ]
  },
  {
   "cell_type": "code",
   "execution_count": 7,
   "metadata": {},
   "outputs": [
    {
     "data": {
      "text/plain": [
       "fna3_cluster_n\n",
       "High            92\n",
       "Intermediate    29\n",
       "Low             45\n",
       "dtype: int64"
      ]
     },
     "execution_count": 7,
     "metadata": {},
     "output_type": "execute_result"
    }
   ],
   "source": [
    "data_df[data_df[cardiac_stage]==\"stage IIIb\"].groupby(\"fna3_cluster_n\").size()"
   ]
  },
  {
   "cell_type": "code",
   "execution_count": 15,
   "metadata": {},
   "outputs": [
    {
     "name": "stderr",
     "output_type": "stream",
     "text": [
      "100%|██████████| 3/3 [00:00<00:00, 82.40it/s]\n"
     ]
    }
   ],
   "source": [
    "utils.run_statistical_comparisons(\n",
    "    data_df[data_df[renal_stage]==\"Stage I\"], \n",
    "    \"fna3_cluster_n\", \n",
    "    \"data/clustering/full_na_dataset/subgroup_comparisons\",\n",
    "    tag=\"_renal_stage_1\"\n",
    ")"
   ]
  },
  {
   "cell_type": "code",
   "execution_count": 18,
   "metadata": {},
   "outputs": [
    {
     "name": "stderr",
     "output_type": "stream",
     "text": [
      "100%|██████████| 3/3 [00:00<00:00, 104.02it/s]\n",
      "100%|██████████| 3/3 [00:00<00:00, 108.98it/s]\n"
     ]
    }
   ],
   "source": [
    "utils.run_statistical_comparisons(\n",
    "    data_df[data_df[cardiac_stage]==\"stage IIIb\"], \n",
    "    \"fna3_cluster_n\", \n",
    "    \"data/clustering/full_na_dataset/subgroup_comparisons\",\n",
    "    tag=\"_cardiac_stage_3b\"\n",
    ")\n",
    "\n",
    "utils.run_statistical_comparisons(\n",
    "    data_df[data_df[cardiac_stage]==\"stage III\"], \n",
    "    \"fna3_cluster_n\", \n",
    "    \"data/clustering/full_na_dataset/subgroup_comparisons\",\n",
    "    tag=\"_cardiac_stage_3\"\n",
    ")"
   ]
  },
  {
   "cell_type": "code",
   "execution_count": 17,
   "metadata": {},
   "outputs": [
    {
     "name": "stderr",
     "output_type": "stream",
     "text": [
      "100%|██████████| 3/3 [00:00<00:00, 95.14it/s]\n"
     ]
    }
   ],
   "source": [
    "utils.run_statistical_comparisons(\n",
    "    data_df[data_df[cardiac_stage]==\"stage II\"], \n",
    "    \"fna3_cluster_n\", \n",
    "    \"data/clustering/full_na_dataset/subgroup_comparisons\",\n",
    "    tag=\"_cardiac_stage_2\"\n",
    ")"
   ]
  },
  {
   "cell_type": "code",
   "execution_count": 9,
   "metadata": {},
   "outputs": [],
   "source": [
    "# For reviewer\n",
    "# Low-risk x 3b analysis"
   ]
  },
  {
   "cell_type": "code",
   "execution_count": 56,
   "metadata": {},
   "outputs": [
    {
     "data": {
      "text/plain": [
       "BU (BNP-based) cardiac staging\n",
       "stage I       0.218818\n",
       "stage II      0.277899\n",
       "stage III     0.054705\n",
       "stage IIIb    0.049234\n",
       "dtype: float64"
      ]
     },
     "execution_count": 56,
     "metadata": {},
     "output_type": "execute_result"
    }
   ],
   "source": [
    "data_df[data_df[\"fna3_cluster_n\"]==\"Low\"].groupby(cardiac_stage).size() / data_df[data_df[\"fna3_cluster_n\"]==\"Low\"].shape[0]"
   ]
  },
  {
   "cell_type": "code",
   "execution_count": 55,
   "metadata": {},
   "outputs": [
    {
     "data": {
      "image/png": "[encoded data removed]",
      "text/plain": [
       "<Figure size 400x400 with 1 Axes>"
      ]
     },
     "metadata": {},
     "output_type": "display_data"
    }
   ],
   "source": [
    "from typing import Union\n",
    "\n",
    "def plot_stacked_by_group(\n",
    "    df: pd.DataFrame,\n",
    "    x: str,\n",
    "    y: str,\n",
    "    order: Union[None, list] = None,\n",
    "    figsize: tuple = (4,4),\n",
    "    ax = None,\n",
    "    cmap = None\n",
    "    ):\n",
    "\n",
    "    if ax is None:\n",
    "        fig, ax = plt.subplots(figsize=figsize)\n",
    "\n",
    "    _df = df.groupby([x,y]).size().reset_index().pivot(index=x, columns=y, values=0)\n",
    "\n",
    "    if order is not None:\n",
    "        _df = _df.loc[order]\n",
    "    \n",
    "    _df.plot(\n",
    "        kind='bar', \n",
    "        stacked=True,\n",
    "        ax=ax,\n",
    "        rasterized=True,\n",
    "        color=cmap,\n",
    "        linewidth=1,\n",
    "        edgecolor='black',\n",
    "    )\n",
    "\n",
    "    handles, labels = ax.get_legend_handles_labels()\n",
    "    labels.reverse()\n",
    "    handles.reverse()\n",
    "\n",
    "    ax.legend(handles, labels, loc='upper right', fontsize=7)\n",
    "    ax.set_ylabel(\"Patients\", fontsize=14)\n",
    "    ax.set_xlabel(\"\")\n",
    "    ax.set_xticklabels(ax.get_xticklabels(), rotation=45, ha='right')\n",
    "\n",
    "    return ax\n",
    "\n",
    "\n",
    "BU_COLORS = {\"stage I\":\"green\",\"stage II\":\"orange\",\"stage III\":\"red\",\"stage IIIb\":\"purple\"}\n",
    " \n",
    "plot_stacked_by_group(\n",
    "    data_df, x='fna3_cluster_n', y=cardiac_stage, \n",
    "    cmap=BU_COLORS, order=[\"Low\",\"Intermediate\",\"High\"])\n",
    "\n",
    "plt.savefig(\"figures/subgroup_by_cardaic_stage_barplot.svg\", dpi=200, bbox_inches=\"tight\")"
   ]
  },
  {
   "cell_type": "code",
   "execution_count": 10,
   "metadata": {},
   "outputs": [
    {
     "name": "stderr",
     "output_type": "stream",
     "text": [
      "100%|██████████| 4/4 [00:00<00:00, 93.87it/s]\n"
     ]
    }
   ],
   "source": [
    "utils.run_statistical_comparisons(\n",
    "    data_df[data_df[\"fna3_cluster_n\"]==\"Low\"], \n",
    "    cardiac_stage, \n",
    "    \"data/clustering/full_na_dataset/subgroup_comparisons\",\n",
    "    tag=\"_subgroup_low\"\n",
    ")"
   ]
  },
  {
   "cell_type": "code",
   "execution_count": 53,
   "metadata": {},
   "outputs": [
    {
     "name": "stdout",
     "output_type": "stream",
     "text": [
      "/Users/shankaraanand/My Drive/BUSM/Research/AL Amyloidosis Clustering/amyloidosis_bmc_2023\n"
     ]
    }
   ],
   "source": [
    "! pwd"
   ]
  },
  {
   "cell_type": "code",
   "execution_count": null,
   "metadata": {},
   "outputs": [],
   "source": []
  }
 ],
 "metadata": {
  "kernelspec": {
   "display_name": "r4",
   "language": "python",
   "name": "python3"
  },
  "language_info": {
   "codemirror_mode": {
    "name": "ipython",
    "version": 3
   },
   "file_extension": ".py",
   "mimetype": "text/x-python",
   "name": "python",
   "nbconvert_exporter": "python",
   "pygments_lexer": "ipython3",
   "version": "3.11.8"
  }
 },
 "nbformat": 4,
 "nbformat_minor": 2
}
