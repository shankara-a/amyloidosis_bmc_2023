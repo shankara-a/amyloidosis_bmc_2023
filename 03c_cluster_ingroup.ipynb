{
 "cells": [
  {
   "cell_type": "code",
   "execution_count": 1,
   "metadata": {},
   "outputs": [],
   "source": [
    "import pandas as pd\n",
    "import numpy as np\n",
    "import matplotlib.pyplot as plt\n",
    "import seaborn as sns\n",
    "import os\n",
    "import glob\n",
    "\n",
    "import funcs.utils as utils\n",
    "import funcs.plotting as plot\n",
    "import funcs.amyloid as amyloid\n",
    "from tqdm import tqdm\n",
    "\n",
    "import matplotlib\n",
    "matplotlib.rcParams['pdf.fonttype'] = 42\n",
    "matplotlib.rcParams['ps.fonttype'] = 42"
   ]
  },
  {
   "cell_type": "code",
   "execution_count": 2,
   "metadata": {},
   "outputs": [],
   "source": [
    "PROCESSED_DIR = \"data/processed\""
   ]
  },
  {
   "cell_type": "markdown",
   "metadata": {},
   "source": [
    "### 1. Load Data\n",
    "---"
   ]
  },
  {
   "cell_type": "code",
   "execution_count": 3,
   "metadata": {},
   "outputs": [],
   "source": [
    "data_df = pd.read_csv(os.path.join(PROCESSED_DIR, \"dataset_processed.tsv\"), sep='\\t', index_col=0).rename(columns=amyloid.ddict_unclean)\n",
    "\n",
    "# Fix Dates\n",
    "data_df = pd.concat([pd.to_datetime(data_df[amyloid.dates][var], format=\"mixed\") for var in amyloid.dates], axis=1, keys=amyloid.dates).join(\n",
    "    data_df.drop(amyloid.dates, axis=1)  \n",
    ")\n",
    "\n",
    "# Add clusters\n",
    "data_df = data_df.join(\n",
    "    pd.read_csv(os.path.join(PROCESSED_DIR,\"AL_with_ccp_03.tsv\"), sep=\"\\t\", index_col=0).rename(columns=amyloid.ddict_unclean)['fna3_cluster_n']\n",
    ")\n",
    "\n",
    "data_df = data_df[data_df['fna3_cluster_n'].notna()]"
   ]
  },
  {
   "cell_type": "markdown",
   "metadata": {},
   "source": [
    "### 2. Comparisons\n",
    "---"
   ]
  },
  {
   "cell_type": "code",
   "execution_count": 5,
   "metadata": {},
   "outputs": [],
   "source": [
    "cardiac_stage = \"BU (BNP-based) cardiac staging\"\n",
    "renal_stage = \"Renal Stage (Palladini)\""
   ]
  },
  {
   "cell_type": "code",
   "execution_count": 7,
   "metadata": {},
   "outputs": [
    {
     "data": {
      "text/plain": [
       "fna3_cluster_n\n",
       "High            92\n",
       "Intermediate    29\n",
       "Low             45\n",
       "dtype: int64"
      ]
     },
     "execution_count": 7,
     "metadata": {},
     "output_type": "execute_result"
    }
   ],
   "source": [
    "data_df[data_df[cardiac_stage]==\"stage IIIb\"].groupby(\"fna3_cluster_n\").size()"
   ]
  },
  {
   "cell_type": "code",
   "execution_count": 15,
   "metadata": {},
   "outputs": [
    {
     "name": "stderr",
     "output_type": "stream",
     "text": [
      "100%|██████████| 3/3 [00:00<00:00, 82.40it/s]\n"
     ]
    }
   ],
   "source": [
    "utils.run_statistical_comparisons(\n",
    "    data_df[data_df[renal_stage]==\"Stage I\"], \n",
    "    \"fna3_cluster_n\", \n",
    "    \"data/clustering/full_na_dataset/subgroup_comparisons\",\n",
    "    tag=\"_renal_stage_1\"\n",
    ")"
   ]
  },
  {
   "cell_type": "code",
   "execution_count": 18,
   "metadata": {},
   "outputs": [
    {
     "name": "stderr",
     "output_type": "stream",
     "text": [
      "100%|██████████| 3/3 [00:00<00:00, 104.02it/s]\n",
      "100%|██████████| 3/3 [00:00<00:00, 108.98it/s]\n"
     ]
    }
   ],
   "source": [
    "utils.run_statistical_comparisons(\n",
    "    data_df[data_df[cardiac_stage]==\"stage IIIb\"], \n",
    "    \"fna3_cluster_n\", \n",
    "    \"data/clustering/full_na_dataset/subgroup_comparisons\",\n",
    "    tag=\"_cardiac_stage_3b\"\n",
    ")\n",
    "\n",
    "utils.run_statistical_comparisons(\n",
    "    data_df[data_df[cardiac_stage]==\"stage III\"], \n",
    "    \"fna3_cluster_n\", \n",
    "    \"data/clustering/full_na_dataset/subgroup_comparisons\",\n",
    "    tag=\"_cardiac_stage_3\"\n",
    ")"
   ]
  },
  {
   "cell_type": "code",
   "execution_count": 17,
   "metadata": {},
   "outputs": [
    {
     "name": "stderr",
     "output_type": "stream",
     "text": [
      "100%|██████████| 3/3 [00:00<00:00, 95.14it/s]\n"
     ]
    }
   ],
   "source": [
    "utils.run_statistical_comparisons(\n",
    "    data_df[data_df[cardiac_stage]==\"stage II\"], \n",
    "    \"fna3_cluster_n\", \n",
    "    \"data/clustering/full_na_dataset/subgroup_comparisons\",\n",
    "    tag=\"_cardiac_stage_2\"\n",
    ")"
   ]
  }
 ],
 "metadata": {
  "kernelspec": {
   "display_name": "r4",
   "language": "python",
   "name": "python3"
  },
  "language_info": {
   "codemirror_mode": {
    "name": "ipython",
    "version": 3
   },
   "file_extension": ".py",
   "mimetype": "text/x-python",
   "name": "python",
   "nbconvert_exporter": "python",
   "pygments_lexer": "ipython3",
   "version": "3.11.8"
  }
 },
 "nbformat": 4,
 "nbformat_minor": 2
}
