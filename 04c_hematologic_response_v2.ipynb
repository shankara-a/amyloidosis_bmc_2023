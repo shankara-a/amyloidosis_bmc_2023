{
 "cells": [
  {
   "cell_type": "code",
   "execution_count": 51,
   "metadata": {
    "vscode": {
     "languageId": "r"
    }
   },
   "outputs": [],
   "source": [
    "suppressMessages(library(survminer))\n",
    "suppressMessages(library(survival))\n",
    "suppressMessages(library(forestplot))\n",
    "suppressMessages(library(ggsci))\n",
    "suppressMessages(library(dplyr))\n",
    "suppressMessages(library(adjustedCurves))\n",
    "suppressMessages(library(tidyverse))\n",
    "suppressMessages(library(cmprsk))\n",
    "suppressMessages(library(caret))\n",
    "library(tidyr)\n",
    "\n",
    "source(\"funcs/rfuncs.R\")"
   ]
  },
  {
   "cell_type": "markdown",
   "metadata": {},
   "source": [
    "## 1. Load Dataset\n",
    "---"
   ]
  },
  {
   "cell_type": "code",
   "execution_count": 52,
   "metadata": {
    "vscode": {
     "languageId": "r"
    }
   },
   "outputs": [],
   "source": [
    "data.df <- read.table(\"data/processed/AL_with_ccp_03.tsv\", sep=\"\\t\", header=T, row.names='Code.ID')\n",
    "\n",
    "# Rename columns\n",
    "column_mapping <- c(\"LC.Isotype\"=\"Kappa_or_lambda_PCD\", \n",
    "                    \"BU.Cardiac.Stage\"=\"BU__BNP_based__cardiac_staging\",\n",
    "                    \"BMPC.%\"=\"Bone_marrow_plasma_cells____\"\n",
    "                   )\n",
    "\n",
    "data.df <- data.df %>% rename(!!!column_mapping)\n",
    "\n",
    "# Filter for time from admission >=0\n",
    "data.df <- data.df[data.df$time_from_admission>=0,]\n",
    "\n",
    "# Collapse Race\n",
    "data.df <- data.df %>%\n",
    "   mutate(Race = ifelse(Race %in% c('American_Indian_Alaska_Native','Multiracial','Native_Hawaiian_Pacific', 'Unknown/other'), 'Other', Race))\n",
    "\n",
    "# Fix NULL values\n",
    "data.df <- data.df %>% mutate(BU.Cardiac.Stage = ifelse(BU.Cardiac.Stage==\"\", NA, BU.Cardiac.Stage))\n",
    "data.df <- data.df %>% mutate(Primary_organ = ifelse(Primary_organ==\"\", NA, Primary_organ))\n",
    "data.df <- data.df %>% mutate(LC.Isotype = ifelse(LC.Isotype==\"\", NA, LC.Isotype))\n",
    "\n",
    "# assign cluster to var\n",
    "data.df$m02q3_cluster_n <- factor(data.df$m02q3_cluster_n, levels=c(\"Low\",\"Intermediate\",\"High\"))\n",
    "data.df <- data.df[complete.cases(data.df[,\"m02q3_cluster_n\"]),]\n",
    "data.df$m02q4_cluster_n <- factor(data.df$m02q4_cluster_n, levels=c(\"Low\",\"Intermediate-Low\",\"Intermediate\",\"High\"))\n",
    "data.df$fna3_cluster_n <- factor(data.df$fna3_cluster_n, levels=c(\"Low\",\"Intermediate\",\"High\"))\n",
    "data.df$BU.Cardiac.Stage <- as.factor(data.df$BU.Cardiac.Stage)\n",
    "\n",
    "# As Factor\n",
    "data.df$LC.Isotype <- as.factor(data.df$LC.Isotype)\n",
    "data.df$Sex <- as.factor(data.df$Sex)\n",
    "data.df$Race <- as.factor(data.df$Race)\n",
    "data.df$Era <- as.factor(data.df$Era)"
   ]
  },
  {
   "cell_type": "code",
   "execution_count": 53,
   "metadata": {
    "vscode": {
     "languageId": "r"
    }
   },
   "outputs": [],
   "source": [
    "tx.df <- read.table(\"data/processed/tx_list.tsv\", sep=\"\\t\", header=T, row.names=\"Code.ID\")\n",
    "data.df <- cbind(data.df[row.names(tx.df),],tx.df)\n",
    "\n",
    "data.df$dara_received <- as.logical(data.df$dara_received)\n",
    "data.df$pi_received <- as.logical(data.df$pi_received)\n",
    "data.df$dara_refractory <- as.logical(data.df$dara_refractory)\n",
    "data.df$pi_refractory <- as.logical(data.df$pi_refractory)"
   ]
  },
  {
   "cell_type": "code",
   "execution_count": 223,
   "metadata": {
    "vscode": {
     "languageId": "r"
    }
   },
   "outputs": [],
   "source": [
    "# Load ESKD Data\n",
    "eskd.df <- read.table(\"data/processed/treatment_eskd.tsv\", sep=\"\\t\", header=T, row.names=\"Code.ID\")\n",
    "eskd.df <- eskd.df[rownames(data.df),]\n",
    "eskd.df <- cbind(data.df, eskd.df[,c(\"RRT.Type\",\"treatment_eskd\",\"time_to_eskd\",\"time_to_eskd_from_admission\",\"CR_event\",\"CR_time\")])\n",
    "eskd.df <- eskd.df[complete.cases(eskd.df$time_to_eskd_from_admission),]\n",
    "\n",
    "# Filter for whether or not patients had ESKD at baseline\n",
    "eskd.df <- eskd.df[eskd.df$time_to_eskd_from_admission>0,]\n",
    "\n",
    "# Set factor orders\n",
    "eskd.df$Renal.Stage..Palladini. <- factor(eskd.df$Renal.Stage..Palladini., levels=c(\"Stage I\",\"Stage II\",\"Stage III\"))\n",
    "eskd.df$fna3_cluster_n <- factor(eskd.df$fna3_cluster_n, levels=c(\"High\",\"Low\",\"Intermediate\"))"
   ]
  },
  {
   "cell_type": "markdown",
   "metadata": {},
   "source": [
    "## 2. All-Cause MOrtality\n",
    "\n",
    "---"
   ]
  },
  {
   "cell_type": "code",
   "execution_count": 219,
   "metadata": {
    "vscode": {
     "languageId": "r"
    }
   },
   "outputs": [
    {
     "name": "stderr",
     "output_type": "stream",
     "text": [
      "Warning message in coxph.fit(X, Y, istrat, offset, init, control, weights = weights, :\n",
      "\"Loglik converged before variable  7 ; coefficient may be infinite. \"\n"
     ]
    }
   ],
   "source": [
    "mod.dara_treated <- coxph(Surv(time_from_admission, status) ~ fna3_cluster_n + Age + tt(Age) + Sex + Race + strata(LC.Isotype) + strata(Era), \n",
    "    data=data.df[data.df$dara_received==T,], x=TRUE, tt=function(x,t,...) x * log(t))\n",
    "\n",
    "mod.dara_or_pi_treated <- coxph(Surv(time_from_admission, status) ~ fna3_cluster_n + Age + tt(Age) + Sex + Race + strata(LC.Isotype) + strata(Era), \n",
    "    data=data.df[data.df$dara_received==T | data.df$pi_received==T,], x=TRUE, tt=function(x,t,...) x * log(t))\n",
    "\n",
    "mod.pi_treated <- coxph(Surv(time_from_admission, status) ~ fna3_cluster_n + Age + tt(Age) + Sex + Race + strata(LC.Isotype) + strata(Era), \n",
    "    data=data.df[data.df$pi_received==T,], x=TRUE, tt=function(x,t,...) x * log(t))\n",
    "\n",
    "# First-line\n",
    "data.filt.df <- data.df[data.df$first_line %in% c(\"HDM/SCT\",\"Melphalan-based regimen\",\"Proteasome inhibitor-based\", \"Daratumumab-based\",\"IMiD-based\"),]\n",
    "data.filt.df$first_line <- factor(data.filt.df$first_line, levels=c(\"HDM/SCT\",\"Melphalan-based regimen\",\"Proteasome inhibitor-based\", \"Daratumumab-based\",\"IMiD-based\")) \n",
    "\n",
    "mod.firstline_interaction <- coxph(Surv(time_from_admission, status) ~ fna3_cluster_n*first_line+ Age + tt(Age) + Sex + Race + strata(LC.Isotype) + strata(Era), \n",
    "    data=data.filt.df, x=TRUE, tt=function(x,t,...) x * log(t))\n",
    "\n",
    "mod.firstline <- coxph(Surv(time_from_admission, status) ~ fna3_cluster_n + first_line + Age + tt(Age) + Sex + Race + strata(LC.Isotype) + strata(Era), \n",
    "    data=data.filt.df, x=TRUE, tt=function(x,t,...) x * log(t))"
   ]
  },
  {
   "cell_type": "code",
   "execution_count": 220,
   "metadata": {
    "vscode": {
     "languageId": "r"
    }
   },
   "outputs": [],
   "source": [
    "coxSummary2 <- function(cox_models, var, filt = TRUE) \n",
    "{\n",
    "    i <- 1\n",
    "    result_list = list()\n",
    "    for (i in seq_along(cox_models)) {\n",
    "        formula <- Reduce(paste, deparse(formula(cox_models[[i]])))\n",
    "        hazard_ratios <- getCoef(cox_models[[i]])$HR\n",
    "        names(hazard_ratios) <- rownames(getCoef(cox_models[[i]]))\n",
    "        if (filt == T) {\n",
    "            hazard_ratios <- hazard_ratios[names(hazard_ratios)[grepl(paste0(\"^\", \n",
    "                var), names(hazard_ratios))]]\n",
    "            names(hazard_ratios) <- sub(paste0(\"^\", var), \"\", \n",
    "                names(hazard_ratios))\n",
    "        }\n",
    "        df <- data.frame(rbind(hazard_ratios))\n",
    "        df$Model <- as.character(formula)\n",
    "        df$N <- cox_models[[i]]$n\n",
    "        df$C <- paste(signif(cox_models[[i]]$concordance[[6]],3),\" (\",signif(cox_models[[i]]$concordance[[7]],2),\")\", sep=\"\")\n",
    "        result_list[[i]] <- df\n",
    "    }\n",
    "    results_df <- do.call(rbind, result_list)\n",
    "    results_df$Low <- \"Reference\"\n",
    "    results_df$Model <- NULL\n",
    "    return(results_df[,c(\"N\",\"Low\",\"Intermediate\",\"High\", \"C\")])\n",
    "}"
   ]
  },
  {
   "cell_type": "code",
   "execution_count": 221,
   "metadata": {
    "vscode": {
     "languageId": "r"
    }
   },
   "outputs": [
    {
     "data": {
      "text/html": [
       "<table class=\"dataframe\">\n",
       "<caption>A data.frame: 3 x 1</caption>\n",
       "<thead>\n",
       "\t<tr><th></th><th scope=col>Events</th></tr>\n",
       "\t<tr><th></th><th scope=col>&lt;int&gt;</th></tr>\n",
       "</thead>\n",
       "<tbody>\n",
       "\t<tr><th scope=row>Low</th><td>381</td></tr>\n",
       "\t<tr><th scope=row>Intermediate</th><td>378</td></tr>\n",
       "\t<tr><th scope=row>High</th><td>188</td></tr>\n",
       "</tbody>\n",
       "</table>\n"
      ],
      "text/latex": [
       "A data.frame: 3 x 1\n",
       "\\begin{tabular}{r|l}\n",
       "  & Events\\\\\n",
       "  & <int>\\\\\n",
       "\\hline\n",
       "\tLow & 381\\\\\n",
       "\tIntermediate & 378\\\\\n",
       "\tHigh & 188\\\\\n",
       "\\end{tabular}\n"
      ],
      "text/markdown": [
       "\n",
       "A data.frame: 3 x 1\n",
       "\n",
       "| <!--/--> | Events &lt;int&gt; |\n",
       "|---|---|\n",
       "| Low | 381 |\n",
       "| Intermediate | 378 |\n",
       "| High | 188 |\n",
       "\n"
      ],
      "text/plain": [
       "             Events\n",
       "Low          381   \n",
       "Intermediate 378   \n",
       "High         188   "
      ]
     },
     "metadata": {},
     "output_type": "display_data"
    }
   ],
   "source": [
    "# Add events\n",
    "result <- data.filt.df %>% \n",
    "    filter(!is.na(eval(fna3_cluster_n))) %>% \n",
    "    group_by(fna3_cluster_n) %>% \n",
    "    summarize(Events = sum(status)) %>%\n",
    "    column_to_rownames(var = \"fna3_cluster_n\")\n",
    "\n",
    "result"
   ]
  },
  {
   "cell_type": "code",
   "execution_count": 222,
   "metadata": {
    "vscode": {
     "languageId": "r"
    }
   },
   "outputs": [
    {
     "data": {
      "text/html": [
       "<table class=\"dataframe\">\n",
       "<caption>A data.frame: 4 x 5</caption>\n",
       "<thead>\n",
       "\t<tr><th></th><th scope=col>N</th><th scope=col>Low</th><th scope=col>Intermediate</th><th scope=col>High</th><th scope=col>C</th></tr>\n",
       "\t<tr><th></th><th scope=col>&lt;int&gt;</th><th scope=col>&lt;chr&gt;</th><th scope=col>&lt;chr&gt;</th><th scope=col>&lt;chr&gt;</th><th scope=col>&lt;chr&gt;</th></tr>\n",
       "</thead>\n",
       "<tbody>\n",
       "\t<tr><th scope=row>hazard_ratios</th><td> 282</td><td>Reference</td><td>1.65 (0.976-2.79)</td><td>3.35 (1.91-5.88)</td><td>0.692 (0.04) </td></tr>\n",
       "\t<tr><th scope=row>hazard_ratios1</th><td> 643</td><td>Reference</td><td>1.4 (1.08-1.82)  </td><td>2.01 (1.49-2.72)</td><td>0.664 (0.019)</td></tr>\n",
       "\t<tr><th scope=row>hazard_ratios2</th><td> 728</td><td>Reference</td><td>1.39 (1.08-1.79) </td><td>1.97 (1.48-2.64)</td><td>0.666 (0.019)</td></tr>\n",
       "\t<tr><th scope=row>hazard_ratios3</th><td>1478</td><td>Reference</td><td>1.26 (1.08-1.45) </td><td>1.95 (1.63-2.34)</td><td>0.647 (0.011)</td></tr>\n",
       "</tbody>\n",
       "</table>\n"
      ],
      "text/latex": [
       "A data.frame: 4 x 5\n",
       "\\begin{tabular}{r|lllll}\n",
       "  & N & Low & Intermediate & High & C\\\\\n",
       "  & <int> & <chr> & <chr> & <chr> & <chr>\\\\\n",
       "\\hline\n",
       "\thazard\\_ratios &  282 & Reference & 1.65 (0.976-2.79) & 3.35 (1.91-5.88) & 0.692 (0.04) \\\\\n",
       "\thazard\\_ratios1 &  643 & Reference & 1.4 (1.08-1.82)   & 2.01 (1.49-2.72) & 0.664 (0.019)\\\\\n",
       "\thazard\\_ratios2 &  728 & Reference & 1.39 (1.08-1.79)  & 1.97 (1.48-2.64) & 0.666 (0.019)\\\\\n",
       "\thazard\\_ratios3 & 1478 & Reference & 1.26 (1.08-1.45)  & 1.95 (1.63-2.34) & 0.647 (0.011)\\\\\n",
       "\\end{tabular}\n"
      ],
      "text/markdown": [
       "\n",
       "A data.frame: 4 x 5\n",
       "\n",
       "| <!--/--> | N &lt;int&gt; | Low &lt;chr&gt; | Intermediate &lt;chr&gt; | High &lt;chr&gt; | C &lt;chr&gt; |\n",
       "|---|---|---|---|---|---|\n",
       "| hazard_ratios |  282 | Reference | 1.65 (0.976-2.79) | 3.35 (1.91-5.88) | 0.692 (0.04)  |\n",
       "| hazard_ratios1 |  643 | Reference | 1.4 (1.08-1.82)   | 2.01 (1.49-2.72) | 0.664 (0.019) |\n",
       "| hazard_ratios2 |  728 | Reference | 1.39 (1.08-1.79)  | 1.97 (1.48-2.64) | 0.666 (0.019) |\n",
       "| hazard_ratios3 | 1478 | Reference | 1.26 (1.08-1.45)  | 1.95 (1.63-2.34) | 0.647 (0.011) |\n",
       "\n"
      ],
      "text/plain": [
       "               N    Low       Intermediate      High             C            \n",
       "hazard_ratios   282 Reference 1.65 (0.976-2.79) 3.35 (1.91-5.88) 0.692 (0.04) \n",
       "hazard_ratios1  643 Reference 1.4 (1.08-1.82)   2.01 (1.49-2.72) 0.664 (0.019)\n",
       "hazard_ratios2  728 Reference 1.39 (1.08-1.79)  1.97 (1.48-2.64) 0.666 (0.019)\n",
       "hazard_ratios3 1478 Reference 1.26 (1.08-1.45)  1.95 (1.63-2.34) 0.647 (0.011)"
      ]
     },
     "metadata": {},
     "output_type": "display_data"
    }
   ],
   "source": [
    "cox_models <- list(mod.dara_treated, mod.pi_treated, mod.dara_or_pi_treated, mod.firstline)\n",
    "df <- coxSummary2(cox_models, \"fna3_cluster_n\", filt=T)\n",
    "df"
   ]
  },
  {
   "cell_type": "code",
   "execution_count": 127,
   "metadata": {
    "vscode": {
     "languageId": "r"
    }
   },
   "outputs": [
    {
     "data": {
      "text/html": [
       "<table class=\"dataframe\">\n",
       "<caption>A data.frame: 4 x 4</caption>\n",
       "<thead>\n",
       "\t<tr><th></th><th scope=col>Intermediate</th><th scope=col>High</th><th scope=col>Model</th><th scope=col>Low</th></tr>\n",
       "\t<tr><th></th><th scope=col>&lt;chr&gt;</th><th scope=col>&lt;chr&gt;</th><th scope=col>&lt;chr&gt;</th><th scope=col>&lt;chr&gt;</th></tr>\n",
       "</thead>\n",
       "<tbody>\n",
       "\t<tr><th scope=row>hazard_ratios</th><td>1.65 (0.976-2.79)</td><td>3.35 (1.91-5.88)</td><td>Surv(time_from_admission, status) ~ fna3_cluster_n + Age + tt(Age) +      Sex + Race + strata(LC.Isotype) + strata(Era)             </td><td>Reference</td></tr>\n",
       "\t<tr><th scope=row>hazard_ratios1</th><td>1.4 (1.08-1.82)  </td><td>2.01 (1.49-2.72)</td><td>Surv(time_from_admission, status) ~ fna3_cluster_n + Age + tt(Age) +      Sex + Race + strata(LC.Isotype) + strata(Era)             </td><td>Reference</td></tr>\n",
       "\t<tr><th scope=row>hazard_ratios2</th><td>1.39 (1.08-1.79) </td><td>1.97 (1.48-2.64)</td><td>Surv(time_from_admission, status) ~ fna3_cluster_n + Age + tt(Age) +      Sex + Race + strata(LC.Isotype) + strata(Era)             </td><td>Reference</td></tr>\n",
       "\t<tr><th scope=row>hazard_ratios3</th><td>1.25 (1.07-1.45) </td><td>2 (1.66-2.41)   </td><td>Surv(time_from_admission, status) ~ fna3_cluster_n + first_line +      Age + tt(Age) + Sex + Race + strata(LC.Isotype) + strata(Era)</td><td>Reference</td></tr>\n",
       "</tbody>\n",
       "</table>\n"
      ],
      "text/latex": [
       "A data.frame: 4 x 4\n",
       "\\begin{tabular}{r|llll}\n",
       "  & Intermediate & High & Model & Low\\\\\n",
       "  & <chr> & <chr> & <chr> & <chr>\\\\\n",
       "\\hline\n",
       "\thazard\\_ratios & 1.65 (0.976-2.79) & 3.35 (1.91-5.88) & Surv(time\\_from\\_admission, status) \\textasciitilde{} fna3\\_cluster\\_n + Age + tt(Age) +      Sex + Race + strata(LC.Isotype) + strata(Era)              & Reference\\\\\n",
       "\thazard\\_ratios1 & 1.4 (1.08-1.82)   & 2.01 (1.49-2.72) & Surv(time\\_from\\_admission, status) \\textasciitilde{} fna3\\_cluster\\_n + Age + tt(Age) +      Sex + Race + strata(LC.Isotype) + strata(Era)              & Reference\\\\\n",
       "\thazard\\_ratios2 & 1.39 (1.08-1.79)  & 1.97 (1.48-2.64) & Surv(time\\_from\\_admission, status) \\textasciitilde{} fna3\\_cluster\\_n + Age + tt(Age) +      Sex + Race + strata(LC.Isotype) + strata(Era)              & Reference\\\\\n",
       "\thazard\\_ratios3 & 1.25 (1.07-1.45)  & 2 (1.66-2.41)    & Surv(time\\_from\\_admission, status) \\textasciitilde{} fna3\\_cluster\\_n + first\\_line +      Age + tt(Age) + Sex + Race + strata(LC.Isotype) + strata(Era) & Reference\\\\\n",
       "\\end{tabular}\n"
      ],
      "text/markdown": [
       "\n",
       "A data.frame: 4 x 4\n",
       "\n",
       "| <!--/--> | Intermediate &lt;chr&gt; | High &lt;chr&gt; | Model &lt;chr&gt; | Low &lt;chr&gt; |\n",
       "|---|---|---|---|---|\n",
       "| hazard_ratios | 1.65 (0.976-2.79) | 3.35 (1.91-5.88) | Surv(time_from_admission, status) ~ fna3_cluster_n + Age + tt(Age) +      Sex + Race + strata(LC.Isotype) + strata(Era)              | Reference |\n",
       "| hazard_ratios1 | 1.4 (1.08-1.82)   | 2.01 (1.49-2.72) | Surv(time_from_admission, status) ~ fna3_cluster_n + Age + tt(Age) +      Sex + Race + strata(LC.Isotype) + strata(Era)              | Reference |\n",
       "| hazard_ratios2 | 1.39 (1.08-1.79)  | 1.97 (1.48-2.64) | Surv(time_from_admission, status) ~ fna3_cluster_n + Age + tt(Age) +      Sex + Race + strata(LC.Isotype) + strata(Era)              | Reference |\n",
       "| hazard_ratios3 | 1.25 (1.07-1.45)  | 2 (1.66-2.41)    | Surv(time_from_admission, status) ~ fna3_cluster_n + first_line +      Age + tt(Age) + Sex + Race + strata(LC.Isotype) + strata(Era) | Reference |\n",
       "\n"
      ],
      "text/plain": [
       "               Intermediate      High            \n",
       "hazard_ratios  1.65 (0.976-2.79) 3.35 (1.91-5.88)\n",
       "hazard_ratios1 1.4 (1.08-1.82)   2.01 (1.49-2.72)\n",
       "hazard_ratios2 1.39 (1.08-1.79)  1.97 (1.48-2.64)\n",
       "hazard_ratios3 1.25 (1.07-1.45)  2 (1.66-2.41)   \n",
       "               Model                                                                                                                               \n",
       "hazard_ratios  Surv(time_from_admission, status) ~ fna3_cluster_n + Age + tt(Age) +      Sex + Race + strata(LC.Isotype) + strata(Era)             \n",
       "hazard_ratios1 Surv(time_from_admission, status) ~ fna3_cluster_n + Age + tt(Age) +      Sex + Race + strata(LC.Isotype) + strata(Era)             \n",
       "hazard_ratios2 Surv(time_from_admission, status) ~ fna3_cluster_n + Age + tt(Age) +      Sex + Race + strata(LC.Isotype) + strata(Era)             \n",
       "hazard_ratios3 Surv(time_from_admission, status) ~ fna3_cluster_n + first_line +      Age + tt(Age) + Sex + Race + strata(LC.Isotype) + strata(Era)\n",
       "               Low      \n",
       "hazard_ratios  Reference\n",
       "hazard_ratios1 Reference\n",
       "hazard_ratios2 Reference\n",
       "hazard_ratios3 Reference"
      ]
     },
     "metadata": {},
     "output_type": "display_data"
    }
   ],
   "source": [
    "cox_models <- list(mod.dara_treated, mod.pi_treated, mod.dara_or_pi_treated, mod.firstline)\n",
    "cox_summary <- coxSummary2(cox_models, \"fna3_cluster_n\")\n",
    "cox_summary$Low <- \"Reference\"\n",
    "cox_summary\n",
    "\n",
    "# Add events\n",
    "result <- data.df %>% \n",
    "    filter(!is.na(eval( BU.Cardiac.Stage))) %>% \n",
    "    group_by(BU.Cardiac.Stage) %>% \n",
    "    summarize(Events = sum(status)) %>%\n",
    "    column_to_rownames(var = \"BU.Cardiac.Stage\")\n",
    "\n",
    "cox_summary <- rbind(data.frame(t(result)), cox_summary)\n",
    "#write.table(cox_summary, \"Tables/cox_mortality_hr.tsv\", sep=\"\\t\")\n",
    "cox_summary"
   ]
  },
  {
   "cell_type": "markdown",
   "metadata": {
    "vscode": {
     "languageId": "r"
    }
   },
   "source": [
    "## 3. ESKD\n",
    "\n",
    "---"
   ]
  },
  {
   "cell_type": "code",
   "execution_count": 230,
   "metadata": {
    "vscode": {
     "languageId": "r"
    }
   },
   "outputs": [],
   "source": [
    "coxSummary3 <- function(cox_models, var, filt = TRUE) \n",
    "{\n",
    "    i <- 1\n",
    "    result_list = list()\n",
    "    for (i in seq_along(cox_models)) {\n",
    "        formula <- Reduce(paste, deparse(formula(cox_models[[i]])))\n",
    "        hazard_ratios <- getCoef(cox_models[[i]])$HR\n",
    "        names(hazard_ratios) <- rownames(getCoef(cox_models[[i]]))\n",
    "        if (filt == T) {\n",
    "            hazard_ratios <- hazard_ratios[names(hazard_ratios)[grepl(paste0(\"^\", \n",
    "                var), names(hazard_ratios))]]\n",
    "            names(hazard_ratios) <- sub(paste0(\"^\", var), \"\", \n",
    "                names(hazard_ratios))\n",
    "        }\n",
    "        df <- data.frame(rbind(hazard_ratios))\n",
    "        df$Model <- as.character(formula)\n",
    "        df$N <- cox_models[[i]]$n\n",
    "        df$C <- paste(signif(cox_models[[i]]$concordance[[6]],3),\" (\",signif(cox_models[[i]]$concordance[[7]],2),\")\", sep=\"\")\n",
    "        result_list[[i]] <- df\n",
    "    }\n",
    "    results_df <- do.call(rbind, result_list)\n",
    "    results_df$High <- \"Reference\"\n",
    "    results_df$Model <- NULL\n",
    "    return(results_df[,c(\"N\",\"High\",\"Low\",\"Intermediate\", \"C\")])\n",
    "}"
   ]
  },
  {
   "cell_type": "code",
   "execution_count": 231,
   "metadata": {
    "vscode": {
     "languageId": "r"
    }
   },
   "outputs": [
    {
     "name": "stderr",
     "output_type": "stream",
     "text": [
      "Warning message in coxph.fit(X, Y, istrat, offset, init, control, weights = weights, :\n",
      "\"Loglik converged before variable  7 ; coefficient may be infinite. \"\n",
      "Warning message in coxph.fit(X, Y, istrat, offset, init, control, weights = weights, :\n",
      "\"Loglik converged before variable  5,17,18 ; coefficient may be infinite. \"\n"
     ]
    }
   ],
   "source": [
    "mod.dara_treated <- coxph(Surv(time_to_eskd_from_admission, treatment_eskd) ~ fna3_cluster_n + Age + tt(Age) + Sex + Race + strata(LC.Isotype) + strata(Era), \n",
    "    data=eskd.df[eskd.df$dara_received==T,], x=TRUE, tt=function(x,t,...) x * log(t))\n",
    "\n",
    "mod.dara_or_pi_treated <- coxph(Surv(time_to_eskd_from_admission, treatment_eskd) ~ fna3_cluster_n + Age + tt(Age) + Sex + Race + strata(LC.Isotype) + strata(Era), \n",
    "    data=eskd.df[eskd.df$dara_received==T | eskd.df$pi_received==T,], x=TRUE, tt=function(x,t,...) x * log(t))\n",
    "\n",
    "mod.pi_treated <- coxph(Surv(time_to_eskd_from_admission, treatment_eskd) ~ fna3_cluster_n + Age + tt(Age) + Sex + Race + strata(LC.Isotype) + strata(Era), \n",
    "    data=eskd.df[eskd.df$pi_received==T,], x=TRUE, tt=function(x,t,...) x * log(t))\n",
    "\n",
    "# First-line\n",
    "data.filt.df <- eskd.df[eskd.df$first_line %in% c(\"HDM/SCT\",\"Melphalan-based regimen\",\"Proteasome inhibitor-based\", \"Daratumumab-based\",\"IMiD-based\"),]\n",
    "data.filt.df$first_line <- factor(data.filt.df$first_line, levels=c(\"HDM/SCT\",\"Melphalan-based regimen\",\"Proteasome inhibitor-based\", \"Daratumumab-based\",\"IMiD-based\")) \n",
    "\n",
    "mod.firstline_interaction <- coxph(Surv(time_to_eskd_from_admission, treatment_eskd) ~ fna3_cluster_n*first_line+ Age + tt(Age) + Sex + Race + strata(LC.Isotype) + strata(Era), \n",
    "    data=data.filt.df, x=TRUE, tt=function(x,t,...) x * log(t))\n",
    "\n",
    "mod.firstline <- coxph(Surv(time_to_eskd_from_admission, treatment_eskd) ~ fna3_cluster_n + first_line + Age + tt(Age) + Sex + Race + strata(LC.Isotype) + strata(Era), \n",
    "    data=data.filt.df, x=TRUE, tt=function(x,t,...) x * log(t))"
   ]
  },
  {
   "cell_type": "code",
   "execution_count": 242,
   "metadata": {
    "vscode": {
     "languageId": "r"
    }
   },
   "outputs": [
    {
     "data": {
      "text/html": [
       "<table class=\"dataframe\">\n",
       "<caption>A data.frame: 3 x 1</caption>\n",
       "<thead>\n",
       "\t<tr><th></th><th scope=col>Events</th></tr>\n",
       "\t<tr><th></th><th scope=col>&lt;int&gt;</th></tr>\n",
       "</thead>\n",
       "<tbody>\n",
       "\t<tr><th scope=row>High</th><td>25</td></tr>\n",
       "\t<tr><th scope=row>Low</th><td>33</td></tr>\n",
       "\t<tr><th scope=row>Intermediate</th><td>25</td></tr>\n",
       "</tbody>\n",
       "</table>\n"
      ],
      "text/latex": [
       "A data.frame: 3 x 1\n",
       "\\begin{tabular}{r|l}\n",
       "  & Events\\\\\n",
       "  & <int>\\\\\n",
       "\\hline\n",
       "\tHigh & 25\\\\\n",
       "\tLow & 33\\\\\n",
       "\tIntermediate & 25\\\\\n",
       "\\end{tabular}\n"
      ],
      "text/markdown": [
       "\n",
       "A data.frame: 3 x 1\n",
       "\n",
       "| <!--/--> | Events &lt;int&gt; |\n",
       "|---|---|\n",
       "| High | 25 |\n",
       "| Low | 33 |\n",
       "| Intermediate | 25 |\n",
       "\n"
      ],
      "text/plain": [
       "             Events\n",
       "High         25    \n",
       "Low          33    \n",
       "Intermediate 25    "
      ]
     },
     "metadata": {},
     "output_type": "display_data"
    }
   ],
   "source": [
    "# Add events\n",
    "result <- eskd.df[eskd.df$dara_received==T,] %>% \n",
    "    filter(!is.na(eval(fna3_cluster_n))) %>% \n",
    "    group_by(fna3_cluster_n) %>% \n",
    "    summarize(Events = sum(status)) %>%\n",
    "    column_to_rownames(var = \"fna3_cluster_n\")\n",
    "\n",
    "result"
   ]
  },
  {
   "cell_type": "code",
   "execution_count": 235,
   "metadata": {
    "vscode": {
     "languageId": "r"
    }
   },
   "outputs": [
    {
     "name": "stderr",
     "output_type": "stream",
     "text": [
      "Warning message in coxph.fit(X, Y, istrat, offset, init, control, weights = weights, :\n",
      "\"Loglik converged before variable  7 ; coefficient may be infinite. \"\n"
     ]
    },
    {
     "data": {
      "text/html": [
       "<style>\n",
       ".dl-inline {width: auto; margin:0; padding: 0}\n",
       ".dl-inline>dt, .dl-inline>dd {float: none; width: auto; display: inline-block}\n",
       ".dl-inline>dt::after {content: \":\\0020\"; padding-right: .5ex}\n",
       ".dl-inline>dt:not(:first-of-type) {padding-left: .5ex}\n",
       "</style><dl class=dl-inline><dt>concordant</dt><dd>1376</dd><dt>discordant</dt><dd>543</dd><dt>tied.x</dt><dd>6</dd><dt>tied.y</dt><dd>0</dd><dt>tied.xy</dt><dd>0</dd><dt>concordance</dt><dd>0.716363636363636</dd><dt>std</dt><dd>0.0503939107807132</dd></dl>\n"
      ],
      "text/latex": [
       "\\begin{description*}\n",
       "\\item[concordant] 1376\n",
       "\\item[discordant] 543\n",
       "\\item[tied.x] 6\n",
       "\\item[tied.y] 0\n",
       "\\item[tied.xy] 0\n",
       "\\item[concordance] 0.716363636363636\n",
       "\\item[std] 0.0503939107807132\n",
       "\\end{description*}\n"
      ],
      "text/markdown": [
       "concordant\n",
       ":   1376discordant\n",
       ":   543tied.x\n",
       ":   6tied.y\n",
       ":   0tied.xy\n",
       ":   0concordance\n",
       ":   0.716363636363636std\n",
       ":   0.0503939107807132\n",
       "\n"
      ],
      "text/plain": [
       "  concordant   discordant       tied.x       tied.y      tied.xy  concordance \n",
       "1.376000e+03 5.430000e+02 6.000000e+00 0.000000e+00 0.000000e+00 7.163636e-01 \n",
       "         std \n",
       "5.039391e-02 "
      ]
     },
     "metadata": {},
     "output_type": "display_data"
    }
   ],
   "source": [
    "coxph(Surv(time_to_eskd_from_admission, treatment_eskd) ~ Renal.Stage..Palladini. + Age + tt(Age) + Sex + Race + strata(LC.Isotype) + strata(Era), \n",
    "    data=eskd.df[eskd.df$dara_received==T,], x=TRUE, tt=function(x,t,...) x * log(t))$concordance"
   ]
  },
  {
   "cell_type": "code",
   "execution_count": 233,
   "metadata": {
    "vscode": {
     "languageId": "r"
    }
   },
   "outputs": [
    {
     "data": {
      "text/html": [
       "<table class=\"dataframe\">\n",
       "<caption>A data.frame: 4 x 5</caption>\n",
       "<thead>\n",
       "\t<tr><th></th><th scope=col>N</th><th scope=col>High</th><th scope=col>Low</th><th scope=col>Intermediate</th><th scope=col>C</th></tr>\n",
       "\t<tr><th></th><th scope=col>&lt;int&gt;</th><th scope=col>&lt;chr&gt;</th><th scope=col>&lt;chr&gt;</th><th scope=col>&lt;chr&gt;</th><th scope=col>&lt;chr&gt;</th></tr>\n",
       "</thead>\n",
       "<tbody>\n",
       "\t<tr><th scope=row>hazard_ratios</th><td> 246</td><td>Reference</td><td>3.32 (0.75-14.7)</td><td>7.94 (1.76-35.7)</td><td>0.712 (0.045)</td></tr>\n",
       "\t<tr><th scope=row>hazard_ratios1</th><td> 530</td><td>Reference</td><td>4.5 (1.37-14.8) </td><td>11.4 (3.5-37.3) </td><td>0.743 (0.027)</td></tr>\n",
       "\t<tr><th scope=row>hazard_ratios2</th><td> 604</td><td>Reference</td><td>4.85 (1.48-15.8)</td><td>12.5 (3.87-40.6)</td><td>0.743 (0.026)</td></tr>\n",
       "\t<tr><th scope=row>hazard_ratios3</th><td>1304</td><td>Reference</td><td>3.5 (1.6-7.63)  </td><td>7.91 (3.66-17.1)</td><td>0.698 (0.02) </td></tr>\n",
       "</tbody>\n",
       "</table>\n"
      ],
      "text/latex": [
       "A data.frame: 4 x 5\n",
       "\\begin{tabular}{r|lllll}\n",
       "  & N & High & Low & Intermediate & C\\\\\n",
       "  & <int> & <chr> & <chr> & <chr> & <chr>\\\\\n",
       "\\hline\n",
       "\thazard\\_ratios &  246 & Reference & 3.32 (0.75-14.7) & 7.94 (1.76-35.7) & 0.712 (0.045)\\\\\n",
       "\thazard\\_ratios1 &  530 & Reference & 4.5 (1.37-14.8)  & 11.4 (3.5-37.3)  & 0.743 (0.027)\\\\\n",
       "\thazard\\_ratios2 &  604 & Reference & 4.85 (1.48-15.8) & 12.5 (3.87-40.6) & 0.743 (0.026)\\\\\n",
       "\thazard\\_ratios3 & 1304 & Reference & 3.5 (1.6-7.63)   & 7.91 (3.66-17.1) & 0.698 (0.02) \\\\\n",
       "\\end{tabular}\n"
      ],
      "text/markdown": [
       "\n",
       "A data.frame: 4 x 5\n",
       "\n",
       "| <!--/--> | N &lt;int&gt; | High &lt;chr&gt; | Low &lt;chr&gt; | Intermediate &lt;chr&gt; | C &lt;chr&gt; |\n",
       "|---|---|---|---|---|---|\n",
       "| hazard_ratios |  246 | Reference | 3.32 (0.75-14.7) | 7.94 (1.76-35.7) | 0.712 (0.045) |\n",
       "| hazard_ratios1 |  530 | Reference | 4.5 (1.37-14.8)  | 11.4 (3.5-37.3)  | 0.743 (0.027) |\n",
       "| hazard_ratios2 |  604 | Reference | 4.85 (1.48-15.8) | 12.5 (3.87-40.6) | 0.743 (0.026) |\n",
       "| hazard_ratios3 | 1304 | Reference | 3.5 (1.6-7.63)   | 7.91 (3.66-17.1) | 0.698 (0.02)  |\n",
       "\n"
      ],
      "text/plain": [
       "               N    High      Low              Intermediate     C            \n",
       "hazard_ratios   246 Reference 3.32 (0.75-14.7) 7.94 (1.76-35.7) 0.712 (0.045)\n",
       "hazard_ratios1  530 Reference 4.5 (1.37-14.8)  11.4 (3.5-37.3)  0.743 (0.027)\n",
       "hazard_ratios2  604 Reference 4.85 (1.48-15.8) 12.5 (3.87-40.6) 0.743 (0.026)\n",
       "hazard_ratios3 1304 Reference 3.5 (1.6-7.63)   7.91 (3.66-17.1) 0.698 (0.02) "
      ]
     },
     "metadata": {},
     "output_type": "display_data"
    }
   ],
   "source": [
    "cox_models <- list(mod.dara_treated, mod.pi_treated, mod.dara_or_pi_treated, mod.firstline)\n",
    "df <- coxSummary3(cox_models, \"fna3_cluster_n\", filt=T)\n",
    "df"
   ]
  },
  {
   "cell_type": "code",
   "execution_count": null,
   "metadata": {
    "vscode": {
     "languageId": "r"
    }
   },
   "outputs": [],
   "source": []
  }
 ],
 "metadata": {
  "kernelspec": {
   "display_name": "R",
   "language": "R",
   "name": "ir"
  },
  "language_info": {
   "codemirror_mode": "r",
   "file_extension": ".r",
   "mimetype": "text/x-r-source",
   "name": "R",
   "pygments_lexer": "r",
   "version": "4.3.2"
  }
 },
 "nbformat": 4,
 "nbformat_minor": 2
}
