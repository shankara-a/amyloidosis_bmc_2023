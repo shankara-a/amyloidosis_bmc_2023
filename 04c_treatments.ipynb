{
 "cells": [
  {
   "cell_type": "code",
   "execution_count": 3,
   "metadata": {},
   "outputs": [],
   "source": [
    "import pandas as pd\n",
    "import numpy as np\n",
    "import matplotlib.pyplot as plt\n",
    "import seaborn as sns\n",
    "import os\n",
    "import funcs.utils as utils\n",
    "import funcs.plotting as plot\n",
    "import funcs.amyloid as amyloid"
   ]
  },
  {
   "cell_type": "code",
   "execution_count": 4,
   "metadata": {},
   "outputs": [],
   "source": [
    "PROCESSED_DIR = \"data/processed\""
   ]
  },
  {
   "cell_type": "markdown",
   "metadata": {},
   "source": [
    "### 1. Load Data\n",
    "---"
   ]
  },
  {
   "cell_type": "code",
   "execution_count": 5,
   "metadata": {},
   "outputs": [],
   "source": [
    "# Treatments processed\n",
    "treatments_df = pd.read_csv(os.path.join(PROCESSED_DIR, \"treatments_processed.tsv\"), sep='\\t', index_col=0)\n"
   ]
  },
  {
   "cell_type": "code",
   "execution_count": 20,
   "metadata": {},
   "outputs": [],
   "source": [
    "# Raw Data\n",
    "data_df = pd.read_csv(os.path.join(PROCESSED_DIR, \"AL_with_ccp_03.tsv\"), sep='\\t', index_col=0).rename(columns=amyloid.ddict_unclean)\n",
    "\n",
    "# Fix Dates\n",
    "data_df = pd.concat([pd.to_datetime(data_df[amyloid.dates][var], format=\"mixed\") for var in amyloid.dates], axis=1, keys=amyloid.dates).join(\n",
    "    data_df.drop(amyloid.dates, axis=1)  \n",
    ")\n",
    "\n",
    "# Not imputed\n",
    "X = pd.read_csv(os.path.join(PROCESSED_DIR, \"AL_for_ccp_02.tsv\"), sep='\\t', index_col=0).rename(columns=amyloid.ddict_unclean)\n",
    "\n",
    "# Imputed\n",
    "Xi_median = pd.read_csv(\"data/imputed/median_qvars_01.tsv\", sep=\"\\t\", index_col=0).rename(columns=amyloid.ddict_unclean)\n",
    "Xi_knn = pd.read_csv(\"data/imputed/knn_qvars_01.tsv\", sep=\"\\t\", index_col=0).rename(columns=amyloid.ddict_unclean)\n",
    "Xi_mice = pd.read_csv(\"data/imputed/mice_qvars_05.tsv\", sep=\"\\t\").rename(columns={'X24_hr_UTP':'24_hr_UTP'}).rename(columns=amyloid.ddict_unclean)"
   ]
  },
  {
   "cell_type": "code",
   "execution_count": 22,
   "metadata": {},
   "outputs": [
    {
     "name": "stdout",
     "output_type": "stream",
     "text": [
      "Cardiopulmonary symptom onset 26\n",
      "Renal signs/symptom onset 23\n",
      "Neurologic symptom onset 15\n"
     ]
    }
   ],
   "source": [
    "symptom_onsets = ['Cardiopulmonary symptom onset', 'Renal signs/symptom onset', 'Neurologic symptom onset']\n",
    "\n",
    "for symptom_onset in symptom_onsets:\n",
    "    print(symptom_onset, data_df[data_df[symptom_onset] > data_df[\"Date of admission to center\"]].shape[0])"
   ]
  },
  {
   "cell_type": "code",
   "execution_count": 79,
   "metadata": {},
   "outputs": [],
   "source": [
    "eskd_df = data_df.join(treatments_df[treatments_df[\"treatment_eskd\"]].reset_index()[[\"Code ID\",\"treatment_eskd\"]].drop_duplicates(\n",
    "    subset=\"Code ID\").set_index(\"Code ID\"))[[\"treatment_eskd\"]]\n",
    "\n",
    "eskd_df[\"treatment_eskd\"] = eskd_df[\"treatment_eskd\"].apply(lambda x: 1 if x==True else 0)\n",
    "eskd_df.to_csv(\"data/processed/treatment_eskd.tsv\", sep=\"\\t\")"
   ]
  },
  {
   "cell_type": "code",
   "execution_count": 45,
   "metadata": {},
   "outputs": [
    {
     "data": {
      "image/png": "[encoded data removed]",
      "text/plain": [
       "<Figure size 500x400 with 2 Axes>"
      ]
     },
     "metadata": {},
     "output_type": "display_data"
    }
   ],
   "source": [
    "data_df[\"Date of admission to center (year)\"] = data_df[\"Date of admission to center\"].dt.year\n",
    "_df = pd.DataFrame(data_df.groupby(\"Date of admission to center (year)\").size()).join(\n",
    "    pd.DataFrame(data_df.groupby(\"Date of admission to center (year)\")[\"status\"].sum())).rename(columns={0:\"patients\"})\n",
    "_df[\"proportion_died\"] = _df[\"status\"] / _df[\"patients\"]\n",
    "\n",
    "fig,axes = plt.subplots(2, 1, figsize=(5,4), sharex=True)\n",
    "\n",
    "_df[\"patients\"].plot(kind=\"bar\", ax=axes[0], width=1, edgecolor='k', color='lightblue')\n",
    "_df[\"proportion_died\"].plot(kind=\"bar\", ax=axes[1], width=1, edgecolor='k', color='lightblue')\n",
    "\n",
    "axes[0].set_ylabel(\"# Patients\")\n",
    "axes[1].set_ylabel(\"Proportion Died\")\n",
    "\n",
    "plt.tight_layout()\n",
    "plt.savefig(\"figures/proprotion_died_by_admission_yr.pdf\", dpi=200, bbox_inches=\"tight\")"
   ]
  },
  {
   "cell_type": "code",
   "execution_count": 15,
   "metadata": {},
   "outputs": [
    {
     "name": "stdout",
     "output_type": "stream",
     "text": [
      "Using 29 quantitative variables.\n",
      "Using 35 categorical variables.\n",
      "Total samples x feaures (one-hot encoded): (1601 x 76)\n"
     ]
    }
   ],
   "source": [
    "# Drop due to high missingness\n",
    "to_drop = [\"Amyloid type\",\"Secondary organ\",\"Arrhythmia \",\"(Autonomic)\",\n",
    "           \"(Peripheral)\",\"SIFE M-component\",\"UIFE M-component\",\n",
    "           \"Education\",\"Abdominal fat pad CR staining\", \"Bone marrow CR staining\"]\n",
    "\n",
    "# Create dataset\n",
    "Xi_mice_bu_df = utils.data_formatter(\n",
    "    Xi_mice.join(data_df.loc[Xi_mice.index, amyloid.catvars]).join(ccp_cluster_df['cluster']).drop(columns=to_drop).dropna()\n",
    ").join(data_df[[\"time\",\"status\"]])"
   ]
  },
  {
   "cell_type": "code",
   "execution_count": 64,
   "metadata": {},
   "outputs": [
    {
     "data": {
      "text/plain": [
       "Code ID\n",
       "97130      Melphalan-based regimen\n",
       "200053     Melphalan-based regimen\n",
       "9666       Melphalan-based regimen\n",
       "98131      Melphalan-based regimen\n",
       "9719       Melphalan-based regimen\n",
       "                    ...           \n",
       "2023108                Dara-CyBorD\n",
       "2023168                Dara-CyBorD\n",
       "2016031          Daratumumab-based\n",
       "2023173                Dara-CyBorD\n",
       "99104      Melphalan-based regimen\n",
       "Name: treatment_group, Length: 1734, dtype: object"
      ]
     },
     "execution_count": 64,
     "metadata": {},
     "output_type": "execute_result"
    }
   ],
   "source": []
  },
  {
   "cell_type": "code",
   "execution_count": 71,
   "metadata": {},
   "outputs": [],
   "source": [
    "treatments_s = treatments_df.dropna(subset=[\"Start date\"]).sort_values(\"Start date\").reset_index().groupby(\"Code ID\")[\"treatment_group\"].agg(list)\n",
    "treatments_s.name = \"tx_by_date\"\n",
    "\n",
    "first_treatment_s = treatments_df.dropna(subset=[\"Start date\"]).sort_values(\"Start date\").reset_index().drop_duplicates(subset=\"Code ID\", keep=\"first\").set_index(\"Code ID\")[\"treatment_group\"]\n",
    "first_treatment_s.name = \"first_tx\"\n",
    "\n",
    "all_treatments_s = treatments_df.sort_values(\"Start date\").reset_index().groupby(\"Code ID\")[\"treatment_group\"].agg(list)\n",
    "all_treatments_s.name = \"all_tx\"\n",
    "\n",
    "num_treatments_s = treatments_df.sort_values(\"Start date\").reset_index().groupby(\"Code ID\").size()\n",
    "num_treatments_s.name = \"num_tx\"\n",
    "\n",
    "comb_df = data_df.join(treatments_s).join(first_treatment_s).join(all_treatments_s).join(num_treatments_s).join(ccp_cluster_df)\n",
    "comb_df = comb_df.dropna(subset=[\"cluster\"])\n"
   ]
  },
  {
   "cell_type": "code",
   "execution_count": 89,
   "metadata": {},
   "outputs": [],
   "source": [
    "comb_df.rename(columns=amyloid.ddict_clean).to_csv(\"data/processed/AL_with_ccp_tx_04.tsv\", sep=\"\\t\")"
   ]
  },
  {
   "cell_type": "code",
   "execution_count": 94,
   "metadata": {},
   "outputs": [
    {
     "data": {
      "text/html": [
       "<div>\n",
       "<style scoped>\n",
       "    .dataframe tbody tr th:only-of-type {\n",
       "        vertical-align: middle;\n",
       "    }\n",
       "\n",
       "    .dataframe tbody tr th {\n",
       "        vertical-align: top;\n",
       "    }\n",
       "\n",
       "    .dataframe thead th {\n",
       "        text-align: right;\n",
       "    }\n",
       "</style>\n",
       "<table border=\"1\" class=\"dataframe\">\n",
       "  <thead>\n",
       "    <tr style=\"text-align: right;\">\n",
       "      <th>cluster</th>\n",
       "      <th>1</th>\n",
       "      <th>2</th>\n",
       "      <th>3</th>\n",
       "    </tr>\n",
       "    <tr>\n",
       "      <th>first_tx</th>\n",
       "      <th></th>\n",
       "      <th></th>\n",
       "      <th></th>\n",
       "    </tr>\n",
       "  </thead>\n",
       "  <tbody>\n",
       "    <tr>\n",
       "      <th>BDR</th>\n",
       "      <td>3</td>\n",
       "      <td>0</td>\n",
       "      <td>1</td>\n",
       "    </tr>\n",
       "    <tr>\n",
       "      <th>Bendamustine</th>\n",
       "      <td>0</td>\n",
       "      <td>0</td>\n",
       "      <td>1</td>\n",
       "    </tr>\n",
       "    <tr>\n",
       "      <th>Cyclophosphamide</th>\n",
       "      <td>2</td>\n",
       "      <td>3</td>\n",
       "      <td>0</td>\n",
       "    </tr>\n",
       "    <tr>\n",
       "      <th>Dara-CyBorD</th>\n",
       "      <td>17</td>\n",
       "      <td>17</td>\n",
       "      <td>16</td>\n",
       "    </tr>\n",
       "    <tr>\n",
       "      <th>Daratumumab-based</th>\n",
       "      <td>6</td>\n",
       "      <td>4</td>\n",
       "      <td>5</td>\n",
       "    </tr>\n",
       "    <tr>\n",
       "      <th>Glucocorticoid monotherapy</th>\n",
       "      <td>24</td>\n",
       "      <td>27</td>\n",
       "      <td>11</td>\n",
       "    </tr>\n",
       "    <tr>\n",
       "      <th>HDM/SCT</th>\n",
       "      <td>144</td>\n",
       "      <td>212</td>\n",
       "      <td>64</td>\n",
       "    </tr>\n",
       "    <tr>\n",
       "      <th>IMiD-based</th>\n",
       "      <td>38</td>\n",
       "      <td>23</td>\n",
       "      <td>21</td>\n",
       "    </tr>\n",
       "    <tr>\n",
       "      <th>Melphalan-based regimen</th>\n",
       "      <td>115</td>\n",
       "      <td>161</td>\n",
       "      <td>97</td>\n",
       "    </tr>\n",
       "    <tr>\n",
       "      <th>Other</th>\n",
       "      <td>2</td>\n",
       "      <td>5</td>\n",
       "      <td>1</td>\n",
       "    </tr>\n",
       "    <tr>\n",
       "      <th>Other rituximab-based regimen</th>\n",
       "      <td>1</td>\n",
       "      <td>2</td>\n",
       "      <td>1</td>\n",
       "    </tr>\n",
       "    <tr>\n",
       "      <th>Proteasome inhibitor-based</th>\n",
       "      <td>144</td>\n",
       "      <td>152</td>\n",
       "      <td>128</td>\n",
       "    </tr>\n",
       "    <tr>\n",
       "      <th>RVD</th>\n",
       "      <td>4</td>\n",
       "      <td>7</td>\n",
       "      <td>5</td>\n",
       "    </tr>\n",
       "    <tr>\n",
       "      <th>Supportive</th>\n",
       "      <td>1</td>\n",
       "      <td>0</td>\n",
       "      <td>0</td>\n",
       "    </tr>\n",
       "    <tr>\n",
       "      <th>Venetoclax-based</th>\n",
       "      <td>0</td>\n",
       "      <td>1</td>\n",
       "      <td>0</td>\n",
       "    </tr>\n",
       "  </tbody>\n",
       "</table>\n",
       "</div>"
      ],
      "text/plain": [
       "cluster                          1    2    3\n",
       "first_tx                                    \n",
       "BDR                              3    0    1\n",
       "Bendamustine                     0    0    1\n",
       "Cyclophosphamide                 2    3    0\n",
       "Dara-CyBorD                     17   17   16\n",
       "Daratumumab-based                6    4    5\n",
       "Glucocorticoid monotherapy      24   27   11\n",
       "HDM/SCT                        144  212   64\n",
       "IMiD-based                      38   23   21\n",
       "Melphalan-based regimen        115  161   97\n",
       "Other                            2    5    1\n",
       "Other rituximab-based regimen    1    2    1\n",
       "Proteasome inhibitor-based     144  152  128\n",
       "RVD                              4    7    5\n",
       "Supportive                       1    0    0\n",
       "Venetoclax-based                 0    1    0"
      ]
     },
     "execution_count": 94,
     "metadata": {},
     "output_type": "execute_result"
    }
   ],
   "source": [
    "comb_df.groupby([\"cluster\",\"first_tx\"]).size().reset_index().pivot(values=0, columns=\"cluster\", index=\"first_tx\").fillna(0).astype(int)"
   ]
  },
  {
   "cell_type": "code",
   "execution_count": null,
   "metadata": {},
   "outputs": [],
   "source": []
  }
 ],
 "metadata": {
  "kernelspec": {
   "display_name": "r4",
   "language": "python",
   "name": "python3"
  },
  "language_info": {
   "codemirror_mode": {
    "name": "ipython",
    "version": 3
   },
   "file_extension": ".py",
   "mimetype": "text/x-python",
   "name": "python",
   "nbconvert_exporter": "python",
   "pygments_lexer": "ipython3",
   "version": "3.10.13"
  },
  "orig_nbformat": 4,
  "vscode": {
   "interpreter": {
    "hash": "1cb7d89f10138752af65ef706fb595972ec9b0d7ed92a43a4be7d17426113632"
   }
  }
 },
 "nbformat": 4,
 "nbformat_minor": 2
}
