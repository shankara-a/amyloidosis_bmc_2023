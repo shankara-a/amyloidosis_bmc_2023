{
 "cells": [
  {
   "cell_type": "code",
   "execution_count": 3,
   "metadata": {
    "vscode": {
     "languageId": "r"
    }
   },
   "outputs": [],
   "source": [
    "library(tidyverse)\n",
    "library(gridExtra)\n",
    "\n",
    "source(\"funcs/rfuncs.R\")"
   ]
  },
  {
   "cell_type": "code",
   "execution_count": 4,
   "metadata": {
    "vscode": {
     "languageId": "r"
    }
   },
   "outputs": [],
   "source": [
    "data.df <- read.table(\"data/processed/AL_with_ccp_03.tsv\", sep=\"\\t\", row.names=1, header=T)"
   ]
  },
  {
   "cell_type": "code",
   "execution_count": 14,
   "metadata": {
    "vscode": {
     "languageId": "r"
    }
   },
   "outputs": [],
   "source": [
    "data.df$fna3_cluster_n <- factor(data.df$fna3_cluster_n, levels=c(\"Low\",\"Intermediate\",\"High\"))\n",
    "data.df$BU__BNP_based__cardiac_staging <- factor(data.df$BU__BNP_based__cardiac_staging, levels=c(\"stage I\",\"stage II\",\"stage III\",\"stage IIIb\"))\n",
    "\n",
    "p1 <- plotAlluvial(data.df, \"fna3_cluster_n\", \"BU__BNP_based__cardiac_staging\",\n",
    "    colors=c(\"#62b67d\",\"#69a9c8\",\"#ca4a29\"), title=\"Subgroups vs. Cardiac Staging\")\n",
    "\n",
    "data.df$fna3_cluster_n <- factor(data.df$fna3_cluster_n, levels=c(\"High\",\"Low\",\"Intermediate\"))\n",
    "data.df$Renal.Stage..Palladini. <- factor(data.df$Renal.Stage..Palladini., levels=c(\"Stage I\",\"Stage II\",\"Stage III\"))\n",
    "\n",
    "p2 <- plotAlluvial(data.df, \"fna3_cluster_n\", \"Renal.Stage..Palladini.\",\n",
    "    colors=c(\"#ca4a29\",\"#62b67d\",\"#69a9c8\"), title=\"Subgroups vs. Renal Staging\")"
   ]
  },
  {
   "cell_type": "code",
   "execution_count": 19,
   "metadata": {
    "vscode": {
     "languageId": "r"
    }
   },
   "outputs": [
    {
     "data": {
      "text/html": [
       "<strong>pdf:</strong> 2"
      ],
      "text/latex": [
       "\\textbf{pdf:} 2"
      ],
      "text/markdown": [
       "**pdf:** 2"
      ],
      "text/plain": [
       "pdf \n",
       "  2 "
      ]
     },
     "metadata": {},
     "output_type": "display_data"
    }
   ],
   "source": [
    "pdf(\"figures/cluster_alluvial.pdf\", h=6,w=9)\n",
    "grid.arrange(\n",
    "    p1 + theme(legend.position = \"none\"),\n",
    "    p2 + theme(legend.position = \"none\") + labs(y=\"\"), \n",
    "    nrow=1)\n",
    "\n",
    "dev.off()"
   ]
  }
 ],
 "metadata": {
  "kernelspec": {
   "display_name": "R",
   "language": "R",
   "name": "ir"
  },
  "language_info": {
   "codemirror_mode": "r",
   "file_extension": ".r",
   "mimetype": "text/x-r-source",
   "name": "R",
   "pygments_lexer": "r",
   "version": "4.3.2"
  }
 },
 "nbformat": 4,
 "nbformat_minor": 2
}
