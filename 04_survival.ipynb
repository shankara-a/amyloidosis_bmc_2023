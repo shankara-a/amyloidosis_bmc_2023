{
 "cells": [
  {
   "cell_type": "code",
   "execution_count": 157,
   "id": "0d4a8a8e",
   "metadata": {
    "scrolled": true
   },
   "outputs": [],
   "source": [
    "library(survminer)\n",
    "library(survival)\n",
    "library(forestplot)\n",
    "library(ggsci)"
   ]
  },
  {
   "cell_type": "code",
   "execution_count": 158,
   "id": "f7aa6e62",
   "metadata": {},
   "outputs": [],
   "source": [
    "data.df <- read.table(\"data/processed/dataset_processed.tsv\", sep=\"\\t\", header=T)\n",
    "data.df <- data.df[data.df$Kappa_or_lambda_PCD %in% c(\"L\",\"K\"),]"
   ]
  },
  {
   "cell_type": "markdown",
   "id": "db5474c1",
   "metadata": {},
   "source": [
    "### 1a. Cox Regression w/ Full Dataset\n",
    "---"
   ]
  },
  {
   "cell_type": "code",
   "execution_count": 159,
   "id": "3e618f49",
   "metadata": {},
   "outputs": [
    {
     "name": "stderr",
     "output_type": "stream",
     "text": [
      "Warning message in .get_data(model, data = data):\n",
      "“The `data` argument is not provided. Data will be extracted from model fit.”\n"
     ]
    }
   ],
   "source": [
    "cox_model <- coxph(Surv(time, status) ~ Amyloid_type + Kappa_or_lambda_PCD + Age + Sex + Race, data=data.df)\n",
    "obj <- ggforest(cox_model)\n",
    "\n",
    "ggsave(\"figures/full_dataset_coxph_forest.pdf\", plot = obj, width = 7, height = 8)"
   ]
  },
  {
   "cell_type": "code",
   "execution_count": 160,
   "id": "21bf4a4b",
   "metadata": {},
   "outputs": [
    {
     "name": "stderr",
     "output_type": "stream",
     "text": [
      "Warning message in .get_data(model, data = data):\n",
      "“The `data` argument is not provided. Data will be extracted from model fit.”\n"
     ]
    }
   ],
   "source": [
    "cox_model <- coxph(Surv(time, status) ~ Amyloid_type + Kappa_or_lambda_PCD + Age + Sex + Primary_organ + Secondary_organ, \n",
    "                   data=data.df[data.df$Primary_organ!=\"\",])\n",
    "obj <- ggforest(cox_model)\n",
    "ggsave(\"figures/full_dataset_coxph_forest_organ.pdf\", plot = obj, width = 7, height = 10)"
   ]
  },
  {
   "cell_type": "markdown",
   "id": "73194383",
   "metadata": {},
   "source": [
    "### 1b. Survival Curves w/ Full Dataset\n",
    "---"
   ]
  },
  {
   "cell_type": "code",
   "execution_count": 161,
   "id": "6f6da383",
   "metadata": {},
   "outputs": [],
   "source": [
    "plotSurv <- function(fit, data.df, legend.title, legend.labs){\n",
    "    p <- ggsurvplot(\n",
    "        fit,                    \n",
    "        data = data.df,\n",
    "        risk.table = TRUE,\n",
    "        pval = TRUE,\n",
    "        conf.int = TRUE,\n",
    "        xlab = \"Time (Months)\",\n",
    "        break.time.by = 100,\n",
    "        risk.table.y.text.col = T,\n",
    "        risk.table.y.text = F,\n",
    "        legend.title = legend.title,\n",
    "        legend.labs = legend.labs,\n",
    "    )\n",
    "    \n",
    "    return(p)\n",
    "}"
   ]
  },
  {
   "cell_type": "code",
   "execution_count": 115,
   "id": "e396a840",
   "metadata": {},
   "outputs": [
    {
     "data": {
      "text/html": [
       "<strong>pdf:</strong> 2"
      ],
      "text/latex": [
       "\\textbf{pdf:} 2"
      ],
      "text/markdown": [
       "**pdf:** 2"
      ],
      "text/plain": [
       "pdf \n",
       "  2 "
      ]
     },
     "metadata": {},
     "output_type": "display_data"
    }
   ],
   "source": [
    "fit <- survfit(Surv(time, status) ~ Amyloid_type, data=data.df)\n",
    "\n",
    "pdf(\"figures/full_dataset_surv_amyloid_type.pdf\", width=6, height=6) \n",
    "plotSurv(fit, data.df, legend.title=\"Amyloid\",legend.labs=c(\"AL\", \"B-cell\", \"MM\", \"WM\"))\n",
    "dev.off()"
   ]
  },
  {
   "cell_type": "code",
   "execution_count": 116,
   "id": "ca95f0fe",
   "metadata": {},
   "outputs": [
    {
     "data": {
      "text/html": [
       "<strong>pdf:</strong> 2"
      ],
      "text/latex": [
       "\\textbf{pdf:} 2"
      ],
      "text/markdown": [
       "**pdf:** 2"
      ],
      "text/plain": [
       "pdf \n",
       "  2 "
      ]
     },
     "metadata": {},
     "output_type": "display_data"
    }
   ],
   "source": [
    "dat.df <- data.df[data.df$BU__BNP_based__cardiac_staging %in% c(\"stage I\",\"stage II\",\"stage III\",\"stage IIIb\"),]\n",
    "dat.df$BU__BNP_based__cardiac_staging <- as.factor(dat.df$BU__BNP_based__cardiac_staging)\n",
    "\n",
    "fit <- survfit(Surv(time, status) ~ BU__BNP_based__cardiac_staging, data=dat.df)\n",
    "\n",
    "pdf(\"figures/full_dataset_surv_bustage.pdf\", width=6, height=6) \n",
    "plotSurv(fit, data.df, \"BU Staging\", c(\"stage I\",\"stage II\",\"stage III\",\"stage IIIb\"))\n",
    "dev.off()"
   ]
  },
  {
   "cell_type": "markdown",
   "id": "9ed97404",
   "metadata": {},
   "source": [
    "### 2a. Cox Regression w/ AL Dataset\n",
    "---\n",
    "\n",
    "* Using `mice` imputed dataset to `consensusClusterPlus`"
   ]
  },
  {
   "cell_type": "code",
   "execution_count": 162,
   "id": "1dec8f15",
   "metadata": {},
   "outputs": [],
   "source": [
    "data.df <- data.df[data.df$Amyloid_type==\"AL\",]"
   ]
  },
  {
   "cell_type": "code",
   "execution_count": 163,
   "id": "90990154",
   "metadata": {},
   "outputs": [],
   "source": [
    "clust.df <- read.table(\"data/processed/AL_with_ccp_03.tsv\", sep=\"\\t\", header=T, row.names='Code.ID')\n",
    "data.df$cluster <- clust.df[as.character(data.df$Code.ID),\"cluster\"]"
   ]
  },
  {
   "cell_type": "code",
   "execution_count": 164,
   "id": "39ab0c14",
   "metadata": {},
   "outputs": [],
   "source": [
    "# assign cluster to var\n",
    "data.df$cluster <- as.factor(data.df$cluster)"
   ]
  },
  {
   "cell_type": "code",
   "execution_count": 171,
   "id": "e2dc5f96",
   "metadata": {},
   "outputs": [
    {
     "name": "stderr",
     "output_type": "stream",
     "text": [
      "Warning message in .get_data(model, data = data):\n",
      "“The `data` argument is not provided. Data will be extracted from model fit.”\n"
     ]
    }
   ],
   "source": [
    "cox_model <- coxph(Surv(time, status) ~  Kappa_or_lambda_PCD + Age + Sex, data = data.df)\n",
    "obj <- ggforest(cox_model)\n",
    "\n",
    "ggsave(\"figures/AL_dataset_coxph_forest.pdf\", plot = obj, width = 6, height = 4)"
   ]
  },
  {
   "cell_type": "code",
   "execution_count": 174,
   "id": "801e8ff0",
   "metadata": {},
   "outputs": [
    {
     "name": "stderr",
     "output_type": "stream",
     "text": [
      "Warning message in .get_data(model, data = data):\n",
      "“The `data` argument is not provided. Data will be extracted from model fit.”\n"
     ]
    }
   ],
   "source": [
    "cox_model <- coxph(Surv(time, status) ~ cluster + Kappa_or_lambda_PCD + Age + Sex + Primary_organ, data=data.df)\n",
    "obj <- ggforest(cox_model)\n",
    "ggsave(\"figures/AL_dataset_coxph_clust_forest.pdf\", plot = obj, width = 7, height = 8)"
   ]
  },
  {
   "cell_type": "code",
   "execution_count": 178,
   "id": "cb290613",
   "metadata": {},
   "outputs": [
    {
     "name": "stderr",
     "output_type": "stream",
     "text": [
      "Warning message in .get_data(model, data = data):\n",
      "“The `data` argument is not provided. Data will be extracted from model fit.”\n"
     ]
    }
   ],
   "source": [
    "cox_model <- coxph(Surv(time, status) ~ cluster + BU__BNP_based__cardiac_staging, \n",
    "                   data=data.df[data.df$BU__BNP_based__cardiac_staging %in% c(\"stage I\",\"stage II\",\"stage III\",\"stage IIIb\"),])\n",
    "obj <- ggforest(cox_model)\n",
    "ggsave(\"figures/AL_coxph_clust_bu_forest.pdf\", plot = obj, width = 7, height = 8)"
   ]
  },
  {
   "cell_type": "code",
   "execution_count": null,
   "id": "e48e328a",
   "metadata": {},
   "outputs": [],
   "source": [
    "cox_model <- coxph(Surv(time, status) ~ cluster + BU__BNP_based__cardiac_staging, data=data.df)\n",
    "ggforest(cox_model)"
   ]
  },
  {
   "cell_type": "markdown",
   "id": "c25dd80b",
   "metadata": {},
   "source": [
    "### 2b. Survival\n",
    "---"
   ]
  },
  {
   "cell_type": "code",
   "execution_count": 167,
   "id": "05335214",
   "metadata": {},
   "outputs": [
    {
     "data": {
      "text/html": [
       "<strong>pdf:</strong> 2"
      ],
      "text/latex": [
       "\\textbf{pdf:} 2"
      ],
      "text/markdown": [
       "**pdf:** 2"
      ],
      "text/plain": [
       "pdf \n",
       "  2 "
      ]
     },
     "metadata": {},
     "output_type": "display_data"
    }
   ],
   "source": [
    "fit <- survfit(Surv(time, status) ~ BU__BNP_based__cardiac_staging, data=dat.df)\n",
    "\n",
    "pdf(\"figures/AL_dataset_surv_bustage.pdf\", width=6, height=6) \n",
    "plotSurv(fit, data.df, \"BU Staging\", c(\"stage I\",\"stage II\",\"stage III\",\"stage IIIb\"))\n",
    "dev.off()"
   ]
  },
  {
   "cell_type": "code",
   "execution_count": 170,
   "id": "ba9688e6",
   "metadata": {},
   "outputs": [
    {
     "data": {
      "text/html": [
       "<strong>pdf:</strong> 2"
      ],
      "text/latex": [
       "\\textbf{pdf:} 2"
      ],
      "text/markdown": [
       "**pdf:** 2"
      ],
      "text/plain": [
       "pdf \n",
       "  2 "
      ]
     },
     "metadata": {},
     "output_type": "display_data"
    }
   ],
   "source": [
    "fit <- survfit(Surv(time, status) ~ cluster, data=data.df)\n",
    "\n",
    "pdf(\"figures/AL_dataset_surv_bustage.pdf\", width=6, height=6) \n",
    "plotSurv(fit, data.df, legend.title=\"Cluster\",legend.labs=c(\"1\", \"2\", \"3\", \"4\"))\n",
    "dev.off()\n"
   ]
  },
  {
   "cell_type": "code",
   "execution_count": null,
   "id": "4a5e46df",
   "metadata": {},
   "outputs": [],
   "source": []
  }
 ],
 "metadata": {
  "kernelspec": {
   "display_name": "R [conda env:r4]",
   "language": "R",
   "name": "conda-env-r4-r"
  },
  "language_info": {
   "codemirror_mode": "r",
   "file_extension": ".r",
   "mimetype": "text/x-r-source",
   "name": "R",
   "pygments_lexer": "r",
   "version": "4.3.1"
  }
 },
 "nbformat": 4,
 "nbformat_minor": 5
}
